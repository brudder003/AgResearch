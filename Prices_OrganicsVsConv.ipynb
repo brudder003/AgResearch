{
 "cells": [
  {
   "cell_type": "code",
   "execution_count": 135,
   "metadata": {
    "collapsed": true
   },
   "outputs": [],
   "source": [
    "import pandas as pd\n",
    "import numpy as np\n",
    "from dateutil.parser import *\n",
    "from datetime import *"
   ]
  },
  {
   "cell_type": "code",
   "execution_count": 141,
   "metadata": {
    "collapsed": false
   },
   "outputs": [],
   "source": [
    "DEFAULT = datetime(1,1,1)"
   ]
  },
  {
   "cell_type": "markdown",
   "metadata": {},
   "source": [
    "Py Notes\n",
    "\n",
    "- Data reshapping is awesome! http://pandas.pydata.org/pandas-docs/stable/reshaping.html"
   ]
  },
  {
   "cell_type": "markdown",
   "metadata": {
    "collapsed": true
   },
   "source": [
    "## Price relationship btwn organics and conventional crops\n",
    "\n",
    "\n",
    "Notes:\n",
    "- exempt farms are those that say they farm organic but do less thank $5k/year, so dont have be to be certified.\n",
    "- cropland - areas used for the production of adapted crops for harvest\n",
    "- rangeland - native vegetation land used for livestock\n",
    "- pastureland - seed land used for livestock\n",
    "\n",
    "Links:\n",
    "\n",
    "!UNFORTUNATELY THE USDA PRICE DATA HASNT BEEN UPDATED SINCE 2012\n",
    "- [USDA's ERS organic vs conventional price data](http://www.ers.usda.gov/data-products/organic-prices.aspx)\n",
    "- [USDA's ERS Documentation for prices](http://www.ers.usda.gov/data-products/organic-prices/documentation.aspx)\n",
    "\n",
    "The weekly reports are kept upt to date, but they're pdfs\n",
    "- [USDA's AMS Organic Reports (with commentary](http://www.ers.usda.gov/data-products/organic-prices/documentation.aspx)\n",
    "\n",
    "- [Resources for Organic and Transitioning Farmers](http://ofrf.org/policy/resources)\n",
    "\n",
    "-[USDA Oraganic Insider newsletter archive](http://archive.constantcontact.com/fs054/1103777415326/archive/1108212629106.html)\n",
    "\n",
    "https://www.agcensus.usda.gov/Publications/2012/Online_Resources/Organics/ORGANICS.pdf\n",
    "\n",
    "https://www.ams.usda.gov/market-news/organic\n",
    "\n",
    "https://www.ams.usda.gov/market-news/organic-market-news-reports\n",
    "\n",
    "https://www.ams.usda.gov/market-news/custom-reports\n",
    "\n",
    "\n",
    "- \"The 2015 Certified Organic Survey publication will be released in September 2016.\" [here](https://www.nass.usda.gov/Surveys/Guide_to_NASS_Surveys/Organic_Production/index.php)\n",
    "\n",
    "- [2014 Organic Survey](https://www.agcensus.usda.gov/Publications/2012/Online_Resources/Organics/)\n",
    "\n",
    "USDA Risk Management Agency: [organics page](http://www.rma.usda.gov/news/currentissues/organics/)\n",
    "- [Organic Pricing Methodologies for Barley, Corn,Cotton,Grain Sorghum, Rice, Soybeans, Sunflowers,and Wheat](http://www.rma.usda.gov/pubs/2015/organicpricingmethodology.pdf)\n",
    "- [Summary of business for organic production](http://www.rma.usda.gov/data/sob/organic/2015organic.pdf)\n",
    "\n",
    "[March 2016 report to congress](http://www.rma.usda.gov/pubs/2016/appropriations.pdf)\n",
    "\"After conducting research, it was determined that for some crops, the organic counterpart does \n",
    "not receive a premium price. For those crops, RMA has concluded that a premium organic price \n",
    "election is not warranted and has the potential to distort market behavior.  These crops are \n",
    "alfalfa seed, carambola trees, cigar filler tobacco, cigar wrapper tobacco, fire cured tobacco, forage seeding, lemon trees, lime trees, mango trees, and sugar beets.\"\n",
    "\n",
    "- [Auction Cash Market for organics](http://www.mercaris.com/company#about)\n",
    "\n"
   ]
  },
  {
   "cell_type": "code",
   "execution_count": 2,
   "metadata": {
    "collapsed": false
   },
   "outputs": [
    {
     "data": {
      "text/plain": [
       "'/home/brett/Documents/JupyterNotebooks/AgResearch'"
      ]
     },
     "execution_count": 2,
     "metadata": {},
     "output_type": "execute_result"
    }
   ],
   "source": [
    "%pwd"
   ]
  },
  {
   "cell_type": "code",
   "execution_count": 3,
   "metadata": {
    "collapsed": false
   },
   "outputs": [
    {
     "name": "stdout",
     "output_type": "stream",
     "text": [
      "/home/brett/Dropbox/AgResearch\n"
     ]
    }
   ],
   "source": [
    "%cd /home/brett/Dropbox/AgResearch/"
   ]
  },
  {
   "cell_type": "markdown",
   "metadata": {},
   "source": [
    "## 2014 organic survey table 551\n",
    "Transitional Organic Land Operated by Non-Organic Farms\n",
    "\n",
    "bullets:\n",
    "- 688 non-organic farms are transitioning to grow organic products. 50,688 acres total\n",
    "    - 24,550 acres cropland, 17,030 acres patureland, 9,108 acres rangeland\n",
    "    \n",
    "    \n",
    "    "
   ]
  },
  {
   "cell_type": "code",
   "execution_count": 28,
   "metadata": {
    "collapsed": false
   },
   "outputs": [
    {
     "name": "stdout",
     "output_type": "stream",
     "text": [
      "561,\"t\",\"2014 Organic Survey: Released September 17, 2015, by the National Agricultural Statistics Service (NASS), Agricultural Statistics Board, U.S. Department of Agriculture.\"\r",
      "\r\n",
      "561,\"t\",\"Table 81.  Transitional Organic Land Operated � Non-Organic Farms:  2014\"\r",
      "\r\n",
      "561,\"t\",\"[For meaning of abbreviations and symbols, see introductory text.]\"\r",
      "\r\n",
      "561,\"h\",\"\",\"\",\"\",\"\",\"\",\"\"\r",
      "\r\n",
      "561,\"h\",\"\",\"\",\"Acres in transition\",\"Acres in transition\",\"Acres in transition\",\"Acres in transition\"\r",
      "\r\n",
      "561,\"h\",\"\",\"\",\"\",\"\",\"\",\"\"\r",
      "\r\n",
      "561,\"h\",\"Geographic Area\",\"Farms\",\"Total\",\"Cropland\",\"Pastureland\",\"Rangeland\"\r",
      "\r\n",
      "561,\"h\",\"\",\"\",\"\",\"\",\"\",\"\"\r",
      "\r\n",
      "561,\"d\",\"United States\",688,50688,24550,17030,9108\r",
      "\r\n",
      "561,\"d\",\"\",,,,,\r",
      "\r\n"
     ]
    }
   ],
   "source": [
    "!head -n 10 corg_p551_t0561.csv"
   ]
  },
  {
   "cell_type": "code",
   "execution_count": 67,
   "metadata": {
    "collapsed": false
   },
   "outputs": [],
   "source": [
    "acresInTransition = pd.read_csv('corg_p551_t0561.csv',skiprows=6)"
   ]
  },
  {
   "cell_type": "code",
   "execution_count": 73,
   "metadata": {
    "collapsed": false
   },
   "outputs": [
    {
     "data": {
      "text/html": [
       "<div>\n",
       "<table border=\"1\" class=\"dataframe\">\n",
       "  <thead>\n",
       "    <tr style=\"text-align: right;\">\n",
       "      <th></th>\n",
       "      <th>Area</th>\n",
       "      <th>farmsCount</th>\n",
       "      <th>totalAcresInTrans</th>\n",
       "      <th>croplandAcresInTrans</th>\n",
       "      <th>pasturelandAcresInTrans</th>\n",
       "      <th>rangelandAcresInTrans</th>\n",
       "    </tr>\n",
       "  </thead>\n",
       "  <tbody>\n",
       "    <tr>\n",
       "      <th>1</th>\n",
       "      <td>United States</td>\n",
       "      <td>688.0</td>\n",
       "      <td>50688</td>\n",
       "      <td>24550</td>\n",
       "      <td>17030</td>\n",
       "      <td>9108</td>\n",
       "    </tr>\n",
       "    <tr>\n",
       "      <th>3</th>\n",
       "      <td>Alabama</td>\n",
       "      <td>6.0</td>\n",
       "      <td>(D)</td>\n",
       "      <td>17</td>\n",
       "      <td>(D)</td>\n",
       "      <td>-</td>\n",
       "    </tr>\n",
       "    <tr>\n",
       "      <th>4</th>\n",
       "      <td>Alaska</td>\n",
       "      <td>1.0</td>\n",
       "      <td>(D)</td>\n",
       "      <td>-</td>\n",
       "      <td>(D)</td>\n",
       "      <td>-</td>\n",
       "    </tr>\n",
       "    <tr>\n",
       "      <th>5</th>\n",
       "      <td>Arkansas</td>\n",
       "      <td>2.0</td>\n",
       "      <td>(D)</td>\n",
       "      <td>(D)</td>\n",
       "      <td>-</td>\n",
       "      <td>(D)</td>\n",
       "    </tr>\n",
       "    <tr>\n",
       "      <th>6</th>\n",
       "      <td>California</td>\n",
       "      <td>57.0</td>\n",
       "      <td>2596</td>\n",
       "      <td>1971</td>\n",
       "      <td>582</td>\n",
       "      <td>43</td>\n",
       "    </tr>\n",
       "    <tr>\n",
       "      <th>7</th>\n",
       "      <td>Colorado</td>\n",
       "      <td>13.0</td>\n",
       "      <td>680</td>\n",
       "      <td>491</td>\n",
       "      <td>69</td>\n",
       "      <td>120</td>\n",
       "    </tr>\n",
       "    <tr>\n",
       "      <th>9</th>\n",
       "      <td>Connecticut</td>\n",
       "      <td>8.0</td>\n",
       "      <td>26</td>\n",
       "      <td>25</td>\n",
       "      <td>1</td>\n",
       "      <td>-</td>\n",
       "    </tr>\n",
       "    <tr>\n",
       "      <th>10</th>\n",
       "      <td>Delaware</td>\n",
       "      <td>1.0</td>\n",
       "      <td>(D)</td>\n",
       "      <td>(D)</td>\n",
       "      <td>-</td>\n",
       "      <td>-</td>\n",
       "    </tr>\n",
       "    <tr>\n",
       "      <th>11</th>\n",
       "      <td>Florida</td>\n",
       "      <td>21.0</td>\n",
       "      <td>135</td>\n",
       "      <td>56</td>\n",
       "      <td>39</td>\n",
       "      <td>40</td>\n",
       "    </tr>\n",
       "    <tr>\n",
       "      <th>12</th>\n",
       "      <td>Georgia</td>\n",
       "      <td>19.0</td>\n",
       "      <td>374</td>\n",
       "      <td>(D)</td>\n",
       "      <td>(D)</td>\n",
       "      <td>-</td>\n",
       "    </tr>\n",
       "  </tbody>\n",
       "</table>\n",
       "</div>"
      ],
      "text/plain": [
       "             Area  farmsCount totalAcresInTrans croplandAcresInTrans  \\\n",
       "1   United States       688.0             50688                24550   \n",
       "3         Alabama         6.0               (D)                   17   \n",
       "4          Alaska         1.0               (D)                    -   \n",
       "5        Arkansas         2.0               (D)                  (D)   \n",
       "6      California        57.0              2596                 1971   \n",
       "7        Colorado        13.0               680                  491   \n",
       "9     Connecticut         8.0                26                   25   \n",
       "10       Delaware         1.0               (D)                  (D)   \n",
       "11        Florida        21.0               135                   56   \n",
       "12        Georgia        19.0               374                  (D)   \n",
       "\n",
       "   pasturelandAcresInTrans rangelandAcresInTrans  \n",
       "1                    17030                  9108  \n",
       "3                      (D)                     -  \n",
       "4                      (D)                     -  \n",
       "5                        -                   (D)  \n",
       "6                      582                    43  \n",
       "7                       69                   120  \n",
       "9                        1                     -  \n",
       "10                       -                     -  \n",
       "11                      39                    40  \n",
       "12                     (D)                     -  "
      ]
     },
     "execution_count": 73,
     "metadata": {},
     "output_type": "execute_result"
    }
   ],
   "source": [
    "acresInTransition.head(10)"
   ]
  },
  {
   "cell_type": "code",
   "execution_count": 69,
   "metadata": {
    "collapsed": false
   },
   "outputs": [],
   "source": [
    "#drop nan rows\n",
    "acresInTransition = acresInTransition[np.isfinite(acresInTransition['Farms'])]"
   ]
  },
  {
   "cell_type": "code",
   "execution_count": 70,
   "metadata": {
    "collapsed": true
   },
   "outputs": [],
   "source": [
    "#del col '561'\n",
    "acresInTransition = acresInTransition.drop('561',1)"
   ]
  },
  {
   "cell_type": "code",
   "execution_count": 71,
   "metadata": {
    "collapsed": true
   },
   "outputs": [],
   "source": [
    "#del col 'h'\n",
    "acresInTransition = acresInTransition.drop('h',1)"
   ]
  },
  {
   "cell_type": "code",
   "execution_count": 72,
   "metadata": {
    "collapsed": true
   },
   "outputs": [],
   "source": [
    "#rename columns\n",
    "acresInTransition.columns = ['Area','farmsCount','totalAcresInTrans','croplandAcresInTrans',\n",
    "                     'pasturelandAcresInTrans','rangelandAcresInTrans']"
   ]
  },
  {
   "cell_type": "markdown",
   "metadata": {},
   "source": [
    "## 2014 organic survey table 1\n",
    "Farms, land and value of sales of organic ag products - certified and exempt farms\n",
    "\n",
    "bullets:\n",
    "\n",
    "- There are 14,048 organic farms operating in the United states. The total acreage is 3,670,560 acres.\n",
    "    - thats 261 acres per farm\n",
    "- 1,365 farms are classified as transitional, with 122,175 acres transitioning. \n",
    "    - thats 89 acres per farm"
   ]
  },
  {
   "cell_type": "code",
   "execution_count": 83,
   "metadata": {
    "collapsed": false
   },
   "outputs": [
    {
     "name": "stdout",
     "output_type": "stream",
     "text": [
      "1,\"t\",\"2014 Organic Survey: Released September 17, 2015, by the National Agricultural Statistics Service (NASS), Agricultural Statistics Board, U.S. Department of Agriculture.\"\r",
      "\r\n",
      "1,\"t\",\"Table 1.  Farms, Land, and Value of Sales of Organic Agricultural Products � Certified and Exempt Organic Farms:  2014\"\r",
      "\r\n",
      "1,\"t\",\"[For meaning of abbreviations and symbols, see introductory text.]\"\r",
      "\r\n",
      "1,\"h\",\"\",\"\",\"\",\"\",\"\",\"\",\"\",\"\"\r",
      "\r\n",
      "1,\"h\",\"Item\",\"\",\"United States\",\"Alabama\",\"Alaska\",\"Arizona\",\"Arkansas\",\"California\"\r",
      "\r\n",
      "1,\"h\",\"\",\"\",\"\",\"\",\"\",\"\",\"\",\"\"\r",
      "\r\n",
      "1,\"d\",\"ORGANIC FARMS\",\"\",,,,,,\r",
      "\r\n",
      "1,\"d\",\"\",\"\",,,,,,\r",
      "\r\n",
      "1,\"d\",\"Certified or exempt\",\"farms\",14093,28,17,61,34,2805\r",
      "\r\n",
      "1,\"d\",\"\",\"\",,,,,,\r",
      "\r\n"
     ]
    }
   ],
   "source": [
    "!head -n 10 corg_p011_t0001.csv"
   ]
  },
  {
   "cell_type": "code",
   "execution_count": 154,
   "metadata": {
    "collapsed": false
   },
   "outputs": [],
   "source": [
    "farmsLandValue = pd.read_csv('corg_p011_t0001.csv',skiprows=4)"
   ]
  },
  {
   "cell_type": "code",
   "execution_count": 156,
   "metadata": {
    "collapsed": true
   },
   "outputs": [],
   "source": [
    "#drop nan rows\n",
    "farmsLandValue = farmsLandValue[np.isfinite(farmsLandValue['United States'])]"
   ]
  },
  {
   "cell_type": "code",
   "execution_count": 157,
   "metadata": {
    "collapsed": false
   },
   "outputs": [],
   "source": [
    "#del cols\n",
    "farmsLandValue = farmsLandValue.drop(farmsLandValue.columns[[0,1,5,6,7,8,9]],1)"
   ]
  },
  {
   "cell_type": "code",
   "execution_count": 158,
   "metadata": {
    "collapsed": true
   },
   "outputs": [],
   "source": [
    "#forward fill item names to get rid of nans\n",
    "farmsLandValue['Item'] = farmsLandValue['Item'].fillna(method='ffill')"
   ]
  },
  {
   "cell_type": "code",
   "execution_count": 159,
   "metadata": {
    "collapsed": true
   },
   "outputs": [],
   "source": [
    "#rename columns\n",
    "farmsLandValue.columns = ['Item','Type','UnitedStatesTotal']"
   ]
  },
  {
   "cell_type": "code",
   "execution_count": 161,
   "metadata": {
    "collapsed": false
   },
   "outputs": [
    {
     "data": {
      "text/html": [
       "<div>\n",
       "<table border=\"1\" class=\"dataframe\">\n",
       "  <thead>\n",
       "    <tr style=\"text-align: right;\">\n",
       "      <th></th>\n",
       "      <th>Item</th>\n",
       "      <th>Type</th>\n",
       "      <th>UnitedStatesTotal</th>\n",
       "    </tr>\n",
       "  </thead>\n",
       "  <tbody>\n",
       "    <tr>\n",
       "      <th>3</th>\n",
       "      <td>Certified or exempt</td>\n",
       "      <td>farms</td>\n",
       "      <td>14093.000</td>\n",
       "    </tr>\n",
       "    <tr>\n",
       "      <th>8</th>\n",
       "      <td>operated</td>\n",
       "      <td>farms</td>\n",
       "      <td>14048.000</td>\n",
       "    </tr>\n",
       "    <tr>\n",
       "      <th>9</th>\n",
       "      <td>operated</td>\n",
       "      <td>acres</td>\n",
       "      <td>3670560.000</td>\n",
       "    </tr>\n",
       "    <tr>\n",
       "      <th>11</th>\n",
       "      <td>Land owned</td>\n",
       "      <td>farms</td>\n",
       "      <td>12353.000</td>\n",
       "    </tr>\n",
       "    <tr>\n",
       "      <th>12</th>\n",
       "      <td>Land owned</td>\n",
       "      <td>acres</td>\n",
       "      <td>2221715.000</td>\n",
       "    </tr>\n",
       "    <tr>\n",
       "      <th>13</th>\n",
       "      <td>Land rented from others</td>\n",
       "      <td>farms</td>\n",
       "      <td>5582.000</td>\n",
       "    </tr>\n",
       "    <tr>\n",
       "      <th>14</th>\n",
       "      <td>Land rented from others</td>\n",
       "      <td>acres</td>\n",
       "      <td>1507957.000</td>\n",
       "    </tr>\n",
       "    <tr>\n",
       "      <th>15</th>\n",
       "      <td>Land rented to others</td>\n",
       "      <td>farms</td>\n",
       "      <td>521.000</td>\n",
       "    </tr>\n",
       "    <tr>\n",
       "      <th>16</th>\n",
       "      <td>Land rented to others</td>\n",
       "      <td>acres</td>\n",
       "      <td>59112.000</td>\n",
       "    </tr>\n",
       "    <tr>\n",
       "      <th>18</th>\n",
       "      <td>Total certified organic acres operated</td>\n",
       "      <td>farms</td>\n",
       "      <td>12595.000</td>\n",
       "    </tr>\n",
       "  </tbody>\n",
       "</table>\n",
       "</div>"
      ],
      "text/plain": [
       "                                        Item   Type  UnitedStatesTotal\n",
       "3                        Certified or exempt  farms          14093.000\n",
       "8                                   operated  farms          14048.000\n",
       "9                                   operated  acres        3670560.000\n",
       "11                                Land owned  farms          12353.000\n",
       "12                                Land owned  acres        2221715.000\n",
       "13                   Land rented from others  farms           5582.000\n",
       "14                   Land rented from others  acres        1507957.000\n",
       "15                     Land rented to others  farms            521.000\n",
       "16                     Land rented to others  acres          59112.000\n",
       "18    Total certified organic acres operated  farms          12595.000"
      ]
     },
     "execution_count": 161,
     "metadata": {},
     "output_type": "execute_result"
    }
   ],
   "source": [
    "farmsLandValue.head(10)"
   ]
  },
  {
   "cell_type": "markdown",
   "metadata": {
    "collapsed": true
   },
   "source": [
    "## ERS organic price tables [old data]"
   ]
  },
  {
   "cell_type": "markdown",
   "metadata": {},
   "source": [
    "### Wholesale Veggies"
   ]
  },
  {
   "cell_type": "code",
   "execution_count": 7,
   "metadata": {
    "collapsed": false
   },
   "outputs": [
    {
     "name": "stdout",
     "output_type": "stream",
     "text": [
      "\" Wholesale vegetable prices, organic and conventional, monthly and annual, 2012\",,,,,,,,,,,,,,,,,\r\n",
      "Commodity,Subgroup,Package,Organic/ Conventional,Terminal Market,Jan-12,Feb-12,Mar-12,Apr-12,May-12,Jun-12,Jul-12,Aug-12,Sep-12,Oct-12,Nov-12,Dec-12,2012\r\n",
      "Artichoke (SF only),Globe,\"cartons, 24s\",Conv,San Fran,28.58,30.00,30.94,18.50,13.48,17.83,30.00,35.26,25.75,24.66,23.47,26.29,24.12\r\n",
      "Artichoke (SF only),Globe,\"cartons, 24s\",Org,San Fran,37.34,35.46,N\\A,N\\A,N\\A,30.31,35.00,40.12,45.50,40.47,32.76,32.50,36.88\r\n",
      "Cabbage,Round green type,\"40 lb cartons, medium\",Conv,Atlanta,N\\A,N\\A,N\\A,N\\A,N\\A,N\\A,N\\A,16.50,N\\A,N\\A,N\\A,N\\A,16.50\r\n"
     ]
    }
   ],
   "source": [
    "!head -n 5 Vegetables2012.csv"
   ]
  },
  {
   "cell_type": "code",
   "execution_count": 392,
   "metadata": {
    "collapsed": true
   },
   "outputs": [],
   "source": [
    "Veggies2012 = pd.read_csv('Vegetables2012.csv',skiprows=1)"
   ]
  },
  {
   "cell_type": "code",
   "execution_count": 393,
   "metadata": {
    "collapsed": true
   },
   "outputs": [],
   "source": [
    "Veggies2013 = pd.read_csv('Vegetables2013.csv', skiprows=1)"
   ]
  },
  {
   "cell_type": "code",
   "execution_count": 394,
   "metadata": {
    "collapsed": false,
    "scrolled": true
   },
   "outputs": [],
   "source": [
    "#drop the year summary vars\n",
    "#Veggies2012.columns.get_loc('2012');\n",
    "Veggies2012 = Veggies2012.drop(Veggies2012.columns[17],1)\n",
    "Veggies2013 = Veggies2013.drop(Veggies2013.columns[17],1)"
   ]
  },
  {
   "cell_type": "code",
   "execution_count": 395,
   "metadata": {
    "collapsed": false
   },
   "outputs": [],
   "source": [
    "#transform the data so dates are a column\n",
    "Veggies2012 = pd.melt(Veggies2012, id_vars=['Commodity','Subgroup','Package','Organic/ Conventional','Terminal Market'],\n",
    "       var_name='MonthYear', value_name='Price')\n",
    "\n",
    "Veggies2013 = pd.melt(Veggies2013, id_vars=['Commodity','Subgroup','Package','Organic/ Conventional','Terminal Market'],\n",
    "       var_name='MonthYear', value_name='Price')"
   ]
  },
  {
   "cell_type": "code",
   "execution_count": 572,
   "metadata": {
    "collapsed": false
   },
   "outputs": [],
   "source": [
    "#put em together\n",
    "Ags = Veggies2012.append(Veggies2013)"
   ]
  },
  {
   "cell_type": "code",
   "execution_count": 573,
   "metadata": {
    "collapsed": true
   },
   "outputs": [],
   "source": [
    "#make sure month year is formatted correctly then convert it to datetime\n",
    "#Veggies['MonthYear'].str.strip('\\n')\n",
    "Ags['MonthYear'] = Ags['MonthYear'].str.replace('-','20')\n",
    "Ags['MonthYearForm'] = Ags['MonthYear'].apply(lambda x: parse(x,default=DEFAULT))"
   ]
  },
  {
   "cell_type": "code",
   "execution_count": 574,
   "metadata": {
    "collapsed": false
   },
   "outputs": [],
   "source": [
    "#convert price to number formatting\n",
    "Ags['Price'] = pd.to_numeric(Ags['Price'],errors='coerce')"
   ]
  },
  {
   "cell_type": "code",
   "execution_count": 575,
   "metadata": {
    "collapsed": false
   },
   "outputs": [],
   "source": [
    "#want to have it so price for conventional and organic are columns\n",
    "#couldnt quickly google how-to, so doing it 'by hand'\n",
    "#first make the two columns, with price if there is one\n",
    "Ags['Price_Conv'] = np.where(Ags['Organic/ Conventional']=='Conv',Ags['Price'],'NaN')\n",
    "Ags['Price_Org'] = np.where(Ags['Organic/ Conventional']=='Org',Ags['Price'],'NaN')"
   ]
  },
  {
   "cell_type": "code",
   "execution_count": 576,
   "metadata": {
    "collapsed": true
   },
   "outputs": [],
   "source": [
    "#next convert new cols to numbers, my NaNs werent numbers\n",
    "Ags['Price_Conv'] = pd.to_numeric(Ags['Price_Conv'],errors='coerce')\n",
    "Ags['Price_Org'] = pd.to_numeric(Ags['Price_Org'],errors='coerce')"
   ]
  },
  {
   "cell_type": "code",
   "execution_count": 577,
   "metadata": {
    "collapsed": false
   },
   "outputs": [],
   "source": [
    "#back fill nans so one row has an entry for both cols\n",
    "Ags['Price_Conv'] = Ags['Price_Conv'].fillna(method='bfill')\n",
    "Ags['Price_Org'] = Ags['Price_Org'].fillna(method='bfill')"
   ]
  },
  {
   "cell_type": "code",
   "execution_count": 578,
   "metadata": {
    "collapsed": true
   },
   "outputs": [],
   "source": [
    "#price data in new cols is repeated and only the first is correct\n",
    "#so put NaNs back where they are legit\n",
    "def convOrg(row):\n",
    "    if (row['Organic/ Conventional'] == 'Conv' and pd.isnull(row['Price'])):\n",
    "        row['Price_Conv'] = 'NaN'\n",
    "    if (row['Organic/ Conventional'] == 'Org' and pd.isnull(row['Price'])):\n",
    "        row['Price_Org'] = 'NaN'\n",
    "    return row"
   ]
  },
  {
   "cell_type": "code",
   "execution_count": 579,
   "metadata": {
    "collapsed": false
   },
   "outputs": [],
   "source": [
    "Ags = Ags.apply(convOrg,axis=1)"
   ]
  },
  {
   "cell_type": "code",
   "execution_count": 580,
   "metadata": {
    "collapsed": false
   },
   "outputs": [],
   "source": [
    "#drop now unwanted columns\n",
    "#Ags.columns.get_loc('Organic/ Conventional');\n",
    "Ags = Ags.drop(Ags.columns[[3,5,6]],1)"
   ]
  },
  {
   "cell_type": "code",
   "execution_count": 581,
   "metadata": {
    "collapsed": false
   },
   "outputs": [],
   "source": [
    "#drop dupes keep first entry bc thats the good one\n",
    "Ags = Ags.drop_duplicates(['Commodity','MonthYearForm','Subgroup','Package','Terminal Market'], keep='first')"
   ]
  },
  {
   "cell_type": "code",
   "execution_count": 582,
   "metadata": {
    "collapsed": true
   },
   "outputs": [],
   "source": [
    "#next convert new cols to numbers, my NaNs werent numbers\n",
    "Ags['Price_Conv'] = pd.to_numeric(Ags['Price_Conv'],errors='coerce')\n",
    "Ags['Price_Org'] = pd.to_numeric(Ags['Price_Org'],errors='coerce')"
   ]
  },
  {
   "cell_type": "code",
   "execution_count": 583,
   "metadata": {
    "collapsed": false,
    "scrolled": false
   },
   "outputs": [],
   "source": [
    "Ags['Premium'] = Ags['Price_Org'] - Ags['Price_Conv']"
   ]
  },
  {
   "cell_type": "code",
   "execution_count": 584,
   "metadata": {
    "collapsed": false,
    "scrolled": true
   },
   "outputs": [
    {
     "data": {
      "text/html": [
       "<div>\n",
       "<table border=\"1\" class=\"dataframe\">\n",
       "  <thead>\n",
       "    <tr style=\"text-align: right;\">\n",
       "      <th></th>\n",
       "      <th>Commodity</th>\n",
       "      <th>Subgroup</th>\n",
       "      <th>Package</th>\n",
       "      <th>Terminal Market</th>\n",
       "      <th>MonthYearForm</th>\n",
       "      <th>Price_Conv</th>\n",
       "      <th>Price_Org</th>\n",
       "      <th>Premium</th>\n",
       "    </tr>\n",
       "  </thead>\n",
       "  <tbody>\n",
       "    <tr>\n",
       "      <th>0</th>\n",
       "      <td>Artichoke (SF only)</td>\n",
       "      <td>Globe</td>\n",
       "      <td>cartons, 24s</td>\n",
       "      <td>San Fran</td>\n",
       "      <td>2012-01-01</td>\n",
       "      <td>28.58</td>\n",
       "      <td>37.34</td>\n",
       "      <td>8.76</td>\n",
       "    </tr>\n",
       "    <tr>\n",
       "      <th>2</th>\n",
       "      <td>Cabbage</td>\n",
       "      <td>Round green type</td>\n",
       "      <td>40 lb cartons, medium</td>\n",
       "      <td>Atlanta</td>\n",
       "      <td>2012-01-01</td>\n",
       "      <td>NaN</td>\n",
       "      <td>33.95</td>\n",
       "      <td>NaN</td>\n",
       "    </tr>\n",
       "    <tr>\n",
       "      <th>3</th>\n",
       "      <td>Cabbage</td>\n",
       "      <td>Round green type</td>\n",
       "      <td>45 lb cartons, medium</td>\n",
       "      <td>Atlanta</td>\n",
       "      <td>2012-01-01</td>\n",
       "      <td>14.85</td>\n",
       "      <td>33.95</td>\n",
       "      <td>19.10</td>\n",
       "    </tr>\n",
       "    <tr>\n",
       "      <th>4</th>\n",
       "      <td>Cabbage</td>\n",
       "      <td>Round green type</td>\n",
       "      <td>45 lb cartons, 18-24s</td>\n",
       "      <td>San Fran</td>\n",
       "      <td>2012-01-01</td>\n",
       "      <td>14.85</td>\n",
       "      <td>24.97</td>\n",
       "      <td>10.12</td>\n",
       "    </tr>\n",
       "    <tr>\n",
       "      <th>6</th>\n",
       "      <td>Carrots</td>\n",
       "      <td>Not specified</td>\n",
       "      <td>25 lb sacks loose</td>\n",
       "      <td>Atlanta</td>\n",
       "      <td>2012-01-01</td>\n",
       "      <td>12.50</td>\n",
       "      <td>24.97</td>\n",
       "      <td>12.47</td>\n",
       "    </tr>\n",
       "  </tbody>\n",
       "</table>\n",
       "</div>"
      ],
      "text/plain": [
       "             Commodity          Subgroup                Package  \\\n",
       "0  Artichoke (SF only)             Globe           cartons, 24s   \n",
       "2              Cabbage  Round green type  40 lb cartons, medium   \n",
       "3              Cabbage  Round green type  45 lb cartons, medium   \n",
       "4              Cabbage  Round green type  45 lb cartons, 18-24s   \n",
       "6              Carrots     Not specified      25 lb sacks loose   \n",
       "\n",
       "  Terminal Market MonthYearForm  Price_Conv  Price_Org  Premium  \n",
       "0        San Fran    2012-01-01       28.58      37.34     8.76  \n",
       "2         Atlanta    2012-01-01         NaN      33.95      NaN  \n",
       "3         Atlanta    2012-01-01       14.85      33.95    19.10  \n",
       "4        San Fran    2012-01-01       14.85      24.97    10.12  \n",
       "6         Atlanta    2012-01-01       12.50      24.97    12.47  "
      ]
     },
     "execution_count": 584,
     "metadata": {},
     "output_type": "execute_result"
    }
   ],
   "source": [
    "Ags.head()"
   ]
  },
  {
   "cell_type": "code",
   "execution_count": null,
   "metadata": {
    "collapsed": true
   },
   "outputs": [],
   "source": []
  },
  {
   "cell_type": "code",
   "execution_count": null,
   "metadata": {
    "collapsed": true
   },
   "outputs": [],
   "source": []
  },
  {
   "cell_type": "code",
   "execution_count": null,
   "metadata": {
    "collapsed": true
   },
   "outputs": [],
   "source": []
  },
  {
   "cell_type": "code",
   "execution_count": 418,
   "metadata": {
    "collapsed": false
   },
   "outputs": [],
   "source": [
    "Ags1 = Ags.pivot_table('Price',['Commodity','MonthYearForm','Terminal Market','Subgroup'],'Organic/ Conventional')"
   ]
  },
  {
   "cell_type": "code",
   "execution_count": 419,
   "metadata": {
    "collapsed": false
   },
   "outputs": [
    {
     "data": {
      "text/html": [
       "<div>\n",
       "<table border=\"1\" class=\"dataframe\">\n",
       "  <thead>\n",
       "    <tr style=\"text-align: right;\">\n",
       "      <th></th>\n",
       "      <th></th>\n",
       "      <th></th>\n",
       "      <th>Organic/ Conventional</th>\n",
       "      <th>Conv</th>\n",
       "      <th>Org</th>\n",
       "    </tr>\n",
       "    <tr>\n",
       "      <th>Commodity</th>\n",
       "      <th>MonthYearForm</th>\n",
       "      <th>Terminal Market</th>\n",
       "      <th>Subgroup</th>\n",
       "      <th></th>\n",
       "      <th></th>\n",
       "    </tr>\n",
       "  </thead>\n",
       "  <tbody>\n",
       "    <tr>\n",
       "      <th rowspan=\"5\" valign=\"top\">Artichoke (SF only)</th>\n",
       "      <th>2012-01-01</th>\n",
       "      <th>San Fran</th>\n",
       "      <th>Globe</th>\n",
       "      <td>28.58</td>\n",
       "      <td>37.34</td>\n",
       "    </tr>\n",
       "    <tr>\n",
       "      <th>2012-02-01</th>\n",
       "      <th>San Fran</th>\n",
       "      <th>Globe</th>\n",
       "      <td>30.00</td>\n",
       "      <td>35.46</td>\n",
       "    </tr>\n",
       "    <tr>\n",
       "      <th>2012-03-01</th>\n",
       "      <th>San Fran</th>\n",
       "      <th>Globe</th>\n",
       "      <td>30.94</td>\n",
       "      <td>NaN</td>\n",
       "    </tr>\n",
       "    <tr>\n",
       "      <th>2012-04-01</th>\n",
       "      <th>San Fran</th>\n",
       "      <th>Globe</th>\n",
       "      <td>18.50</td>\n",
       "      <td>NaN</td>\n",
       "    </tr>\n",
       "    <tr>\n",
       "      <th>2012-05-01</th>\n",
       "      <th>San Fran</th>\n",
       "      <th>Globe</th>\n",
       "      <td>13.48</td>\n",
       "      <td>NaN</td>\n",
       "    </tr>\n",
       "  </tbody>\n",
       "</table>\n",
       "</div>"
      ],
      "text/plain": [
       "Organic/ Conventional                                        Conv    Org\n",
       "Commodity           MonthYearForm Terminal Market Subgroup              \n",
       "Artichoke (SF only) 2012-01-01    San Fran        Globe     28.58  37.34\n",
       "                    2012-02-01    San Fran        Globe     30.00  35.46\n",
       "                    2012-03-01    San Fran        Globe     30.94    NaN\n",
       "                    2012-04-01    San Fran        Globe     18.50    NaN\n",
       "                    2012-05-01    San Fran        Globe     13.48    NaN"
      ]
     },
     "execution_count": 419,
     "metadata": {},
     "output_type": "execute_result"
    }
   ],
   "source": [
    "Ags1.head()"
   ]
  },
  {
   "cell_type": "code",
   "execution_count": 355,
   "metadata": {
    "collapsed": false
   },
   "outputs": [
    {
     "data": {
      "text/plain": [
       "Commodity            MonthYearForm  Terminal Market  Subgroup\n",
       "Artichoke (SF only)  2012-01-01     San Fran         Globe       28.58\n",
       "                     2012-02-01     San Fran         Globe       30.00\n",
       "                     2012-03-01     San Fran         Globe       30.94\n",
       "                     2012-04-01     San Fran         Globe       18.50\n",
       "                     2012-05-01     San Fran         Globe       13.48\n",
       "Name: Conv, dtype: float64"
      ]
     },
     "execution_count": 355,
     "metadata": {},
     "output_type": "execute_result"
    }
   ],
   "source": [
    "Ags1.head()"
   ]
  },
  {
   "cell_type": "code",
   "execution_count": null,
   "metadata": {
    "collapsed": true
   },
   "outputs": [],
   "source": []
  },
  {
   "cell_type": "code",
   "execution_count": null,
   "metadata": {
    "collapsed": true
   },
   "outputs": [],
   "source": []
  },
  {
   "cell_type": "code",
   "execution_count": 323,
   "metadata": {
    "collapsed": false,
    "scrolled": true
   },
   "outputs": [
    {
     "data": {
      "text/html": [
       "<div>\n",
       "<table border=\"1\" class=\"dataframe\">\n",
       "  <thead>\n",
       "    <tr style=\"text-align: right;\">\n",
       "      <th></th>\n",
       "      <th></th>\n",
       "      <th>Organic/ Conventional</th>\n",
       "      <th>Conv</th>\n",
       "      <th>Org</th>\n",
       "    </tr>\n",
       "    <tr>\n",
       "      <th>Commodity</th>\n",
       "      <th>MonthYearForm</th>\n",
       "      <th>Terminal Market</th>\n",
       "      <th></th>\n",
       "      <th></th>\n",
       "    </tr>\n",
       "  </thead>\n",
       "  <tbody>\n",
       "    <tr>\n",
       "      <th rowspan=\"5\" valign=\"top\">Artichoke (SF only)</th>\n",
       "      <th>2012-01-01</th>\n",
       "      <th>San Fran</th>\n",
       "      <td>28.58</td>\n",
       "      <td>37.34</td>\n",
       "    </tr>\n",
       "    <tr>\n",
       "      <th>2012-02-01</th>\n",
       "      <th>San Fran</th>\n",
       "      <td>30.00</td>\n",
       "      <td>35.46</td>\n",
       "    </tr>\n",
       "    <tr>\n",
       "      <th>2012-03-01</th>\n",
       "      <th>San Fran</th>\n",
       "      <td>30.94</td>\n",
       "      <td>NaN</td>\n",
       "    </tr>\n",
       "    <tr>\n",
       "      <th>2012-04-01</th>\n",
       "      <th>San Fran</th>\n",
       "      <td>18.50</td>\n",
       "      <td>NaN</td>\n",
       "    </tr>\n",
       "    <tr>\n",
       "      <th>2012-05-01</th>\n",
       "      <th>San Fran</th>\n",
       "      <td>13.48</td>\n",
       "      <td>NaN</td>\n",
       "    </tr>\n",
       "  </tbody>\n",
       "</table>\n",
       "</div>"
      ],
      "text/plain": [
       "Organic/ Conventional                               Conv    Org\n",
       "Commodity           MonthYearForm Terminal Market              \n",
       "Artichoke (SF only) 2012-01-01    San Fran         28.58  37.34\n",
       "                    2012-02-01    San Fran         30.00  35.46\n",
       "                    2012-03-01    San Fran         30.94    NaN\n",
       "                    2012-04-01    San Fran         18.50    NaN\n",
       "                    2012-05-01    San Fran         13.48    NaN"
      ]
     },
     "execution_count": 323,
     "metadata": {},
     "output_type": "execute_result"
    }
   ],
   "source": [
    "Ags.head()\n",
    "#Veggies2013.head()"
   ]
  },
  {
   "cell_type": "code",
   "execution_count": 226,
   "metadata": {
    "collapsed": false
   },
   "outputs": [
    {
     "data": {
      "text/plain": [
       "Commodity                        object\n",
       "Subgroup                         object\n",
       "Package                          object\n",
       "Organic/ Conventional            object\n",
       "Terminal Market                  object\n",
       "MonthYear                        object\n",
       "Price                            object\n",
       "MonthYearForm            datetime64[ns]\n",
       "dtype: object"
      ]
     },
     "execution_count": 226,
     "metadata": {},
     "output_type": "execute_result"
    }
   ],
   "source": [
    "Veggies.dtypes"
   ]
  },
  {
   "cell_type": "code",
   "execution_count": null,
   "metadata": {
    "collapsed": true
   },
   "outputs": [],
   "source": []
  },
  {
   "cell_type": "code",
   "execution_count": null,
   "metadata": {
    "collapsed": true
   },
   "outputs": [],
   "source": []
  },
  {
   "cell_type": "code",
   "execution_count": null,
   "metadata": {
    "collapsed": true
   },
   "outputs": [],
   "source": []
  },
  {
   "cell_type": "code",
   "execution_count": null,
   "metadata": {
    "collapsed": true
   },
   "outputs": [],
   "source": []
  },
  {
   "cell_type": "code",
   "execution_count": null,
   "metadata": {
    "collapsed": true
   },
   "outputs": [],
   "source": []
  },
  {
   "cell_type": "code",
   "execution_count": null,
   "metadata": {
    "collapsed": true
   },
   "outputs": [],
   "source": []
  }
 ],
 "metadata": {
  "kernelspec": {
   "display_name": "Python 3",
   "language": "python",
   "name": "python3"
  },
  "language_info": {
   "codemirror_mode": {
    "name": "ipython",
    "version": 3
   },
   "file_extension": ".py",
   "mimetype": "text/x-python",
   "name": "python",
   "nbconvert_exporter": "python",
   "pygments_lexer": "ipython3",
   "version": "3.5.1"
  }
 },
 "nbformat": 4,
 "nbformat_minor": 0
}
