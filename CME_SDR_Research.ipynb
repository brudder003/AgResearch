{
 "cells": [
  {
   "cell_type": "code",
   "execution_count": 1,
   "metadata": {
    "collapsed": true
   },
   "outputs": [],
   "source": [
    "import os\n",
    "import pandas as pd\n",
    "import numpy as np"
   ]
  },
  {
   "cell_type": "code",
   "execution_count": 13,
   "metadata": {
    "collapsed": true
   },
   "outputs": [],
   "source": [
    "pd.options.display.max_columns = None"
   ]
  },
  {
   "cell_type": "code",
   "execution_count": 2,
   "metadata": {
    "collapsed": false
   },
   "outputs": [
    {
     "data": {
      "text/plain": [
       "'/home/brett/Documents/JupyterNotebooks/AgResearch'"
      ]
     },
     "execution_count": 2,
     "metadata": {},
     "output_type": "execute_result"
    }
   ],
   "source": [
    "%pwd"
   ]
  },
  {
   "cell_type": "code",
   "execution_count": 3,
   "metadata": {
    "collapsed": false
   },
   "outputs": [
    {
     "name": "stdout",
     "output_type": "stream",
     "text": [
      "/home/brett/Dropbox/CMEResearch\n"
     ]
    }
   ],
   "source": [
    "%cd /home/brett/Dropbox/CMEResearch"
   ]
  },
  {
   "cell_type": "code",
   "execution_count": 4,
   "metadata": {
    "collapsed": true
   },
   "outputs": [],
   "source": [
    "#!wget -r -N -A .csv.zip ftp://ftp.cmegroup.com/pub/sdr/commodities/2015/\n",
    "#!wget -r -N -A .csv.zip ftp://ftp.cmegroup.com/pub/sdr/commodities/2016/"
   ]
  },
  {
   "cell_type": "code",
   "execution_count": 6,
   "metadata": {
    "collapsed": false
   },
   "outputs": [
    {
     "name": "stdout",
     "output_type": "stream",
     "text": [
      "/home/brett/Dropbox/CMEResearch/ftp.cmegroup.com/pub/sdr/commodities/2015_2016\n"
     ]
    }
   ],
   "source": [
    "%cd /home/brett/Dropbox/CMEResearch/ftp.cmegroup.com/pub/sdr/commodities/2015_2016"
   ]
  },
  {
   "cell_type": "code",
   "execution_count": 7,
   "metadata": {
    "collapsed": true
   },
   "outputs": [],
   "source": [
    "path = os.getcwd()\n",
    "\n",
    "files = os.listdir(path)\n",
    "\n",
    "files_csv = [f for f in files if f[-3:] == 'csv']\n",
    "\n",
    "df = pd.DataFrame()"
   ]
  },
  {
   "cell_type": "code",
   "execution_count": 11,
   "metadata": {
    "collapsed": false
   },
   "outputs": [],
   "source": [
    "#ff = files_csv[1:10]"
   ]
  },
  {
   "cell_type": "code",
   "execution_count": 12,
   "metadata": {
    "collapsed": false
   },
   "outputs": [
    {
     "name": "stderr",
     "output_type": "stream",
     "text": [
      "/home/brett/anaconda3/lib/python3.5/site-packages/IPython/core/interactiveshell.py:2723: DtypeWarning: Columns (26,27,34,46,54,55,57,58) have mixed types. Specify dtype option on import or set low_memory=False.\n",
      "  interactivity=interactivity, compiler=compiler, result=result)\n"
     ]
    }
   ],
   "source": [
    "for f in files_csv:\n",
    "    data = pd.read_csv(f)\n",
    "    data['Date'] = f\n",
    "    df = df.append(data)"
   ]
  },
  {
   "cell_type": "code",
   "execution_count": 14,
   "metadata": {
    "collapsed": false
   },
   "outputs": [
    {
     "data": {
      "text/plain": [
       "(340013, 68)"
      ]
     },
     "execution_count": 14,
     "metadata": {},
     "output_type": "execute_result"
    }
   ],
   "source": [
    "df.shape"
   ]
  },
  {
   "cell_type": "code",
   "execution_count": 15,
   "metadata": {
    "collapsed": false
   },
   "outputs": [
    {
     "data": {
      "text/plain": [
       "Index(['Asset Class', 'Bespoke', 'Block/Off Facility', 'Cleared',\n",
       "       'Collateralization', 'Contract Type', 'Date', 'Dissemination Time',\n",
       "       'Effective Date', 'Embedded Option', 'End-User Exception', 'Event',\n",
       "       'Execution Timestamp', 'Execution Venue', 'Leg 1 Averaging Method',\n",
       "       'Leg 1 Delivery Point', 'Leg 1 Fixed Payment',\n",
       "       'Leg 1 Fixed Payment Currency', 'Leg 1 Index', 'Leg 1 Index Location',\n",
       "       'Leg 1 Payent Frequency', 'Leg 1 Payment Frequency',\n",
       "       'Leg 1 Payment Type', 'Leg 1 Price Type', 'Leg 1 Spread',\n",
       "       'Leg 1 Total Notional', 'Leg 1 Total Notional Unit', 'Leg 1 Type',\n",
       "       'Leg 2 Averaging Method', 'Leg 2 Delivery Point', 'Leg 2 Fixed Payment',\n",
       "       'Leg 2 Fixed Payment Currency', 'Leg 2 FixedPayment', 'Leg 2 Index',\n",
       "       'Leg 2 Index Location', 'Leg 2 Payment Frequency', 'Leg 2 Payment Type',\n",
       "       'Leg 2 Price Type', 'Leg 2 Spread', 'Leg 2 Total Notional',\n",
       "       'Leg 2 Total Notional Unit', 'Leg 2 Type', 'Maturity Date', 'Notional',\n",
       "       'Notional Frequency', 'Notional Unit', 'Option Currency',\n",
       "       'Option Expiration Date', 'Option Family', 'Option Lockout Peiod',\n",
       "       'Option Lockout Period', 'Option Premium', 'Option Strike Price',\n",
       "       'Option Type', 'Prev Rpt ID', 'Price', 'Price Unit', 'Product',\n",
       "       'Rpt ID', 'Settlement Currency', 'Settlement Method', 'Sub Asset Class',\n",
       "       'Total Notional', 'UPI', 'Unnamed: 16', 'Upfront Payment',\n",
       "       'Upfront Payment Currency', 'Upfront Payment Date'],\n",
       "      dtype='object')"
      ]
     },
     "execution_count": 15,
     "metadata": {},
     "output_type": "execute_result"
    }
   ],
   "source": [
    "df.columns"
   ]
  },
  {
   "cell_type": "code",
   "execution_count": 16,
   "metadata": {
    "collapsed": false
   },
   "outputs": [],
   "source": [
    "dg = df[['Product','Asset Class','Dissemination Time','End-User Exception','Leg 1 Delivery Point', 'Leg 1 Fixed Payment',\n",
    "       'Leg 1 Fixed Payment Currency', 'Leg 1 Index', 'Leg 1 Index Location',\n",
    "       'Leg 1 Payent Frequency', 'Leg 1 Payment Frequency',\n",
    "       'Leg 1 Payment Type', 'Leg 1 Price Type', 'Leg 1 Spread',\n",
    "       'Leg 1 Total Notional', 'Leg 1 Total Notional Unit', 'Leg 1 Type',\n",
    "       'Leg 2 Averaging Method', 'Leg 2 Delivery Point', 'Leg 2 Fixed Payment',\n",
    "       'Leg 2 Fixed Payment Currency', 'Leg 2 FixedPayment', 'Leg 2 Index',\n",
    "       'Leg 2 Index Location', 'Leg 2 Payment Frequency', 'Leg 2 Payment Type',\n",
    "       'Leg 2 Price Type', 'Leg 2 Spread', 'Leg 2 Total Notional',\n",
    "       'Leg 2 Total Notional Unit', 'Leg 2 Type', 'Maturity Date', 'Notional',\n",
    "       'Notional Frequency', 'Notional Unit',]]"
   ]
  },
  {
   "cell_type": "code",
   "execution_count": 17,
   "metadata": {
    "collapsed": false
   },
   "outputs": [
    {
     "data": {
      "text/html": [
       "<div>\n",
       "<table border=\"1\" class=\"dataframe\">\n",
       "  <thead>\n",
       "    <tr style=\"text-align: right;\">\n",
       "      <th></th>\n",
       "      <th>Product</th>\n",
       "      <th>Asset Class</th>\n",
       "      <th>Dissemination Time</th>\n",
       "      <th>End-User Exception</th>\n",
       "      <th>Leg 1 Delivery Point</th>\n",
       "      <th>Leg 1 Fixed Payment</th>\n",
       "      <th>Leg 1 Fixed Payment Currency</th>\n",
       "      <th>Leg 1 Index</th>\n",
       "      <th>Leg 1 Index Location</th>\n",
       "      <th>Leg 1 Payent Frequency</th>\n",
       "      <th>Leg 1 Payment Frequency</th>\n",
       "      <th>Leg 1 Payment Type</th>\n",
       "      <th>Leg 1 Price Type</th>\n",
       "      <th>Leg 1 Spread</th>\n",
       "      <th>Leg 1 Total Notional</th>\n",
       "      <th>Leg 1 Total Notional Unit</th>\n",
       "      <th>Leg 1 Type</th>\n",
       "      <th>Leg 2 Averaging Method</th>\n",
       "      <th>Leg 2 Delivery Point</th>\n",
       "      <th>Leg 2 Fixed Payment</th>\n",
       "      <th>Leg 2 Fixed Payment Currency</th>\n",
       "      <th>Leg 2 FixedPayment</th>\n",
       "      <th>Leg 2 Index</th>\n",
       "      <th>Leg 2 Index Location</th>\n",
       "      <th>Leg 2 Payment Frequency</th>\n",
       "      <th>Leg 2 Payment Type</th>\n",
       "      <th>Leg 2 Price Type</th>\n",
       "      <th>Leg 2 Spread</th>\n",
       "      <th>Leg 2 Total Notional</th>\n",
       "      <th>Leg 2 Total Notional Unit</th>\n",
       "      <th>Leg 2 Type</th>\n",
       "      <th>Maturity Date</th>\n",
       "      <th>Notional</th>\n",
       "      <th>Notional Frequency</th>\n",
       "      <th>Notional Unit</th>\n",
       "    </tr>\n",
       "  </thead>\n",
       "  <tbody>\n",
       "    <tr>\n",
       "      <th>0</th>\n",
       "      <td>XAG/USD</td>\n",
       "      <td>Commodities</td>\n",
       "      <td>05/19/2015 03:33:21</td>\n",
       "      <td>NaN</td>\n",
       "      <td>NaN</td>\n",
       "      <td>82240.3</td>\n",
       "      <td>USD</td>\n",
       "      <td>NaN</td>\n",
       "      <td>NaN</td>\n",
       "      <td>NaN</td>\n",
       "      <td>NaN</td>\n",
       "      <td>NaN</td>\n",
       "      <td>NaN</td>\n",
       "      <td>0</td>\n",
       "      <td>NaN</td>\n",
       "      <td>NaN</td>\n",
       "      <td>Fixed</td>\n",
       "      <td>NaN</td>\n",
       "      <td>NaN</td>\n",
       "      <td>82240.2900</td>\n",
       "      <td>USD</td>\n",
       "      <td>NaN</td>\n",
       "      <td>NaN</td>\n",
       "      <td>NaN</td>\n",
       "      <td>NaN</td>\n",
       "      <td>NaN</td>\n",
       "      <td>NaN</td>\n",
       "      <td>0</td>\n",
       "      <td>NaN</td>\n",
       "      <td>NaN</td>\n",
       "      <td>Fixed</td>\n",
       "      <td>05/18/2015</td>\n",
       "      <td>4700.0</td>\n",
       "      <td>1D</td>\n",
       "      <td>XAG</td>\n",
       "    </tr>\n",
       "    <tr>\n",
       "      <th>1</th>\n",
       "      <td>XAG/USD</td>\n",
       "      <td>Commodities</td>\n",
       "      <td>05/19/2015 14:04:26</td>\n",
       "      <td>NaN</td>\n",
       "      <td>NaN</td>\n",
       "      <td>3889.14</td>\n",
       "      <td>USD</td>\n",
       "      <td>NaN</td>\n",
       "      <td>NaN</td>\n",
       "      <td>NaN</td>\n",
       "      <td>NaN</td>\n",
       "      <td>NaN</td>\n",
       "      <td>NaN</td>\n",
       "      <td>0</td>\n",
       "      <td>NaN</td>\n",
       "      <td>NaN</td>\n",
       "      <td>Fixed</td>\n",
       "      <td>NaN</td>\n",
       "      <td>NaN</td>\n",
       "      <td>3889.1448</td>\n",
       "      <td>USD</td>\n",
       "      <td>NaN</td>\n",
       "      <td>NaN</td>\n",
       "      <td>NaN</td>\n",
       "      <td>NaN</td>\n",
       "      <td>NaN</td>\n",
       "      <td>NaN</td>\n",
       "      <td>0</td>\n",
       "      <td>NaN</td>\n",
       "      <td>NaN</td>\n",
       "      <td>Fixed</td>\n",
       "      <td>05/19/2015</td>\n",
       "      <td>220.0</td>\n",
       "      <td>1D</td>\n",
       "      <td>XAG</td>\n",
       "    </tr>\n",
       "    <tr>\n",
       "      <th>2</th>\n",
       "      <td>XAU/USD</td>\n",
       "      <td>Commodities</td>\n",
       "      <td>05/19/2015 14:09:33</td>\n",
       "      <td>NaN</td>\n",
       "      <td>NaN</td>\n",
       "      <td>153948</td>\n",
       "      <td>USD</td>\n",
       "      <td>NaN</td>\n",
       "      <td>NaN</td>\n",
       "      <td>NaN</td>\n",
       "      <td>NaN</td>\n",
       "      <td>NaN</td>\n",
       "      <td>NaN</td>\n",
       "      <td>0</td>\n",
       "      <td>NaN</td>\n",
       "      <td>NaN</td>\n",
       "      <td>Fixed</td>\n",
       "      <td>NaN</td>\n",
       "      <td>NaN</td>\n",
       "      <td>153948.3000</td>\n",
       "      <td>USD</td>\n",
       "      <td>NaN</td>\n",
       "      <td>NaN</td>\n",
       "      <td>NaN</td>\n",
       "      <td>NaN</td>\n",
       "      <td>NaN</td>\n",
       "      <td>NaN</td>\n",
       "      <td>0</td>\n",
       "      <td>NaN</td>\n",
       "      <td>NaN</td>\n",
       "      <td>Fixed</td>\n",
       "      <td>05/19/2015</td>\n",
       "      <td>125.0</td>\n",
       "      <td>1D</td>\n",
       "      <td>XAU</td>\n",
       "    </tr>\n",
       "    <tr>\n",
       "      <th>3</th>\n",
       "      <td>XAU/USD</td>\n",
       "      <td>Commodities</td>\n",
       "      <td>05/19/2015 14:09:33</td>\n",
       "      <td>NaN</td>\n",
       "      <td>NaN</td>\n",
       "      <td>149148</td>\n",
       "      <td>USD</td>\n",
       "      <td>NaN</td>\n",
       "      <td>NaN</td>\n",
       "      <td>NaN</td>\n",
       "      <td>NaN</td>\n",
       "      <td>NaN</td>\n",
       "      <td>NaN</td>\n",
       "      <td>0</td>\n",
       "      <td>NaN</td>\n",
       "      <td>NaN</td>\n",
       "      <td>Fixed</td>\n",
       "      <td>NaN</td>\n",
       "      <td>NaN</td>\n",
       "      <td>149148.3300</td>\n",
       "      <td>USD</td>\n",
       "      <td>NaN</td>\n",
       "      <td>NaN</td>\n",
       "      <td>NaN</td>\n",
       "      <td>NaN</td>\n",
       "      <td>NaN</td>\n",
       "      <td>NaN</td>\n",
       "      <td>0</td>\n",
       "      <td>NaN</td>\n",
       "      <td>NaN</td>\n",
       "      <td>Fixed</td>\n",
       "      <td>05/19/2015</td>\n",
       "      <td>125.0</td>\n",
       "      <td>1D</td>\n",
       "      <td>XAU</td>\n",
       "    </tr>\n",
       "    <tr>\n",
       "      <th>4</th>\n",
       "      <td>XAG/USD</td>\n",
       "      <td>Commodities</td>\n",
       "      <td>05/19/2015 15:11:13</td>\n",
       "      <td>NaN</td>\n",
       "      <td>NaN</td>\n",
       "      <td>81660.1</td>\n",
       "      <td>USD</td>\n",
       "      <td>NaN</td>\n",
       "      <td>NaN</td>\n",
       "      <td>NaN</td>\n",
       "      <td>NaN</td>\n",
       "      <td>NaN</td>\n",
       "      <td>NaN</td>\n",
       "      <td>0</td>\n",
       "      <td>NaN</td>\n",
       "      <td>NaN</td>\n",
       "      <td>Fixed</td>\n",
       "      <td>NaN</td>\n",
       "      <td>NaN</td>\n",
       "      <td>81660.0550</td>\n",
       "      <td>USD</td>\n",
       "      <td>NaN</td>\n",
       "      <td>NaN</td>\n",
       "      <td>NaN</td>\n",
       "      <td>NaN</td>\n",
       "      <td>NaN</td>\n",
       "      <td>NaN</td>\n",
       "      <td>0</td>\n",
       "      <td>NaN</td>\n",
       "      <td>NaN</td>\n",
       "      <td>Fixed</td>\n",
       "      <td>05/19/2015</td>\n",
       "      <td>4600.0</td>\n",
       "      <td>1D</td>\n",
       "      <td>XAG</td>\n",
       "    </tr>\n",
       "  </tbody>\n",
       "</table>\n",
       "</div>"
      ],
      "text/plain": [
       "   Product  Asset Class   Dissemination Time End-User Exception  \\\n",
       "0  XAG/USD  Commodities  05/19/2015 03:33:21                NaN   \n",
       "1  XAG/USD  Commodities  05/19/2015 14:04:26                NaN   \n",
       "2  XAU/USD  Commodities  05/19/2015 14:09:33                NaN   \n",
       "3  XAU/USD  Commodities  05/19/2015 14:09:33                NaN   \n",
       "4  XAG/USD  Commodities  05/19/2015 15:11:13                NaN   \n",
       "\n",
       "  Leg 1 Delivery Point Leg 1 Fixed Payment Leg 1 Fixed Payment Currency  \\\n",
       "0                  NaN             82240.3                          USD   \n",
       "1                  NaN             3889.14                          USD   \n",
       "2                  NaN              153948                          USD   \n",
       "3                  NaN              149148                          USD   \n",
       "4                  NaN             81660.1                          USD   \n",
       "\n",
       "  Leg 1 Index Leg 1 Index Location Leg 1 Payent Frequency  \\\n",
       "0         NaN                  NaN                    NaN   \n",
       "1         NaN                  NaN                    NaN   \n",
       "2         NaN                  NaN                    NaN   \n",
       "3         NaN                  NaN                    NaN   \n",
       "4         NaN                  NaN                    NaN   \n",
       "\n",
       "  Leg 1 Payment Frequency Leg 1 Payment Type Leg 1 Price Type Leg 1 Spread  \\\n",
       "0                     NaN                NaN              NaN            0   \n",
       "1                     NaN                NaN              NaN            0   \n",
       "2                     NaN                NaN              NaN            0   \n",
       "3                     NaN                NaN              NaN            0   \n",
       "4                     NaN                NaN              NaN            0   \n",
       "\n",
       "   Leg 1 Total Notional Leg 1 Total Notional Unit Leg 1 Type  \\\n",
       "0                   NaN                       NaN      Fixed   \n",
       "1                   NaN                       NaN      Fixed   \n",
       "2                   NaN                       NaN      Fixed   \n",
       "3                   NaN                       NaN      Fixed   \n",
       "4                   NaN                       NaN      Fixed   \n",
       "\n",
       "  Leg 2 Averaging Method Leg 2 Delivery Point  Leg 2 Fixed Payment  \\\n",
       "0                    NaN                  NaN           82240.2900   \n",
       "1                    NaN                  NaN            3889.1448   \n",
       "2                    NaN                  NaN          153948.3000   \n",
       "3                    NaN                  NaN          149148.3300   \n",
       "4                    NaN                  NaN           81660.0550   \n",
       "\n",
       "  Leg 2 Fixed Payment Currency Leg 2 FixedPayment Leg 2 Index  \\\n",
       "0                          USD                NaN         NaN   \n",
       "1                          USD                NaN         NaN   \n",
       "2                          USD                NaN         NaN   \n",
       "3                          USD                NaN         NaN   \n",
       "4                          USD                NaN         NaN   \n",
       "\n",
       "  Leg 2 Index Location Leg 2 Payment Frequency Leg 2 Payment Type  \\\n",
       "0                  NaN                     NaN                NaN   \n",
       "1                  NaN                     NaN                NaN   \n",
       "2                  NaN                     NaN                NaN   \n",
       "3                  NaN                     NaN                NaN   \n",
       "4                  NaN                     NaN                NaN   \n",
       "\n",
       "  Leg 2 Price Type Leg 2 Spread Leg 2 Total Notional  \\\n",
       "0              NaN            0                  NaN   \n",
       "1              NaN            0                  NaN   \n",
       "2              NaN            0                  NaN   \n",
       "3              NaN            0                  NaN   \n",
       "4              NaN            0                  NaN   \n",
       "\n",
       "  Leg 2 Total Notional Unit Leg 2 Type Maturity Date  Notional  \\\n",
       "0                       NaN      Fixed    05/18/2015    4700.0   \n",
       "1                       NaN      Fixed    05/19/2015     220.0   \n",
       "2                       NaN      Fixed    05/19/2015     125.0   \n",
       "3                       NaN      Fixed    05/19/2015     125.0   \n",
       "4                       NaN      Fixed    05/19/2015    4600.0   \n",
       "\n",
       "  Notional Frequency Notional Unit  \n",
       "0                 1D           XAG  \n",
       "1                 1D           XAG  \n",
       "2                 1D           XAU  \n",
       "3                 1D           XAU  \n",
       "4                 1D           XAG  "
      ]
     },
     "execution_count": 17,
     "metadata": {},
     "output_type": "execute_result"
    }
   ],
   "source": [
    "dg.head()"
   ]
  },
  {
   "cell_type": "code",
   "execution_count": 18,
   "metadata": {
    "collapsed": false,
    "scrolled": false
   },
   "outputs": [
    {
     "data": {
      "text/plain": [
       "'/home/brett/Dropbox/CMEResearch/ftp.cmegroup.com/pub/sdr/commodities/2015_2016'"
      ]
     },
     "execution_count": 18,
     "metadata": {},
     "output_type": "execute_result"
    }
   ],
   "source": [
    "%pwd"
   ]
  },
  {
   "cell_type": "code",
   "execution_count": 19,
   "metadata": {
    "collapsed": false
   },
   "outputs": [
    {
     "name": "stdout",
     "output_type": "stream",
     "text": [
      "/home/brett/Dropbox/CMEResearch/ftp.cmegroup.com/pub/sdr\n"
     ]
    }
   ],
   "source": [
    "%cd /home/brett/Dropbox/CMEResearch/ftp.cmegroup.com/pub/sdr/"
   ]
  },
  {
   "cell_type": "code",
   "execution_count": 20,
   "metadata": {
    "collapsed": false
   },
   "outputs": [
    {
     "name": "stdout",
     "output_type": "stream",
     "text": [
      "CME SDR Product Dict.csv  CME SDR Product Dict.ods  \u001b[0m\u001b[01;34mcommodities\u001b[0m/\r\n"
     ]
    }
   ],
   "source": [
    "%ls"
   ]
  },
  {
   "cell_type": "code",
   "execution_count": 409,
   "metadata": {
    "collapsed": false
   },
   "outputs": [],
   "source": [
    "prods = pd.read_csv(\"CME SDR Product Dict.csv\")\n",
    "prods.drop(['Unnamed: 3','Unnamed: 4','Unnamed: 5'], inplace=True, axis=1)"
   ]
  },
  {
   "cell_type": "code",
   "execution_count": 410,
   "metadata": {
    "collapsed": true
   },
   "outputs": [],
   "source": [
    "prods.columns = ['Product','Product_br','Ags']"
   ]
  },
  {
   "cell_type": "code",
   "execution_count": 411,
   "metadata": {
    "collapsed": true
   },
   "outputs": [],
   "source": [
    "#prods.Product = prods.Product.astype(str)\n",
    "#prods.Product_br = prods.Product.astype(str)"
   ]
  },
  {
   "cell_type": "code",
   "execution_count": 412,
   "metadata": {
    "collapsed": false
   },
   "outputs": [],
   "source": [
    "prods['Product'] = prods['Product'].apply(lambda x: x[2:-2])"
   ]
  },
  {
   "cell_type": "code",
   "execution_count": 413,
   "metadata": {
    "collapsed": false,
    "scrolled": true
   },
   "outputs": [
    {
     "data": {
      "text/plain": [
       "Product        object\n",
       "Product_br     object\n",
       "Ags           float64\n",
       "dtype: object"
      ]
     },
     "execution_count": 413,
     "metadata": {},
     "output_type": "execute_result"
    }
   ],
   "source": [
    "prods.dtypes"
   ]
  },
  {
   "cell_type": "code",
   "execution_count": 414,
   "metadata": {
    "collapsed": true
   },
   "outputs": [],
   "source": [
    "dg_prods = pd.merge(dg, prods, on=\"Product\")"
   ]
  },
  {
   "cell_type": "code",
   "execution_count": 415,
   "metadata": {
    "collapsed": false
   },
   "outputs": [],
   "source": [
    "dg_prods_ags = dg_prods[dg_prods['Ags'] == 1]"
   ]
  },
  {
   "cell_type": "code",
   "execution_count": 416,
   "metadata": {
    "collapsed": false
   },
   "outputs": [
    {
     "data": {
      "text/plain": [
       "array([nan, 'BU', 'LB', 'lb.', 'Bushels', 0.0, 'Lbs', 'Per Pound',\n",
       "       'Per Hundredweight', 'Bushel', '1', 'bushels'], dtype=object)"
      ]
     },
     "execution_count": 416,
     "metadata": {},
     "output_type": "execute_result"
    }
   ],
   "source": [
    "dg_prods_ags['Leg 1 Total Notional Unit'].unique()"
   ]
  },
  {
   "cell_type": "code",
   "execution_count": 403,
   "metadata": {
    "collapsed": true
   },
   "outputs": [],
   "source": [
    "#dg_prods_ags.dtypes"
   ]
  },
  {
   "cell_type": "code",
   "execution_count": 404,
   "metadata": {
    "collapsed": false
   },
   "outputs": [],
   "source": [
    "# def notional(row):\n",
    "#     if (pd.isnull(row['Notional']) and pd.isnull(row['Leg 1 Total Notional'])):\n",
    "#         row['Notional_1'] = row['Leg 2 Total Notional']\n",
    "#     elif (pd.isnull(row['Notional']) and pd.isnull(row['Leg 2 Total Notional'])):\n",
    "#         row['Notional_2'] = row['Leg 1 Total Notional']\n",
    "#     return row"
   ]
  },
  {
   "cell_type": "code",
   "execution_count": 417,
   "metadata": {
    "collapsed": false
   },
   "outputs": [],
   "source": [
    "def notional(row):\n",
    "    row['Notional_br'] = row['Notional']\n",
    "    if (pd.isnull(row['Notional'])):\n",
    "        row['Notional_br'] = row['Leg 2 Total Notional']\n",
    "    if (pd.isnull(row['Notional']) and pd.isnull(row['Leg 2 Total Notional'])):\n",
    "        row['Notional_br'] = row['Leg 1 Total Notional']\n",
    "    \n",
    "    row['Notional_Unit_br'] = row['Notional Unit']\n",
    "    if (pd.isnull(row['Notional Unit'])):\n",
    "        row['Notional_Unit_br'] = row['Leg 2 Total Notional Unit']\n",
    "    if (pd.isnull(row['Notional Unit']) and pd.isnull(row['Leg 2 Total Notional Unit'])):\n",
    "        row['Notional_Unit_br'] = row['Leg 1 Total Notional Unit']\n",
    "            \n",
    "    return row"
   ]
  },
  {
   "cell_type": "code",
   "execution_count": 418,
   "metadata": {
    "collapsed": true
   },
   "outputs": [],
   "source": [
    "dg_prods_ags = dg_prods_ags.apply(notional, axis=1);"
   ]
  },
  {
   "cell_type": "code",
   "execution_count": 422,
   "metadata": {
    "collapsed": false,
    "scrolled": false
   },
   "outputs": [],
   "source": [
    "dg_prods_ags = dg_prods_ags[dg_prods_ags['Notional_Unit_br'].notnull()]"
   ]
  },
  {
   "cell_type": "code",
   "execution_count": 424,
   "metadata": {
    "collapsed": true
   },
   "outputs": [],
   "source": [
    "def exchangesize(row):\n",
    "    row['Exchange_Size'] = 0\n",
    "    if row['Product_br'] == \"AgIndex\":\n",
    "        row['Exchange_Size'] = row['Notional_br']/100\n",
    "        \n",
    "    if row['Product_br'] == \"Cocoa\":\n",
    "        row['Exchange_Size'] = row['Notional_br']/2204.62\n",
    "        \n",
    "    if row['Product_br'] == \"Corn\":\n",
    "        row['Exchange_Size'] = row['Notional_br']/5000\n",
    "        \n",
    "    if row['Product_br'] == \"Butter\":\n",
    "        row['Exchange_Size'] = row['Notional_br']/20000\n",
    "        \n",
    "    if row['Product_br'] == \"Cheese\":\n",
    "        row['Exchange_Size'] = row['Notional_br']/20000\n",
    "        \n",
    "    #NOTE this one isnt good bc there are lots of diff milk contract sizes\n",
    "    if row['Product_br'] == \"Milk\":\n",
    "        row['Exchange_Size'] = row['Notional_br']/44000\n",
    "        \n",
    "    if row['Product_br'] == \"PalmOil\":\n",
    "        row['Exchange_Size'] = row['Notional_br']/25\n",
    "        \n",
    "    if row['Product_br'] == \"Soybean\":\n",
    "        row['Exchange_Size'] = row['Notional_br']/5000\n",
    "        \n",
    "    if row['Product_br'] == \"Wheat\":\n",
    "        row['Exchange_Size'] = row['Notional_br']/5000\n",
    "        \n",
    "    if row['Product_br'] == \"Whey\":\n",
    "        row['Exchange_Size'] = row['Notional_br']/44000\n",
    "        \n",
    "    return row"
   ]
  },
  {
   "cell_type": "code",
   "execution_count": 425,
   "metadata": {
    "collapsed": true
   },
   "outputs": [],
   "source": [
    "dg_prods_ags = dg_prods_ags.apply(exchangesize, axis=1);"
   ]
  },
  {
   "cell_type": "code",
   "execution_count": 427,
   "metadata": {
    "collapsed": true
   },
   "outputs": [],
   "source": [
    "individuals = dg_prods_ags.groupby(\"Product_br\")"
   ]
  },
  {
   "cell_type": "code",
   "execution_count": 428,
   "metadata": {
    "collapsed": false
   },
   "outputs": [
    {
     "name": "stdout",
     "output_type": "stream",
     "text": [
      "                    sum\n",
      "Product_br             \n",
      "AgIndex         26250.0\n",
      "Butter       29534968.0\n",
      "Cheese      130792200.0\n",
      "Cocoa          994000.0\n",
      "Corn         29391000.0\n",
      "Milk        502278421.0\n",
      "PalmOil       1278428.0\n",
      "Soybean       3005000.0\n",
      "Unknown            40.0\n",
      "Wheat         8693000.0\n",
      "Whey         29689600.0\n",
      "                     sum\n",
      "Product_br              \n",
      "AgIndex       262.500000\n",
      "Butter       1476.748400\n",
      "Cheese       6539.610000\n",
      "Cocoa         450.871352\n",
      "Corn         5878.200000\n",
      "Milk        11415.418659\n",
      "PalmOil     51137.120000\n",
      "Soybean       601.000000\n",
      "Unknown         0.000000\n",
      "Wheat        1738.600000\n",
      "Whey          674.763636\n"
     ]
    }
   ],
   "source": [
    "print (individuals['Notional_br'].agg([np.sum]))\n",
    "print (individuals['Exchange_Size'].agg([np.sum]))"
   ]
  },
  {
   "cell_type": "code",
   "execution_count": 392,
   "metadata": {
    "collapsed": true
   },
   "outputs": [],
   "source": [
    "Cocoa = dg_prods_ags[dg_prods_ags['Product_br'] == \"Cocoa\"]\n",
    "Corn = dg_prods_ags[dg_prods_ags['Product_br'] == \"Corn\"]\n",
    "AgIndex = dg_prods_ags[dg_prods_ags['Product_br'] == \"AgIndex\"]\n",
    "Soybean = dg_prods_ags[dg_prods_ags['Product_br'] == \"Soybean\"]\n",
    "Wheat = dg_prods_ags[dg_prods_ags['Product_br'] == \"Wheat\"]\n",
    "PalmOil = dg_prods_ags[dg_prods_ags['Product_br'] == \"PalmOil\"]\n",
    "Cheese = dg_prods_ags[dg_prods_ags['Product_br'] == \"Cheese\"]\n",
    "Milk = dg_prods_ags[dg_prods_ags['Product_br'] == \"Milk\"]\n",
    "Whey = dg_prods_ags[dg_prods_ags['Product_br'] == \"Whey\"]\n",
    "Butter = dg_prods_ags[dg_prods_ags['Product_br'] == \"Butter\"]"
   ]
  },
  {
   "cell_type": "code",
   "execution_count": 393,
   "metadata": {
    "collapsed": false
   },
   "outputs": [
    {
     "name": "stdout",
     "output_type": "stream",
     "text": [
      "['LB' 'lb.' 'Per Pound' 'Lbs' nan]\n",
      "['LB']\n",
      "['BU' 'Bushel' 'bushels']\n",
      "[nan 'IPNT']\n",
      "['Bushel']\n",
      "['Bushel' 'LB']\n",
      "[nan 'MTONS' 0]\n",
      "['LB' 'Lbs' nan 'lb.' 'Per Hundredweight']\n",
      "['LB' nan 'Per Pound' 'lb.']\n",
      "['LB' nan 'lb.' 'Lbs']\n"
     ]
    }
   ],
   "source": [
    "print (Cheese['Notional_Unit_br'].unique())\n",
    "print (Cocoa['Notional_Unit_br'].unique())\n",
    "print (Corn['Notional_Unit_br'].unique())\n",
    "print (AgIndex['Notional_Unit_br'].unique())\n",
    "print (Soybean['Notional_Unit_br'].unique())\n",
    "print (Wheat['Notional_Unit_br'].unique())\n",
    "print (PalmOil['Notional_Unit_br'].unique())\n",
    "print (Milk['Notional_Unit_br'].unique())\n",
    "print (Whey['Notional_Unit_br'].unique())\n",
    "print (Butter['Notional_Unit_br'].unique())"
   ]
  },
  {
   "cell_type": "code",
   "execution_count": 429,
   "metadata": {
    "collapsed": false,
    "scrolled": false
   },
   "outputs": [
    {
     "data": {
      "text/html": [
       "<div>\n",
       "<table border=\"1\" class=\"dataframe\">\n",
       "  <thead>\n",
       "    <tr style=\"text-align: right;\">\n",
       "      <th></th>\n",
       "      <th>Product</th>\n",
       "      <th>Asset Class</th>\n",
       "      <th>Dissemination Time</th>\n",
       "      <th>End-User Exception</th>\n",
       "      <th>Leg 1 Delivery Point</th>\n",
       "      <th>Leg 1 Fixed Payment</th>\n",
       "      <th>Leg 1 Fixed Payment Currency</th>\n",
       "      <th>Leg 1 Index</th>\n",
       "      <th>Leg 1 Index Location</th>\n",
       "      <th>Leg 1 Payent Frequency</th>\n",
       "      <th>Leg 1 Payment Frequency</th>\n",
       "      <th>Leg 1 Payment Type</th>\n",
       "      <th>Leg 1 Price Type</th>\n",
       "      <th>Leg 1 Spread</th>\n",
       "      <th>Leg 1 Total Notional</th>\n",
       "      <th>Leg 1 Total Notional Unit</th>\n",
       "      <th>Leg 1 Type</th>\n",
       "      <th>Leg 2 Averaging Method</th>\n",
       "      <th>Leg 2 Delivery Point</th>\n",
       "      <th>Leg 2 Fixed Payment</th>\n",
       "      <th>Leg 2 Fixed Payment Currency</th>\n",
       "      <th>Leg 2 FixedPayment</th>\n",
       "      <th>Leg 2 Index</th>\n",
       "      <th>Leg 2 Index Location</th>\n",
       "      <th>Leg 2 Payment Frequency</th>\n",
       "      <th>Leg 2 Payment Type</th>\n",
       "      <th>Leg 2 Price Type</th>\n",
       "      <th>Leg 2 Spread</th>\n",
       "      <th>Leg 2 Total Notional</th>\n",
       "      <th>Leg 2 Total Notional Unit</th>\n",
       "      <th>Leg 2 Type</th>\n",
       "      <th>Maturity Date</th>\n",
       "      <th>Notional</th>\n",
       "      <th>Notional Frequency</th>\n",
       "      <th>Notional Unit</th>\n",
       "      <th>Product_br</th>\n",
       "      <th>Ags</th>\n",
       "      <th>Notional_br</th>\n",
       "      <th>Notional_Unit_br</th>\n",
       "    </tr>\n",
       "  </thead>\n",
       "  <tbody>\n",
       "    <tr>\n",
       "      <th>172700</th>\n",
       "      <td>AMS BUTTER</td>\n",
       "      <td>Commodities</td>\n",
       "      <td>04/28/2016 12:04:00</td>\n",
       "      <td>NaN</td>\n",
       "      <td>NaN</td>\n",
       "      <td>2957480.0</td>\n",
       "      <td>USD</td>\n",
       "      <td>NaN</td>\n",
       "      <td>NaN</td>\n",
       "      <td>NaN</td>\n",
       "      <td>NaN</td>\n",
       "      <td>NaN</td>\n",
       "      <td>NaN</td>\n",
       "      <td>0.0</td>\n",
       "      <td>1000000.0</td>\n",
       "      <td>LB</td>\n",
       "      <td>Fixed</td>\n",
       "      <td>NaN</td>\n",
       "      <td>NaN</td>\n",
       "      <td>0.00</td>\n",
       "      <td>NaN</td>\n",
       "      <td>NaN</td>\n",
       "      <td>AMS CLASS AND COMPONENT</td>\n",
       "      <td>NaN</td>\n",
       "      <td>NaN</td>\n",
       "      <td>NaN</td>\n",
       "      <td>NaN</td>\n",
       "      <td>0.0</td>\n",
       "      <td>1000000.0</td>\n",
       "      <td>LB</td>\n",
       "      <td>Float</td>\n",
       "      <td>12/31/2016</td>\n",
       "      <td>NaN</td>\n",
       "      <td>NaN</td>\n",
       "      <td>NaN</td>\n",
       "      <td>Butter</td>\n",
       "      <td>1.0</td>\n",
       "      <td>1000000.0</td>\n",
       "      <td>LB</td>\n",
       "    </tr>\n",
       "    <tr>\n",
       "      <th>172701</th>\n",
       "      <td>AMS BUTTER</td>\n",
       "      <td>Commodities</td>\n",
       "      <td>04/29/2015 15:56:08</td>\n",
       "      <td>NaN</td>\n",
       "      <td>NaN</td>\n",
       "      <td>1765400.0</td>\n",
       "      <td>USD</td>\n",
       "      <td>NaN</td>\n",
       "      <td>NaN</td>\n",
       "      <td>NaN</td>\n",
       "      <td>NaN</td>\n",
       "      <td>NaN</td>\n",
       "      <td>NaN</td>\n",
       "      <td>0.0</td>\n",
       "      <td>NaN</td>\n",
       "      <td>NaN</td>\n",
       "      <td>Fixed</td>\n",
       "      <td>NaN</td>\n",
       "      <td>NaN</td>\n",
       "      <td>0.00</td>\n",
       "      <td>NaN</td>\n",
       "      <td>NaN</td>\n",
       "      <td>AMS CLASS AND COMPONENT</td>\n",
       "      <td>NaN</td>\n",
       "      <td>NaN</td>\n",
       "      <td>NaN</td>\n",
       "      <td>NaN</td>\n",
       "      <td>0.0</td>\n",
       "      <td>NaN</td>\n",
       "      <td>NaN</td>\n",
       "      <td>Float</td>\n",
       "      <td>09/30/2015</td>\n",
       "      <td>5.0</td>\n",
       "      <td>5M</td>\n",
       "      <td>NaN</td>\n",
       "      <td>Butter</td>\n",
       "      <td>1.0</td>\n",
       "      <td>5.0</td>\n",
       "      <td>NaN</td>\n",
       "    </tr>\n",
       "    <tr>\n",
       "      <th>173006</th>\n",
       "      <td>CB</td>\n",
       "      <td>Commodities</td>\n",
       "      <td>04/28/2016 15:58:00</td>\n",
       "      <td>End-user</td>\n",
       "      <td>NaN</td>\n",
       "      <td>2.1</td>\n",
       "      <td>USD</td>\n",
       "      <td>BUTTER USDA ANNOUNCED PRICE</td>\n",
       "      <td>USDA</td>\n",
       "      <td>NaN</td>\n",
       "      <td>NaN</td>\n",
       "      <td>NaN</td>\n",
       "      <td>NaN</td>\n",
       "      <td>0.0</td>\n",
       "      <td>40000.0</td>\n",
       "      <td>lb.</td>\n",
       "      <td>Fixed</td>\n",
       "      <td>0</td>\n",
       "      <td>0</td>\n",
       "      <td>2.10</td>\n",
       "      <td>USD</td>\n",
       "      <td>NaN</td>\n",
       "      <td>BUTTER USDA ANNOUNCED PRICE</td>\n",
       "      <td>USDA</td>\n",
       "      <td>NaN</td>\n",
       "      <td>NaN</td>\n",
       "      <td>NaN</td>\n",
       "      <td>0.0</td>\n",
       "      <td>40000.0</td>\n",
       "      <td>lb.</td>\n",
       "      <td>Float</td>\n",
       "      <td>12/31/2016</td>\n",
       "      <td>NaN</td>\n",
       "      <td>NaN</td>\n",
       "      <td>NaN</td>\n",
       "      <td>Butter</td>\n",
       "      <td>1.0</td>\n",
       "      <td>40000.0</td>\n",
       "      <td>lb.</td>\n",
       "    </tr>\n",
       "    <tr>\n",
       "      <th>184474</th>\n",
       "      <td>Butter</td>\n",
       "      <td>Commodities</td>\n",
       "      <td>03/17/2016 00:00:00</td>\n",
       "      <td>NaN</td>\n",
       "      <td>NaN</td>\n",
       "      <td>0.0</td>\n",
       "      <td>NaN</td>\n",
       "      <td>AVG OF CME AA CASH BUTTER MKT WE 3RD FRI 2 MO ...</td>\n",
       "      <td>NaN</td>\n",
       "      <td>NaN</td>\n",
       "      <td>NaN</td>\n",
       "      <td>NaN</td>\n",
       "      <td>NaN</td>\n",
       "      <td>0.0</td>\n",
       "      <td>87000.0</td>\n",
       "      <td>Lbs</td>\n",
       "      <td>Float</td>\n",
       "      <td>NaN</td>\n",
       "      <td>NaN</td>\n",
       "      <td>2.11</td>\n",
       "      <td>USD</td>\n",
       "      <td>NaN</td>\n",
       "      <td>AVG OF CME AA CASH BUTTER MKT WE 3RD FRI 2 MO ...</td>\n",
       "      <td>NaN</td>\n",
       "      <td>NaN</td>\n",
       "      <td>NaN</td>\n",
       "      <td>NaN</td>\n",
       "      <td>0.0</td>\n",
       "      <td>87000.0</td>\n",
       "      <td>Lbs</td>\n",
       "      <td>Fixed</td>\n",
       "      <td>11/30/2016</td>\n",
       "      <td>NaN</td>\n",
       "      <td>NaN</td>\n",
       "      <td>NaN</td>\n",
       "      <td>Butter</td>\n",
       "      <td>1.0</td>\n",
       "      <td>87000.0</td>\n",
       "      <td>Lbs</td>\n",
       "    </tr>\n",
       "  </tbody>\n",
       "</table>\n",
       "</div>"
      ],
      "text/plain": [
       "           Product  Asset Class   Dissemination Time End-User Exception  \\\n",
       "172700  AMS BUTTER  Commodities  04/28/2016 12:04:00                NaN   \n",
       "172701  AMS BUTTER  Commodities  04/29/2015 15:56:08                NaN   \n",
       "173006          CB  Commodities  04/28/2016 15:58:00           End-user   \n",
       "184474      Butter  Commodities  03/17/2016 00:00:00                NaN   \n",
       "\n",
       "       Leg 1 Delivery Point  Leg 1 Fixed Payment Leg 1 Fixed Payment Currency  \\\n",
       "172700                  NaN            2957480.0                          USD   \n",
       "172701                  NaN            1765400.0                          USD   \n",
       "173006                  NaN                  2.1                          USD   \n",
       "184474                  NaN                  0.0                          NaN   \n",
       "\n",
       "                                              Leg 1 Index  \\\n",
       "172700                                                NaN   \n",
       "172701                                                NaN   \n",
       "173006                        BUTTER USDA ANNOUNCED PRICE   \n",
       "184474  AVG OF CME AA CASH BUTTER MKT WE 3RD FRI 2 MO ...   \n",
       "\n",
       "       Leg 1 Index Location  Leg 1 Payent Frequency  Leg 1 Payment Frequency  \\\n",
       "172700                  NaN                     NaN                      NaN   \n",
       "172701                  NaN                     NaN                      NaN   \n",
       "173006                 USDA                     NaN                      NaN   \n",
       "184474                  NaN                     NaN                      NaN   \n",
       "\n",
       "        Leg 1 Payment Type  Leg 1 Price Type  Leg 1 Spread  \\\n",
       "172700                 NaN               NaN           0.0   \n",
       "172701                 NaN               NaN           0.0   \n",
       "173006                 NaN               NaN           0.0   \n",
       "184474                 NaN               NaN           0.0   \n",
       "\n",
       "        Leg 1 Total Notional Leg 1 Total Notional Unit Leg 1 Type  \\\n",
       "172700             1000000.0                        LB      Fixed   \n",
       "172701                   NaN                       NaN      Fixed   \n",
       "173006               40000.0                       lb.      Fixed   \n",
       "184474               87000.0                       Lbs      Float   \n",
       "\n",
       "       Leg 2 Averaging Method Leg 2 Delivery Point  Leg 2 Fixed Payment  \\\n",
       "172700                    NaN                  NaN                 0.00   \n",
       "172701                    NaN                  NaN                 0.00   \n",
       "173006                      0                    0                 2.10   \n",
       "184474                    NaN                  NaN                 2.11   \n",
       "\n",
       "       Leg 2 Fixed Payment Currency Leg 2 FixedPayment  \\\n",
       "172700                          NaN                NaN   \n",
       "172701                          NaN                NaN   \n",
       "173006                          USD                NaN   \n",
       "184474                          USD                NaN   \n",
       "\n",
       "                                              Leg 2 Index  \\\n",
       "172700                            AMS CLASS AND COMPONENT   \n",
       "172701                            AMS CLASS AND COMPONENT   \n",
       "173006                        BUTTER USDA ANNOUNCED PRICE   \n",
       "184474  AVG OF CME AA CASH BUTTER MKT WE 3RD FRI 2 MO ...   \n",
       "\n",
       "       Leg 2 Index Location  Leg 2 Payment Frequency  Leg 2 Payment Type  \\\n",
       "172700                  NaN                      NaN                 NaN   \n",
       "172701                  NaN                      NaN                 NaN   \n",
       "173006                 USDA                      NaN                 NaN   \n",
       "184474                  NaN                      NaN                 NaN   \n",
       "\n",
       "        Leg 2 Price Type  Leg 2 Spread  Leg 2 Total Notional  \\\n",
       "172700               NaN           0.0             1000000.0   \n",
       "172701               NaN           0.0                   NaN   \n",
       "173006               NaN           0.0               40000.0   \n",
       "184474               NaN           0.0               87000.0   \n",
       "\n",
       "       Leg 2 Total Notional Unit Leg 2 Type Maturity Date  Notional  \\\n",
       "172700                        LB      Float    12/31/2016       NaN   \n",
       "172701                       NaN      Float    09/30/2015       5.0   \n",
       "173006                       lb.      Float    12/31/2016       NaN   \n",
       "184474                       Lbs      Fixed    11/30/2016       NaN   \n",
       "\n",
       "       Notional Frequency Notional Unit Product_br  Ags  Notional_br  \\\n",
       "172700                NaN           NaN     Butter  1.0    1000000.0   \n",
       "172701                 5M           NaN     Butter  1.0          5.0   \n",
       "173006                NaN           NaN     Butter  1.0      40000.0   \n",
       "184474                NaN           NaN     Butter  1.0      87000.0   \n",
       "\n",
       "       Notional_Unit_br  \n",
       "172700               LB  \n",
       "172701              NaN  \n",
       "173006              lb.  \n",
       "184474              Lbs  "
      ]
     },
     "execution_count": 429,
     "metadata": {},
     "output_type": "execute_result"
    }
   ],
   "source": [
    "Butter.groupby('Notional_Unit_br').head(1)"
   ]
  },
  {
   "cell_type": "code",
   "execution_count": null,
   "metadata": {
    "collapsed": false
   },
   "outputs": [],
   "source": []
  }
 ],
 "metadata": {
  "kernelspec": {
   "display_name": "Python [Root]",
   "language": "python",
   "name": "Python [Root]"
  },
  "language_info": {
   "codemirror_mode": {
    "name": "ipython",
    "version": 3
   },
   "file_extension": ".py",
   "mimetype": "text/x-python",
   "name": "python",
   "nbconvert_exporter": "python",
   "pygments_lexer": "ipython3",
   "version": "3.5.2"
  }
 },
 "nbformat": 4,
 "nbformat_minor": 0
}
