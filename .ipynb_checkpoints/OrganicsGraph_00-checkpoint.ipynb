{
 "cells": [
  {
   "cell_type": "code",
   "execution_count": 1,
   "metadata": {
    "collapsed": true
   },
   "outputs": [],
   "source": [
    "import pandas as pd\n",
    "import numpy as np\n",
    "from dateutil.parser import *\n",
    "from datetime import *\n",
    "\n",
    "from os.path import dirname, join"
   ]
  },
  {
   "cell_type": "code",
   "execution_count": 2,
   "metadata": {
    "collapsed": false
   },
   "outputs": [],
   "source": [
    "DEFAULT = datetime(1,1,1)"
   ]
  },
  {
   "cell_type": "markdown",
   "metadata": {},
   "source": [
    "Py Notes\n",
    "\n",
    "- Data reshapping is awesome! http://pandas.pydata.org/pandas-docs/stable/reshaping.html"
   ]
  },
  {
   "cell_type": "markdown",
   "metadata": {
    "collapsed": true
   },
   "source": [
    "## Price relationship btwn organics and conventional crops\n",
    "\n",
    "\n",
    "Notes:\n",
    "- exempt farms are those that say they farm organic but do less thank $5k/year, so dont have be to be certified.\n",
    "- cropland - areas used for the production of adapted crops for harvest\n",
    "- rangeland - native vegetation land used for livestock\n",
    "- pastureland - seed land used for livestock\n",
    "\n",
    "Links:\n",
    "\n",
    "!UNFORTUNATELY THE USDA PRICE DATA HASNT BEEN UPDATED SINCE 2012\n",
    "- [USDA's ERS organic vs conventional price data](http://www.ers.usda.gov/data-products/organic-prices.aspx)\n",
    "- [USDA's ERS Documentation for prices](http://www.ers.usda.gov/data-products/organic-prices/documentation.aspx)\n",
    "\n",
    "The weekly reports are kept upt to date, but they're pdfs\n",
    "- [USDA's AMS Organic Reports (with commentary](http://www.ers.usda.gov/data-products/organic-prices/documentation.aspx)\n",
    "\n",
    "- [Resources for Organic and Transitioning Farmers](http://ofrf.org/policy/resources)\n",
    "\n",
    "-[USDA Oraganic Insider newsletter archive](http://archive.constantcontact.com/fs054/1103777415326/archive/1108212629106.html)\n",
    "\n",
    "https://www.agcensus.usda.gov/Publications/2012/Online_Resources/Organics/ORGANICS.pdf\n",
    "\n",
    "https://www.ams.usda.gov/market-news/organic\n",
    "\n",
    "https://www.ams.usda.gov/market-news/organic-market-news-reports\n",
    "\n",
    "https://www.ams.usda.gov/market-news/custom-reports\n",
    "\n",
    "\n",
    "- \"The 2015 Certified Organic Survey publication will be released in September 2016.\" [here](https://www.nass.usda.gov/Surveys/Guide_to_NASS_Surveys/Organic_Production/index.php)\n",
    "\n",
    "- [2014 Organic Survey](https://www.agcensus.usda.gov/Publications/2012/Online_Resources/Organics/)\n",
    "\n",
    "USDA Risk Management Agency: [organics page](http://www.rma.usda.gov/news/currentissues/organics/)\n",
    "- [Organic Pricing Methodologies for Barley, Corn,Cotton,Grain Sorghum, Rice, Soybeans, Sunflowers,and Wheat](http://www.rma.usda.gov/pubs/2015/organicpricingmethodology.pdf)\n",
    "- [Summary of business for organic production](http://www.rma.usda.gov/data/sob/organic/2015organic.pdf)\n",
    "\n",
    "[March 2016 report to congress](http://www.rma.usda.gov/pubs/2016/appropriations.pdf)\n",
    "\"After conducting research, it was determined that for some crops, the organic counterpart does \n",
    "not receive a premium price. For those crops, RMA has concluded that a premium organic price \n",
    "election is not warranted and has the potential to distort market behavior.  These crops are \n",
    "alfalfa seed, carambola trees, cigar filler tobacco, cigar wrapper tobacco, fire cured tobacco, forage seeding, lemon trees, lime trees, mango trees, and sugar beets.\"\n",
    "\n",
    "- [Auction Cash Market for organics](http://www.mercaris.com/company#about)\n",
    "\n"
   ]
  },
  {
   "cell_type": "code",
   "execution_count": 3,
   "metadata": {
    "collapsed": false
   },
   "outputs": [
    {
     "data": {
      "text/plain": [
       "'/home/brett/Documents/JupyterNotebooks/AgResearch'"
      ]
     },
     "execution_count": 3,
     "metadata": {},
     "output_type": "execute_result"
    }
   ],
   "source": [
    "%pwd"
   ]
  },
  {
   "cell_type": "code",
   "execution_count": 4,
   "metadata": {
    "collapsed": false
   },
   "outputs": [
    {
     "name": "stdout",
     "output_type": "stream",
     "text": [
      "/home/brett/Dropbox/AgResearch\n"
     ]
    }
   ],
   "source": [
    "%cd /home/brett/Dropbox/AgResearch/"
   ]
  },
  {
   "cell_type": "markdown",
   "metadata": {},
   "source": [
    "## 2014 organic survey table 551\n",
    "Transitional Organic Land Operated by Non-Organic Farms\n",
    "\n",
    "bullets:\n",
    "- 688 non-organic farms are transitioning to grow organic products. 50,688 acres total\n",
    "    - 24,550 acres cropland, 17,030 acres patureland, 9,108 acres rangeland\n",
    "    \n",
    "    \n",
    "    "
   ]
  },
  {
   "cell_type": "code",
   "execution_count": 5,
   "metadata": {
    "collapsed": false
   },
   "outputs": [
    {
     "name": "stdout",
     "output_type": "stream",
     "text": [
      "561,\"t\",\"2014 Organic Survey: Released September 17, 2015, by the National Agricultural Statistics Service (NASS), Agricultural Statistics Board, U.S. Department of Agriculture.\"\r",
      "\r\n",
      "561,\"t\",\"Table 81.  Transitional Organic Land Operated � Non-Organic Farms:  2014\"\r",
      "\r\n",
      "561,\"t\",\"[For meaning of abbreviations and symbols, see introductory text.]\"\r",
      "\r\n",
      "561,\"h\",\"\",\"\",\"\",\"\",\"\",\"\"\r",
      "\r\n",
      "561,\"h\",\"\",\"\",\"Acres in transition\",\"Acres in transition\",\"Acres in transition\",\"Acres in transition\"\r",
      "\r\n",
      "561,\"h\",\"\",\"\",\"\",\"\",\"\",\"\"\r",
      "\r\n",
      "561,\"h\",\"Geographic Area\",\"Farms\",\"Total\",\"Cropland\",\"Pastureland\",\"Rangeland\"\r",
      "\r\n",
      "561,\"h\",\"\",\"\",\"\",\"\",\"\",\"\"\r",
      "\r\n",
      "561,\"d\",\"United States\",688,50688,24550,17030,9108\r",
      "\r\n",
      "561,\"d\",\"\",,,,,\r",
      "\r\n"
     ]
    }
   ],
   "source": [
    "!head -n 10 corg_p551_t0561.csv"
   ]
  },
  {
   "cell_type": "code",
   "execution_count": 6,
   "metadata": {
    "collapsed": false
   },
   "outputs": [],
   "source": [
    "acresInTransition = pd.read_csv('corg_p551_t0561.csv',skiprows=6)"
   ]
  },
  {
   "cell_type": "code",
   "execution_count": 7,
   "metadata": {
    "collapsed": false
   },
   "outputs": [
    {
     "data": {
      "text/html": [
       "<div>\n",
       "<table border=\"1\" class=\"dataframe\">\n",
       "  <thead>\n",
       "    <tr style=\"text-align: right;\">\n",
       "      <th></th>\n",
       "      <th>561</th>\n",
       "      <th>h</th>\n",
       "      <th>Geographic Area</th>\n",
       "      <th>Farms</th>\n",
       "      <th>Total</th>\n",
       "      <th>Cropland</th>\n",
       "      <th>Pastureland</th>\n",
       "      <th>Rangeland</th>\n",
       "    </tr>\n",
       "  </thead>\n",
       "  <tbody>\n",
       "    <tr>\n",
       "      <th>0</th>\n",
       "      <td>561</td>\n",
       "      <td>h</td>\n",
       "      <td>NaN</td>\n",
       "      <td>NaN</td>\n",
       "      <td>NaN</td>\n",
       "      <td>NaN</td>\n",
       "      <td>NaN</td>\n",
       "      <td>NaN</td>\n",
       "    </tr>\n",
       "    <tr>\n",
       "      <th>1</th>\n",
       "      <td>561</td>\n",
       "      <td>d</td>\n",
       "      <td>United States</td>\n",
       "      <td>688.0</td>\n",
       "      <td>50688</td>\n",
       "      <td>24550</td>\n",
       "      <td>17030</td>\n",
       "      <td>9108</td>\n",
       "    </tr>\n",
       "    <tr>\n",
       "      <th>2</th>\n",
       "      <td>561</td>\n",
       "      <td>d</td>\n",
       "      <td>NaN</td>\n",
       "      <td>NaN</td>\n",
       "      <td>NaN</td>\n",
       "      <td>NaN</td>\n",
       "      <td>NaN</td>\n",
       "      <td>NaN</td>\n",
       "    </tr>\n",
       "    <tr>\n",
       "      <th>3</th>\n",
       "      <td>561</td>\n",
       "      <td>d</td>\n",
       "      <td>Alabama</td>\n",
       "      <td>6.0</td>\n",
       "      <td>(D)</td>\n",
       "      <td>17</td>\n",
       "      <td>(D)</td>\n",
       "      <td>-</td>\n",
       "    </tr>\n",
       "    <tr>\n",
       "      <th>4</th>\n",
       "      <td>561</td>\n",
       "      <td>d</td>\n",
       "      <td>Alaska</td>\n",
       "      <td>1.0</td>\n",
       "      <td>(D)</td>\n",
       "      <td>-</td>\n",
       "      <td>(D)</td>\n",
       "      <td>-</td>\n",
       "    </tr>\n",
       "    <tr>\n",
       "      <th>5</th>\n",
       "      <td>561</td>\n",
       "      <td>d</td>\n",
       "      <td>Arkansas</td>\n",
       "      <td>2.0</td>\n",
       "      <td>(D)</td>\n",
       "      <td>(D)</td>\n",
       "      <td>-</td>\n",
       "      <td>(D)</td>\n",
       "    </tr>\n",
       "    <tr>\n",
       "      <th>6</th>\n",
       "      <td>561</td>\n",
       "      <td>d</td>\n",
       "      <td>California</td>\n",
       "      <td>57.0</td>\n",
       "      <td>2596</td>\n",
       "      <td>1971</td>\n",
       "      <td>582</td>\n",
       "      <td>43</td>\n",
       "    </tr>\n",
       "    <tr>\n",
       "      <th>7</th>\n",
       "      <td>561</td>\n",
       "      <td>d</td>\n",
       "      <td>Colorado</td>\n",
       "      <td>13.0</td>\n",
       "      <td>680</td>\n",
       "      <td>491</td>\n",
       "      <td>69</td>\n",
       "      <td>120</td>\n",
       "    </tr>\n",
       "    <tr>\n",
       "      <th>8</th>\n",
       "      <td>561</td>\n",
       "      <td>d</td>\n",
       "      <td>NaN</td>\n",
       "      <td>NaN</td>\n",
       "      <td>NaN</td>\n",
       "      <td>NaN</td>\n",
       "      <td>NaN</td>\n",
       "      <td>NaN</td>\n",
       "    </tr>\n",
       "    <tr>\n",
       "      <th>9</th>\n",
       "      <td>561</td>\n",
       "      <td>d</td>\n",
       "      <td>Connecticut</td>\n",
       "      <td>8.0</td>\n",
       "      <td>26</td>\n",
       "      <td>25</td>\n",
       "      <td>1</td>\n",
       "      <td>-</td>\n",
       "    </tr>\n",
       "  </tbody>\n",
       "</table>\n",
       "</div>"
      ],
      "text/plain": [
       "   561  h Geographic Area  Farms  Total Cropland Pastureland Rangeland\n",
       "0  561  h             NaN    NaN    NaN      NaN         NaN       NaN\n",
       "1  561  d   United States  688.0  50688    24550       17030      9108\n",
       "2  561  d             NaN    NaN    NaN      NaN         NaN       NaN\n",
       "3  561  d         Alabama    6.0    (D)       17         (D)         -\n",
       "4  561  d          Alaska    1.0    (D)        -         (D)         -\n",
       "5  561  d        Arkansas    2.0    (D)      (D)           -       (D)\n",
       "6  561  d      California   57.0   2596     1971         582        43\n",
       "7  561  d        Colorado   13.0    680      491          69       120\n",
       "8  561  d             NaN    NaN    NaN      NaN         NaN       NaN\n",
       "9  561  d     Connecticut    8.0     26       25           1         -"
      ]
     },
     "execution_count": 7,
     "metadata": {},
     "output_type": "execute_result"
    }
   ],
   "source": [
    "acresInTransition.head(10)"
   ]
  },
  {
   "cell_type": "code",
   "execution_count": 8,
   "metadata": {
    "collapsed": false
   },
   "outputs": [],
   "source": [
    "#drop nan rows\n",
    "acresInTransition = acresInTransition[np.isfinite(acresInTransition['Farms'])]"
   ]
  },
  {
   "cell_type": "code",
   "execution_count": 9,
   "metadata": {
    "collapsed": true
   },
   "outputs": [],
   "source": [
    "#del col '561'\n",
    "acresInTransition = acresInTransition.drop('561',1)"
   ]
  },
  {
   "cell_type": "code",
   "execution_count": 10,
   "metadata": {
    "collapsed": true
   },
   "outputs": [],
   "source": [
    "#del col 'h'\n",
    "acresInTransition = acresInTransition.drop('h',1)"
   ]
  },
  {
   "cell_type": "code",
   "execution_count": 11,
   "metadata": {
    "collapsed": true
   },
   "outputs": [],
   "source": [
    "#rename columns\n",
    "acresInTransition.columns = ['Area','farmsCount','totalAcresInTrans','croplandAcresInTrans',\n",
    "                     'pasturelandAcresInTrans','rangelandAcresInTrans']"
   ]
  },
  {
   "cell_type": "markdown",
   "metadata": {},
   "source": [
    "## 2014 organic survey table 1\n",
    "Farms, land and value of sales of organic ag products - certified and exempt farms\n",
    "\n",
    "bullets:\n",
    "\n",
    "- There are 14,048 organic farms operating in the United states. The total acreage is 3,670,560 acres.\n",
    "    - thats 261 acres per farm\n",
    "- 1,365 farms are classified as transitional, with 122,175 acres transitioning. \n",
    "    - thats 89 acres per farm"
   ]
  },
  {
   "cell_type": "code",
   "execution_count": 12,
   "metadata": {
    "collapsed": false
   },
   "outputs": [
    {
     "name": "stdout",
     "output_type": "stream",
     "text": [
      "1,\"t\",\"2014 Organic Survey: Released September 17, 2015, by the National Agricultural Statistics Service (NASS), Agricultural Statistics Board, U.S. Department of Agriculture.\"\r",
      "\r\n",
      "1,\"t\",\"Table 1.  Farms, Land, and Value of Sales of Organic Agricultural Products � Certified and Exempt Organic Farms:  2014\"\r",
      "\r\n",
      "1,\"t\",\"[For meaning of abbreviations and symbols, see introductory text.]\"\r",
      "\r\n",
      "1,\"h\",\"\",\"\",\"\",\"\",\"\",\"\",\"\",\"\"\r",
      "\r\n",
      "1,\"h\",\"Item\",\"\",\"United States\",\"Alabama\",\"Alaska\",\"Arizona\",\"Arkansas\",\"California\"\r",
      "\r\n",
      "1,\"h\",\"\",\"\",\"\",\"\",\"\",\"\",\"\",\"\"\r",
      "\r\n",
      "1,\"d\",\"ORGANIC FARMS\",\"\",,,,,,\r",
      "\r\n",
      "1,\"d\",\"\",\"\",,,,,,\r",
      "\r\n",
      "1,\"d\",\"Certified or exempt\",\"farms\",14093,28,17,61,34,2805\r",
      "\r\n",
      "1,\"d\",\"\",\"\",,,,,,\r",
      "\r\n"
     ]
    }
   ],
   "source": [
    "!head -n 10 corg_p011_t0001.csv"
   ]
  },
  {
   "cell_type": "code",
   "execution_count": 13,
   "metadata": {
    "collapsed": false
   },
   "outputs": [],
   "source": [
    "farmsLandValue = pd.read_csv('corg_p011_t0001.csv',skiprows=4)"
   ]
  },
  {
   "cell_type": "code",
   "execution_count": 14,
   "metadata": {
    "collapsed": true
   },
   "outputs": [],
   "source": [
    "#drop nan rows\n",
    "farmsLandValue = farmsLandValue[np.isfinite(farmsLandValue['United States'])]"
   ]
  },
  {
   "cell_type": "code",
   "execution_count": 15,
   "metadata": {
    "collapsed": false
   },
   "outputs": [],
   "source": [
    "#del cols\n",
    "farmsLandValue = farmsLandValue.drop(farmsLandValue.columns[[0,1,5,6,7,8,9]],1)"
   ]
  },
  {
   "cell_type": "code",
   "execution_count": 16,
   "metadata": {
    "collapsed": true
   },
   "outputs": [],
   "source": [
    "#forward fill item names to get rid of nans\n",
    "farmsLandValue['Item'] = farmsLandValue['Item'].fillna(method='ffill')"
   ]
  },
  {
   "cell_type": "code",
   "execution_count": 17,
   "metadata": {
    "collapsed": true
   },
   "outputs": [],
   "source": [
    "#rename columns\n",
    "farmsLandValue.columns = ['Item','Type','UnitedStatesTotal']"
   ]
  },
  {
   "cell_type": "code",
   "execution_count": 18,
   "metadata": {
    "collapsed": false
   },
   "outputs": [
    {
     "data": {
      "text/html": [
       "<div>\n",
       "<table border=\"1\" class=\"dataframe\">\n",
       "  <thead>\n",
       "    <tr style=\"text-align: right;\">\n",
       "      <th></th>\n",
       "      <th>Item</th>\n",
       "      <th>Type</th>\n",
       "      <th>UnitedStatesTotal</th>\n",
       "    </tr>\n",
       "  </thead>\n",
       "  <tbody>\n",
       "    <tr>\n",
       "      <th>3</th>\n",
       "      <td>Certified or exempt</td>\n",
       "      <td>farms</td>\n",
       "      <td>14093.0</td>\n",
       "    </tr>\n",
       "    <tr>\n",
       "      <th>8</th>\n",
       "      <td>operated</td>\n",
       "      <td>farms</td>\n",
       "      <td>14048.0</td>\n",
       "    </tr>\n",
       "    <tr>\n",
       "      <th>9</th>\n",
       "      <td>operated</td>\n",
       "      <td>acres</td>\n",
       "      <td>3670560.0</td>\n",
       "    </tr>\n",
       "    <tr>\n",
       "      <th>11</th>\n",
       "      <td>Land owned</td>\n",
       "      <td>farms</td>\n",
       "      <td>12353.0</td>\n",
       "    </tr>\n",
       "    <tr>\n",
       "      <th>12</th>\n",
       "      <td>Land owned</td>\n",
       "      <td>acres</td>\n",
       "      <td>2221715.0</td>\n",
       "    </tr>\n",
       "    <tr>\n",
       "      <th>13</th>\n",
       "      <td>Land rented from others</td>\n",
       "      <td>farms</td>\n",
       "      <td>5582.0</td>\n",
       "    </tr>\n",
       "    <tr>\n",
       "      <th>14</th>\n",
       "      <td>Land rented from others</td>\n",
       "      <td>acres</td>\n",
       "      <td>1507957.0</td>\n",
       "    </tr>\n",
       "    <tr>\n",
       "      <th>15</th>\n",
       "      <td>Land rented to others</td>\n",
       "      <td>farms</td>\n",
       "      <td>521.0</td>\n",
       "    </tr>\n",
       "    <tr>\n",
       "      <th>16</th>\n",
       "      <td>Land rented to others</td>\n",
       "      <td>acres</td>\n",
       "      <td>59112.0</td>\n",
       "    </tr>\n",
       "    <tr>\n",
       "      <th>18</th>\n",
       "      <td>Total certified organic acres operated</td>\n",
       "      <td>farms</td>\n",
       "      <td>12595.0</td>\n",
       "    </tr>\n",
       "  </tbody>\n",
       "</table>\n",
       "</div>"
      ],
      "text/plain": [
       "                                        Item   Type  UnitedStatesTotal\n",
       "3                        Certified or exempt  farms            14093.0\n",
       "8                                   operated  farms            14048.0\n",
       "9                                   operated  acres          3670560.0\n",
       "11                                Land owned  farms            12353.0\n",
       "12                                Land owned  acres          2221715.0\n",
       "13                   Land rented from others  farms             5582.0\n",
       "14                   Land rented from others  acres          1507957.0\n",
       "15                     Land rented to others  farms              521.0\n",
       "16                     Land rented to others  acres            59112.0\n",
       "18    Total certified organic acres operated  farms            12595.0"
      ]
     },
     "execution_count": 18,
     "metadata": {},
     "output_type": "execute_result"
    }
   ],
   "source": [
    "farmsLandValue.head(10)"
   ]
  },
  {
   "cell_type": "markdown",
   "metadata": {
    "collapsed": true
   },
   "source": [
    "## ERS organic price tables [old data]"
   ]
  },
  {
   "cell_type": "markdown",
   "metadata": {},
   "source": [
    "### Wholesale Veggies"
   ]
  },
  {
   "cell_type": "code",
   "execution_count": 19,
   "metadata": {
    "collapsed": false
   },
   "outputs": [
    {
     "name": "stdout",
     "output_type": "stream",
     "text": [
      "\" Wholesale vegetable prices, organic and conventional, monthly and annual, 2012\",,,,,,,,,,,,,,,,,\r\n",
      "Commodity,Subgroup,Package,Organic/ Conventional,Terminal Market,Jan-12,Feb-12,Mar-12,Apr-12,May-12,Jun-12,Jul-12,Aug-12,Sep-12,Oct-12,Nov-12,Dec-12,2012\r\n",
      "Artichoke (SF only),Globe,\"cartons, 24s\",Conv,San Fran,28.58,30.00,30.94,18.50,13.48,17.83,30.00,35.26,25.75,24.66,23.47,26.29,24.12\r\n",
      "Artichoke (SF only),Globe,\"cartons, 24s\",Org,San Fran,37.34,35.46,N\\A,N\\A,N\\A,30.31,35.00,40.12,45.50,40.47,32.76,32.50,36.88\r\n",
      "Cabbage,Round green type,\"40 lb cartons, medium\",Conv,Atlanta,N\\A,N\\A,N\\A,N\\A,N\\A,N\\A,N\\A,16.50,N\\A,N\\A,N\\A,N\\A,16.50\r\n"
     ]
    }
   ],
   "source": [
    "!head -n 5 Vegetables2012.csv"
   ]
  },
  {
   "cell_type": "code",
   "execution_count": 20,
   "metadata": {
    "collapsed": true
   },
   "outputs": [],
   "source": [
    "Veggies2012 = pd.read_csv('Vegetables2012.csv',skiprows=1)"
   ]
  },
  {
   "cell_type": "code",
   "execution_count": 21,
   "metadata": {
    "collapsed": true
   },
   "outputs": [],
   "source": [
    "Veggies2013 = pd.read_csv('Vegetables2013.csv', skiprows=1)"
   ]
  },
  {
   "cell_type": "code",
   "execution_count": 22,
   "metadata": {
    "collapsed": false,
    "scrolled": true
   },
   "outputs": [],
   "source": [
    "#drop the year summary vars\n",
    "#Veggies2012.columns.get_loc('2012');\n",
    "Veggies2012 = Veggies2012.drop(Veggies2012.columns[17],1)\n",
    "Veggies2013 = Veggies2013.drop(Veggies2013.columns[17],1)"
   ]
  },
  {
   "cell_type": "code",
   "execution_count": 23,
   "metadata": {
    "collapsed": false
   },
   "outputs": [],
   "source": [
    "#transform the data so dates are a column\n",
    "Veggies2012 = pd.melt(Veggies2012, id_vars=['Commodity','Subgroup','Package','Organic/ Conventional','Terminal Market'],\n",
    "       var_name='MonthYear', value_name='Price')\n",
    "\n",
    "Veggies2013 = pd.melt(Veggies2013, id_vars=['Commodity','Subgroup','Package','Organic/ Conventional','Terminal Market'],\n",
    "       var_name='MonthYear', value_name='Price')"
   ]
  },
  {
   "cell_type": "code",
   "execution_count": 24,
   "metadata": {
    "collapsed": false
   },
   "outputs": [],
   "source": [
    "#put em together\n",
    "Ags = Veggies2012.append(Veggies2013)"
   ]
  },
  {
   "cell_type": "code",
   "execution_count": 25,
   "metadata": {
    "collapsed": true
   },
   "outputs": [],
   "source": [
    "#make sure month year is formatted correctly then convert it to datetime\n",
    "#Veggies['MonthYear'].str.strip('\\n')\n",
    "Ags['MonthYear'] = Ags['MonthYear'].str.replace('-','20')\n",
    "Ags['MonthYearForm'] = Ags['MonthYear'].apply(lambda x: parse(x,default=DEFAULT))"
   ]
  },
  {
   "cell_type": "code",
   "execution_count": 26,
   "metadata": {
    "collapsed": false
   },
   "outputs": [],
   "source": [
    "#convert price to number formatting\n",
    "Ags['Price'] = pd.to_numeric(Ags['Price'],errors='coerce')"
   ]
  },
  {
   "cell_type": "code",
   "execution_count": 27,
   "metadata": {
    "collapsed": false
   },
   "outputs": [],
   "source": [
    "#want to have it so price for conventional and organic are columns\n",
    "#couldnt quickly google how-to, so doing it 'by hand'\n",
    "#first make the two columns, with price if there is one\n",
    "Ags['Price_Conv'] = np.where(Ags['Organic/ Conventional']=='Conv',Ags['Price'],'NaN')\n",
    "Ags['Price_Org'] = np.where(Ags['Organic/ Conventional']=='Org',Ags['Price'],'NaN')"
   ]
  },
  {
   "cell_type": "code",
   "execution_count": 28,
   "metadata": {
    "collapsed": true
   },
   "outputs": [],
   "source": [
    "#next convert new cols to numbers, my NaNs werent numbers\n",
    "Ags['Price_Conv'] = pd.to_numeric(Ags['Price_Conv'],errors='coerce')\n",
    "Ags['Price_Org'] = pd.to_numeric(Ags['Price_Org'],errors='coerce')"
   ]
  },
  {
   "cell_type": "code",
   "execution_count": 29,
   "metadata": {
    "collapsed": false
   },
   "outputs": [],
   "source": [
    "#back fill nans so one row has an entry for both cols\n",
    "Ags['Price_Conv'] = Ags['Price_Conv'].fillna(method='bfill')\n",
    "Ags['Price_Org'] = Ags['Price_Org'].fillna(method='bfill')"
   ]
  },
  {
   "cell_type": "code",
   "execution_count": 30,
   "metadata": {
    "collapsed": true
   },
   "outputs": [],
   "source": [
    "#price data in new cols is repeated and only the first is correct\n",
    "#so put NaNs back where they are legit\n",
    "def convOrg(row):\n",
    "    if (row['Organic/ Conventional'] == 'Conv' and pd.isnull(row['Price'])):\n",
    "        row['Price_Conv'] = 'NaN'\n",
    "    if (row['Organic/ Conventional'] == 'Org' and pd.isnull(row['Price'])):\n",
    "        row['Price_Org'] = 'NaN'\n",
    "    return row"
   ]
  },
  {
   "cell_type": "code",
   "execution_count": 31,
   "metadata": {
    "collapsed": false
   },
   "outputs": [],
   "source": [
    "Ags = Ags.apply(convOrg,axis=1)"
   ]
  },
  {
   "cell_type": "code",
   "execution_count": 32,
   "metadata": {
    "collapsed": false
   },
   "outputs": [],
   "source": [
    "#drop now unwanted columns\n",
    "#Ags.columns.get_loc('Organic/ Conventional');\n",
    "Ags = Ags.drop(Ags.columns[[3,5,6]],1)"
   ]
  },
  {
   "cell_type": "code",
   "execution_count": 33,
   "metadata": {
    "collapsed": false
   },
   "outputs": [],
   "source": [
    "#drop dupes keep first entry bc thats the good one\n",
    "Ags = Ags.drop_duplicates(['Commodity','MonthYearForm','Subgroup','Package','Terminal Market'], keep='first')"
   ]
  },
  {
   "cell_type": "code",
   "execution_count": 34,
   "metadata": {
    "collapsed": true
   },
   "outputs": [],
   "source": [
    "#next convert new cols to numbers, my NaNs werent numbers\n",
    "Ags['Price_Conv'] = pd.to_numeric(Ags['Price_Conv'],errors='coerce')\n",
    "Ags['Price_Org'] = pd.to_numeric(Ags['Price_Org'],errors='coerce')"
   ]
  },
  {
   "cell_type": "code",
   "execution_count": 35,
   "metadata": {
    "collapsed": false,
    "scrolled": false
   },
   "outputs": [],
   "source": [
    "#calculate the organic premium\n",
    "Ags['Premium'] = Ags['Price_Org'] - Ags['Price_Conv']\n",
    "Ags['PremiumAbs'] = (Ags['Price_Org'] - Ags['Price_Conv'])"
   ]
  },
  {
   "cell_type": "code",
   "execution_count": 36,
   "metadata": {
    "collapsed": false
   },
   "outputs": [],
   "source": [
    "Ags = Ags.set_index(['MonthYearForm'])"
   ]
  },
  {
   "cell_type": "code",
   "execution_count": 37,
   "metadata": {
    "collapsed": false
   },
   "outputs": [],
   "source": [
    "#replace nan with NaN string so the list of Uniquely doesnt have NaNs in it\n",
    "Ags.Commodity = Ags.Commodity.fillna('NaN')\n",
    "Ags.Subgroup = Ags.Subgroup.fillna('NaN')\n",
    "Ags.Package = Ags.Package.fillna('NaN')\n",
    "Ags['Terminal Market'] = Ags['Terminal Market'].fillna('NaN')"
   ]
  },
  {
   "cell_type": "code",
   "execution_count": 38,
   "metadata": {
    "collapsed": false
   },
   "outputs": [],
   "source": [
    "#make a unique variable so convert to list to be used in the dropdown for the graph\n",
    "Ags['Uniquely'] = Ags.Commodity + \"; \" + Ags.Subgroup + \"; \" + Ags.Package+ \"; \" + Ags['Terminal Market']"
   ]
  },
  {
   "cell_type": "code",
   "execution_count": 39,
   "metadata": {
    "collapsed": false
   },
   "outputs": [],
   "source": [
    "ulist = Ags.Uniquely.tolist()"
   ]
  },
  {
   "cell_type": "code",
   "execution_count": 40,
   "metadata": {
    "collapsed": true
   },
   "outputs": [],
   "source": [
    "# create groups to analyze\n",
    "# gCSPT0 = Ags.groupby(['Commodity','Subgroup','Package','Terminal Market'])"
   ]
  },
  {
   "cell_type": "markdown",
   "metadata": {},
   "source": [
    "### Graph\n",
    "\n",
    "doing a two line graphs"
   ]
  },
  {
   "cell_type": "code",
   "execution_count": 41,
   "metadata": {
    "collapsed": false
   },
   "outputs": [
    {
     "data": {
      "text/html": [
       "\n",
       "    <div class=\"bk-root\">\n",
       "        <a href=\"http://bokeh.pydata.org\" target=\"_blank\" class=\"bk-logo bk-logo-small bk-logo-notebook\"></a>\n",
       "        <span id=\"fbc32c75-fafb-42b3-bd07-bf09b3a81805\">Loading BokehJS ...</span>\n",
       "    </div>"
      ]
     },
     "metadata": {},
     "output_type": "display_data"
    },
    {
     "data": {
      "application/javascript": [
       "\n",
       "(function(global) {\n",
       "  function now() {\n",
       "    return new Date();\n",
       "  }\n",
       "\n",
       "  if (typeof (window._bokeh_onload_callbacks) === \"undefined\") {\n",
       "    window._bokeh_onload_callbacks = [];\n",
       "  }\n",
       "\n",
       "  function run_callbacks() {\n",
       "    window._bokeh_onload_callbacks.forEach(function(callback) { callback() });\n",
       "    delete window._bokeh_onload_callbacks\n",
       "    console.info(\"Bokeh: all callbacks have finished\");\n",
       "  }\n",
       "\n",
       "  function load_libs(js_urls, callback) {\n",
       "    window._bokeh_onload_callbacks.push(callback);\n",
       "    if (window._bokeh_is_loading > 0) {\n",
       "      console.log(\"Bokeh: BokehJS is being loaded, scheduling callback at\", now());\n",
       "      return null;\n",
       "    }\n",
       "    if (js_urls == null || js_urls.length === 0) {\n",
       "      run_callbacks();\n",
       "      return null;\n",
       "    }\n",
       "    console.log(\"Bokeh: BokehJS not loaded, scheduling load and callback at\", now());\n",
       "    window._bokeh_is_loading = js_urls.length;\n",
       "    for (var i = 0; i < js_urls.length; i++) {\n",
       "      var url = js_urls[i];\n",
       "      var s = document.createElement('script');\n",
       "      s.src = url;\n",
       "      s.async = false;\n",
       "      s.onreadystatechange = s.onload = function() {\n",
       "        window._bokeh_is_loading--;\n",
       "        if (window._bokeh_is_loading === 0) {\n",
       "          console.log(\"Bokeh: all BokehJS libraries loaded\");\n",
       "          run_callbacks()\n",
       "        }\n",
       "      };\n",
       "      s.onerror = function() {\n",
       "        console.warn(\"failed to load library \" + url);\n",
       "      };\n",
       "      console.log(\"Bokeh: injecting script tag for BokehJS library: \", url);\n",
       "      document.getElementsByTagName(\"head\")[0].appendChild(s);\n",
       "    }\n",
       "  };\n",
       "\n",
       "  var js_urls = ['https://cdn.pydata.org/bokeh/release/bokeh-0.12.0.min.js', 'https://cdn.pydata.org/bokeh/release/bokeh-widgets-0.12.0.min.js', 'https://cdn.pydata.org/bokeh/release/bokeh-compiler-0.12.0.min.js'];\n",
       "\n",
       "  var inline_js = [\n",
       "    function(Bokeh) {\n",
       "      Bokeh.set_log_level(\"info\");\n",
       "    },\n",
       "    \n",
       "    function(Bokeh) {\n",
       "      Bokeh.$(\"#fbc32c75-fafb-42b3-bd07-bf09b3a81805\").text(\"BokehJS successfully loaded\");\n",
       "    },\n",
       "    function(Bokeh) {\n",
       "      console.log(\"Bokeh: injecting CSS: https://cdn.pydata.org/bokeh/release/bokeh-0.12.0.min.css\");\n",
       "      Bokeh.embed.inject_css(\"https://cdn.pydata.org/bokeh/release/bokeh-0.12.0.min.css\");\n",
       "      console.log(\"Bokeh: injecting CSS: https://cdn.pydata.org/bokeh/release/bokeh-widgets-0.12.0.min.css\");\n",
       "      Bokeh.embed.inject_css(\"https://cdn.pydata.org/bokeh/release/bokeh-widgets-0.12.0.min.css\");\n",
       "    }\n",
       "  ];\n",
       "\n",
       "  function run_inline_js() {\n",
       "    for (var i = 0; i < inline_js.length; i++) {\n",
       "      inline_js[i](window.Bokeh);\n",
       "    }\n",
       "  }\n",
       "\n",
       "  if (window._bokeh_is_loading === 0) {\n",
       "    console.log(\"Bokeh: BokehJS loaded, going straight to plotting\");\n",
       "    run_inline_js();\n",
       "  } else {\n",
       "    load_libs(js_urls, function() {\n",
       "      console.log(\"Bokeh: BokehJS plotting callback run at\", now());\n",
       "      run_inline_js();\n",
       "    });\n",
       "  }\n",
       "}(this));"
      ]
     },
     "metadata": {},
     "output_type": "display_data"
    }
   ],
   "source": [
    "from bokeh.models import ColumnDataSource, HoverTool, Legend, Label\n",
    "from bokeh.models.widgets import DataTable, DateFormatter, TableColumn, Select, PreText\n",
    "from bokeh.io import output_notebook, show, vform, curdoc\n",
    "from bokeh.plotting import figure\n",
    "from bokeh.layouts import column, widgetbox, row, column\n",
    "\n",
    "from jinja2 import Template\n",
    "\n",
    "from bokeh.embed import components\n",
    "from bokeh.models import Range1d\n",
    "from bokeh.resources import INLINE\n",
    "from bokeh.util.browser import view\n",
    "\n",
    "output_notebook()"
   ]
  },
  {
   "cell_type": "code",
   "execution_count": 42,
   "metadata": {
    "collapsed": false
   },
   "outputs": [],
   "source": [
    "#subset for simplicity\n",
    "# veglist =[]\n",
    "# for i, group in gCSPT0:\n",
    "#     veglist.append(i)\n",
    "\n",
    "# vegliststr = ['; '.join(item) for item in veglist]\n",
    "\n",
    "#show(widgetbox(vegpicker))\n",
    "\n",
    "# from bokeh.models.widgets import DataTable\n",
    "# from bokeh.layouts import widgetbox"
   ]
  },
  {
   "cell_type": "code",
   "execution_count": 43,
   "metadata": {
    "collapsed": true
   },
   "outputs": [],
   "source": [
    "try:\n",
    "    from functools import lru_cache\n",
    "except ImportError:\n",
    "    # Python 2 does stdlib does not have lru_cache so let's just\n",
    "    # create a dummy decorator to avoid crashing\n",
    "    print (\"WARNING: Cache for this example is available on Python 3 only.\")\n",
    "    def lru_cache():\n",
    "        def dec(f):\n",
    "            def _(*args, **kws):\n",
    "                return f(*args, **kws)\n",
    "            return _\n",
    "        return dec\n",
    "\n",
    "from os.path import dirname, join"
   ]
  },
  {
   "cell_type": "code",
   "execution_count": null,
   "metadata": {
    "collapsed": true
   },
   "outputs": [],
   "source": []
  },
  {
   "cell_type": "code",
   "execution_count": 47,
   "metadata": {
    "collapsed": false,
    "scrolled": false
   },
   "outputs": [],
   "source": [
    "DEFAULT_TICKERS = ulist\n",
    "\n",
    "def nix(val, lst):\n",
    "    return [x for x in lst if x!= val]\n",
    "\n",
    "@lru_cache()\n",
    "def load_ticker(ticker):\n",
    "    data = Ags[Ags.Uniquely == ticker]\n",
    "    return data\n",
    "\n",
    "@lru_cache()\n",
    "def get_data(v1):\n",
    "    data = load_ticker(v1)\n",
    "    #date for x axis\n",
    "    MonthYearForm=[x for x in data.index],    \n",
    "    #data for line\n",
    "    Org=[x for x in data.Price_Org],\n",
    "    Conv=[x for x in data.Price_Conv],  \n",
    "    #for the hover tool\n",
    "    OrgH = data.Price_Org,\n",
    "    ConvH = data.Price_Conv,\n",
    "    premH = data.Premium   \n",
    "    return data\n",
    "\n",
    "#set up widget\n",
    "ticker = Select(title=\"Veggies:\", value=ulist[1], options=nix(ulist[1],DEFAULT_TICKERS))\n",
    "\n",
    "#set up Plots\n",
    "p = figure(x_axis_type='datetime', tools='hover,pan,crosshair,box_zoom,reset,save')\n",
    "\n",
    "p.plot_width = 800\n",
    "p.plot_height = 500\n",
    "\n",
    "source = ColumnDataSource(\n",
    "    data=dict(\n",
    "        \n",
    "    #date for x axis\n",
    "    Date=[],\n",
    "        \n",
    "    #data for line\n",
    "    Org=[],\n",
    "    Conv=[],\n",
    "        \n",
    "#     #for the hover tool\n",
    "#     OrgH = data.Price_Org,\n",
    "#     ConvH = data.Price_Conv,\n",
    "#     premH = data.Premium     \n",
    "    )\n",
    ")\n",
    "\n",
    "source_static = ColumnDataSource(\n",
    "    data=dict(\n",
    "        \n",
    "    #date for x axis\n",
    "    Date=[],\n",
    "        \n",
    "    #data for line\n",
    "    Org=[],\n",
    "    Conv=[],\n",
    "        \n",
    "#     #for the hover tool\n",
    "#     OrgH = data.Price_Org,\n",
    "#     ConvH = data.Price_Conv,\n",
    "#     premH = data.Premium     \n",
    "    )\n",
    ")\n",
    "\n",
    "# p.select_one(HoverTool).tooltips = [\n",
    "#     (\"Organic: \", \"@OrgH\"),\n",
    "#     (\"Conventional: \", \"@ConvH\"),\n",
    "#     (\"Org. Premium: \", \"@premH\"),\n",
    "    \n",
    "# ]\n",
    "\n",
    "p1 = p.line(x=\"Date\", y=\"Org\", legend=\"Organics\", line_color=\"#a6cee3\",source=source)\n",
    "p2 = p.line(x=\"Date\", y=\"Conv\", legend=\"Conventional\", line_color=\"#fdbf6f\",source=source)\n",
    "\n",
    "p.legend.orientation = \"horizontal\"\n",
    "p.legend.location=\"top_left\"\n",
    "\n",
    "# vegd = dict(\n",
    "#     correlation=[cabCorr],\n",
    "#     orgPrem=[cabPremAvg],\n",
    "#     minPrem=[minPrem],\n",
    "#     maxPrem=[maxPrem],\n",
    "#     AvgOrg=[AvgOrg],\n",
    "#     AvgConv=[AvgConv],\n",
    "# )\n",
    "\n",
    "# source=ColumnDataSource(vegd)\n",
    "\n",
    "# columns = [\n",
    "#     TableColumn(field=\"correlation\", title=\"Correlation\"),\n",
    "#     TableColumn(field=\"orgPrem\", title=\"Average Premium\"),\n",
    "#     TableColumn(field=\"minPrem\", title=\"Min. Premium\"),\n",
    "#     TableColumn(field=\"maxPrem\", title=\"Max. Premium\"),\n",
    "# ]\n",
    "\n",
    "# data_table = DataTable(source=source,columns=columns,width=900,height=75,row_headers=False,\n",
    "#                       fit_columns=True)\n",
    "\n",
    "# x = widgetbox(data_table)\n",
    "\n",
    "#set up callbacks\n",
    "def ticker_change(attrname, old, new):\n",
    "    ticker.options = nix(new, DEFAULT_TICKERS)\n",
    "    update()\n",
    "\n",
    "def update(selected=None):\n",
    "    \n",
    "    v1 = ticker.value\n",
    "    data = get_data(v1)\n",
    "    source.data=source.from_df(data)\n",
    "    source_static.data=source.from_df(data)\n",
    "    \n",
    "    p.title.text = v1\n",
    "\n",
    "def selection_change(attrname, old, new):\n",
    "    v1 = ticker.value\n",
    "    data=get_data(v1)\n",
    "    selected = source.selected['Uniquely']\n",
    "    if selected:\n",
    "        data = data.iloc[selected, :]\n",
    "\n",
    "source.on_change('selected',selection_change)\n",
    "\n",
    "layout = column(ticker,p)\n",
    "\n",
    "update()\n",
    "\n",
    "curdoc().add_root(layout)\n",
    "\n",
    "curdoc().title='Veggies'"
   ]
  },
  {
   "cell_type": "code",
   "execution_count": 48,
   "metadata": {
    "collapsed": false
   },
   "outputs": [
    {
     "data": {
      "text/html": [
       "\n",
       "\n",
       "    <div class=\"bk-root\">\n",
       "        <div class=\"plotdiv\" id=\"d4141175-c809-4d71-b37a-fcf9b993bbb3\"></div>\n",
       "    </div>\n",
       "<script type=\"text/javascript\">\n",
       "  \n",
       "  (function(global) {\n",
       "    function now() {\n",
       "      return new Date();\n",
       "    }\n",
       "  \n",
       "    if (typeof (window._bokeh_onload_callbacks) === \"undefined\") {\n",
       "      window._bokeh_onload_callbacks = [];\n",
       "    }\n",
       "  \n",
       "    function run_callbacks() {\n",
       "      window._bokeh_onload_callbacks.forEach(function(callback) { callback() });\n",
       "      delete window._bokeh_onload_callbacks\n",
       "      console.info(\"Bokeh: all callbacks have finished\");\n",
       "    }\n",
       "  \n",
       "    function load_libs(js_urls, callback) {\n",
       "      window._bokeh_onload_callbacks.push(callback);\n",
       "      if (window._bokeh_is_loading > 0) {\n",
       "        console.log(\"Bokeh: BokehJS is being loaded, scheduling callback at\", now());\n",
       "        return null;\n",
       "      }\n",
       "      if (js_urls == null || js_urls.length === 0) {\n",
       "        run_callbacks();\n",
       "        return null;\n",
       "      }\n",
       "      console.log(\"Bokeh: BokehJS not loaded, scheduling load and callback at\", now());\n",
       "      window._bokeh_is_loading = js_urls.length;\n",
       "      for (var i = 0; i < js_urls.length; i++) {\n",
       "        var url = js_urls[i];\n",
       "        var s = document.createElement('script');\n",
       "        s.src = url;\n",
       "        s.async = false;\n",
       "        s.onreadystatechange = s.onload = function() {\n",
       "          window._bokeh_is_loading--;\n",
       "          if (window._bokeh_is_loading === 0) {\n",
       "            console.log(\"Bokeh: all BokehJS libraries loaded\");\n",
       "            run_callbacks()\n",
       "          }\n",
       "        };\n",
       "        s.onerror = function() {\n",
       "          console.warn(\"failed to load library \" + url);\n",
       "        };\n",
       "        console.log(\"Bokeh: injecting script tag for BokehJS library: \", url);\n",
       "        document.getElementsByTagName(\"head\")[0].appendChild(s);\n",
       "      }\n",
       "    };var element = document.getElementById(\"d4141175-c809-4d71-b37a-fcf9b993bbb3\");\n",
       "    if (element == null) {\n",
       "      console.log(\"Bokeh: ERROR: autoload.js configured with elementid 'd4141175-c809-4d71-b37a-fcf9b993bbb3' but no matching script tag was found. \")\n",
       "      return false;\n",
       "    }\n",
       "  \n",
       "    var js_urls = [];\n",
       "  \n",
       "    var inline_js = [\n",
       "      function(Bokeh) {\n",
       "        Bokeh.$(function() {\n",
       "            var docs_json = {\"d0e0860f-c2b5-42fe-9217-0c2055460c2d\":{\"roots\":{\"references\":[{\"attributes\":{\"max_interval\":500.0,\"num_minor_ticks\":0},\"id\":\"d6aae8b8-4414-4253-8084-fd5fe9367560\",\"type\":\"AdaptiveTicker\"},{\"attributes\":{\"below\":[{\"id\":\"c1fd56eb-8c78-4274-8135-84eee80ad8f1\",\"type\":\"DatetimeAxis\"}],\"left\":[{\"id\":\"f198b7d6-baf9-4dfb-ad77-3bf7ba72b7c0\",\"type\":\"LinearAxis\"}],\"plot_height\":500,\"plot_width\":800,\"renderers\":[{\"id\":\"c1fd56eb-8c78-4274-8135-84eee80ad8f1\",\"type\":\"DatetimeAxis\"},{\"id\":\"ac9ba9d5-c74f-4830-996c-7e0a7aee6b96\",\"type\":\"Grid\"},{\"id\":\"f198b7d6-baf9-4dfb-ad77-3bf7ba72b7c0\",\"type\":\"LinearAxis\"},{\"id\":\"5a542e15-a330-4162-adc7-0d4a4bd6ed2d\",\"type\":\"Grid\"},{\"id\":\"86615369-b1a7-4836-9a71-05a35f551af7\",\"type\":\"BoxAnnotation\"},{\"id\":\"2dc74131-247e-4281-b591-7e83461608df\",\"type\":\"Legend\"},{\"id\":\"7e504bf6-48dd-4171-a22c-7da71c9b9b41\",\"type\":\"GlyphRenderer\"},{\"id\":\"e2334599-0b5f-462b-89da-39548548599c\",\"type\":\"GlyphRenderer\"}],\"title\":{\"id\":\"44c8a65d-599b-4842-8de3-fb1108bec937\",\"type\":\"Title\"},\"tool_events\":{\"id\":\"8873c4f8-3399-4854-841f-da4b044e6133\",\"type\":\"ToolEvents\"},\"toolbar\":{\"id\":\"1c461500-613d-4d94-8299-fd22dc3f72a4\",\"type\":\"Toolbar\"},\"x_range\":{\"id\":\"5dc0b273-95aa-41ac-9a2d-4d8c5bf4183e\",\"type\":\"DataRange1d\"},\"y_range\":{\"id\":\"ffe52cc7-70c2-4ca7-87e6-57ff0bff2097\",\"type\":\"DataRange1d\"}},\"id\":\"f5743c5b-7b55-410f-af17-05dae99cb260\",\"subtype\":\"Figure\",\"type\":\"Plot\"},{\"attributes\":{\"plot\":{\"id\":\"f5743c5b-7b55-410f-af17-05dae99cb260\",\"subtype\":\"Figure\",\"type\":\"Plot\"}},\"id\":\"e81ef4e3-9d17-4dc4-8bd5-03932a2c1915\",\"type\":\"PanTool\"},{\"attributes\":{\"months\":[0,6]},\"id\":\"5beeafc7-4252-4d04-8938-684e9bd3ec4e\",\"type\":\"MonthsTicker\"},{\"attributes\":{\"plot\":{\"id\":\"f5743c5b-7b55-410f-af17-05dae99cb260\",\"subtype\":\"Figure\",\"type\":\"Plot\"}},\"id\":\"45d98ff1-32dc-444b-8229-393d858e9722\",\"type\":\"ResetTool\"},{\"attributes\":{\"callback\":null},\"id\":\"5dc0b273-95aa-41ac-9a2d-4d8c5bf4183e\",\"type\":\"DataRange1d\"},{\"attributes\":{},\"id\":\"513698cf-aac3-4e98-a836-5245b61895c3\",\"type\":\"DatetimeTickFormatter\"},{\"attributes\":{\"plot\":{\"id\":\"f5743c5b-7b55-410f-af17-05dae99cb260\",\"subtype\":\"Figure\",\"type\":\"Plot\"}},\"id\":\"1121a2ab-1240-4c74-8da3-b9e029dd8c32\",\"type\":\"CrosshairTool\"},{\"attributes\":{\"dimension\":1,\"plot\":{\"id\":\"f5743c5b-7b55-410f-af17-05dae99cb260\",\"subtype\":\"Figure\",\"type\":\"Plot\"},\"ticker\":{\"id\":\"9a7de19d-7460-4e0d-8879-6f30bd19c801\",\"type\":\"BasicTicker\"}},\"id\":\"5a542e15-a330-4162-adc7-0d4a4bd6ed2d\",\"type\":\"Grid\"},{\"attributes\":{\"plot\":null,\"text\":\"Cabbage; Round green type; 40 lb cartons, medium; Atlanta\"},\"id\":\"44c8a65d-599b-4842-8de3-fb1108bec937\",\"type\":\"Title\"},{\"attributes\":{\"plot\":{\"id\":\"f5743c5b-7b55-410f-af17-05dae99cb260\",\"subtype\":\"Figure\",\"type\":\"Plot\"}},\"id\":\"95867f50-dbfd-4fec-bbd0-3de0f5433e48\",\"type\":\"SaveTool\"},{\"attributes\":{\"children\":[{\"id\":\"54b1dfea-7140-4511-9395-c6c7bc960d03\",\"type\":\"WidgetBox\"},{\"id\":\"f5743c5b-7b55-410f-af17-05dae99cb260\",\"subtype\":\"Figure\",\"type\":\"Plot\"}]},\"id\":\"9948f456-d1cc-42a3-8cba-b313a7ae057f\",\"type\":\"Column\"},{\"attributes\":{\"data_source\":{\"id\":\"53588151-2dfc-4456-9c2b-0935329ef5c3\",\"type\":\"ColumnDataSource\"},\"glyph\":{\"id\":\"dfd689b7-f4e1-4de0-9054-a9238113b6a7\",\"type\":\"Line\"},\"hover_glyph\":null,\"nonselection_glyph\":{\"id\":\"3339be42-1855-4906-874e-727c0f728021\",\"type\":\"Line\"},\"selection_glyph\":null},\"id\":\"7e504bf6-48dd-4171-a22c-7da71c9b9b41\",\"type\":\"GlyphRenderer\"},{\"attributes\":{\"overlay\":{\"id\":\"86615369-b1a7-4836-9a71-05a35f551af7\",\"type\":\"BoxAnnotation\"},\"plot\":{\"id\":\"f5743c5b-7b55-410f-af17-05dae99cb260\",\"subtype\":\"Figure\",\"type\":\"Plot\"}},\"id\":\"30a695a2-6f32-4b37-a162-632a5e0dc830\",\"type\":\"BoxZoomTool\"},{\"attributes\":{\"months\":[0,1,2,3,4,5,6,7,8,9,10,11]},\"id\":\"0ee6de8c-a7bf-4f48-9ee2-9ba93ad9cc6f\",\"type\":\"MonthsTicker\"},{\"attributes\":{\"legends\":[[\"Organics\",[{\"id\":\"7e504bf6-48dd-4171-a22c-7da71c9b9b41\",\"type\":\"GlyphRenderer\"}]],[\"Conventional\",[{\"id\":\"e2334599-0b5f-462b-89da-39548548599c\",\"type\":\"GlyphRenderer\"}]]],\"location\":\"top_left\",\"orientation\":\"horizontal\",\"plot\":{\"id\":\"f5743c5b-7b55-410f-af17-05dae99cb260\",\"subtype\":\"Figure\",\"type\":\"Plot\"}},\"id\":\"2dc74131-247e-4281-b591-7e83461608df\",\"type\":\"Legend\"},{\"attributes\":{\"base\":60,\"mantissas\":[1,2,5,10,15,20,30],\"max_interval\":1800000.0,\"min_interval\":1000.0,\"num_minor_ticks\":0},\"id\":\"518b1af8-f8de-44a9-bbe1-7b13cb87c720\",\"type\":\"AdaptiveTicker\"},{\"attributes\":{\"plot\":{\"id\":\"f5743c5b-7b55-410f-af17-05dae99cb260\",\"subtype\":\"Figure\",\"type\":\"Plot\"},\"ticker\":{\"id\":\"22abac57-bbcf-4cc1-b1f4-3ac1105ae0ee\",\"type\":\"DatetimeTicker\"}},\"id\":\"ac9ba9d5-c74f-4830-996c-7e0a7aee6b96\",\"type\":\"Grid\"},{\"attributes\":{\"formatter\":{\"id\":\"f4fd8b99-baeb-4f97-bbdc-cb6350bc5e41\",\"type\":\"BasicTickFormatter\"},\"plot\":{\"id\":\"f5743c5b-7b55-410f-af17-05dae99cb260\",\"subtype\":\"Figure\",\"type\":\"Plot\"},\"ticker\":{\"id\":\"9a7de19d-7460-4e0d-8879-6f30bd19c801\",\"type\":\"BasicTicker\"}},\"id\":\"f198b7d6-baf9-4dfb-ad77-3bf7ba72b7c0\",\"type\":\"LinearAxis\"},{\"attributes\":{\"children\":[{\"id\":\"c20c85df-6c17-4ea1-ab2f-7f29af8ae685\",\"type\":\"Select\"}]},\"id\":\"54b1dfea-7140-4511-9395-c6c7bc960d03\",\"type\":\"WidgetBox\"},{\"attributes\":{\"formatter\":{\"id\":\"513698cf-aac3-4e98-a836-5245b61895c3\",\"type\":\"DatetimeTickFormatter\"},\"plot\":{\"id\":\"f5743c5b-7b55-410f-af17-05dae99cb260\",\"subtype\":\"Figure\",\"type\":\"Plot\"},\"ticker\":{\"id\":\"22abac57-bbcf-4cc1-b1f4-3ac1105ae0ee\",\"type\":\"DatetimeTicker\"}},\"id\":\"c1fd56eb-8c78-4274-8135-84eee80ad8f1\",\"type\":\"DatetimeAxis\"},{\"attributes\":{\"line_alpha\":{\"value\":0.1},\"line_color\":{\"value\":\"#1f77b4\"},\"x\":{\"field\":\"Date\"},\"y\":{\"field\":\"Conv\"}},\"id\":\"3a9d3d52-6a49-410d-b533-77097539b2a1\",\"type\":\"Line\"},{\"attributes\":{\"callback\":null,\"options\":[\"Artichoke (SF only); Globe; cartons, 24s; San Fran\",\"Cabbage; Round green type; 45 lb cartons, medium; Atlanta\",\"Cabbage; Round green type; 45 lb cartons, 18-24s; San Fran\",\"Carrots; Not specified; 25 lb sacks loose; Atlanta\",\"Carrots; Topped; 25 lb sacks loose; San Fran\",\"Cauliflower; White; cartons, film wrapped, 12s; Atlanta\",\"Cauliflower; White; cartons, film wrapped, 12s; San Fran\",\"Greens; Swiss Chard, mixed colors; cartons bunched, 24s; Atlanta\",\"Greens; Swiss Chard, mixed colors; cartons bunched, 24s; San Fran\",\"Lettuce; Green leaf; cartons, 24s; Atlanta\",\"Lettuce; Green leaf; cartons, 24s; San Fran\",\"Lettuce; Romaine; cartons, 24s; Atlanta\",\"Lettuce; Romaine; cartons, 24s; San Fran\",\"Mesculin Mix; NaN; 3 lb cartons; Atlanta\",\"Mesculin Mix; NaN; 3 lb cartons; San Fran\",\"Onions, Dry; Yellow, Hybrid; All packages - no 40 lb cartons, JBO; Atlanta\",\"Onions, Dry; Yellow, Hybrid; 40 lb cartons, JBO; Atlanta\",\"Onions, Dry; Yellow, Hybrid; 40 lb cartons, JBO; San Fran\",\"Spinach; Flat; cartons, bunched, 24s; Atlanta\",\"Spinach; Flat; cartons, bunched, 24s; San Fran\",\"Potatoes; Russet; 50 lb cartons, US. No.1; Atlanta\",\"Potatoes; Russet; 50 lb cartons, US. No.1; San Fran\",\"Tomatoes, Cherry; no Pear type; no Flats 12 1/2 pt cups with lids; Atlanta\",\"Tomatoes, Cherry; no Pear type; Flats 12 1-pt cups with lids; San Fran\",\"Tomatoes, Cherry; Pear type; Flats 12 1/2 pt cups with lids; San Fran\",\"Sweet Potatoes; Orange types; 40 lb cartons, U.S. No 1; Atlanta\",\"Sweet Potatoes; Orange types; 40 lb cartons, U.S. No 1; San Fran\",\"Artichoke (SF only); Globe; cartons, 24s; San Fran\",\"Cabbage; Round green type; 45 lb cartons, medium; Atlanta\",\"Cabbage; Round green type; 45 lb cartons, 18-24s; San Fran\",\"Carrots; Not specified; 25 lb sacks loose; Atlanta\",\"Carrots; Topped; 25 lb sacks loose; San Fran\",\"Cauliflower; White; cartons, film wrapped, 12s; Atlanta\",\"Cauliflower; White; cartons, film wrapped, 12s; San Fran\",\"Greens; Swiss Chard, mixed colors; cartons bunched, 24s; Atlanta\",\"Greens; Swiss Chard, mixed colors; cartons bunched, 24s; San Fran\",\"Lettuce; Green leaf; cartons, 24s; Atlanta\",\"Lettuce; Green leaf; cartons, 24s; San Fran\",\"Lettuce; Romaine; cartons, 24s; Atlanta\",\"Lettuce; Romaine; cartons, 24s; San Fran\",\"Mesculin Mix; NaN; 3 lb cartons; Atlanta\",\"Mesculin Mix; NaN; 3 lb cartons; San Fran\",\"Onions, Dry; Yellow, Hybrid; All packages - no 40 lb cartons, JBO; Atlanta\",\"Onions, Dry; Yellow, Hybrid; 40 lb cartons, JBO; Atlanta\",\"Onions, Dry; Yellow, Hybrid; 40 lb cartons, JBO; San Fran\",\"Spinach; Flat; cartons, bunched, 24s; Atlanta\",\"Spinach; Flat; cartons, bunched, 24s; San Fran\",\"Potatoes; Russet; 50 lb cartons, US. No.1; Atlanta\",\"Potatoes; Russet; 50 lb cartons, US. No.1; San Fran\",\"Tomatoes, Cherry; no Pear type; no Flats 12 1/2 pt cups with lids; Atlanta\",\"Tomatoes, Cherry; no Pear type; Flats 12 1-pt cups with lids; San Fran\",\"Tomatoes, Cherry; Pear type; Flats 12 1/2 pt cups with lids; San Fran\",\"Sweet Potatoes; Orange types; 40 lb cartons, U.S. No 1; Atlanta\",\"Sweet Potatoes; Orange types; 40 lb cartons, U.S. No 1; San Fran\",\"Artichoke (SF only); Globe; cartons, 24s; San Fran\",\"Cabbage; Round green type; 45 lb cartons, medium; Atlanta\",\"Cabbage; Round green type; 45 lb cartons, 18-24s; San Fran\",\"Carrots; Not specified; 25 lb sacks loose; Atlanta\",\"Carrots; Topped; 25 lb sacks loose; San Fran\",\"Cauliflower; White; cartons, film wrapped, 12s; Atlanta\",\"Cauliflower; White; cartons, film wrapped, 12s; San Fran\",\"Greens; Swiss Chard, mixed colors; cartons bunched, 24s; Atlanta\",\"Greens; Swiss Chard, mixed colors; cartons bunched, 24s; San Fran\",\"Lettuce; Green leaf; cartons, 24s; Atlanta\",\"Lettuce; Green leaf; cartons, 24s; San Fran\",\"Lettuce; Romaine; cartons, 24s; Atlanta\",\"Lettuce; Romaine; cartons, 24s; San Fran\",\"Mesculin Mix; NaN; 3 lb cartons; Atlanta\",\"Mesculin Mix; NaN; 3 lb cartons; San Fran\",\"Onions, Dry; Yellow, Hybrid; All packages - no 40 lb cartons, JBO; Atlanta\",\"Onions, Dry; Yellow, Hybrid; 40 lb cartons, JBO; Atlanta\",\"Onions, Dry; Yellow, Hybrid; 40 lb cartons, JBO; San Fran\",\"Spinach; Flat; cartons, bunched, 24s; Atlanta\",\"Spinach; Flat; cartons, bunched, 24s; San Fran\",\"Potatoes; Russet; 50 lb cartons, US. No.1; Atlanta\",\"Potatoes; Russet; 50 lb cartons, US. No.1; San Fran\",\"Tomatoes, Cherry; no Pear type; no Flats 12 1/2 pt cups with lids; Atlanta\",\"Tomatoes, Cherry; no Pear type; Flats 12 1-pt cups with lids; San Fran\",\"Tomatoes, Cherry; Pear type; Flats 12 1/2 pt cups with lids; San Fran\",\"Sweet Potatoes; Orange types; 40 lb cartons, U.S. No 1; Atlanta\",\"Sweet Potatoes; Orange types; 40 lb cartons, U.S. No 1; San Fran\",\"Artichoke (SF only); Globe; cartons, 24s; San Fran\",\"Cabbage; Round green type; 45 lb cartons, medium; Atlanta\",\"Cabbage; Round green type; 45 lb cartons, 18-24s; San Fran\",\"Carrots; Not specified; 25 lb sacks loose; Atlanta\",\"Carrots; Topped; 25 lb sacks loose; San Fran\",\"Cauliflower; White; cartons, film wrapped, 12s; Atlanta\",\"Cauliflower; White; cartons, film wrapped, 12s; San Fran\",\"Greens; Swiss Chard, mixed colors; cartons bunched, 24s; Atlanta\",\"Greens; Swiss Chard, mixed colors; cartons bunched, 24s; San Fran\",\"Lettuce; Green leaf; cartons, 24s; Atlanta\",\"Lettuce; Green leaf; cartons, 24s; San Fran\",\"Lettuce; Romaine; cartons, 24s; Atlanta\",\"Lettuce; Romaine; cartons, 24s; San Fran\",\"Mesculin Mix; NaN; 3 lb cartons; Atlanta\",\"Mesculin Mix; NaN; 3 lb cartons; San Fran\",\"Onions, Dry; Yellow, Hybrid; All packages - no 40 lb cartons, JBO; Atlanta\",\"Onions, Dry; Yellow, Hybrid; 40 lb cartons, JBO; Atlanta\",\"Onions, Dry; Yellow, Hybrid; 40 lb cartons, JBO; San Fran\",\"Spinach; Flat; cartons, bunched, 24s; Atlanta\",\"Spinach; Flat; cartons, bunched, 24s; San Fran\",\"Potatoes; Russet; 50 lb cartons, US. No.1; Atlanta\",\"Potatoes; Russet; 50 lb cartons, US. No.1; San Fran\",\"Tomatoes, Cherry; no Pear type; no Flats 12 1/2 pt cups with lids; Atlanta\",\"Tomatoes, Cherry; no Pear type; Flats 12 1-pt cups with lids; San Fran\",\"Tomatoes, Cherry; Pear type; Flats 12 1/2 pt cups with lids; San Fran\",\"Sweet Potatoes; Orange types; 40 lb cartons, U.S. No 1; Atlanta\",\"Sweet Potatoes; Orange types; 40 lb cartons, U.S. No 1; San Fran\",\"Artichoke (SF only); Globe; cartons, 24s; San Fran\",\"Cabbage; Round green type; 45 lb cartons, medium; Atlanta\",\"Cabbage; Round green type; 45 lb cartons, 18-24s; San Fran\",\"Carrots; Not specified; 25 lb sacks loose; Atlanta\",\"Carrots; Topped; 25 lb sacks loose; San Fran\",\"Cauliflower; White; cartons, film wrapped, 12s; Atlanta\",\"Cauliflower; White; cartons, film wrapped, 12s; San Fran\",\"Greens; Swiss Chard, mixed colors; cartons bunched, 24s; Atlanta\",\"Greens; Swiss Chard, mixed colors; cartons bunched, 24s; San Fran\",\"Lettuce; Green leaf; cartons, 24s; Atlanta\",\"Lettuce; Green leaf; cartons, 24s; San Fran\",\"Lettuce; Romaine; cartons, 24s; Atlanta\",\"Lettuce; Romaine; cartons, 24s; San Fran\",\"Mesculin Mix; NaN; 3 lb cartons; Atlanta\",\"Mesculin Mix; NaN; 3 lb cartons; San Fran\",\"Onions, Dry; Yellow, Hybrid; All packages - no 40 lb cartons, JBO; Atlanta\",\"Onions, Dry; Yellow, Hybrid; 40 lb cartons, JBO; Atlanta\",\"Onions, Dry; Yellow, Hybrid; 40 lb cartons, JBO; San Fran\",\"Spinach; Flat; cartons, bunched, 24s; Atlanta\",\"Spinach; Flat; cartons, bunched, 24s; San Fran\",\"Potatoes; Russet; 50 lb cartons, US. No.1; Atlanta\",\"Potatoes; Russet; 50 lb cartons, US. No.1; San Fran\",\"Tomatoes, Cherry; no Pear type; no Flats 12 1/2 pt cups with lids; Atlanta\",\"Tomatoes, Cherry; no Pear type; Flats 12 1-pt cups with lids; San Fran\",\"Tomatoes, Cherry; Pear type; Flats 12 1/2 pt cups with lids; San Fran\",\"Sweet Potatoes; Orange types; 40 lb cartons, U.S. No 1; Atlanta\",\"Sweet Potatoes; Orange types; 40 lb cartons, U.S. No 1; San Fran\",\"Artichoke (SF only); Globe; cartons, 24s; San Fran\",\"Cabbage; Round green type; 45 lb cartons, medium; Atlanta\",\"Cabbage; Round green type; 45 lb cartons, 18-24s; San Fran\",\"Carrots; Not specified; 25 lb sacks loose; Atlanta\",\"Carrots; Topped; 25 lb sacks loose; San Fran\",\"Cauliflower; White; cartons, film wrapped, 12s; Atlanta\",\"Cauliflower; White; cartons, film wrapped, 12s; San Fran\",\"Greens; Swiss Chard, mixed colors; cartons bunched, 24s; Atlanta\",\"Greens; Swiss Chard, mixed colors; cartons bunched, 24s; San Fran\",\"Lettuce; Green leaf; cartons, 24s; Atlanta\",\"Lettuce; Green leaf; cartons, 24s; San Fran\",\"Lettuce; Romaine; cartons, 24s; Atlanta\",\"Lettuce; Romaine; cartons, 24s; San Fran\",\"Mesculin Mix; NaN; 3 lb cartons; Atlanta\",\"Mesculin Mix; NaN; 3 lb cartons; San Fran\",\"Onions, Dry; Yellow, Hybrid; All packages - no 40 lb cartons, JBO; Atlanta\",\"Onions, Dry; Yellow, Hybrid; 40 lb cartons, JBO; Atlanta\",\"Onions, Dry; Yellow, Hybrid; 40 lb cartons, JBO; San Fran\",\"Spinach; Flat; cartons, bunched, 24s; Atlanta\",\"Spinach; Flat; cartons, bunched, 24s; San Fran\",\"Potatoes; Russet; 50 lb cartons, US. No.1; Atlanta\",\"Potatoes; Russet; 50 lb cartons, US. No.1; San Fran\",\"Tomatoes, Cherry; no Pear type; no Flats 12 1/2 pt cups with lids; Atlanta\",\"Tomatoes, Cherry; no Pear type; Flats 12 1-pt cups with lids; San Fran\",\"Tomatoes, Cherry; Pear type; Flats 12 1/2 pt cups with lids; San Fran\",\"Sweet Potatoes; Orange types; 40 lb cartons, U.S. No 1; Atlanta\",\"Sweet Potatoes; Orange types; 40 lb cartons, U.S. No 1; San Fran\",\"Artichoke (SF only); Globe; cartons, 24s; San Fran\",\"Cabbage; Round green type; 45 lb cartons, medium; Atlanta\",\"Cabbage; Round green type; 45 lb cartons, 18-24s; San Fran\",\"Carrots; Not specified; 25 lb sacks loose; Atlanta\",\"Carrots; Topped; 25 lb sacks loose; San Fran\",\"Cauliflower; White; cartons, film wrapped, 12s; Atlanta\",\"Cauliflower; White; cartons, film wrapped, 12s; San Fran\",\"Greens; Swiss Chard, mixed colors; cartons bunched, 24s; Atlanta\",\"Greens; Swiss Chard, mixed colors; cartons bunched, 24s; San Fran\",\"Lettuce; Green leaf; cartons, 24s; Atlanta\",\"Lettuce; Green leaf; cartons, 24s; San Fran\",\"Lettuce; Romaine; cartons, 24s; Atlanta\",\"Lettuce; Romaine; cartons, 24s; San Fran\",\"Mesculin Mix; NaN; 3 lb cartons; Atlanta\",\"Mesculin Mix; NaN; 3 lb cartons; San Fran\",\"Onions, Dry; Yellow, Hybrid; All packages - no 40 lb cartons, JBO; Atlanta\",\"Onions, Dry; Yellow, Hybrid; 40 lb cartons, JBO; Atlanta\",\"Onions, Dry; Yellow, Hybrid; 40 lb cartons, JBO; San Fran\",\"Spinach; Flat; cartons, bunched, 24s; Atlanta\",\"Spinach; Flat; cartons, bunched, 24s; San Fran\",\"Potatoes; Russet; 50 lb cartons, US. No.1; Atlanta\",\"Potatoes; Russet; 50 lb cartons, US. No.1; San Fran\",\"Tomatoes, Cherry; no Pear type; no Flats 12 1/2 pt cups with lids; Atlanta\",\"Tomatoes, Cherry; no Pear type; Flats 12 1-pt cups with lids; San Fran\",\"Tomatoes, Cherry; Pear type; Flats 12 1/2 pt cups with lids; San Fran\",\"Sweet Potatoes; Orange types; 40 lb cartons, U.S. No 1; Atlanta\",\"Sweet Potatoes; Orange types; 40 lb cartons, U.S. No 1; San Fran\",\"Artichoke (SF only); Globe; cartons, 24s; San Fran\",\"Cabbage; Round green type; 45 lb cartons, medium; Atlanta\",\"Cabbage; Round green type; 45 lb cartons, 18-24s; San Fran\",\"Carrots; Not specified; 25 lb sacks loose; Atlanta\",\"Carrots; Topped; 25 lb sacks loose; San Fran\",\"Cauliflower; White; cartons, film wrapped, 12s; Atlanta\",\"Cauliflower; White; cartons, film wrapped, 12s; San Fran\",\"Greens; Swiss Chard, mixed colors; cartons bunched, 24s; Atlanta\",\"Greens; Swiss Chard, mixed colors; cartons bunched, 24s; San Fran\",\"Lettuce; Green leaf; cartons, 24s; Atlanta\",\"Lettuce; Green leaf; cartons, 24s; San Fran\",\"Lettuce; Romaine; cartons, 24s; Atlanta\",\"Lettuce; Romaine; cartons, 24s; San Fran\",\"Mesculin Mix; NaN; 3 lb cartons; Atlanta\",\"Mesculin Mix; NaN; 3 lb cartons; San Fran\",\"Onions, Dry; Yellow, Hybrid; All packages - no 40 lb cartons, JBO; Atlanta\",\"Onions, Dry; Yellow, Hybrid; 40 lb cartons, JBO; Atlanta\",\"Onions, Dry; Yellow, Hybrid; 40 lb cartons, JBO; San Fran\",\"Spinach; Flat; cartons, bunched, 24s; Atlanta\",\"Spinach; Flat; cartons, bunched, 24s; San Fran\",\"Potatoes; Russet; 50 lb cartons, US. No.1; Atlanta\",\"Potatoes; Russet; 50 lb cartons, US. No.1; San Fran\",\"Tomatoes, Cherry; no Pear type; no Flats 12 1/2 pt cups with lids; Atlanta\",\"Tomatoes, Cherry; no Pear type; Flats 12 1-pt cups with lids; San Fran\",\"Tomatoes, Cherry; Pear type; Flats 12 1/2 pt cups with lids; San Fran\",\"Sweet Potatoes; Orange types; 40 lb cartons, U.S. No 1; Atlanta\",\"Sweet Potatoes; Orange types; 40 lb cartons, U.S. No 1; San Fran\",\"Artichoke (SF only); Globe; cartons, 24s; San Fran\",\"Cabbage; Round green type; 45 lb cartons, medium; Atlanta\",\"Cabbage; Round green type; 45 lb cartons, 18-24s; San Fran\",\"Carrots; Not specified; 25 lb sacks loose; Atlanta\",\"Carrots; Topped; 25 lb sacks loose; San Fran\",\"Cauliflower; White; cartons, film wrapped, 12s; Atlanta\",\"Cauliflower; White; cartons, film wrapped, 12s; San Fran\",\"Greens; Swiss Chard, mixed colors; cartons bunched, 24s; Atlanta\",\"Greens; Swiss Chard, mixed colors; cartons bunched, 24s; San Fran\",\"Lettuce; Green leaf; cartons, 24s; Atlanta\",\"Lettuce; Green leaf; cartons, 24s; San Fran\",\"Lettuce; Romaine; cartons, 24s; Atlanta\",\"Lettuce; Romaine; cartons, 24s; San Fran\",\"Mesculin Mix; NaN; 3 lb cartons; Atlanta\",\"Mesculin Mix; NaN; 3 lb cartons; San Fran\",\"Onions, Dry; Yellow, Hybrid; All packages - no 40 lb cartons, JBO; Atlanta\",\"Onions, Dry; Yellow, Hybrid; 40 lb cartons, JBO; Atlanta\",\"Onions, Dry; Yellow, Hybrid; 40 lb cartons, JBO; San Fran\",\"Spinach; Flat; cartons, bunched, 24s; Atlanta\",\"Spinach; Flat; cartons, bunched, 24s; San Fran\",\"Potatoes; Russet; 50 lb cartons, US. No.1; Atlanta\",\"Potatoes; Russet; 50 lb cartons, US. No.1; San Fran\",\"Tomatoes, Cherry; no Pear type; no Flats 12 1/2 pt cups with lids; Atlanta\",\"Tomatoes, Cherry; no Pear type; Flats 12 1-pt cups with lids; San Fran\",\"Tomatoes, Cherry; Pear type; Flats 12 1/2 pt cups with lids; San Fran\",\"Sweet Potatoes; Orange types; 40 lb cartons, U.S. No 1; Atlanta\",\"Sweet Potatoes; Orange types; 40 lb cartons, U.S. No 1; San Fran\",\"Artichoke (SF only); Globe; cartons, 24s; San Fran\",\"Cabbage; Round green type; 45 lb cartons, medium; Atlanta\",\"Cabbage; Round green type; 45 lb cartons, 18-24s; San Fran\",\"Carrots; Not specified; 25 lb sacks loose; Atlanta\",\"Carrots; Topped; 25 lb sacks loose; San Fran\",\"Cauliflower; White; cartons, film wrapped, 12s; Atlanta\",\"Cauliflower; White; cartons, film wrapped, 12s; San Fran\",\"Greens; Swiss Chard, mixed colors; cartons bunched, 24s; Atlanta\",\"Greens; Swiss Chard, mixed colors; cartons bunched, 24s; San Fran\",\"Lettuce; Green leaf; cartons, 24s; Atlanta\",\"Lettuce; Green leaf; cartons, 24s; San Fran\",\"Lettuce; Romaine; cartons, 24s; Atlanta\",\"Lettuce; Romaine; cartons, 24s; San Fran\",\"Mesculin Mix; NaN; 3 lb cartons; Atlanta\",\"Mesculin Mix; NaN; 3 lb cartons; San Fran\",\"Onions, Dry; Yellow, Hybrid; All packages - no 40 lb cartons, JBO; Atlanta\",\"Onions, Dry; Yellow, Hybrid; 40 lb cartons, JBO; Atlanta\",\"Onions, Dry; Yellow, Hybrid; 40 lb cartons, JBO; San Fran\",\"Spinach; Flat; cartons, bunched, 24s; Atlanta\",\"Spinach; Flat; cartons, bunched, 24s; San Fran\",\"Potatoes; Russet; 50 lb cartons, US. No.1; Atlanta\",\"Potatoes; Russet; 50 lb cartons, US. No.1; San Fran\",\"Tomatoes, Cherry; no Pear type; no Flats 12 1/2 pt cups with lids; Atlanta\",\"Tomatoes, Cherry; no Pear type; Flats 12 1-pt cups with lids; San Fran\",\"Tomatoes, Cherry; Pear type; Flats 12 1/2 pt cups with lids; San Fran\",\"Sweet Potatoes; Orange types; 40 lb cartons, U.S. No 1; Atlanta\",\"Sweet Potatoes; Orange types; 40 lb cartons, U.S. No 1; San Fran\",\"Artichoke (SF only); Globe; cartons, 24s; San Fran\",\"Cabbage; Round green type; 45 lb cartons, medium; Atlanta\",\"Cabbage; Round green type; 45 lb cartons, 18-24s; San Fran\",\"Carrots; Not specified; 25 lb sacks loose; Atlanta\",\"Carrots; Topped; 25 lb sacks loose; San Fran\",\"Cauliflower; White; cartons, film wrapped, 12s; Atlanta\",\"Cauliflower; White; cartons, film wrapped, 12s; San Fran\",\"Greens; Swiss Chard, mixed colors; cartons bunched, 24s; Atlanta\",\"Greens; Swiss Chard, mixed colors; cartons bunched, 24s; San Fran\",\"Lettuce; Green leaf; cartons, 24s; Atlanta\",\"Lettuce; Green leaf; cartons, 24s; San Fran\",\"Lettuce; Romaine; cartons, 24s; Atlanta\",\"Lettuce; Romaine; cartons, 24s; San Fran\",\"Mesculin Mix; NaN; 3 lb cartons; Atlanta\",\"Mesculin Mix; NaN; 3 lb cartons; San Fran\",\"Onions, Dry; Yellow, Hybrid; All packages - no 40 lb cartons, JBO; Atlanta\",\"Onions, Dry; Yellow, Hybrid; 40 lb cartons, JBO; Atlanta\",\"Onions, Dry; Yellow, Hybrid; 40 lb cartons, JBO; San Fran\",\"Spinach; Flat; cartons, bunched, 24s; Atlanta\",\"Spinach; Flat; cartons, bunched, 24s; San Fran\",\"Potatoes; Russet; 50 lb cartons, US. No.1; Atlanta\",\"Potatoes; Russet; 50 lb cartons, US. No.1; San Fran\",\"Tomatoes, Cherry; no Pear type; no Flats 12 1/2 pt cups with lids; Atlanta\",\"Tomatoes, Cherry; no Pear type; Flats 12 1-pt cups with lids; San Fran\",\"Tomatoes, Cherry; Pear type; Flats 12 1/2 pt cups with lids; San Fran\",\"Sweet Potatoes; Orange types; 40 lb cartons, U.S. No 1; Atlanta\",\"Sweet Potatoes; Orange types; 40 lb cartons, U.S. No 1; San Fran\",\"Artichoke (SF only); Globe; cartons, 24s; San Fran\",\"Cabbage; Round green type; 45 lb cartons, medium; Atlanta\",\"Cabbage; Round green type; 45 lb cartons, 18-24s; San Fran\",\"Carrots; Not specified; 25 lb sacks loose; Atlanta\",\"Carrots; Topped; 25 lb sacks loose; San Fran\",\"Cauliflower; White; cartons, film wrapped, 12s; Atlanta\",\"Cauliflower; White; cartons, film wrapped, 12s; San Fran\",\"Greens; Swiss Chard, mixed colors; cartons bunched, 24s; Atlanta\",\"Greens; Swiss Chard, mixed colors; cartons bunched, 24s; San Fran\",\"Lettuce; Green leaf; cartons, 24s; Atlanta\",\"Lettuce; Green leaf; cartons, 24s; San Fran\",\"Lettuce; Romaine; cartons, 24s; Atlanta\",\"Lettuce; Romaine; cartons, 24s; San Fran\",\"Mesculin Mix; NaN; 3 lb cartons; Atlanta\",\"Mesculin Mix; NaN; 3 lb cartons; San Fran\",\"Onions, Dry; Yellow, Hybrid; All packages - no 40 lb cartons, JBO; Atlanta\",\"Onions, Dry; Yellow, Hybrid; 40 lb cartons, JBO; Atlanta\",\"Onions, Dry; Yellow, Hybrid; 40 lb cartons, JBO; San Fran\",\"Spinach; Flat; cartons, bunched, 24s; Atlanta\",\"Spinach; Flat; cartons, bunched, 24s; San Fran\",\"Potatoes; Russet; 50 lb cartons, US. No.1; Atlanta\",\"Potatoes; Russet; 50 lb cartons, US. No.1; San Fran\",\"Tomatoes, Cherry; no Pear type; no Flats 12 1/2 pt cups with lids; Atlanta\",\"Tomatoes, Cherry; no Pear type; Flats 12 1-pt cups with lids; San Fran\",\"Tomatoes, Cherry; Pear type; Flats 12 1/2 pt cups with lids; San Fran\",\"Sweet Potatoes; Orange types; 40 lb cartons, U.S. No 1; Atlanta\",\"Sweet Potatoes; Orange types; 40 lb cartons, U.S. No 1; San Fran\",\"Artichoke (SF only); Globe; cartons, 24s; San Fran\",\"Cabbage; Round green type; 45 lb cartons, medium; Atlanta\",\"Cabbage; Round green type; 45 lb cartons, 18-24s; San Fran\",\"Carrots; Not specified; 25 lb sacks loose, JBO; Atlanta\",\"Carrots; Topped; 25 lb sacks loose, JBO; San Fran\",\"Cauliflower; White; cartons, film wrapped, 12s; Atlanta\",\"Cauliflower; White; cartons, film wrapped, 12s; San Fran\",\"Greens; Swiss Chard, mixed colors; cartons bunched, 24s; Atlanta\",\"Greens; Swiss Chard, mixed colors; cartons bunched, 24s; San Fran\",\"Lettuce; Green leaf; cartons, 24s; Atlanta\",\"Lettuce; Green leaf; cartons, 24s; San Fran\",\"Lettuce; Romaine; cartons, 24s; Atlanta\",\"Lettuce; Romaine; cartons, 24s; San Fran\",\"Mesculin Mix; NaN; 3 lb cartons; Atlanta\",\"Mesculin Mix; NaN; 3 lb cartons; San Fran\",\"Onions, Dry; Yellow, Hybrid; 40 lb cartons; Atlanta\",\"Onions, Dry; Yellow, Hybrid; 40 lb cartons; San Fran\",\"Spinach; Flat; cartons, bunched, 24s; Atlanta\",\"Spinach; Flat; cartons, bunched, 24s; San Fran\",\"Potatoes; Russet; 50 lb cartons, US. No.1; Atlanta\",\"Potatoes; Russet; 50 lb cartons, US. No.1; San Fran\",\"Tomatoes, Cherry; no Pear type; Flats 12 1-pt cups with lids; Atlanta\",\"Tomatoes, Cherry; no Pear type; All packages; Atlanta\",\"Tomatoes, Cherry; no Pear type; Flats 12 1-pt cups with lids; San Fran\",\"Tomatoes, Cherry; Pear type; Flats 12 1/2 pt cups with lids; San Fran\",\"Sweet Potatoes; Orange types; 40 lb cartons, U.S. No 1; Atlanta\",\"Sweet Potatoes; Orange types; 40 lb cartons, U.S. No 1; San Fran\",\"Artichoke (SF only); Globe; cartons, 24s; San Fran\",\"Cabbage; Round green type; 45 lb cartons, medium; Atlanta\",\"Cabbage; Round green type; 45 lb cartons, 18-24s; San Fran\",\"Carrots; Not specified; 25 lb sacks loose, JBO; Atlanta\",\"Carrots; Topped; 25 lb sacks loose, JBO; San Fran\",\"Cauliflower; White; cartons, film wrapped, 12s; Atlanta\",\"Cauliflower; White; cartons, film wrapped, 12s; San Fran\",\"Greens; Swiss Chard, mixed colors; cartons bunched, 24s; Atlanta\",\"Greens; Swiss Chard, mixed colors; cartons bunched, 24s; San Fran\",\"Lettuce; Green leaf; cartons, 24s; Atlanta\",\"Lettuce; Green leaf; cartons, 24s; San Fran\",\"Lettuce; Romaine; cartons, 24s; Atlanta\",\"Lettuce; Romaine; cartons, 24s; San Fran\",\"Mesculin Mix; NaN; 3 lb cartons; Atlanta\",\"Mesculin Mix; NaN; 3 lb cartons; San Fran\",\"Onions, Dry; Yellow, Hybrid; 40 lb cartons; Atlanta\",\"Onions, Dry; Yellow, Hybrid; 40 lb cartons; San Fran\",\"Spinach; Flat; cartons, bunched, 24s; Atlanta\",\"Spinach; Flat; cartons, bunched, 24s; San Fran\",\"Potatoes; Russet; 50 lb cartons, US. No.1; Atlanta\",\"Potatoes; Russet; 50 lb cartons, US. No.1; San Fran\",\"Tomatoes, Cherry; no Pear type; Flats 12 1-pt cups with lids; Atlanta\",\"Tomatoes, Cherry; no Pear type; All packages; Atlanta\",\"Tomatoes, Cherry; no Pear type; Flats 12 1-pt cups with lids; San Fran\",\"Tomatoes, Cherry; Pear type; Flats 12 1/2 pt cups with lids; San Fran\",\"Sweet Potatoes; Orange types; 40 lb cartons, U.S. No 1; Atlanta\",\"Sweet Potatoes; Orange types; 40 lb cartons, U.S. No 1; San Fran\",\"Artichoke (SF only); Globe; cartons, 24s; San Fran\",\"Cabbage; Round green type; 45 lb cartons, medium; Atlanta\",\"Cabbage; Round green type; 45 lb cartons, 18-24s; San Fran\",\"Carrots; Not specified; 25 lb sacks loose, JBO; Atlanta\",\"Carrots; Topped; 25 lb sacks loose, JBO; San Fran\",\"Cauliflower; White; cartons, film wrapped, 12s; Atlanta\",\"Cauliflower; White; cartons, film wrapped, 12s; San Fran\",\"Greens; Swiss Chard, mixed colors; cartons bunched, 24s; Atlanta\",\"Greens; Swiss Chard, mixed colors; cartons bunched, 24s; San Fran\",\"Lettuce; Green leaf; cartons, 24s; Atlanta\",\"Lettuce; Green leaf; cartons, 24s; San Fran\",\"Lettuce; Romaine; cartons, 24s; Atlanta\",\"Lettuce; Romaine; cartons, 24s; San Fran\",\"Mesculin Mix; NaN; 3 lb cartons; Atlanta\",\"Mesculin Mix; NaN; 3 lb cartons; San Fran\",\"Onions, Dry; Yellow, Hybrid; 40 lb cartons; Atlanta\",\"Onions, Dry; Yellow, Hybrid; 40 lb cartons; San Fran\",\"Spinach; Flat; cartons, bunched, 24s; Atlanta\",\"Spinach; Flat; cartons, bunched, 24s; San Fran\",\"Potatoes; Russet; 50 lb cartons, US. No.1; Atlanta\",\"Potatoes; Russet; 50 lb cartons, US. No.1; San Fran\",\"Tomatoes, Cherry; no Pear type; Flats 12 1-pt cups with lids; Atlanta\",\"Tomatoes, Cherry; no Pear type; All packages; Atlanta\",\"Tomatoes, Cherry; no Pear type; Flats 12 1-pt cups with lids; San Fran\",\"Tomatoes, Cherry; Pear type; Flats 12 1/2 pt cups with lids; San Fran\",\"Sweet Potatoes; Orange types; 40 lb cartons, U.S. No 1; Atlanta\",\"Sweet Potatoes; Orange types; 40 lb cartons, U.S. No 1; San Fran\",\"Artichoke (SF only); Globe; cartons, 24s; San Fran\",\"Cabbage; Round green type; 45 lb cartons, medium; Atlanta\",\"Cabbage; Round green type; 45 lb cartons, 18-24s; San Fran\",\"Carrots; Not specified; 25 lb sacks loose, JBO; Atlanta\",\"Carrots; Topped; 25 lb sacks loose, JBO; San Fran\",\"Cauliflower; White; cartons, film wrapped, 12s; Atlanta\",\"Cauliflower; White; cartons, film wrapped, 12s; San Fran\",\"Greens; Swiss Chard, mixed colors; cartons bunched, 24s; Atlanta\",\"Greens; Swiss Chard, mixed colors; cartons bunched, 24s; San Fran\",\"Lettuce; Green leaf; cartons, 24s; Atlanta\",\"Lettuce; Green leaf; cartons, 24s; San Fran\",\"Lettuce; Romaine; cartons, 24s; Atlanta\",\"Lettuce; Romaine; cartons, 24s; San Fran\",\"Mesculin Mix; NaN; 3 lb cartons; Atlanta\",\"Mesculin Mix; NaN; 3 lb cartons; San Fran\",\"Onions, Dry; Yellow, Hybrid; 40 lb cartons; Atlanta\",\"Onions, Dry; Yellow, Hybrid; 40 lb cartons; San Fran\",\"Spinach; Flat; cartons, bunched, 24s; Atlanta\",\"Spinach; Flat; cartons, bunched, 24s; San Fran\",\"Potatoes; Russet; 50 lb cartons, US. No.1; Atlanta\",\"Potatoes; Russet; 50 lb cartons, US. No.1; San Fran\",\"Tomatoes, Cherry; no Pear type; Flats 12 1-pt cups with lids; Atlanta\",\"Tomatoes, Cherry; no Pear type; All packages; Atlanta\",\"Tomatoes, Cherry; no Pear type; Flats 12 1-pt cups with lids; San Fran\",\"Tomatoes, Cherry; Pear type; Flats 12 1/2 pt cups with lids; San Fran\",\"Sweet Potatoes; Orange types; 40 lb cartons, U.S. No 1; Atlanta\",\"Sweet Potatoes; Orange types; 40 lb cartons, U.S. No 1; San Fran\",\"Artichoke (SF only); Globe; cartons, 24s; San Fran\",\"Cabbage; Round green type; 45 lb cartons, medium; Atlanta\",\"Cabbage; Round green type; 45 lb cartons, 18-24s; San Fran\",\"Carrots; Not specified; 25 lb sacks loose, JBO; Atlanta\",\"Carrots; Topped; 25 lb sacks loose, JBO; San Fran\",\"Cauliflower; White; cartons, film wrapped, 12s; Atlanta\",\"Cauliflower; White; cartons, film wrapped, 12s; San Fran\",\"Greens; Swiss Chard, mixed colors; cartons bunched, 24s; Atlanta\",\"Greens; Swiss Chard, mixed colors; cartons bunched, 24s; San Fran\",\"Lettuce; Green leaf; cartons, 24s; Atlanta\",\"Lettuce; Green leaf; cartons, 24s; San Fran\",\"Lettuce; Romaine; cartons, 24s; Atlanta\",\"Lettuce; Romaine; cartons, 24s; San Fran\",\"Mesculin Mix; NaN; 3 lb cartons; Atlanta\",\"Mesculin Mix; NaN; 3 lb cartons; San Fran\",\"Onions, Dry; Yellow, Hybrid; 40 lb cartons; Atlanta\",\"Onions, Dry; Yellow, Hybrid; 40 lb cartons; San Fran\",\"Spinach; Flat; cartons, bunched, 24s; Atlanta\",\"Spinach; Flat; cartons, bunched, 24s; San Fran\",\"Potatoes; Russet; 50 lb cartons, US. No.1; Atlanta\",\"Potatoes; Russet; 50 lb cartons, US. No.1; San Fran\",\"Tomatoes, Cherry; no Pear type; Flats 12 1-pt cups with lids; Atlanta\",\"Tomatoes, Cherry; no Pear type; All packages; Atlanta\",\"Tomatoes, Cherry; no Pear type; Flats 12 1-pt cups with lids; San Fran\",\"Tomatoes, Cherry; Pear type; Flats 12 1/2 pt cups with lids; San Fran\",\"Sweet Potatoes; Orange types; 40 lb cartons, U.S. No 1; Atlanta\",\"Sweet Potatoes; Orange types; 40 lb cartons, U.S. No 1; San Fran\",\"Artichoke (SF only); Globe; cartons, 24s; San Fran\",\"Cabbage; Round green type; 45 lb cartons, medium; Atlanta\",\"Cabbage; Round green type; 45 lb cartons, 18-24s; San Fran\",\"Carrots; Not specified; 25 lb sacks loose, JBO; Atlanta\",\"Carrots; Topped; 25 lb sacks loose, JBO; San Fran\",\"Cauliflower; White; cartons, film wrapped, 12s; Atlanta\",\"Cauliflower; White; cartons, film wrapped, 12s; San Fran\",\"Greens; Swiss Chard, mixed colors; cartons bunched, 24s; Atlanta\",\"Greens; Swiss Chard, mixed colors; cartons bunched, 24s; San Fran\",\"Lettuce; Green leaf; cartons, 24s; Atlanta\",\"Lettuce; Green leaf; cartons, 24s; San Fran\",\"Lettuce; Romaine; cartons, 24s; Atlanta\",\"Lettuce; Romaine; cartons, 24s; San Fran\",\"Mesculin Mix; NaN; 3 lb cartons; Atlanta\",\"Mesculin Mix; NaN; 3 lb cartons; San Fran\",\"Onions, Dry; Yellow, Hybrid; 40 lb cartons; Atlanta\",\"Onions, Dry; Yellow, Hybrid; 40 lb cartons; San Fran\",\"Spinach; Flat; cartons, bunched, 24s; Atlanta\",\"Spinach; Flat; cartons, bunched, 24s; San Fran\",\"Potatoes; Russet; 50 lb cartons, US. No.1; Atlanta\",\"Potatoes; Russet; 50 lb cartons, US. No.1; San Fran\",\"Tomatoes, Cherry; no Pear type; Flats 12 1-pt cups with lids; Atlanta\",\"Tomatoes, Cherry; no Pear type; All packages; Atlanta\",\"Tomatoes, Cherry; no Pear type; Flats 12 1-pt cups with lids; San Fran\",\"Tomatoes, Cherry; Pear type; Flats 12 1/2 pt cups with lids; San Fran\",\"Sweet Potatoes; Orange types; 40 lb cartons, U.S. No 1; Atlanta\",\"Sweet Potatoes; Orange types; 40 lb cartons, U.S. No 1; San Fran\",\"Artichoke (SF only); Globe; cartons, 24s; San Fran\",\"Cabbage; Round green type; 45 lb cartons, medium; Atlanta\",\"Cabbage; Round green type; 45 lb cartons, 18-24s; San Fran\",\"Carrots; Not specified; 25 lb sacks loose, JBO; Atlanta\",\"Carrots; Topped; 25 lb sacks loose, JBO; San Fran\",\"Cauliflower; White; cartons, film wrapped, 12s; Atlanta\",\"Cauliflower; White; cartons, film wrapped, 12s; San Fran\",\"Greens; Swiss Chard, mixed colors; cartons bunched, 24s; Atlanta\",\"Greens; Swiss Chard, mixed colors; cartons bunched, 24s; San Fran\",\"Lettuce; Green leaf; cartons, 24s; Atlanta\",\"Lettuce; Green leaf; cartons, 24s; San Fran\",\"Lettuce; Romaine; cartons, 24s; Atlanta\",\"Lettuce; Romaine; cartons, 24s; San Fran\",\"Mesculin Mix; NaN; 3 lb cartons; Atlanta\",\"Mesculin Mix; NaN; 3 lb cartons; San Fran\",\"Onions, Dry; Yellow, Hybrid; 40 lb cartons; Atlanta\",\"Onions, Dry; Yellow, Hybrid; 40 lb cartons; San Fran\",\"Spinach; Flat; cartons, bunched, 24s; Atlanta\",\"Spinach; Flat; cartons, bunched, 24s; San Fran\",\"Potatoes; Russet; 50 lb cartons, US. No.1; Atlanta\",\"Potatoes; Russet; 50 lb cartons, US. No.1; San Fran\",\"Tomatoes, Cherry; no Pear type; Flats 12 1-pt cups with lids; Atlanta\",\"Tomatoes, Cherry; no Pear type; All packages; Atlanta\",\"Tomatoes, Cherry; no Pear type; Flats 12 1-pt cups with lids; San Fran\",\"Tomatoes, Cherry; Pear type; Flats 12 1/2 pt cups with lids; San Fran\",\"Sweet Potatoes; Orange types; 40 lb cartons, U.S. No 1; Atlanta\",\"Sweet Potatoes; Orange types; 40 lb cartons, U.S. No 1; San Fran\",\"Artichoke (SF only); Globe; cartons, 24s; San Fran\",\"Cabbage; Round green type; 45 lb cartons, medium; Atlanta\",\"Cabbage; Round green type; 45 lb cartons, 18-24s; San Fran\",\"Carrots; Not specified; 25 lb sacks loose, JBO; Atlanta\",\"Carrots; Topped; 25 lb sacks loose, JBO; San Fran\",\"Cauliflower; White; cartons, film wrapped, 12s; Atlanta\",\"Cauliflower; White; cartons, film wrapped, 12s; San Fran\",\"Greens; Swiss Chard, mixed colors; cartons bunched, 24s; Atlanta\",\"Greens; Swiss Chard, mixed colors; cartons bunched, 24s; San Fran\",\"Lettuce; Green leaf; cartons, 24s; Atlanta\",\"Lettuce; Green leaf; cartons, 24s; San Fran\",\"Lettuce; Romaine; cartons, 24s; Atlanta\",\"Lettuce; Romaine; cartons, 24s; San Fran\",\"Mesculin Mix; NaN; 3 lb cartons; Atlanta\",\"Mesculin Mix; NaN; 3 lb cartons; San Fran\",\"Onions, Dry; Yellow, Hybrid; 40 lb cartons; Atlanta\",\"Onions, Dry; Yellow, Hybrid; 40 lb cartons; San Fran\",\"Spinach; Flat; cartons, bunched, 24s; Atlanta\",\"Spinach; Flat; cartons, bunched, 24s; San Fran\",\"Potatoes; Russet; 50 lb cartons, US. No.1; Atlanta\",\"Potatoes; Russet; 50 lb cartons, US. No.1; San Fran\",\"Tomatoes, Cherry; no Pear type; Flats 12 1-pt cups with lids; Atlanta\",\"Tomatoes, Cherry; no Pear type; All packages; Atlanta\",\"Tomatoes, Cherry; no Pear type; Flats 12 1-pt cups with lids; San Fran\",\"Tomatoes, Cherry; Pear type; Flats 12 1/2 pt cups with lids; San Fran\",\"Sweet Potatoes; Orange types; 40 lb cartons, U.S. No 1; Atlanta\",\"Sweet Potatoes; Orange types; 40 lb cartons, U.S. No 1; San Fran\",\"Artichoke (SF only); Globe; cartons, 24s; San Fran\",\"Cabbage; Round green type; 45 lb cartons, medium; Atlanta\",\"Cabbage; Round green type; 45 lb cartons, 18-24s; San Fran\",\"Carrots; Not specified; 25 lb sacks loose, JBO; Atlanta\",\"Carrots; Topped; 25 lb sacks loose, JBO; San Fran\",\"Cauliflower; White; cartons, film wrapped, 12s; Atlanta\",\"Cauliflower; White; cartons, film wrapped, 12s; San Fran\",\"Greens; Swiss Chard, mixed colors; cartons bunched, 24s; Atlanta\",\"Greens; Swiss Chard, mixed colors; cartons bunched, 24s; San Fran\",\"Lettuce; Green leaf; cartons, 24s; Atlanta\",\"Lettuce; Green leaf; cartons, 24s; San Fran\",\"Lettuce; Romaine; cartons, 24s; Atlanta\",\"Lettuce; Romaine; cartons, 24s; San Fran\",\"Mesculin Mix; NaN; 3 lb cartons; Atlanta\",\"Mesculin Mix; NaN; 3 lb cartons; San Fran\",\"Onions, Dry; Yellow, Hybrid; 40 lb cartons; Atlanta\",\"Onions, Dry; Yellow, Hybrid; 40 lb cartons; San Fran\",\"Spinach; Flat; cartons, bunched, 24s; Atlanta\",\"Spinach; Flat; cartons, bunched, 24s; San Fran\",\"Potatoes; Russet; 50 lb cartons, US. No.1; Atlanta\",\"Potatoes; Russet; 50 lb cartons, US. No.1; San Fran\",\"Tomatoes, Cherry; no Pear type; Flats 12 1-pt cups with lids; Atlanta\",\"Tomatoes, Cherry; no Pear type; All packages; Atlanta\",\"Tomatoes, Cherry; no Pear type; Flats 12 1-pt cups with lids; San Fran\",\"Tomatoes, Cherry; Pear type; Flats 12 1/2 pt cups with lids; San Fran\",\"Sweet Potatoes; Orange types; 40 lb cartons, U.S. No 1; Atlanta\",\"Sweet Potatoes; Orange types; 40 lb cartons, U.S. No 1; San Fran\",\"Artichoke (SF only); Globe; cartons, 24s; San Fran\",\"Cabbage; Round green type; 45 lb cartons, medium; Atlanta\",\"Cabbage; Round green type; 45 lb cartons, 18-24s; San Fran\",\"Carrots; Not specified; 25 lb sacks loose, JBO; Atlanta\",\"Carrots; Topped; 25 lb sacks loose, JBO; San Fran\",\"Cauliflower; White; cartons, film wrapped, 12s; Atlanta\",\"Cauliflower; White; cartons, film wrapped, 12s; San Fran\",\"Greens; Swiss Chard, mixed colors; cartons bunched, 24s; Atlanta\",\"Greens; Swiss Chard, mixed colors; cartons bunched, 24s; San Fran\",\"Lettuce; Green leaf; cartons, 24s; Atlanta\",\"Lettuce; Green leaf; cartons, 24s; San Fran\",\"Lettuce; Romaine; cartons, 24s; Atlanta\",\"Lettuce; Romaine; cartons, 24s; San Fran\",\"Mesculin Mix; NaN; 3 lb cartons; Atlanta\",\"Mesculin Mix; NaN; 3 lb cartons; San Fran\",\"Onions, Dry; Yellow, Hybrid; 40 lb cartons; Atlanta\",\"Onions, Dry; Yellow, Hybrid; 40 lb cartons; San Fran\",\"Spinach; Flat; cartons, bunched, 24s; Atlanta\",\"Spinach; Flat; cartons, bunched, 24s; San Fran\",\"Potatoes; Russet; 50 lb cartons, US. No.1; Atlanta\",\"Potatoes; Russet; 50 lb cartons, US. No.1; San Fran\",\"Tomatoes, Cherry; no Pear type; Flats 12 1-pt cups with lids; Atlanta\",\"Tomatoes, Cherry; no Pear type; All packages; Atlanta\",\"Tomatoes, Cherry; no Pear type; Flats 12 1-pt cups with lids; San Fran\",\"Tomatoes, Cherry; Pear type; Flats 12 1/2 pt cups with lids; San Fran\",\"Sweet Potatoes; Orange types; 40 lb cartons, U.S. No 1; Atlanta\",\"Sweet Potatoes; Orange types; 40 lb cartons, U.S. No 1; San Fran\",\"Artichoke (SF only); Globe; cartons, 24s; San Fran\",\"Cabbage; Round green type; 45 lb cartons, medium; Atlanta\",\"Cabbage; Round green type; 45 lb cartons, 18-24s; San Fran\",\"Carrots; Not specified; 25 lb sacks loose, JBO; Atlanta\",\"Carrots; Topped; 25 lb sacks loose, JBO; San Fran\",\"Cauliflower; White; cartons, film wrapped, 12s; Atlanta\",\"Cauliflower; White; cartons, film wrapped, 12s; San Fran\",\"Greens; Swiss Chard, mixed colors; cartons bunched, 24s; Atlanta\",\"Greens; Swiss Chard, mixed colors; cartons bunched, 24s; San Fran\",\"Lettuce; Green leaf; cartons, 24s; Atlanta\",\"Lettuce; Green leaf; cartons, 24s; San Fran\",\"Lettuce; Romaine; cartons, 24s; Atlanta\",\"Lettuce; Romaine; cartons, 24s; San Fran\",\"Mesculin Mix; NaN; 3 lb cartons; Atlanta\",\"Mesculin Mix; NaN; 3 lb cartons; San Fran\",\"Onions, Dry; Yellow, Hybrid; 40 lb cartons; Atlanta\",\"Onions, Dry; Yellow, Hybrid; 40 lb cartons; San Fran\",\"Spinach; Flat; cartons, bunched, 24s; Atlanta\",\"Spinach; Flat; cartons, bunched, 24s; San Fran\",\"Potatoes; Russet; 50 lb cartons, US. No.1; Atlanta\",\"Potatoes; Russet; 50 lb cartons, US. No.1; San Fran\",\"Tomatoes, Cherry; no Pear type; Flats 12 1-pt cups with lids; Atlanta\",\"Tomatoes, Cherry; no Pear type; All packages; Atlanta\",\"Tomatoes, Cherry; no Pear type; Flats 12 1-pt cups with lids; San Fran\",\"Tomatoes, Cherry; Pear type; Flats 12 1/2 pt cups with lids; San Fran\",\"Sweet Potatoes; Orange types; 40 lb cartons, U.S. No 1; Atlanta\",\"Sweet Potatoes; Orange types; 40 lb cartons, U.S. No 1; San Fran\",\"Artichoke (SF only); Globe; cartons, 24s; San Fran\",\"Cabbage; Round green type; 45 lb cartons, medium; Atlanta\",\"Cabbage; Round green type; 45 lb cartons, 18-24s; San Fran\",\"Carrots; Not specified; 25 lb sacks loose, JBO; Atlanta\",\"Carrots; Topped; 25 lb sacks loose, JBO; San Fran\",\"Cauliflower; White; cartons, film wrapped, 12s; Atlanta\",\"Cauliflower; White; cartons, film wrapped, 12s; San Fran\",\"Greens; Swiss Chard, mixed colors; cartons bunched, 24s; Atlanta\",\"Greens; Swiss Chard, mixed colors; cartons bunched, 24s; San Fran\",\"Lettuce; Green leaf; cartons, 24s; Atlanta\",\"Lettuce; Green leaf; cartons, 24s; San Fran\",\"Lettuce; Romaine; cartons, 24s; Atlanta\",\"Lettuce; Romaine; cartons, 24s; San Fran\",\"Mesculin Mix; NaN; 3 lb cartons; Atlanta\",\"Mesculin Mix; NaN; 3 lb cartons; San Fran\",\"Onions, Dry; Yellow, Hybrid; 40 lb cartons; Atlanta\",\"Onions, Dry; Yellow, Hybrid; 40 lb cartons; San Fran\",\"Spinach; Flat; cartons, bunched, 24s; Atlanta\",\"Spinach; Flat; cartons, bunched, 24s; San Fran\",\"Potatoes; Russet; 50 lb cartons, US. No.1; Atlanta\",\"Potatoes; Russet; 50 lb cartons, US. No.1; San Fran\",\"Tomatoes, Cherry; no Pear type; Flats 12 1-pt cups with lids; Atlanta\",\"Tomatoes, Cherry; no Pear type; All packages; Atlanta\",\"Tomatoes, Cherry; no Pear type; Flats 12 1-pt cups with lids; San Fran\",\"Tomatoes, Cherry; Pear type; Flats 12 1/2 pt cups with lids; San Fran\",\"Sweet Potatoes; Orange types; 40 lb cartons, U.S. No 1; Atlanta\",\"Sweet Potatoes; Orange types; 40 lb cartons, U.S. No 1; San Fran\"],\"title\":\"Veggies:\",\"value\":\"Cabbage; Round green type; 40 lb cartons, medium; Atlanta\"},\"id\":\"c20c85df-6c17-4ea1-ab2f-7f29af8ae685\",\"type\":\"Select\"},{\"attributes\":{\"months\":[0,2,4,6,8,10]},\"id\":\"516e9570-f64b-4804-83d2-c746560d9267\",\"type\":\"MonthsTicker\"},{\"attributes\":{\"line_color\":{\"value\":\"#fdbf6f\"},\"x\":{\"field\":\"Date\"},\"y\":{\"field\":\"Conv\"}},\"id\":\"8af03ebe-135d-4bf5-83da-7f691986df68\",\"type\":\"Line\"},{\"attributes\":{\"active_drag\":\"auto\",\"active_scroll\":\"auto\",\"active_tap\":\"auto\",\"tools\":[{\"id\":\"43b90707-3034-4978-9f89-ea906a9e869e\",\"type\":\"HoverTool\"},{\"id\":\"e81ef4e3-9d17-4dc4-8bd5-03932a2c1915\",\"type\":\"PanTool\"},{\"id\":\"1121a2ab-1240-4c74-8da3-b9e029dd8c32\",\"type\":\"CrosshairTool\"},{\"id\":\"30a695a2-6f32-4b37-a162-632a5e0dc830\",\"type\":\"BoxZoomTool\"},{\"id\":\"45d98ff1-32dc-444b-8229-393d858e9722\",\"type\":\"ResetTool\"},{\"id\":\"95867f50-dbfd-4fec-bbd0-3de0f5433e48\",\"type\":\"SaveTool\"}]},\"id\":\"1c461500-613d-4d94-8299-fd22dc3f72a4\",\"type\":\"Toolbar\"},{\"attributes\":{\"callback\":null,\"plot\":{\"id\":\"f5743c5b-7b55-410f-af17-05dae99cb260\",\"subtype\":\"Figure\",\"type\":\"Plot\"}},\"id\":\"43b90707-3034-4978-9f89-ea906a9e869e\",\"type\":\"HoverTool\"},{\"attributes\":{\"days\":[1,4,7,10,13,16,19,22,25,28]},\"id\":\"8aad7892-458e-47af-9bde-ff913ffd9677\",\"type\":\"DaysTicker\"},{\"attributes\":{\"bottom_units\":\"screen\",\"fill_alpha\":{\"value\":0.5},\"fill_color\":{\"value\":\"lightgrey\"},\"left_units\":\"screen\",\"level\":\"overlay\",\"line_alpha\":{\"value\":1.0},\"line_color\":{\"value\":\"black\"},\"line_dash\":[4,4],\"line_width\":{\"value\":2},\"plot\":null,\"render_mode\":\"css\",\"right_units\":\"screen\",\"top_units\":\"screen\"},\"id\":\"86615369-b1a7-4836-9a71-05a35f551af7\",\"type\":\"BoxAnnotation\"},{\"attributes\":{\"callback\":null,\"column_names\":[\"Conv\",\"Date\",\"Org\"],\"data\":{\"Commodity\":[\"Cabbage\",\"Cabbage\",\"Cabbage\",\"Cabbage\",\"Cabbage\",\"Cabbage\",\"Cabbage\",\"Cabbage\",\"Cabbage\",\"Cabbage\",\"Cabbage\",\"Cabbage\"],\"MonthYearForm\":[1325376000000.0,1328054400000.0,1330560000000.0,1333238400000.0,1335830400000.0,1338508800000.0,1341100800000.0,1343779200000.0,1346457600000.0,1349049600000.0,1351728000000.0,1354320000000.0],\"Package\":[\"40 lb cartons, medium\",\"40 lb cartons, medium\",\"40 lb cartons, medium\",\"40 lb cartons, medium\",\"40 lb cartons, medium\",\"40 lb cartons, medium\",\"40 lb cartons, medium\",\"40 lb cartons, medium\",\"40 lb cartons, medium\",\"40 lb cartons, medium\",\"40 lb cartons, medium\",\"40 lb cartons, medium\"],\"Premium\":[\"NaN\",\"NaN\",\"NaN\",\"NaN\",\"NaN\",\"NaN\",\"NaN\",36.27,\"NaN\",\"NaN\",\"NaN\",\"NaN\"],\"PremiumAbs\":[\"NaN\",\"NaN\",\"NaN\",\"NaN\",\"NaN\",\"NaN\",\"NaN\",36.27,\"NaN\",\"NaN\",\"NaN\",\"NaN\"],\"Price_Conv\":[\"NaN\",\"NaN\",\"NaN\",\"NaN\",\"NaN\",\"NaN\",\"NaN\",16.5,\"NaN\",\"NaN\",\"NaN\",\"NaN\"],\"Price_Org\":[33.95,36.35,29.59,24.43,29.0,32.94,26.7,52.77,45.5,36.78,42.0,45.65],\"Subgroup\":[\"Round green type\",\"Round green type\",\"Round green type\",\"Round green type\",\"Round green type\",\"Round green type\",\"Round green type\",\"Round green type\",\"Round green type\",\"Round green type\",\"Round green type\",\"Round green type\"],\"Terminal Market\":[\"Atlanta\",\"Atlanta\",\"Atlanta\",\"Atlanta\",\"Atlanta\",\"Atlanta\",\"Atlanta\",\"Atlanta\",\"Atlanta\",\"Atlanta\",\"Atlanta\",\"Atlanta\"],\"Uniquely\":[\"Cabbage; Round green type; 40 lb cartons, medium; Atlanta\",\"Cabbage; Round green type; 40 lb cartons, medium; Atlanta\",\"Cabbage; Round green type; 40 lb cartons, medium; Atlanta\",\"Cabbage; Round green type; 40 lb cartons, medium; Atlanta\",\"Cabbage; Round green type; 40 lb cartons, medium; Atlanta\",\"Cabbage; Round green type; 40 lb cartons, medium; Atlanta\",\"Cabbage; Round green type; 40 lb cartons, medium; Atlanta\",\"Cabbage; Round green type; 40 lb cartons, medium; Atlanta\",\"Cabbage; Round green type; 40 lb cartons, medium; Atlanta\",\"Cabbage; Round green type; 40 lb cartons, medium; Atlanta\",\"Cabbage; Round green type; 40 lb cartons, medium; Atlanta\",\"Cabbage; Round green type; 40 lb cartons, medium; Atlanta\"]}},\"id\":\"53588151-2dfc-4456-9c2b-0935329ef5c3\",\"type\":\"ColumnDataSource\"},{\"attributes\":{\"line_alpha\":{\"value\":0.1},\"line_color\":{\"value\":\"#1f77b4\"},\"x\":{\"field\":\"Date\"},\"y\":{\"field\":\"Org\"}},\"id\":\"3339be42-1855-4906-874e-727c0f728021\",\"type\":\"Line\"},{\"attributes\":{\"base\":24,\"mantissas\":[1,2,4,6,8,12],\"max_interval\":43200000.0,\"min_interval\":3600000.0,\"num_minor_ticks\":0},\"id\":\"350d1e15-ee6b-4abe-b146-5f74ce67ca50\",\"type\":\"AdaptiveTicker\"},{\"attributes\":{\"line_color\":{\"value\":\"#a6cee3\"},\"x\":{\"field\":\"Date\"},\"y\":{\"field\":\"Org\"}},\"id\":\"dfd689b7-f4e1-4de0-9054-a9238113b6a7\",\"type\":\"Line\"},{\"attributes\":{\"months\":[0,4,8]},\"id\":\"8c8cebcf-ce20-4d6d-9114-610bd19cc48d\",\"type\":\"MonthsTicker\"},{\"attributes\":{\"num_minor_ticks\":5},\"id\":\"22abac57-bbcf-4cc1-b1f4-3ac1105ae0ee\",\"type\":\"DatetimeTicker\"},{\"attributes\":{},\"id\":\"f4fd8b99-baeb-4f97-bbdc-cb6350bc5e41\",\"type\":\"BasicTickFormatter\"},{\"attributes\":{\"days\":[1,15]},\"id\":\"7ed8ffe5-33c9-447f-ae54-c3fa8aced72b\",\"type\":\"DaysTicker\"},{\"attributes\":{},\"id\":\"8873c4f8-3399-4854-841f-da4b044e6133\",\"type\":\"ToolEvents\"},{\"attributes\":{\"days\":[1,2,3,4,5,6,7,8,9,10,11,12,13,14,15,16,17,18,19,20,21,22,23,24,25,26,27,28,29,30,31]},\"id\":\"b165edeb-f3f4-43bc-886a-e508b9bd0fd8\",\"type\":\"DaysTicker\"},{\"attributes\":{},\"id\":\"9a7de19d-7460-4e0d-8879-6f30bd19c801\",\"type\":\"BasicTicker\"},{\"attributes\":{\"data_source\":{\"id\":\"53588151-2dfc-4456-9c2b-0935329ef5c3\",\"type\":\"ColumnDataSource\"},\"glyph\":{\"id\":\"8af03ebe-135d-4bf5-83da-7f691986df68\",\"type\":\"Line\"},\"hover_glyph\":null,\"nonselection_glyph\":{\"id\":\"3a9d3d52-6a49-410d-b533-77097539b2a1\",\"type\":\"Line\"},\"selection_glyph\":null},\"id\":\"e2334599-0b5f-462b-89da-39548548599c\",\"type\":\"GlyphRenderer\"},{\"attributes\":{\"days\":[1,8,15,22]},\"id\":\"559637ec-6c3a-4346-8565-46e3602d5478\",\"type\":\"DaysTicker\"},{\"attributes\":{\"callback\":null},\"id\":\"ffe52cc7-70c2-4ca7-87e6-57ff0bff2097\",\"type\":\"DataRange1d\"},{\"attributes\":{},\"id\":\"cd0f9212-ad58-4886-9b43-db371932a914\",\"type\":\"YearsTicker\"}],\"root_ids\":[\"9948f456-d1cc-42a3-8cba-b313a7ae057f\"]},\"title\":\"Bokeh Application\",\"version\":\"0.12.0\"}};\n",
       "            var render_items = [{\"docid\":\"d0e0860f-c2b5-42fe-9217-0c2055460c2d\",\"elementid\":\"d4141175-c809-4d71-b37a-fcf9b993bbb3\",\"modelid\":\"9948f456-d1cc-42a3-8cba-b313a7ae057f\",\"notebook_comms_target\":\"108fbe34-2b7b-47d9-9842-53cae210b2a2\"}];\n",
       "            \n",
       "            Bokeh.embed.embed_items(docs_json, render_items);\n",
       "        });\n",
       "      },\n",
       "      function(Bokeh) {\n",
       "      }\n",
       "    ];\n",
       "  \n",
       "    function run_inline_js() {\n",
       "      for (var i = 0; i < inline_js.length; i++) {\n",
       "        inline_js[i](window.Bokeh);\n",
       "      }\n",
       "    }\n",
       "  \n",
       "    if (window._bokeh_is_loading === 0) {\n",
       "      console.log(\"Bokeh: BokehJS loaded, going straight to plotting\");\n",
       "      run_inline_js();\n",
       "    } else {\n",
       "      load_libs(js_urls, function() {\n",
       "        console.log(\"Bokeh: BokehJS plotting callback run at\", now());\n",
       "        run_inline_js();\n",
       "      });\n",
       "    }\n",
       "  }(this));\n",
       "</script>"
      ]
     },
     "metadata": {},
     "output_type": "display_data"
    },
    {
     "data": {
      "text/html": [
       "<p><code>&lt;Bokeh Notebook handle for <strong>In[48]</strong>&gt;</code></p>"
      ],
      "text/plain": [
       "<bokeh.io._CommsHandle at 0x7f6cf05ccb70>"
      ]
     },
     "execution_count": 48,
     "metadata": {},
     "output_type": "execute_result"
    }
   ],
   "source": [
    "show(layout)"
   ]
  }
 ],
 "metadata": {
  "anaconda-cloud": {},
  "kernelspec": {
   "display_name": "Python [Root]",
   "language": "python",
   "name": "Python [Root]"
  },
  "language_info": {
   "codemirror_mode": {
    "name": "ipython",
    "version": 3
   },
   "file_extension": ".py",
   "mimetype": "text/x-python",
   "name": "python",
   "nbconvert_exporter": "python",
   "pygments_lexer": "ipython3",
   "version": "3.5.2"
  }
 },
 "nbformat": 4,
 "nbformat_minor": 0
}
