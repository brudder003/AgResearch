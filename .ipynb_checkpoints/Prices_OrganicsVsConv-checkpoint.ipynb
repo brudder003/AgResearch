{
 "cells": [
  {
   "cell_type": "code",
   "execution_count": 36,
   "metadata": {
    "collapsed": true
   },
   "outputs": [],
   "source": [
    "import pandas as pd\n",
    "import numpy as np"
   ]
  },
  {
   "cell_type": "markdown",
   "metadata": {
    "collapsed": true
   },
   "source": [
    "## Price relationship btwn organics and conventional crops\n",
    "\n",
    "\n",
    "Notes:\n",
    "- exempt farms are those that say they farm organic but do less thank $5k/year, so dont have be to be certified.\n",
    "- cropland - areas used for the production of adapted crops for harvest\n",
    "- rangeland - native vegetation land used for livestock\n",
    "- pastureland - seed land used for livestock\n",
    "\n",
    "Links:\n",
    "\n",
    "!UNFORTUNATELY THE USDA PRICE DATA HASNT BEEN UPDATED SINCE 2012\n",
    "- [USDA's ERS organic vs conventional price data](http://www.ers.usda.gov/data-products/organic-prices.aspx)\n",
    "- [USDA's ERS Documentation for prices](http://www.ers.usda.gov/data-products/organic-prices/documentation.aspx)\n",
    "\n",
    "The weekly reports are kept upt to date, but they're pdfs\n",
    "- [USDA's AMS Organic Reports (with commentary](http://www.ers.usda.gov/data-products/organic-prices/documentation.aspx)\n",
    "\n",
    "- [Resources for Organic and Transitioning Farmers](http://ofrf.org/policy/resources)\n",
    "\n",
    "-[USDA Oraganic Insider newsletter archive](http://archive.constantcontact.com/fs054/1103777415326/archive/1108212629106.html)\n",
    "\n",
    "https://www.agcensus.usda.gov/Publications/2012/Online_Resources/Organics/ORGANICS.pdf\n",
    "\n",
    "https://www.ams.usda.gov/market-news/organic\n",
    "\n",
    "https://www.ams.usda.gov/market-news/organic-market-news-reports\n",
    "\n",
    "https://www.ams.usda.gov/market-news/custom-reports\n",
    "\n",
    "\n",
    "- \"The 2015 Certified Organic Survey publication will be released in September 2016.\" [here](https://www.nass.usda.gov/Surveys/Guide_to_NASS_Surveys/Organic_Production/index.php)\n",
    "\n",
    "- [2014 Organic Survey](https://www.agcensus.usda.gov/Publications/2012/Online_Resources/Organics/)\n",
    "\n",
    "USDA Risk Management Agency: [organics page](http://www.rma.usda.gov/news/currentissues/organics/)\n",
    "- [Organic Pricing Methodologies for Barley, Corn,Cotton,Grain Sorghum, Rice, Soybeans, Sunflowers,and Wheat](http://www.rma.usda.gov/pubs/2015/organicpricingmethodology.pdf)\n",
    "- [Summary of business for organic production](http://www.rma.usda.gov/data/sob/organic/2015organic.pdf)\n",
    "\n",
    "[March 2016 report to congress](http://www.rma.usda.gov/pubs/2016/appropriations.pdf)\n",
    "\"After conducting research, it was determined that for some crops, the organic counterpart does \n",
    "not receive a premium price. For those crops, RMA has concluded that a premium organic price \n",
    "election is not warranted and has the potential to distort market behavior.  These crops are \n",
    "alfalfa seed, carambola trees, cigar filler tobacco, cigar wrapper tobacco, fire cured tobacco, forage seeding, lemon trees, lime trees, mango trees, and sugar beets.\"\n",
    "\n",
    "- [Auction Cash Market for organics](http://www.mercaris.com/company#about)\n",
    "\n"
   ]
  },
  {
   "cell_type": "code",
   "execution_count": 15,
   "metadata": {
    "collapsed": false
   },
   "outputs": [
    {
     "data": {
      "text/plain": [
       "'/home/brett/Documents/JupyterNotebooks/AgResearch'"
      ]
     },
     "execution_count": 15,
     "metadata": {},
     "output_type": "execute_result"
    }
   ],
   "source": [
    "%pwd"
   ]
  },
  {
   "cell_type": "code",
   "execution_count": 22,
   "metadata": {
    "collapsed": false
   },
   "outputs": [
    {
     "name": "stdout",
     "output_type": "stream",
     "text": [
      "/home/brett/Dropbox/AgResearch\n"
     ]
    }
   ],
   "source": [
    "%cd /home/brett/Dropbox/AgResearch/"
   ]
  },
  {
   "cell_type": "markdown",
   "metadata": {},
   "source": [
    "### 2014 organic survey table 551\n",
    "Transitional Organic Land Operated by Non-Organic Farms\n",
    "\n",
    "bullets:\n",
    "- 688 non-organic farms are transitioning to grow organic products. 50,688 acres total\n",
    "    - 24,550 acres cropland, 17,030 acres patureland, 9,108 acres rangeland\n",
    "    \n",
    "    \n",
    "    "
   ]
  },
  {
   "cell_type": "code",
   "execution_count": 28,
   "metadata": {
    "collapsed": false
   },
   "outputs": [
    {
     "name": "stdout",
     "output_type": "stream",
     "text": [
      "561,\"t\",\"2014 Organic Survey: Released September 17, 2015, by the National Agricultural Statistics Service (NASS), Agricultural Statistics Board, U.S. Department of Agriculture.\"\r",
      "\r\n",
      "561,\"t\",\"Table 81.  Transitional Organic Land Operated � Non-Organic Farms:  2014\"\r",
      "\r\n",
      "561,\"t\",\"[For meaning of abbreviations and symbols, see introductory text.]\"\r",
      "\r\n",
      "561,\"h\",\"\",\"\",\"\",\"\",\"\",\"\"\r",
      "\r\n",
      "561,\"h\",\"\",\"\",\"Acres in transition\",\"Acres in transition\",\"Acres in transition\",\"Acres in transition\"\r",
      "\r\n",
      "561,\"h\",\"\",\"\",\"\",\"\",\"\",\"\"\r",
      "\r\n",
      "561,\"h\",\"Geographic Area\",\"Farms\",\"Total\",\"Cropland\",\"Pastureland\",\"Rangeland\"\r",
      "\r\n",
      "561,\"h\",\"\",\"\",\"\",\"\",\"\",\"\"\r",
      "\r\n",
      "561,\"d\",\"United States\",688,50688,24550,17030,9108\r",
      "\r\n",
      "561,\"d\",\"\",,,,,\r",
      "\r\n"
     ]
    }
   ],
   "source": [
    "!head -n 10 corg_p551_t0561.csv"
   ]
  },
  {
   "cell_type": "code",
   "execution_count": 67,
   "metadata": {
    "collapsed": false
   },
   "outputs": [],
   "source": [
    "acresInTransition = pd.read_csv('corg_p551_t0561.csv',skiprows=6)"
   ]
  },
  {
   "cell_type": "code",
   "execution_count": 73,
   "metadata": {
    "collapsed": false
   },
   "outputs": [
    {
     "data": {
      "text/html": [
       "<div>\n",
       "<table border=\"1\" class=\"dataframe\">\n",
       "  <thead>\n",
       "    <tr style=\"text-align: right;\">\n",
       "      <th></th>\n",
       "      <th>Area</th>\n",
       "      <th>farmsCount</th>\n",
       "      <th>totalAcresInTrans</th>\n",
       "      <th>croplandAcresInTrans</th>\n",
       "      <th>pasturelandAcresInTrans</th>\n",
       "      <th>rangelandAcresInTrans</th>\n",
       "    </tr>\n",
       "  </thead>\n",
       "  <tbody>\n",
       "    <tr>\n",
       "      <th>1</th>\n",
       "      <td>United States</td>\n",
       "      <td>688.0</td>\n",
       "      <td>50688</td>\n",
       "      <td>24550</td>\n",
       "      <td>17030</td>\n",
       "      <td>9108</td>\n",
       "    </tr>\n",
       "    <tr>\n",
       "      <th>3</th>\n",
       "      <td>Alabama</td>\n",
       "      <td>6.0</td>\n",
       "      <td>(D)</td>\n",
       "      <td>17</td>\n",
       "      <td>(D)</td>\n",
       "      <td>-</td>\n",
       "    </tr>\n",
       "    <tr>\n",
       "      <th>4</th>\n",
       "      <td>Alaska</td>\n",
       "      <td>1.0</td>\n",
       "      <td>(D)</td>\n",
       "      <td>-</td>\n",
       "      <td>(D)</td>\n",
       "      <td>-</td>\n",
       "    </tr>\n",
       "    <tr>\n",
       "      <th>5</th>\n",
       "      <td>Arkansas</td>\n",
       "      <td>2.0</td>\n",
       "      <td>(D)</td>\n",
       "      <td>(D)</td>\n",
       "      <td>-</td>\n",
       "      <td>(D)</td>\n",
       "    </tr>\n",
       "    <tr>\n",
       "      <th>6</th>\n",
       "      <td>California</td>\n",
       "      <td>57.0</td>\n",
       "      <td>2596</td>\n",
       "      <td>1971</td>\n",
       "      <td>582</td>\n",
       "      <td>43</td>\n",
       "    </tr>\n",
       "    <tr>\n",
       "      <th>7</th>\n",
       "      <td>Colorado</td>\n",
       "      <td>13.0</td>\n",
       "      <td>680</td>\n",
       "      <td>491</td>\n",
       "      <td>69</td>\n",
       "      <td>120</td>\n",
       "    </tr>\n",
       "    <tr>\n",
       "      <th>9</th>\n",
       "      <td>Connecticut</td>\n",
       "      <td>8.0</td>\n",
       "      <td>26</td>\n",
       "      <td>25</td>\n",
       "      <td>1</td>\n",
       "      <td>-</td>\n",
       "    </tr>\n",
       "    <tr>\n",
       "      <th>10</th>\n",
       "      <td>Delaware</td>\n",
       "      <td>1.0</td>\n",
       "      <td>(D)</td>\n",
       "      <td>(D)</td>\n",
       "      <td>-</td>\n",
       "      <td>-</td>\n",
       "    </tr>\n",
       "    <tr>\n",
       "      <th>11</th>\n",
       "      <td>Florida</td>\n",
       "      <td>21.0</td>\n",
       "      <td>135</td>\n",
       "      <td>56</td>\n",
       "      <td>39</td>\n",
       "      <td>40</td>\n",
       "    </tr>\n",
       "    <tr>\n",
       "      <th>12</th>\n",
       "      <td>Georgia</td>\n",
       "      <td>19.0</td>\n",
       "      <td>374</td>\n",
       "      <td>(D)</td>\n",
       "      <td>(D)</td>\n",
       "      <td>-</td>\n",
       "    </tr>\n",
       "  </tbody>\n",
       "</table>\n",
       "</div>"
      ],
      "text/plain": [
       "             Area  farmsCount totalAcresInTrans croplandAcresInTrans  \\\n",
       "1   United States       688.0             50688                24550   \n",
       "3         Alabama         6.0               (D)                   17   \n",
       "4          Alaska         1.0               (D)                    -   \n",
       "5        Arkansas         2.0               (D)                  (D)   \n",
       "6      California        57.0              2596                 1971   \n",
       "7        Colorado        13.0               680                  491   \n",
       "9     Connecticut         8.0                26                   25   \n",
       "10       Delaware         1.0               (D)                  (D)   \n",
       "11        Florida        21.0               135                   56   \n",
       "12        Georgia        19.0               374                  (D)   \n",
       "\n",
       "   pasturelandAcresInTrans rangelandAcresInTrans  \n",
       "1                    17030                  9108  \n",
       "3                      (D)                     -  \n",
       "4                      (D)                     -  \n",
       "5                        -                   (D)  \n",
       "6                      582                    43  \n",
       "7                       69                   120  \n",
       "9                        1                     -  \n",
       "10                       -                     -  \n",
       "11                      39                    40  \n",
       "12                     (D)                     -  "
      ]
     },
     "execution_count": 73,
     "metadata": {},
     "output_type": "execute_result"
    }
   ],
   "source": [
    "acresInTransition.head(10)"
   ]
  },
  {
   "cell_type": "code",
   "execution_count": 69,
   "metadata": {
    "collapsed": false
   },
   "outputs": [],
   "source": [
    "#drop nan rows\n",
    "acresInTransition = acresInTransition[np.isfinite(acresInTransition['Farms'])]"
   ]
  },
  {
   "cell_type": "code",
   "execution_count": 70,
   "metadata": {
    "collapsed": true
   },
   "outputs": [],
   "source": [
    "#del col '561'\n",
    "acresInTransition = acresInTransition.drop('561',1)"
   ]
  },
  {
   "cell_type": "code",
   "execution_count": 71,
   "metadata": {
    "collapsed": true
   },
   "outputs": [],
   "source": [
    "#del col 'h'\n",
    "acresInTransition = acresInTransition.drop('h',1)"
   ]
  },
  {
   "cell_type": "code",
   "execution_count": 72,
   "metadata": {
    "collapsed": true
   },
   "outputs": [],
   "source": [
    "#rename columns\n",
    "acresInTransition.columns = ['Area','farmsCount','totalAcresInTrans','croplandAcresInTrans',\n",
    "                     'pasturelandAcresInTrans','rangelandAcresInTrans']"
   ]
  },
  {
   "cell_type": "markdown",
   "metadata": {},
   "source": [
    "### 2014 organic survey table 1\n",
    "Farms, land and value of sales of organic ag products - certified and exempt farms\n",
    "\n",
    "bullets:\n",
    "\n",
    "- There are 14,048 organic farms operating in the United states. The total acreage is 3,670,560 acres.\n",
    "    - thats 261 acres per farm\n",
    "- 1,365 farms are classified as transitional, with 122,175 acres transitioning. \n",
    "    - thats 89 acres per farm"
   ]
  },
  {
   "cell_type": "code",
   "execution_count": 83,
   "metadata": {
    "collapsed": false
   },
   "outputs": [
    {
     "name": "stdout",
     "output_type": "stream",
     "text": [
      "1,\"t\",\"2014 Organic Survey: Released September 17, 2015, by the National Agricultural Statistics Service (NASS), Agricultural Statistics Board, U.S. Department of Agriculture.\"\r",
      "\r\n",
      "1,\"t\",\"Table 1.  Farms, Land, and Value of Sales of Organic Agricultural Products � Certified and Exempt Organic Farms:  2014\"\r",
      "\r\n",
      "1,\"t\",\"[For meaning of abbreviations and symbols, see introductory text.]\"\r",
      "\r\n",
      "1,\"h\",\"\",\"\",\"\",\"\",\"\",\"\",\"\",\"\"\r",
      "\r\n",
      "1,\"h\",\"Item\",\"\",\"United States\",\"Alabama\",\"Alaska\",\"Arizona\",\"Arkansas\",\"California\"\r",
      "\r\n",
      "1,\"h\",\"\",\"\",\"\",\"\",\"\",\"\",\"\",\"\"\r",
      "\r\n",
      "1,\"d\",\"ORGANIC FARMS\",\"\",,,,,,\r",
      "\r\n",
      "1,\"d\",\"\",\"\",,,,,,\r",
      "\r\n",
      "1,\"d\",\"Certified or exempt\",\"farms\",14093,28,17,61,34,2805\r",
      "\r\n",
      "1,\"d\",\"\",\"\",,,,,,\r",
      "\r\n"
     ]
    }
   ],
   "source": [
    "!head -n 10 corg_p011_t0001.csv"
   ]
  },
  {
   "cell_type": "code",
   "execution_count": 154,
   "metadata": {
    "collapsed": false
   },
   "outputs": [],
   "source": [
    "farmsLandValue = pd.read_csv('corg_p011_t0001.csv',skiprows=4)"
   ]
  },
  {
   "cell_type": "code",
   "execution_count": 156,
   "metadata": {
    "collapsed": true
   },
   "outputs": [],
   "source": [
    "#drop nan rows\n",
    "farmsLandValue = farmsLandValue[np.isfinite(farmsLandValue['United States'])]"
   ]
  },
  {
   "cell_type": "code",
   "execution_count": 157,
   "metadata": {
    "collapsed": false
   },
   "outputs": [],
   "source": [
    "#del cols\n",
    "farmsLandValue = farmsLandValue.drop(farmsLandValue.columns[[0,1,5,6,7,8,9]],1)"
   ]
  },
  {
   "cell_type": "code",
   "execution_count": 158,
   "metadata": {
    "collapsed": true
   },
   "outputs": [],
   "source": [
    "#forward fill item names to get rid of nans\n",
    "farmsLandValue['Item'] = farmsLandValue['Item'].fillna(method='ffill')"
   ]
  },
  {
   "cell_type": "code",
   "execution_count": 159,
   "metadata": {
    "collapsed": true
   },
   "outputs": [],
   "source": [
    "#rename columns\n",
    "farmsLandValue.columns = ['Item','Type','UnitedStatesTotal']"
   ]
  },
  {
   "cell_type": "code",
   "execution_count": 161,
   "metadata": {
    "collapsed": false
   },
   "outputs": [
    {
     "data": {
      "text/html": [
       "<div>\n",
       "<table border=\"1\" class=\"dataframe\">\n",
       "  <thead>\n",
       "    <tr style=\"text-align: right;\">\n",
       "      <th></th>\n",
       "      <th>Item</th>\n",
       "      <th>Type</th>\n",
       "      <th>UnitedStatesTotal</th>\n",
       "    </tr>\n",
       "  </thead>\n",
       "  <tbody>\n",
       "    <tr>\n",
       "      <th>3</th>\n",
       "      <td>Certified or exempt</td>\n",
       "      <td>farms</td>\n",
       "      <td>14093.000</td>\n",
       "    </tr>\n",
       "    <tr>\n",
       "      <th>8</th>\n",
       "      <td>operated</td>\n",
       "      <td>farms</td>\n",
       "      <td>14048.000</td>\n",
       "    </tr>\n",
       "    <tr>\n",
       "      <th>9</th>\n",
       "      <td>operated</td>\n",
       "      <td>acres</td>\n",
       "      <td>3670560.000</td>\n",
       "    </tr>\n",
       "    <tr>\n",
       "      <th>11</th>\n",
       "      <td>Land owned</td>\n",
       "      <td>farms</td>\n",
       "      <td>12353.000</td>\n",
       "    </tr>\n",
       "    <tr>\n",
       "      <th>12</th>\n",
       "      <td>Land owned</td>\n",
       "      <td>acres</td>\n",
       "      <td>2221715.000</td>\n",
       "    </tr>\n",
       "    <tr>\n",
       "      <th>13</th>\n",
       "      <td>Land rented from others</td>\n",
       "      <td>farms</td>\n",
       "      <td>5582.000</td>\n",
       "    </tr>\n",
       "    <tr>\n",
       "      <th>14</th>\n",
       "      <td>Land rented from others</td>\n",
       "      <td>acres</td>\n",
       "      <td>1507957.000</td>\n",
       "    </tr>\n",
       "    <tr>\n",
       "      <th>15</th>\n",
       "      <td>Land rented to others</td>\n",
       "      <td>farms</td>\n",
       "      <td>521.000</td>\n",
       "    </tr>\n",
       "    <tr>\n",
       "      <th>16</th>\n",
       "      <td>Land rented to others</td>\n",
       "      <td>acres</td>\n",
       "      <td>59112.000</td>\n",
       "    </tr>\n",
       "    <tr>\n",
       "      <th>18</th>\n",
       "      <td>Total certified organic acres operated</td>\n",
       "      <td>farms</td>\n",
       "      <td>12595.000</td>\n",
       "    </tr>\n",
       "  </tbody>\n",
       "</table>\n",
       "</div>"
      ],
      "text/plain": [
       "                                        Item   Type  UnitedStatesTotal\n",
       "3                        Certified or exempt  farms          14093.000\n",
       "8                                   operated  farms          14048.000\n",
       "9                                   operated  acres        3670560.000\n",
       "11                                Land owned  farms          12353.000\n",
       "12                                Land owned  acres        2221715.000\n",
       "13                   Land rented from others  farms           5582.000\n",
       "14                   Land rented from others  acres        1507957.000\n",
       "15                     Land rented to others  farms            521.000\n",
       "16                     Land rented to others  acres          59112.000\n",
       "18    Total certified organic acres operated  farms          12595.000"
      ]
     },
     "execution_count": 161,
     "metadata": {},
     "output_type": "execute_result"
    }
   ],
   "source": [
    "farmsLandValue.head(10)"
   ]
  },
  {
   "cell_type": "code",
   "execution_count": null,
   "metadata": {
    "collapsed": true
   },
   "outputs": [],
   "source": []
  }
 ],
 "metadata": {
  "kernelspec": {
   "display_name": "Python 3",
   "language": "python",
   "name": "python3"
  },
  "language_info": {
   "codemirror_mode": {
    "name": "ipython",
    "version": 3
   },
   "file_extension": ".py",
   "mimetype": "text/x-python",
   "name": "python",
   "nbconvert_exporter": "python",
   "pygments_lexer": "ipython3",
   "version": "3.5.1"
  }
 },
 "nbformat": 4,
 "nbformat_minor": 0
}
