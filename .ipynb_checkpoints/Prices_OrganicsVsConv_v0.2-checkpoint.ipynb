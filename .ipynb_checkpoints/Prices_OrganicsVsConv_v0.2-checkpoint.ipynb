{
 "cells": [
  {
   "cell_type": "code",
   "execution_count": 3,
   "metadata": {
    "collapsed": true
   },
   "outputs": [],
   "source": [
    "import pandas as pd\n",
    "import numpy as np\n",
    "from dateutil.parser import *\n",
    "from datetime import *\n",
    "\n",
    "from os.path import dirname, join"
   ]
  },
  {
   "cell_type": "code",
   "execution_count": 4,
   "metadata": {
    "collapsed": false
   },
   "outputs": [],
   "source": [
    "DEFAULT = datetime(1,1,1)"
   ]
  },
  {
   "cell_type": "markdown",
   "metadata": {},
   "source": [
    "Py Notes\n",
    "\n",
    "- Data reshapping is awesome! http://pandas.pydata.org/pandas-docs/stable/reshaping.html"
   ]
  },
  {
   "cell_type": "markdown",
   "metadata": {
    "collapsed": true
   },
   "source": [
    "## Price relationship btwn organics and conventional crops\n",
    "\n",
    "\n",
    "Notes:\n",
    "- exempt farms are those that say they farm organic but do less thank $5k/year, so dont have be to be certified.\n",
    "- cropland - areas used for the production of adapted crops for harvest\n",
    "- rangeland - native vegetation land used for livestock\n",
    "- pastureland - seed land used for livestock\n",
    "\n",
    "Links:\n",
    "\n",
    "!UNFORTUNATELY THE USDA PRICE DATA HASNT BEEN UPDATED SINCE 2012\n",
    "- [USDA's ERS organic vs conventional price data](http://www.ers.usda.gov/data-products/organic-prices.aspx)\n",
    "- [USDA's ERS Documentation for prices](http://www.ers.usda.gov/data-products/organic-prices/documentation.aspx)\n",
    "\n",
    "The weekly reports are kept upt to date, but they're pdfs\n",
    "- [USDA's AMS Organic Reports (with commentary](http://www.ers.usda.gov/data-products/organic-prices/documentation.aspx)\n",
    "\n",
    "- [Resources for Organic and Transitioning Farmers](http://ofrf.org/policy/resources)\n",
    "\n",
    "-[USDA Oraganic Insider newsletter archive](http://archive.constantcontact.com/fs054/1103777415326/archive/1108212629106.html)\n",
    "\n",
    "https://www.agcensus.usda.gov/Publications/2012/Online_Resources/Organics/ORGANICS.pdf\n",
    "\n",
    "https://www.ams.usda.gov/market-news/organic\n",
    "\n",
    "https://www.ams.usda.gov/market-news/organic-market-news-reports\n",
    "\n",
    "https://www.ams.usda.gov/market-news/custom-reports\n",
    "\n",
    "\n",
    "- \"The 2015 Certified Organic Survey publication will be released in September 2016.\" [here](https://www.nass.usda.gov/Surveys/Guide_to_NASS_Surveys/Organic_Production/index.php)\n",
    "\n",
    "- [2014 Organic Survey](https://www.agcensus.usda.gov/Publications/2012/Online_Resources/Organics/)\n",
    "\n",
    "USDA Risk Management Agency: [organics page](http://www.rma.usda.gov/news/currentissues/organics/)\n",
    "- [Organic Pricing Methodologies for Barley, Corn,Cotton,Grain Sorghum, Rice, Soybeans, Sunflowers,and Wheat](http://www.rma.usda.gov/pubs/2015/organicpricingmethodology.pdf)\n",
    "- [Summary of business for organic production](http://www.rma.usda.gov/data/sob/organic/2015organic.pdf)\n",
    "\n",
    "[March 2016 report to congress](http://www.rma.usda.gov/pubs/2016/appropriations.pdf)\n",
    "\"After conducting research, it was determined that for some crops, the organic counterpart does \n",
    "not receive a premium price. For those crops, RMA has concluded that a premium organic price \n",
    "election is not warranted and has the potential to distort market behavior.  These crops are \n",
    "alfalfa seed, carambola trees, cigar filler tobacco, cigar wrapper tobacco, fire cured tobacco, forage seeding, lemon trees, lime trees, mango trees, and sugar beets.\"\n",
    "\n",
    "- [Auction Cash Market for organics](http://www.mercaris.com/company#about)\n",
    "\n"
   ]
  },
  {
   "cell_type": "code",
   "execution_count": 5,
   "metadata": {
    "collapsed": false
   },
   "outputs": [
    {
     "data": {
      "text/plain": [
       "'/home/brett/Documents/JupyterNotebooks/AgResearch'"
      ]
     },
     "execution_count": 5,
     "metadata": {},
     "output_type": "execute_result"
    }
   ],
   "source": [
    "%pwd"
   ]
  },
  {
   "cell_type": "code",
   "execution_count": 6,
   "metadata": {
    "collapsed": false
   },
   "outputs": [
    {
     "name": "stdout",
     "output_type": "stream",
     "text": [
      "/home/brett/Dropbox/AgResearch\n"
     ]
    }
   ],
   "source": [
    "%cd /home/brett/Dropbox/AgResearch/"
   ]
  },
  {
   "cell_type": "markdown",
   "metadata": {},
   "source": [
    "## 2014 organic survey table 551\n",
    "Transitional Organic Land Operated by Non-Organic Farms\n",
    "\n",
    "bullets:\n",
    "- 688 non-organic farms are transitioning to grow organic products. 50,688 acres total\n",
    "    - 24,550 acres cropland, 17,030 acres patureland, 9,108 acres rangeland\n",
    "    \n",
    "    \n",
    "    "
   ]
  },
  {
   "cell_type": "code",
   "execution_count": 7,
   "metadata": {
    "collapsed": false
   },
   "outputs": [
    {
     "name": "stdout",
     "output_type": "stream",
     "text": [
      "561,\"t\",\"2014 Organic Survey: Released September 17, 2015, by the National Agricultural Statistics Service (NASS), Agricultural Statistics Board, U.S. Department of Agriculture.\"\r",
      "\r\n",
      "561,\"t\",\"Table 81.  Transitional Organic Land Operated � Non-Organic Farms:  2014\"\r",
      "\r\n",
      "561,\"t\",\"[For meaning of abbreviations and symbols, see introductory text.]\"\r",
      "\r\n",
      "561,\"h\",\"\",\"\",\"\",\"\",\"\",\"\"\r",
      "\r\n",
      "561,\"h\",\"\",\"\",\"Acres in transition\",\"Acres in transition\",\"Acres in transition\",\"Acres in transition\"\r",
      "\r\n",
      "561,\"h\",\"\",\"\",\"\",\"\",\"\",\"\"\r",
      "\r\n",
      "561,\"h\",\"Geographic Area\",\"Farms\",\"Total\",\"Cropland\",\"Pastureland\",\"Rangeland\"\r",
      "\r\n",
      "561,\"h\",\"\",\"\",\"\",\"\",\"\",\"\"\r",
      "\r\n",
      "561,\"d\",\"United States\",688,50688,24550,17030,9108\r",
      "\r\n",
      "561,\"d\",\"\",,,,,\r",
      "\r\n"
     ]
    }
   ],
   "source": [
    "!head -n 10 corg_p551_t0561.csv"
   ]
  },
  {
   "cell_type": "code",
   "execution_count": 8,
   "metadata": {
    "collapsed": false
   },
   "outputs": [],
   "source": [
    "acresInTransition = pd.read_csv('corg_p551_t0561.csv',skiprows=6)"
   ]
  },
  {
   "cell_type": "code",
   "execution_count": 9,
   "metadata": {
    "collapsed": false
   },
   "outputs": [
    {
     "data": {
      "text/html": [
       "<div>\n",
       "<table border=\"1\" class=\"dataframe\">\n",
       "  <thead>\n",
       "    <tr style=\"text-align: right;\">\n",
       "      <th></th>\n",
       "      <th>561</th>\n",
       "      <th>h</th>\n",
       "      <th>Geographic Area</th>\n",
       "      <th>Farms</th>\n",
       "      <th>Total</th>\n",
       "      <th>Cropland</th>\n",
       "      <th>Pastureland</th>\n",
       "      <th>Rangeland</th>\n",
       "    </tr>\n",
       "  </thead>\n",
       "  <tbody>\n",
       "    <tr>\n",
       "      <th>0</th>\n",
       "      <td>561</td>\n",
       "      <td>h</td>\n",
       "      <td>NaN</td>\n",
       "      <td>NaN</td>\n",
       "      <td>NaN</td>\n",
       "      <td>NaN</td>\n",
       "      <td>NaN</td>\n",
       "      <td>NaN</td>\n",
       "    </tr>\n",
       "    <tr>\n",
       "      <th>1</th>\n",
       "      <td>561</td>\n",
       "      <td>d</td>\n",
       "      <td>United States</td>\n",
       "      <td>688.0</td>\n",
       "      <td>50688</td>\n",
       "      <td>24550</td>\n",
       "      <td>17030</td>\n",
       "      <td>9108</td>\n",
       "    </tr>\n",
       "    <tr>\n",
       "      <th>2</th>\n",
       "      <td>561</td>\n",
       "      <td>d</td>\n",
       "      <td>NaN</td>\n",
       "      <td>NaN</td>\n",
       "      <td>NaN</td>\n",
       "      <td>NaN</td>\n",
       "      <td>NaN</td>\n",
       "      <td>NaN</td>\n",
       "    </tr>\n",
       "    <tr>\n",
       "      <th>3</th>\n",
       "      <td>561</td>\n",
       "      <td>d</td>\n",
       "      <td>Alabama</td>\n",
       "      <td>6.0</td>\n",
       "      <td>(D)</td>\n",
       "      <td>17</td>\n",
       "      <td>(D)</td>\n",
       "      <td>-</td>\n",
       "    </tr>\n",
       "    <tr>\n",
       "      <th>4</th>\n",
       "      <td>561</td>\n",
       "      <td>d</td>\n",
       "      <td>Alaska</td>\n",
       "      <td>1.0</td>\n",
       "      <td>(D)</td>\n",
       "      <td>-</td>\n",
       "      <td>(D)</td>\n",
       "      <td>-</td>\n",
       "    </tr>\n",
       "    <tr>\n",
       "      <th>5</th>\n",
       "      <td>561</td>\n",
       "      <td>d</td>\n",
       "      <td>Arkansas</td>\n",
       "      <td>2.0</td>\n",
       "      <td>(D)</td>\n",
       "      <td>(D)</td>\n",
       "      <td>-</td>\n",
       "      <td>(D)</td>\n",
       "    </tr>\n",
       "    <tr>\n",
       "      <th>6</th>\n",
       "      <td>561</td>\n",
       "      <td>d</td>\n",
       "      <td>California</td>\n",
       "      <td>57.0</td>\n",
       "      <td>2596</td>\n",
       "      <td>1971</td>\n",
       "      <td>582</td>\n",
       "      <td>43</td>\n",
       "    </tr>\n",
       "    <tr>\n",
       "      <th>7</th>\n",
       "      <td>561</td>\n",
       "      <td>d</td>\n",
       "      <td>Colorado</td>\n",
       "      <td>13.0</td>\n",
       "      <td>680</td>\n",
       "      <td>491</td>\n",
       "      <td>69</td>\n",
       "      <td>120</td>\n",
       "    </tr>\n",
       "    <tr>\n",
       "      <th>8</th>\n",
       "      <td>561</td>\n",
       "      <td>d</td>\n",
       "      <td>NaN</td>\n",
       "      <td>NaN</td>\n",
       "      <td>NaN</td>\n",
       "      <td>NaN</td>\n",
       "      <td>NaN</td>\n",
       "      <td>NaN</td>\n",
       "    </tr>\n",
       "    <tr>\n",
       "      <th>9</th>\n",
       "      <td>561</td>\n",
       "      <td>d</td>\n",
       "      <td>Connecticut</td>\n",
       "      <td>8.0</td>\n",
       "      <td>26</td>\n",
       "      <td>25</td>\n",
       "      <td>1</td>\n",
       "      <td>-</td>\n",
       "    </tr>\n",
       "  </tbody>\n",
       "</table>\n",
       "</div>"
      ],
      "text/plain": [
       "   561  h Geographic Area  Farms  Total Cropland Pastureland Rangeland\n",
       "0  561  h             NaN    NaN    NaN      NaN         NaN       NaN\n",
       "1  561  d   United States  688.0  50688    24550       17030      9108\n",
       "2  561  d             NaN    NaN    NaN      NaN         NaN       NaN\n",
       "3  561  d         Alabama    6.0    (D)       17         (D)         -\n",
       "4  561  d          Alaska    1.0    (D)        -         (D)         -\n",
       "5  561  d        Arkansas    2.0    (D)      (D)           -       (D)\n",
       "6  561  d      California   57.0   2596     1971         582        43\n",
       "7  561  d        Colorado   13.0    680      491          69       120\n",
       "8  561  d             NaN    NaN    NaN      NaN         NaN       NaN\n",
       "9  561  d     Connecticut    8.0     26       25           1         -"
      ]
     },
     "execution_count": 9,
     "metadata": {},
     "output_type": "execute_result"
    }
   ],
   "source": [
    "acresInTransition.head(10)"
   ]
  },
  {
   "cell_type": "code",
   "execution_count": 10,
   "metadata": {
    "collapsed": false
   },
   "outputs": [],
   "source": [
    "#drop nan rows\n",
    "acresInTransition = acresInTransition[np.isfinite(acresInTransition['Farms'])]"
   ]
  },
  {
   "cell_type": "code",
   "execution_count": 11,
   "metadata": {
    "collapsed": true
   },
   "outputs": [],
   "source": [
    "#del col '561'\n",
    "acresInTransition = acresInTransition.drop('561',1)"
   ]
  },
  {
   "cell_type": "code",
   "execution_count": 12,
   "metadata": {
    "collapsed": true
   },
   "outputs": [],
   "source": [
    "#del col 'h'\n",
    "acresInTransition = acresInTransition.drop('h',1)"
   ]
  },
  {
   "cell_type": "code",
   "execution_count": 13,
   "metadata": {
    "collapsed": true
   },
   "outputs": [],
   "source": [
    "#rename columns\n",
    "acresInTransition.columns = ['Area','farmsCount','totalAcresInTrans','croplandAcresInTrans',\n",
    "                     'pasturelandAcresInTrans','rangelandAcresInTrans']"
   ]
  },
  {
   "cell_type": "markdown",
   "metadata": {},
   "source": [
    "## 2014 organic survey table 1\n",
    "Farms, land and value of sales of organic ag products - certified and exempt farms\n",
    "\n",
    "bullets:\n",
    "\n",
    "- There are 14,048 organic farms operating in the United states. The total acreage is 3,670,560 acres.\n",
    "    - thats 261 acres per farm\n",
    "- 1,365 farms are classified as transitional, with 122,175 acres transitioning. \n",
    "    - thats 89 acres per farm"
   ]
  },
  {
   "cell_type": "code",
   "execution_count": 14,
   "metadata": {
    "collapsed": false
   },
   "outputs": [
    {
     "name": "stdout",
     "output_type": "stream",
     "text": [
      "1,\"t\",\"2014 Organic Survey: Released September 17, 2015, by the National Agricultural Statistics Service (NASS), Agricultural Statistics Board, U.S. Department of Agriculture.\"\r",
      "\r\n",
      "1,\"t\",\"Table 1.  Farms, Land, and Value of Sales of Organic Agricultural Products � Certified and Exempt Organic Farms:  2014\"\r",
      "\r\n",
      "1,\"t\",\"[For meaning of abbreviations and symbols, see introductory text.]\"\r",
      "\r\n",
      "1,\"h\",\"\",\"\",\"\",\"\",\"\",\"\",\"\",\"\"\r",
      "\r\n",
      "1,\"h\",\"Item\",\"\",\"United States\",\"Alabama\",\"Alaska\",\"Arizona\",\"Arkansas\",\"California\"\r",
      "\r\n",
      "1,\"h\",\"\",\"\",\"\",\"\",\"\",\"\",\"\",\"\"\r",
      "\r\n",
      "1,\"d\",\"ORGANIC FARMS\",\"\",,,,,,\r",
      "\r\n",
      "1,\"d\",\"\",\"\",,,,,,\r",
      "\r\n",
      "1,\"d\",\"Certified or exempt\",\"farms\",14093,28,17,61,34,2805\r",
      "\r\n",
      "1,\"d\",\"\",\"\",,,,,,\r",
      "\r\n"
     ]
    }
   ],
   "source": [
    "!head -n 10 corg_p011_t0001.csv"
   ]
  },
  {
   "cell_type": "code",
   "execution_count": 15,
   "metadata": {
    "collapsed": false
   },
   "outputs": [],
   "source": [
    "farmsLandValue = pd.read_csv('corg_p011_t0001.csv',skiprows=4)"
   ]
  },
  {
   "cell_type": "code",
   "execution_count": 16,
   "metadata": {
    "collapsed": true
   },
   "outputs": [],
   "source": [
    "#drop nan rows\n",
    "farmsLandValue = farmsLandValue[np.isfinite(farmsLandValue['United States'])]"
   ]
  },
  {
   "cell_type": "code",
   "execution_count": 17,
   "metadata": {
    "collapsed": false
   },
   "outputs": [],
   "source": [
    "#del cols\n",
    "farmsLandValue = farmsLandValue.drop(farmsLandValue.columns[[0,1,5,6,7,8,9]],1)"
   ]
  },
  {
   "cell_type": "code",
   "execution_count": 18,
   "metadata": {
    "collapsed": true
   },
   "outputs": [],
   "source": [
    "#forward fill item names to get rid of nans\n",
    "farmsLandValue['Item'] = farmsLandValue['Item'].fillna(method='ffill')"
   ]
  },
  {
   "cell_type": "code",
   "execution_count": 19,
   "metadata": {
    "collapsed": true
   },
   "outputs": [],
   "source": [
    "#rename columns\n",
    "farmsLandValue.columns = ['Item','Type','UnitedStatesTotal']"
   ]
  },
  {
   "cell_type": "code",
   "execution_count": 20,
   "metadata": {
    "collapsed": false
   },
   "outputs": [
    {
     "data": {
      "text/html": [
       "<div>\n",
       "<table border=\"1\" class=\"dataframe\">\n",
       "  <thead>\n",
       "    <tr style=\"text-align: right;\">\n",
       "      <th></th>\n",
       "      <th>Item</th>\n",
       "      <th>Type</th>\n",
       "      <th>UnitedStatesTotal</th>\n",
       "    </tr>\n",
       "  </thead>\n",
       "  <tbody>\n",
       "    <tr>\n",
       "      <th>3</th>\n",
       "      <td>Certified or exempt</td>\n",
       "      <td>farms</td>\n",
       "      <td>14093.0</td>\n",
       "    </tr>\n",
       "    <tr>\n",
       "      <th>8</th>\n",
       "      <td>operated</td>\n",
       "      <td>farms</td>\n",
       "      <td>14048.0</td>\n",
       "    </tr>\n",
       "    <tr>\n",
       "      <th>9</th>\n",
       "      <td>operated</td>\n",
       "      <td>acres</td>\n",
       "      <td>3670560.0</td>\n",
       "    </tr>\n",
       "    <tr>\n",
       "      <th>11</th>\n",
       "      <td>Land owned</td>\n",
       "      <td>farms</td>\n",
       "      <td>12353.0</td>\n",
       "    </tr>\n",
       "    <tr>\n",
       "      <th>12</th>\n",
       "      <td>Land owned</td>\n",
       "      <td>acres</td>\n",
       "      <td>2221715.0</td>\n",
       "    </tr>\n",
       "    <tr>\n",
       "      <th>13</th>\n",
       "      <td>Land rented from others</td>\n",
       "      <td>farms</td>\n",
       "      <td>5582.0</td>\n",
       "    </tr>\n",
       "    <tr>\n",
       "      <th>14</th>\n",
       "      <td>Land rented from others</td>\n",
       "      <td>acres</td>\n",
       "      <td>1507957.0</td>\n",
       "    </tr>\n",
       "    <tr>\n",
       "      <th>15</th>\n",
       "      <td>Land rented to others</td>\n",
       "      <td>farms</td>\n",
       "      <td>521.0</td>\n",
       "    </tr>\n",
       "    <tr>\n",
       "      <th>16</th>\n",
       "      <td>Land rented to others</td>\n",
       "      <td>acres</td>\n",
       "      <td>59112.0</td>\n",
       "    </tr>\n",
       "    <tr>\n",
       "      <th>18</th>\n",
       "      <td>Total certified organic acres operated</td>\n",
       "      <td>farms</td>\n",
       "      <td>12595.0</td>\n",
       "    </tr>\n",
       "  </tbody>\n",
       "</table>\n",
       "</div>"
      ],
      "text/plain": [
       "                                        Item   Type  UnitedStatesTotal\n",
       "3                        Certified or exempt  farms            14093.0\n",
       "8                                   operated  farms            14048.0\n",
       "9                                   operated  acres          3670560.0\n",
       "11                                Land owned  farms            12353.0\n",
       "12                                Land owned  acres          2221715.0\n",
       "13                   Land rented from others  farms             5582.0\n",
       "14                   Land rented from others  acres          1507957.0\n",
       "15                     Land rented to others  farms              521.0\n",
       "16                     Land rented to others  acres            59112.0\n",
       "18    Total certified organic acres operated  farms            12595.0"
      ]
     },
     "execution_count": 20,
     "metadata": {},
     "output_type": "execute_result"
    }
   ],
   "source": [
    "farmsLandValue.head(10)"
   ]
  },
  {
   "cell_type": "markdown",
   "metadata": {
    "collapsed": true
   },
   "source": [
    "## ERS organic price tables [old data]"
   ]
  },
  {
   "cell_type": "markdown",
   "metadata": {},
   "source": [
    "### Wholesale Veggies"
   ]
  },
  {
   "cell_type": "code",
   "execution_count": 21,
   "metadata": {
    "collapsed": false
   },
   "outputs": [
    {
     "name": "stdout",
     "output_type": "stream",
     "text": [
      "\" Wholesale vegetable prices, organic and conventional, monthly and annual, 2012\",,,,,,,,,,,,,,,,,\r\n",
      "Commodity,Subgroup,Package,Organic/ Conventional,Terminal Market,Jan-12,Feb-12,Mar-12,Apr-12,May-12,Jun-12,Jul-12,Aug-12,Sep-12,Oct-12,Nov-12,Dec-12,2012\r\n",
      "Artichoke (SF only),Globe,\"cartons, 24s\",Conv,San Fran,28.58,30.00,30.94,18.50,13.48,17.83,30.00,35.26,25.75,24.66,23.47,26.29,24.12\r\n",
      "Artichoke (SF only),Globe,\"cartons, 24s\",Org,San Fran,37.34,35.46,N\\A,N\\A,N\\A,30.31,35.00,40.12,45.50,40.47,32.76,32.50,36.88\r\n",
      "Cabbage,Round green type,\"40 lb cartons, medium\",Conv,Atlanta,N\\A,N\\A,N\\A,N\\A,N\\A,N\\A,N\\A,16.50,N\\A,N\\A,N\\A,N\\A,16.50\r\n"
     ]
    }
   ],
   "source": [
    "!head -n 5 Vegetables2012.csv"
   ]
  },
  {
   "cell_type": "code",
   "execution_count": 22,
   "metadata": {
    "collapsed": true
   },
   "outputs": [],
   "source": [
    "Veggies2012 = pd.read_csv('Vegetables2012.csv',skiprows=1)"
   ]
  },
  {
   "cell_type": "code",
   "execution_count": 23,
   "metadata": {
    "collapsed": true
   },
   "outputs": [],
   "source": [
    "Veggies2013 = pd.read_csv('Vegetables2013.csv', skiprows=1)"
   ]
  },
  {
   "cell_type": "code",
   "execution_count": 24,
   "metadata": {
    "collapsed": false,
    "scrolled": true
   },
   "outputs": [],
   "source": [
    "#drop the year summary vars\n",
    "#Veggies2012.columns.get_loc('2012');\n",
    "Veggies2012 = Veggies2012.drop(Veggies2012.columns[17],1)\n",
    "Veggies2013 = Veggies2013.drop(Veggies2013.columns[17],1)"
   ]
  },
  {
   "cell_type": "code",
   "execution_count": 25,
   "metadata": {
    "collapsed": false
   },
   "outputs": [],
   "source": [
    "#transform the data so dates are a column\n",
    "Veggies2012 = pd.melt(Veggies2012, id_vars=['Commodity','Subgroup','Package','Organic/ Conventional','Terminal Market'],\n",
    "       var_name='MonthYear', value_name='Price')\n",
    "\n",
    "Veggies2013 = pd.melt(Veggies2013, id_vars=['Commodity','Subgroup','Package','Organic/ Conventional','Terminal Market'],\n",
    "       var_name='MonthYear', value_name='Price')"
   ]
  },
  {
   "cell_type": "code",
   "execution_count": 105,
   "metadata": {
    "collapsed": false
   },
   "outputs": [],
   "source": [
    "#put em together\n",
    "Ags = Veggies2012.append(Veggies2013)"
   ]
  },
  {
   "cell_type": "code",
   "execution_count": 106,
   "metadata": {
    "collapsed": true
   },
   "outputs": [],
   "source": [
    "#make sure month year is formatted correctly then convert it to datetime\n",
    "#Veggies['MonthYear'].str.strip('\\n')\n",
    "Ags['MonthYear'] = Ags['MonthYear'].str.replace('-','20')\n",
    "Ags['MonthYearForm'] = Ags['MonthYear'].apply(lambda x: parse(x,default=DEFAULT))"
   ]
  },
  {
   "cell_type": "code",
   "execution_count": 107,
   "metadata": {
    "collapsed": false
   },
   "outputs": [],
   "source": [
    "#convert price to number formatting\n",
    "Ags['Price'] = pd.to_numeric(Ags['Price'],errors='coerce')"
   ]
  },
  {
   "cell_type": "code",
   "execution_count": 108,
   "metadata": {
    "collapsed": false
   },
   "outputs": [],
   "source": [
    "#want to have it so price for conventional and organic are columns\n",
    "#couldnt quickly google how-to, so doing it 'by hand'\n",
    "#first make the two columns, with price if there is one\n",
    "Ags['Price_Conv'] = np.where(Ags['Organic/ Conventional']=='Conv',Ags['Price'],'NaN')\n",
    "Ags['Price_Org'] = np.where(Ags['Organic/ Conventional']=='Org',Ags['Price'],'NaN')"
   ]
  },
  {
   "cell_type": "code",
   "execution_count": 109,
   "metadata": {
    "collapsed": true
   },
   "outputs": [],
   "source": [
    "#next convert new cols to numbers, my NaNs werent numbers\n",
    "Ags['Price_Conv'] = pd.to_numeric(Ags['Price_Conv'],errors='coerce')\n",
    "Ags['Price_Org'] = pd.to_numeric(Ags['Price_Org'],errors='coerce')"
   ]
  },
  {
   "cell_type": "code",
   "execution_count": 110,
   "metadata": {
    "collapsed": false
   },
   "outputs": [],
   "source": [
    "#back fill nans so one row has an entry for both cols\n",
    "Ags['Price_Conv'] = Ags['Price_Conv'].fillna(method='bfill')\n",
    "Ags['Price_Org'] = Ags['Price_Org'].fillna(method='bfill')"
   ]
  },
  {
   "cell_type": "code",
   "execution_count": 111,
   "metadata": {
    "collapsed": true
   },
   "outputs": [],
   "source": [
    "#price data in new cols is repeated and only the first is correct\n",
    "#so put NaNs back where they are legit\n",
    "def convOrg(row):\n",
    "    if (row['Organic/ Conventional'] == 'Conv' and pd.isnull(row['Price'])):\n",
    "        row['Price_Conv'] = 'NaN'\n",
    "    if (row['Organic/ Conventional'] == 'Org' and pd.isnull(row['Price'])):\n",
    "        row['Price_Org'] = 'NaN'\n",
    "    return row"
   ]
  },
  {
   "cell_type": "code",
   "execution_count": 112,
   "metadata": {
    "collapsed": false
   },
   "outputs": [],
   "source": [
    "Ags = Ags.apply(convOrg,axis=1)"
   ]
  },
  {
   "cell_type": "code",
   "execution_count": 113,
   "metadata": {
    "collapsed": false
   },
   "outputs": [],
   "source": [
    "#drop now unwanted columns\n",
    "#Ags.columns.get_loc('Organic/ Conventional');\n",
    "Ags = Ags.drop(Ags.columns[[3,5,6]],1)"
   ]
  },
  {
   "cell_type": "code",
   "execution_count": 114,
   "metadata": {
    "collapsed": false
   },
   "outputs": [],
   "source": [
    "#drop dupes keep first entry bc thats the good one\n",
    "Ags = Ags.drop_duplicates(['Commodity','MonthYearForm','Subgroup','Package','Terminal Market'], keep='first')"
   ]
  },
  {
   "cell_type": "code",
   "execution_count": 115,
   "metadata": {
    "collapsed": true
   },
   "outputs": [],
   "source": [
    "#next convert new cols to numbers, my NaNs werent numbers\n",
    "Ags['Price_Conv'] = pd.to_numeric(Ags['Price_Conv'],errors='coerce')\n",
    "Ags['Price_Org'] = pd.to_numeric(Ags['Price_Org'],errors='coerce')"
   ]
  },
  {
   "cell_type": "code",
   "execution_count": 116,
   "metadata": {
    "collapsed": false,
    "scrolled": false
   },
   "outputs": [],
   "source": [
    "#calculate the organic premium\n",
    "Ags['Premium'] = Ags['Price_Org'] - Ags['Price_Conv']\n",
    "Ags['PremiumAbs'] = (Ags['Price_Org'] - Ags['Price_Conv'])"
   ]
  },
  {
   "cell_type": "code",
   "execution_count": 117,
   "metadata": {
    "collapsed": false
   },
   "outputs": [],
   "source": [
    "Ags = Ags.set_index(['MonthYearForm'])"
   ]
  },
  {
   "cell_type": "code",
   "execution_count": 118,
   "metadata": {
    "collapsed": false
   },
   "outputs": [],
   "source": [
    "#replace nan with NaN string so the list of Uniquely doesnt have NaNs in it\n",
    "Ags.Commodity = Ags.Commodity.fillna('NaN')\n",
    "Ags.Subgroup = Ags.Subgroup.fillna('NaN')\n",
    "Ags.Package = Ags.Package.fillna('NaN')\n",
    "Ags['Terminal Market'] = Ags['Terminal Market'].fillna('NaN')"
   ]
  },
  {
   "cell_type": "code",
   "execution_count": 119,
   "metadata": {
    "collapsed": false
   },
   "outputs": [],
   "source": [
    "#make a unique variable so convert to list to be used in the dropdown for the graph\n",
    "Ags['Uniquely'] = Ags.Commodity + \"; \" + Ags.Subgroup + \"; \" + Ags.Package+ \"; \" + Ags['Terminal Market']"
   ]
  },
  {
   "cell_type": "code",
   "execution_count": 120,
   "metadata": {
    "collapsed": false
   },
   "outputs": [],
   "source": [
    "ulist = Ags.Uniquely.tolist()"
   ]
  },
  {
   "cell_type": "code",
   "execution_count": 121,
   "metadata": {
    "collapsed": true
   },
   "outputs": [],
   "source": [
    "# create groups to analyze\n",
    "# gCSPT0 = Ags.groupby(['Commodity','Subgroup','Package','Terminal Market'])"
   ]
  },
  {
   "cell_type": "markdown",
   "metadata": {},
   "source": [
    "### Graph\n",
    "\n",
    "doing a two line graphs"
   ]
  },
  {
   "cell_type": "code",
   "execution_count": 122,
   "metadata": {
    "collapsed": false
   },
   "outputs": [
    {
     "data": {
      "text/html": [
       "\n",
       "    <div class=\"bk-root\">\n",
       "        <a href=\"http://bokeh.pydata.org\" target=\"_blank\" class=\"bk-logo bk-logo-small bk-logo-notebook\"></a>\n",
       "        <span id=\"e9d1a2c2-df16-4031-93f7-ef2ccb7406cc\">Loading BokehJS ...</span>\n",
       "    </div>"
      ]
     },
     "metadata": {},
     "output_type": "display_data"
    },
    {
     "data": {
      "application/javascript": [
       "\n",
       "(function(global) {\n",
       "  function now() {\n",
       "    return new Date();\n",
       "  }\n",
       "\n",
       "  if (typeof (window._bokeh_onload_callbacks) === \"undefined\") {\n",
       "    window._bokeh_onload_callbacks = [];\n",
       "  }\n",
       "\n",
       "  function run_callbacks() {\n",
       "    window._bokeh_onload_callbacks.forEach(function(callback) { callback() });\n",
       "    delete window._bokeh_onload_callbacks\n",
       "    console.info(\"Bokeh: all callbacks have finished\");\n",
       "  }\n",
       "\n",
       "  function load_libs(js_urls, callback) {\n",
       "    window._bokeh_onload_callbacks.push(callback);\n",
       "    if (window._bokeh_is_loading > 0) {\n",
       "      console.log(\"Bokeh: BokehJS is being loaded, scheduling callback at\", now());\n",
       "      return null;\n",
       "    }\n",
       "    if (js_urls == null || js_urls.length === 0) {\n",
       "      run_callbacks();\n",
       "      return null;\n",
       "    }\n",
       "    console.log(\"Bokeh: BokehJS not loaded, scheduling load and callback at\", now());\n",
       "    window._bokeh_is_loading = js_urls.length;\n",
       "    for (var i = 0; i < js_urls.length; i++) {\n",
       "      var url = js_urls[i];\n",
       "      var s = document.createElement('script');\n",
       "      s.src = url;\n",
       "      s.async = false;\n",
       "      s.onreadystatechange = s.onload = function() {\n",
       "        window._bokeh_is_loading--;\n",
       "        if (window._bokeh_is_loading === 0) {\n",
       "          console.log(\"Bokeh: all BokehJS libraries loaded\");\n",
       "          run_callbacks()\n",
       "        }\n",
       "      };\n",
       "      s.onerror = function() {\n",
       "        console.warn(\"failed to load library \" + url);\n",
       "      };\n",
       "      console.log(\"Bokeh: injecting script tag for BokehJS library: \", url);\n",
       "      document.getElementsByTagName(\"head\")[0].appendChild(s);\n",
       "    }\n",
       "  };\n",
       "\n",
       "  var js_urls = ['https://cdn.pydata.org/bokeh/release/bokeh-0.12.0.min.js', 'https://cdn.pydata.org/bokeh/release/bokeh-widgets-0.12.0.min.js', 'https://cdn.pydata.org/bokeh/release/bokeh-compiler-0.12.0.min.js'];\n",
       "\n",
       "  var inline_js = [\n",
       "    function(Bokeh) {\n",
       "      Bokeh.set_log_level(\"info\");\n",
       "    },\n",
       "    \n",
       "    function(Bokeh) {\n",
       "      Bokeh.$(\"#e9d1a2c2-df16-4031-93f7-ef2ccb7406cc\").text(\"BokehJS successfully loaded\");\n",
       "    },\n",
       "    function(Bokeh) {\n",
       "      console.log(\"Bokeh: injecting CSS: https://cdn.pydata.org/bokeh/release/bokeh-0.12.0.min.css\");\n",
       "      Bokeh.embed.inject_css(\"https://cdn.pydata.org/bokeh/release/bokeh-0.12.0.min.css\");\n",
       "      console.log(\"Bokeh: injecting CSS: https://cdn.pydata.org/bokeh/release/bokeh-widgets-0.12.0.min.css\");\n",
       "      Bokeh.embed.inject_css(\"https://cdn.pydata.org/bokeh/release/bokeh-widgets-0.12.0.min.css\");\n",
       "    }\n",
       "  ];\n",
       "\n",
       "  function run_inline_js() {\n",
       "    for (var i = 0; i < inline_js.length; i++) {\n",
       "      inline_js[i](window.Bokeh);\n",
       "    }\n",
       "  }\n",
       "\n",
       "  if (window._bokeh_is_loading === 0) {\n",
       "    console.log(\"Bokeh: BokehJS loaded, going straight to plotting\");\n",
       "    run_inline_js();\n",
       "  } else {\n",
       "    load_libs(js_urls, function() {\n",
       "      console.log(\"Bokeh: BokehJS plotting callback run at\", now());\n",
       "      run_inline_js();\n",
       "    });\n",
       "  }\n",
       "}(this));"
      ]
     },
     "metadata": {},
     "output_type": "display_data"
    }
   ],
   "source": [
    "from bokeh.models import ColumnDataSource, HoverTool, Legend, Label\n",
    "from bokeh.models.widgets import DataTable, DateFormatter, TableColumn, Select, PreText\n",
    "from bokeh.io import output_notebook, show, vform\n",
    "from bokeh.plotting import figure\n",
    "from bokeh.layouts import column, widgetbox, row, column\n",
    "\n",
    "from jinja2 import Template\n",
    "\n",
    "from bokeh.embed import components\n",
    "from bokeh.models import Range1d\n",
    "from bokeh.resources import INLINE\n",
    "from bokeh.util.browser import view\n",
    "\n",
    "output_notebook()"
   ]
  },
  {
   "cell_type": "code",
   "execution_count": 123,
   "metadata": {
    "collapsed": false
   },
   "outputs": [],
   "source": [
    "#subset for simplicity\n",
    "# veglist =[]\n",
    "# for i, group in gCSPT0:\n",
    "#     veglist.append(i)\n",
    "\n",
    "# vegliststr = ['; '.join(item) for item in veglist]\n",
    "\n",
    "#show(widgetbox(vegpicker))\n",
    "\n",
    "# from bokeh.models.widgets import DataTable\n",
    "# from bokeh.layouts import widgetbox"
   ]
  },
  {
   "cell_type": "code",
   "execution_count": 141,
   "metadata": {
    "collapsed": true
   },
   "outputs": [],
   "source": [
    "DEFAULT_TICKERS = ulist\n",
    "\n",
    "def nix(val, lst):\n",
    "    return [x for x in lst if x!= val]\n",
    "\n",
    "def get_data(v1):\n",
    "    data = Ags[Ags.Uniquely == v1]\n",
    "    return data\n",
    "\n",
    "#set up widget\n",
    "ticker = Select(title=\"Veggies:\", options=ulist)"
   ]
  },
  {
   "cell_type": "code",
   "execution_count": 142,
   "metadata": {
    "collapsed": false
   },
   "outputs": [
    {
     "ename": "AttributeError",
     "evalue": "'dict' object has no attribute 'index'",
     "output_type": "error",
     "traceback": [
      "\u001b[1;31m---------------------------------------------------------------------------\u001b[0m",
      "\u001b[1;31mAttributeError\u001b[0m                            Traceback (most recent call last)",
      "\u001b[1;32m<ipython-input-142-86f8b0ce0b2d>\u001b[0m in \u001b[0;36m<module>\u001b[1;34m()\u001b[0m\n\u001b[0;32m      9\u001b[0m \u001b[1;33m\u001b[0m\u001b[0m\n\u001b[0;32m     10\u001b[0m     \u001b[1;31m#date for x axis\u001b[0m\u001b[1;33m\u001b[0m\u001b[1;33m\u001b[0m\u001b[0m\n\u001b[1;32m---> 11\u001b[1;33m     \u001b[0mDate\u001b[0m\u001b[1;33m=\u001b[0m\u001b[1;33m[\u001b[0m\u001b[0mx\u001b[0m \u001b[1;32mfor\u001b[0m \u001b[0mx\u001b[0m \u001b[1;32min\u001b[0m \u001b[0mdata\u001b[0m\u001b[1;33m.\u001b[0m\u001b[0mindex\u001b[0m\u001b[1;33m]\u001b[0m\u001b[1;33m,\u001b[0m\u001b[1;33m\u001b[0m\u001b[0m\n\u001b[0m\u001b[0;32m     12\u001b[0m \u001b[1;33m\u001b[0m\u001b[0m\n\u001b[0;32m     13\u001b[0m     \u001b[1;31m#data for line\u001b[0m\u001b[1;33m\u001b[0m\u001b[1;33m\u001b[0m\u001b[0m\n",
      "\u001b[1;31mAttributeError\u001b[0m: 'dict' object has no attribute 'index'"
     ]
    }
   ],
   "source": [
    "#set up Plots\n",
    "p = figure(x_axis_type='datetime', tools='hover,pan,crosshair,box_zoom,reset,save')\n",
    "\n",
    "p.plot_width = 800\n",
    "p.plot_height = 500\n",
    "\n",
    "source = ColumnDataSource(\n",
    "    data=dict(\n",
    "        \n",
    "    #date for x axis\n",
    "    Date=[x for x in data.index],\n",
    "        \n",
    "    #data for line\n",
    "    Org=[x for x in data.Price_Org],\n",
    "    Conv=[x for x in data.Price_Conv],\n",
    "        \n",
    "    #for the hover tool\n",
    "    OrgH = data.Price_Org,\n",
    "    ConvH = data.Price_Conv,\n",
    "    premH = data.Premium     \n",
    "    )\n",
    ")\n",
    "\n",
    "source_static = ColumnDataSource(\n",
    "    data=dict(\n",
    "        \n",
    "    #date for x axis\n",
    "    Date=[x for x in data.index],\n",
    "        \n",
    "    #data for line\n",
    "    Org=[x for x in data.Price_Org],\n",
    "    Conv=[x for x in data.Price_Conv],\n",
    "        \n",
    "    #for the hover tool\n",
    "    OrgH = data.Price_Org,\n",
    "    ConvH = data.Price_Conv,\n",
    "    premH = data.Premium     \n",
    "    )\n",
    ")\n",
    "\n",
    "p.select_one(HoverTool).tooltips = [\n",
    "    (\"Organic: \", \"@OrgH\"),\n",
    "    (\"Conventional: \", \"@ConvH\"),\n",
    "    (\"Org. Premium: \", \"@premH\"),\n",
    "    \n",
    "]\n",
    "\n",
    "p1 = p.line(x=\"Date\", y=\"Org\", legend=\"Organics\", line_color=\"#a6cee3\",source=source)\n",
    "p2 = p.line(x=\"Date\", y=\"Conv\", legend=\"Conventional\", line_color=\"#fdbf6f\",source=source)\n",
    "\n",
    "p.legend.orientation = \"horizontal\"\n",
    "p.legend.location=\"top_left\"\n",
    "\n",
    "#stats to display\n",
    "cabCorr = data.Price_Conv.corr(data.Price_Org).round(decimals=2)\n",
    "cabPremAvg = round(data.PremiumAbs.mean(),2)\n",
    "minPrem = round(data.PremiumAbs.min(),2)\n",
    "maxPrem = round(data.PremiumAbs.max(),2)\n",
    "AvgOrg = round(data.Price_Org.mean(),2)\n",
    "AvgConv = round(data.Price_Conv.mean(),2)\n",
    "\n",
    "vegd = dict(\n",
    "    correlation=[cabCorr],\n",
    "    orgPrem=[cabPremAvg],\n",
    "    minPrem=[minPrem],\n",
    "    maxPrem=[maxPrem],\n",
    "    AvgOrg=[AvgOrg],\n",
    "    AvgConv=[AvgConv],\n",
    ")\n",
    "\n",
    "source=ColumnDataSource(vegd)\n",
    "\n",
    "columns = [\n",
    "    TableColumn(field=\"correlation\", title=\"Correlation\"),\n",
    "    TableColumn(field=\"orgPrem\", title=\"Average Premium\"),\n",
    "    TableColumn(field=\"minPrem\", title=\"Min. Premium\"),\n",
    "    TableColumn(field=\"maxPrem\", title=\"Max. Premium\"),\n",
    "]\n",
    "\n",
    "data_table = DataTable(source=source,columns=columns,width=900,height=75,row_headers=False,\n",
    "                      fit_columns=True)\n",
    "\n",
    "x = widgetbox(data_table)"
   ]
  },
  {
   "cell_type": "code",
   "execution_count": 134,
   "metadata": {
    "collapsed": true
   },
   "outputs": [],
   "source": [
    "#set up callbacks\n",
    "def ticker_change(attrname, old, new):\n",
    "    ticker.options = nix(new, DEFAULT_TICKERS)\n",
    "    update()"
   ]
  },
  {
   "cell_type": "code",
   "execution_count": 135,
   "metadata": {
    "collapsed": true
   },
   "outputs": [],
   "source": [
    "def update(selected=None):\n",
    "    \n",
    "    v1 = ticker.value\n",
    "    data = get_data(v1)\n",
    "    source.data=source.from_df(data)\n",
    "    source_static.data=source.from_df(data)\n",
    "    \n",
    "    p.title.text = v1"
   ]
  },
  {
   "cell_type": "code",
   "execution_count": 136,
   "metadata": {
    "collapsed": true
   },
   "outputs": [],
   "source": [
    "def selection_change(attrname, old, new):\n",
    "    v1 = ticker.value\n",
    "    data=get_data(v1)\n",
    "    selected = source.selected['Uniquely']\n",
    "    if selected:\n",
    "        data = data.iloc[selected, :]"
   ]
  },
  {
   "cell_type": "code",
   "execution_count": 137,
   "metadata": {
    "collapsed": true
   },
   "outputs": [],
   "source": [
    "source.on_change('selected',selection_change)"
   ]
  },
  {
   "cell_type": "code",
   "execution_count": 138,
   "metadata": {
    "collapsed": true
   },
   "outputs": [],
   "source": [
    "layout = column(p,x)"
   ]
  },
  {
   "cell_type": "code",
   "execution_count": 139,
   "metadata": {
    "collapsed": false
   },
   "outputs": [
    {
     "ename": "NameError",
     "evalue": "name 'source_static' is not defined",
     "output_type": "error",
     "traceback": [
      "\u001b[1;31m---------------------------------------------------------------------------\u001b[0m",
      "\u001b[1;31mNameError\u001b[0m                                 Traceback (most recent call last)",
      "\u001b[1;32m<ipython-input-139-89726d434d25>\u001b[0m in \u001b[0;36m<module>\u001b[1;34m()\u001b[0m\n\u001b[1;32m----> 1\u001b[1;33m \u001b[0mupdate\u001b[0m\u001b[1;33m(\u001b[0m\u001b[1;33m)\u001b[0m\u001b[1;33m\u001b[0m\u001b[0m\n\u001b[0m",
      "\u001b[1;32m<ipython-input-135-a1ebd7f5adb1>\u001b[0m in \u001b[0;36mupdate\u001b[1;34m(selected)\u001b[0m\n\u001b[0;32m      4\u001b[0m     \u001b[0mdata\u001b[0m \u001b[1;33m=\u001b[0m \u001b[0mget_data\u001b[0m\u001b[1;33m(\u001b[0m\u001b[0mv1\u001b[0m\u001b[1;33m)\u001b[0m\u001b[1;33m\u001b[0m\u001b[0m\n\u001b[0;32m      5\u001b[0m     \u001b[0msource\u001b[0m\u001b[1;33m.\u001b[0m\u001b[0mdata\u001b[0m\u001b[1;33m=\u001b[0m\u001b[0msource\u001b[0m\u001b[1;33m.\u001b[0m\u001b[0mfrom_df\u001b[0m\u001b[1;33m(\u001b[0m\u001b[0mdata\u001b[0m\u001b[1;33m)\u001b[0m\u001b[1;33m\u001b[0m\u001b[0m\n\u001b[1;32m----> 6\u001b[1;33m     \u001b[0msource_static\u001b[0m\u001b[1;33m.\u001b[0m\u001b[0mdata\u001b[0m\u001b[1;33m=\u001b[0m\u001b[0msource\u001b[0m\u001b[1;33m.\u001b[0m\u001b[0mfrom_df\u001b[0m\u001b[1;33m(\u001b[0m\u001b[0mdata\u001b[0m\u001b[1;33m)\u001b[0m\u001b[1;33m\u001b[0m\u001b[0m\n\u001b[0m\u001b[0;32m      7\u001b[0m \u001b[1;33m\u001b[0m\u001b[0m\n\u001b[0;32m      8\u001b[0m     \u001b[0mp\u001b[0m\u001b[1;33m.\u001b[0m\u001b[0mtitle\u001b[0m\u001b[1;33m.\u001b[0m\u001b[0mtext\u001b[0m \u001b[1;33m=\u001b[0m \u001b[0mv1\u001b[0m\u001b[1;33m\u001b[0m\u001b[0m\n",
      "\u001b[1;31mNameError\u001b[0m: name 'source_static' is not defined"
     ]
    }
   ],
   "source": [
    "update()"
   ]
  },
  {
   "cell_type": "code",
   "execution_count": null,
   "metadata": {
    "collapsed": true
   },
   "outputs": [],
   "source": [
    "curdoc.add_root(layout)"
   ]
  },
  {
   "cell_type": "code",
   "execution_count": null,
   "metadata": {
    "collapsed": true
   },
   "outputs": [],
   "source": [
    "curdoc().title='Veggies'"
   ]
  },
  {
   "cell_type": "code",
   "execution_count": null,
   "metadata": {
    "collapsed": true
   },
   "outputs": [],
   "source": []
  },
  {
   "cell_type": "code",
   "execution_count": 53,
   "metadata": {
    "collapsed": false,
    "scrolled": false
   },
   "outputs": [
    {
     "ename": "SyntaxError",
     "evalue": "invalid syntax (<ipython-input-53-5bc4f19f1916>, line 1)",
     "output_type": "error",
     "traceback": [
      "\u001b[1;36m  File \u001b[1;32m\"<ipython-input-53-5bc4f19f1916>\"\u001b[1;36m, line \u001b[1;32m1\u001b[0m\n\u001b[1;33m    Ags[Ags.Uniquely == v;\u001b[0m\n\u001b[1;37m                         ^\u001b[0m\n\u001b[1;31mSyntaxError\u001b[0m\u001b[1;31m:\u001b[0m invalid syntax\n"
     ]
    }
   ],
   "source": [
    "Ags[Ags.Uniquely == v;"
   ]
  },
  {
   "cell_type": "code",
   "execution_count": 54,
   "metadata": {
    "collapsed": false
   },
   "outputs": [],
   "source": [
    "cab = Ags[(Ags.Commodity == 'Cabbage') &\n",
    "      (Ags.Subgroup == 'Round green type') &\n",
    "      (Ags.Package == '45 lb cartons, medium') &\n",
    "      (Ags['Terminal Market'] == 'Atlanta')]"
   ]
  },
  {
   "cell_type": "code",
   "execution_count": 55,
   "metadata": {
    "collapsed": false
   },
   "outputs": [
    {
     "ename": "NameError",
     "evalue": "name 'veglist' is not defined",
     "output_type": "error",
     "traceback": [
      "\u001b[1;31m---------------------------------------------------------------------------\u001b[0m",
      "\u001b[1;31mNameError\u001b[0m                                 Traceback (most recent call last)",
      "\u001b[1;32m<ipython-input-55-33c12eba8a90>\u001b[0m in \u001b[0;36m<module>\u001b[1;34m()\u001b[0m\n\u001b[0;32m      1\u001b[0m \u001b[1;31m#for the graph title\u001b[0m\u001b[1;33m\u001b[0m\u001b[1;33m\u001b[0m\u001b[0m\n\u001b[1;32m----> 2\u001b[1;33m \u001b[0ms\u001b[0m\u001b[1;33m=\u001b[0m \u001b[1;34m\"/\"\u001b[0m\u001b[1;33m.\u001b[0m\u001b[0mjoin\u001b[0m\u001b[1;33m(\u001b[0m\u001b[0mveglist\u001b[0m\u001b[1;33m[\u001b[0m\u001b[1;36m1\u001b[0m\u001b[1;33m]\u001b[0m\u001b[1;33m)\u001b[0m\u001b[1;33m\u001b[0m\u001b[0m\n\u001b[0m",
      "\u001b[1;31mNameError\u001b[0m: name 'veglist' is not defined"
     ]
    }
   ],
   "source": [
    "#for the graph title\n",
    "s= \"/\".join(veglist[1])"
   ]
  },
  {
   "cell_type": "code",
   "execution_count": 56,
   "metadata": {
    "collapsed": false,
    "scrolled": true
   },
   "outputs": [],
   "source": [
    "# source.data = source.from_df(data)"
   ]
  },
  {
   "cell_type": "code",
   "execution_count": 57,
   "metadata": {
    "collapsed": false
   },
   "outputs": [],
   "source": [
    "\n"
   ]
  },
  {
   "cell_type": "markdown",
   "metadata": {},
   "source": [
    "### Table below graph with stats"
   ]
  },
  {
   "cell_type": "code",
   "execution_count": 58,
   "metadata": {
    "collapsed": true
   },
   "outputs": [],
   "source": [
    "#stats to display\n",
    "cabCorr = cab.Price_Conv.corr(cab.Price_Org).round(decimals=2)\n",
    "cabPremAvg = round(cab.PremiumAbs.mean(),2)\n",
    "minPrem = round(cab.PremiumAbs.min(),2)\n",
    "maxPrem = round(cab.PremiumAbs.max(),2)\n",
    "AvgOrg = round(cab.Price_Org.mean(),2)\n",
    "AvgConv = round(cab.Price_Conv.mean(),2)\n",
    "\n",
    "data = dict(\n",
    "    correlation=[cabCorr],\n",
    "    orgPrem=[cabPremAvg],\n",
    "    minPrem=[minPrem],\n",
    "    maxPrem=[maxPrem],\n",
    "    AvgOrg=[AvgOrg],\n",
    "    AvgConv=[AvgConv],\n",
    ")\n",
    "\n",
    "source=ColumnDataSource(data)\n",
    "\n",
    "columns = [\n",
    "    TableColumn(field=\"correlation\", title=\"Correlation\"),\n",
    "    TableColumn(field=\"orgPrem\", title=\"Average Premium\"),\n",
    "    TableColumn(field=\"minPrem\", title=\"Min. Premium\"),\n",
    "    TableColumn(field=\"maxPrem\", title=\"Max. Premium\"),\n",
    "]\n",
    "\n",
    "data_table = DataTable(source=source,columns=columns,width=900,height=75,row_headers=False,\n",
    "                      fit_columns=True)\n",
    "\n",
    "x = widgetbox(data_table)"
   ]
  },
  {
   "cell_type": "markdown",
   "metadata": {},
   "source": [
    "### Final Graph"
   ]
  },
  {
   "cell_type": "code",
   "execution_count": 63,
   "metadata": {
    "collapsed": false,
    "scrolled": false
   },
   "outputs": [
    {
     "data": {
      "text/html": [
       "\n",
       "\n",
       "    <div class=\"bk-root\">\n",
       "        <div class=\"plotdiv\" id=\"47d86190-7ad8-4af8-8002-48e683c23998\"></div>\n",
       "    </div>\n",
       "<script type=\"text/javascript\">\n",
       "  \n",
       "  (function(global) {\n",
       "    function now() {\n",
       "      return new Date();\n",
       "    }\n",
       "  \n",
       "    if (typeof (window._bokeh_onload_callbacks) === \"undefined\") {\n",
       "      window._bokeh_onload_callbacks = [];\n",
       "    }\n",
       "  \n",
       "    function run_callbacks() {\n",
       "      window._bokeh_onload_callbacks.forEach(function(callback) { callback() });\n",
       "      delete window._bokeh_onload_callbacks\n",
       "      console.info(\"Bokeh: all callbacks have finished\");\n",
       "    }\n",
       "  \n",
       "    function load_libs(js_urls, callback) {\n",
       "      window._bokeh_onload_callbacks.push(callback);\n",
       "      if (window._bokeh_is_loading > 0) {\n",
       "        console.log(\"Bokeh: BokehJS is being loaded, scheduling callback at\", now());\n",
       "        return null;\n",
       "      }\n",
       "      if (js_urls == null || js_urls.length === 0) {\n",
       "        run_callbacks();\n",
       "        return null;\n",
       "      }\n",
       "      console.log(\"Bokeh: BokehJS not loaded, scheduling load and callback at\", now());\n",
       "      window._bokeh_is_loading = js_urls.length;\n",
       "      for (var i = 0; i < js_urls.length; i++) {\n",
       "        var url = js_urls[i];\n",
       "        var s = document.createElement('script');\n",
       "        s.src = url;\n",
       "        s.async = false;\n",
       "        s.onreadystatechange = s.onload = function() {\n",
       "          window._bokeh_is_loading--;\n",
       "          if (window._bokeh_is_loading === 0) {\n",
       "            console.log(\"Bokeh: all BokehJS libraries loaded\");\n",
       "            run_callbacks()\n",
       "          }\n",
       "        };\n",
       "        s.onerror = function() {\n",
       "          console.warn(\"failed to load library \" + url);\n",
       "        };\n",
       "        console.log(\"Bokeh: injecting script tag for BokehJS library: \", url);\n",
       "        document.getElementsByTagName(\"head\")[0].appendChild(s);\n",
       "      }\n",
       "    };var element = document.getElementById(\"47d86190-7ad8-4af8-8002-48e683c23998\");\n",
       "    if (element == null) {\n",
       "      console.log(\"Bokeh: ERROR: autoload.js configured with elementid '47d86190-7ad8-4af8-8002-48e683c23998' but no matching script tag was found. \")\n",
       "      return false;\n",
       "    }\n",
       "  \n",
       "    var js_urls = [];\n",
       "  \n",
       "    var inline_js = [\n",
       "      function(Bokeh) {\n",
       "        Bokeh.$(function() {\n",
       "            var docs_json = {\"184d4562-e2e3-48cb-80f2-aa55fef05136\":{\"roots\":{\"references\":[{\"attributes\":{\"dimension\":1,\"plot\":{\"id\":\"893a65ad-399c-4831-ae43-474dd0ad95a8\",\"subtype\":\"Figure\",\"type\":\"Plot\"},\"ticker\":{\"id\":\"42346bf8-e03c-496e-920d-ef529d7f224b\",\"type\":\"BasicTicker\"}},\"id\":\"120d71f9-9726-4e23-9a00-9cf0f5f1d49d\",\"type\":\"Grid\"},{\"attributes\":{},\"id\":\"09c7b0fe-e4f5-4fc8-a482-57f919c125e3\",\"type\":\"StringEditor\"},{\"attributes\":{},\"id\":\"95206168-64af-40a7-b247-ecc87f8ef821\",\"type\":\"StringEditor\"},{\"attributes\":{\"data_source\":{\"id\":\"f34411a2-326c-4581-8041-0e731b1471ac\",\"type\":\"ColumnDataSource\"},\"glyph\":{\"id\":\"b189bee5-2162-43d3-aa27-09925c818c56\",\"type\":\"Line\"},\"hover_glyph\":null,\"nonselection_glyph\":{\"id\":\"2d46c3fb-505c-4176-8d21-a5d53662fb89\",\"type\":\"Line\"},\"selection_glyph\":null},\"id\":\"119fd08c-a868-4058-832f-b32bb453831c\",\"type\":\"GlyphRenderer\"},{\"attributes\":{\"line_alpha\":{\"value\":0.1},\"line_color\":{\"value\":\"#1f77b4\"},\"x\":{\"field\":\"Date\"},\"y\":{\"field\":\"Conv\"}},\"id\":\"2d46c3fb-505c-4176-8d21-a5d53662fb89\",\"type\":\"Line\"},{\"attributes\":{\"overlay\":{\"id\":\"0e4f6745-089d-4949-a038-84808709e84c\",\"type\":\"BoxAnnotation\"},\"plot\":{\"id\":\"893a65ad-399c-4831-ae43-474dd0ad95a8\",\"subtype\":\"Figure\",\"type\":\"Plot\"}},\"id\":\"6bd3aa0a-4b04-44a0-aee0-a3498bf4c114\",\"type\":\"BoxZoomTool\"},{\"attributes\":{},\"id\":\"e626763b-502e-4d9a-b21c-4aab91995b46\",\"type\":\"StringFormatter\"},{\"attributes\":{\"plot\":{\"id\":\"893a65ad-399c-4831-ae43-474dd0ad95a8\",\"subtype\":\"Figure\",\"type\":\"Plot\"},\"ticker\":{\"id\":\"89188bbf-6922-48c8-b831-989488b409c0\",\"type\":\"DatetimeTicker\"}},\"id\":\"2eb94212-142d-4371-8f22-15f8e19c1778\",\"type\":\"Grid\"},{\"attributes\":{\"plot\":{\"id\":\"893a65ad-399c-4831-ae43-474dd0ad95a8\",\"subtype\":\"Figure\",\"type\":\"Plot\"}},\"id\":\"baa8c7f1-92ec-4d77-a479-a4d9ac280ce4\",\"type\":\"PanTool\"},{\"attributes\":{\"active_drag\":\"auto\",\"active_scroll\":\"auto\",\"active_tap\":\"auto\",\"tools\":[{\"id\":\"2c8afbc4-fbec-4633-a4dd-2d8190af7533\",\"type\":\"HoverTool\"},{\"id\":\"baa8c7f1-92ec-4d77-a479-a4d9ac280ce4\",\"type\":\"PanTool\"},{\"id\":\"80d74d77-998c-4a09-95f8-2c2cadfe6c21\",\"type\":\"CrosshairTool\"},{\"id\":\"6bd3aa0a-4b04-44a0-aee0-a3498bf4c114\",\"type\":\"BoxZoomTool\"},{\"id\":\"cedbff89-fbb5-4e14-a523-bf6aa0ddd066\",\"type\":\"ResetTool\"},{\"id\":\"2cba5504-fa0c-48a4-8f73-dd9696aa20d5\",\"type\":\"SaveTool\"}]},\"id\":\"a5afd304-0e2e-4e72-ac6d-ea38b37ae9f7\",\"type\":\"Toolbar\"},{\"attributes\":{\"children\":[{\"id\":\"893a65ad-399c-4831-ae43-474dd0ad95a8\",\"subtype\":\"Figure\",\"type\":\"Plot\"},{\"id\":\"f4fa8724-2be1-4523-9e48-62a87701c6d5\",\"type\":\"WidgetBox\"}]},\"id\":\"d5a4b3dc-8933-4523-bf45-322309154b7b\",\"type\":\"Column\"},{\"attributes\":{},\"id\":\"e6f72be0-e81b-480a-b663-1ced199fc457\",\"type\":\"StringEditor\"},{\"attributes\":{},\"id\":\"d46d9019-5a74-4618-8d5b-505180967076\",\"type\":\"DatetimeTickFormatter\"},{\"attributes\":{\"callback\":null,\"column_names\":[\"maxPrem\",\"AvgConv\",\"correlation\",\"AvgOrg\",\"orgPrem\",\"minPrem\"],\"data\":{\"AvgConv\":[13.37],\"AvgOrg\":[41.9],\"correlation\":[0.37],\"maxPrem\":[49.29],\"minPrem\":[15.66],\"orgPrem\":[28.42]}},\"id\":\"ad9e6c18-07ea-430f-8788-7eea9c479d92\",\"type\":\"ColumnDataSource\"},{\"attributes\":{},\"id\":\"42346bf8-e03c-496e-920d-ef529d7f224b\",\"type\":\"BasicTicker\"},{\"attributes\":{\"months\":[0,2,4,6,8,10]},\"id\":\"65a9062f-4e27-4ecd-a435-217ce7ce8999\",\"type\":\"MonthsTicker\"},{\"attributes\":{\"num_minor_ticks\":5},\"id\":\"89188bbf-6922-48c8-b831-989488b409c0\",\"type\":\"DatetimeTicker\"},{\"attributes\":{\"children\":[{\"id\":\"e229512e-528a-46ef-8a00-8f76594cf874\",\"type\":\"DataTable\"}]},\"id\":\"f4fa8724-2be1-4523-9e48-62a87701c6d5\",\"type\":\"WidgetBox\"},{\"attributes\":{\"editor\":{\"id\":\"fbafcea8-8db1-47d9-bd07-97d81889ce25\",\"type\":\"StringEditor\"},\"field\":\"minPrem\",\"formatter\":{\"id\":\"504fee8d-7628-423d-ab59-3768b573c67c\",\"type\":\"StringFormatter\"},\"title\":\"Min. Premium\"},\"id\":\"88befbf6-fa12-4035-bcc9-76d07348185c\",\"type\":\"TableColumn\"},{\"attributes\":{\"formatter\":{\"id\":\"a03be7e5-691e-4eed-a57d-92c690c9b95a\",\"type\":\"BasicTickFormatter\"},\"plot\":{\"id\":\"893a65ad-399c-4831-ae43-474dd0ad95a8\",\"subtype\":\"Figure\",\"type\":\"Plot\"},\"ticker\":{\"id\":\"42346bf8-e03c-496e-920d-ef529d7f224b\",\"type\":\"BasicTicker\"}},\"id\":\"54f11e55-12fb-4dcf-b8da-89746f29b453\",\"type\":\"LinearAxis\"},{\"attributes\":{\"months\":[0,6]},\"id\":\"9653df07-6f50-4829-853d-6c1f186a94c8\",\"type\":\"MonthsTicker\"},{\"attributes\":{\"callback\":null,\"column_names\":[\"ConvH\",\"Date\",\"Conv\",\"Org\",\"OrgH\",\"premH\"],\"data\":{\"Conv\":[14.85,8.4,10.37,8.77,9.73,10.81,10.78,11.76,15.86,19.19,19.16,15.85,12.02,10.02,13.5,12.15,13.4,14.04,13.66,14.92,18.95,15.13,13.8,13.81],\"ConvH\":[14.85,8.4,10.37,8.77,9.73,10.81,10.78,11.76,15.86,19.19,19.16,15.85,12.02,10.02,13.5,12.15,13.4,14.04,13.66,14.92,18.95,15.13,13.8,13.81],\"Date\":[1325376000000.0,1328054400000.0,1330560000000.0,1333238400000.0,1335830400000.0,1338508800000.0,1341100800000.0,1343779200000.0,1346457600000.0,1349049600000.0,1351728000000.0,1354320000000.0,1356998400000.0,1359676800000.0,1362096000000.0,1364774400000.0,1367366400000.0,1370044800000.0,1372636800000.0,1375315200000.0,1377993600000.0,1380585600000.0,1383264000000.0,1385856000000.0],\"Org\":[33.95,36.35,29.59,24.43,29.0,32.94,\"NaN\",52.77,45.5,36.78,42.0,45.65,39.38,41.44,36.4,36.25,47.78,63.33,62.82,55.09,45.8,45.0,42.79,38.73],\"OrgH\":[33.95,36.35,29.59,24.43,29.0,32.94,\"NaN\",52.77,45.5,36.78,42.0,45.65,39.38,41.44,36.4,36.25,47.78,63.33,62.82,55.09,45.8,45.0,42.79,38.73],\"premH\":[19.1,27.950000000000003,19.22,15.66,19.27,22.129999999999995,\"NaN\",41.010000000000005,29.64,17.59,22.84,29.799999999999997,27.360000000000003,31.419999999999998,22.9,24.1,34.38,49.29,49.16,40.17,26.849999999999998,29.869999999999997,28.99,24.919999999999995]}},\"id\":\"f34411a2-326c-4581-8041-0e731b1471ac\",\"type\":\"ColumnDataSource\"},{\"attributes\":{},\"id\":\"2dac32ad-30d6-45d8-b406-90d721b124cd\",\"type\":\"YearsTicker\"},{\"attributes\":{\"formatter\":{\"id\":\"d46d9019-5a74-4618-8d5b-505180967076\",\"type\":\"DatetimeTickFormatter\"},\"plot\":{\"id\":\"893a65ad-399c-4831-ae43-474dd0ad95a8\",\"subtype\":\"Figure\",\"type\":\"Plot\"},\"ticker\":{\"id\":\"89188bbf-6922-48c8-b831-989488b409c0\",\"type\":\"DatetimeTicker\"}},\"id\":\"f53be9d8-726c-4b56-bb22-fbca6e33e18e\",\"type\":\"DatetimeAxis\"},{\"attributes\":{},\"id\":\"ffda706e-4234-47de-8d9a-6d49ff92626b\",\"type\":\"StringFormatter\"},{\"attributes\":{\"line_color\":{\"value\":\"#fdbf6f\"},\"x\":{\"field\":\"Date\"},\"y\":{\"field\":\"Conv\"}},\"id\":\"b189bee5-2162-43d3-aa27-09925c818c56\",\"type\":\"Line\"},{\"attributes\":{\"legends\":[[\"Organics\",[{\"id\":\"c7004a26-79ea-4619-89ab-ea882ab2f1a8\",\"type\":\"GlyphRenderer\"}]],[\"Conventional\",[{\"id\":\"119fd08c-a868-4058-832f-b32bb453831c\",\"type\":\"GlyphRenderer\"}]]],\"location\":\"top_left\",\"orientation\":\"horizontal\",\"plot\":{\"id\":\"893a65ad-399c-4831-ae43-474dd0ad95a8\",\"subtype\":\"Figure\",\"type\":\"Plot\"}},\"id\":\"da4034cc-00e4-44a1-81cf-2c54820c097a\",\"type\":\"Legend\"},{\"attributes\":{\"editor\":{\"id\":\"e6f72be0-e81b-480a-b663-1ced199fc457\",\"type\":\"StringEditor\"},\"field\":\"orgPrem\",\"formatter\":{\"id\":\"e626763b-502e-4d9a-b21c-4aab91995b46\",\"type\":\"StringFormatter\"},\"title\":\"Average Premium\"},\"id\":\"c82c8875-0f77-429e-a4cf-9bec83c892b4\",\"type\":\"TableColumn\"},{\"attributes\":{\"days\":[1,2,3,4,5,6,7,8,9,10,11,12,13,14,15,16,17,18,19,20,21,22,23,24,25,26,27,28,29,30,31]},\"id\":\"c655e39a-ff33-4fee-bb4f-bfff2786963a\",\"type\":\"DaysTicker\"},{\"attributes\":{},\"id\":\"fbafcea8-8db1-47d9-bd07-97d81889ce25\",\"type\":\"StringEditor\"},{\"attributes\":{\"callback\":null},\"id\":\"a4440312-ff02-4fec-a6d6-2b6a1f8909c5\",\"type\":\"DataRange1d\"},{\"attributes\":{\"callback\":null},\"id\":\"f888feff-eedd-490d-9f20-3cc7f8d01ff9\",\"type\":\"DataRange1d\"},{\"attributes\":{\"callback\":null,\"plot\":{\"id\":\"893a65ad-399c-4831-ae43-474dd0ad95a8\",\"subtype\":\"Figure\",\"type\":\"Plot\"},\"tooltips\":[[\"Organic: \",\"@OrgH\"],[\"Conventional: \",\"@ConvH\"],[\"Org. Premium: \",\"@premH\"]]},\"id\":\"2c8afbc4-fbec-4633-a4dd-2d8190af7533\",\"type\":\"HoverTool\"},{\"attributes\":{},\"id\":\"2c63b15e-2b0f-4086-9738-b0a3ac28cfbe\",\"type\":\"StringFormatter\"},{\"attributes\":{\"months\":[0,4,8]},\"id\":\"c011146f-674f-4192-a175-2fe2376c9d10\",\"type\":\"MonthsTicker\"},{\"attributes\":{\"columns\":[{\"id\":\"b234b6e6-727a-454d-a40e-f2f22832d1d7\",\"type\":\"TableColumn\"},{\"id\":\"c82c8875-0f77-429e-a4cf-9bec83c892b4\",\"type\":\"TableColumn\"},{\"id\":\"88befbf6-fa12-4035-bcc9-76d07348185c\",\"type\":\"TableColumn\"},{\"id\":\"28e304a2-8285-4d16-b7c7-1b75dfde4b41\",\"type\":\"TableColumn\"}],\"height\":75,\"row_headers\":false,\"source\":{\"id\":\"ad9e6c18-07ea-430f-8788-7eea9c479d92\",\"type\":\"ColumnDataSource\"},\"width\":900},\"id\":\"e229512e-528a-46ef-8a00-8f76594cf874\",\"type\":\"DataTable\"},{\"attributes\":{\"data_source\":{\"id\":\"f34411a2-326c-4581-8041-0e731b1471ac\",\"type\":\"ColumnDataSource\"},\"glyph\":{\"id\":\"9b6e855e-a29f-40e4-8979-6a11e91e3349\",\"type\":\"Line\"},\"hover_glyph\":null,\"nonselection_glyph\":{\"id\":\"be491d62-cc98-4c13-825a-feb73d5f057a\",\"type\":\"Line\"},\"selection_glyph\":null},\"id\":\"c7004a26-79ea-4619-89ab-ea882ab2f1a8\",\"type\":\"GlyphRenderer\"},{\"attributes\":{},\"id\":\"a03be7e5-691e-4eed-a57d-92c690c9b95a\",\"type\":\"BasicTickFormatter\"},{\"attributes\":{\"plot\":null,\"text\":\"s\"},\"id\":\"d75f8bbe-1c4f-466c-a02f-66ef5d4035a8\",\"type\":\"Title\"},{\"attributes\":{},\"id\":\"504fee8d-7628-423d-ab59-3768b573c67c\",\"type\":\"StringFormatter\"},{\"attributes\":{\"editor\":{\"id\":\"95206168-64af-40a7-b247-ecc87f8ef821\",\"type\":\"StringEditor\"},\"field\":\"maxPrem\",\"formatter\":{\"id\":\"2c63b15e-2b0f-4086-9738-b0a3ac28cfbe\",\"type\":\"StringFormatter\"},\"title\":\"Max. Premium\"},\"id\":\"28e304a2-8285-4d16-b7c7-1b75dfde4b41\",\"type\":\"TableColumn\"},{\"attributes\":{\"months\":[0,1,2,3,4,5,6,7,8,9,10,11]},\"id\":\"5addd0be-841c-4c9d-8386-e39053616148\",\"type\":\"MonthsTicker\"},{\"attributes\":{\"line_color\":{\"value\":\"#a6cee3\"},\"x\":{\"field\":\"Date\"},\"y\":{\"field\":\"Org\"}},\"id\":\"9b6e855e-a29f-40e4-8979-6a11e91e3349\",\"type\":\"Line\"},{\"attributes\":{\"below\":[{\"id\":\"f53be9d8-726c-4b56-bb22-fbca6e33e18e\",\"type\":\"DatetimeAxis\"}],\"left\":[{\"id\":\"54f11e55-12fb-4dcf-b8da-89746f29b453\",\"type\":\"LinearAxis\"}],\"plot_height\":500,\"plot_width\":800,\"renderers\":[{\"id\":\"f53be9d8-726c-4b56-bb22-fbca6e33e18e\",\"type\":\"DatetimeAxis\"},{\"id\":\"2eb94212-142d-4371-8f22-15f8e19c1778\",\"type\":\"Grid\"},{\"id\":\"54f11e55-12fb-4dcf-b8da-89746f29b453\",\"type\":\"LinearAxis\"},{\"id\":\"120d71f9-9726-4e23-9a00-9cf0f5f1d49d\",\"type\":\"Grid\"},{\"id\":\"0e4f6745-089d-4949-a038-84808709e84c\",\"type\":\"BoxAnnotation\"},{\"id\":\"da4034cc-00e4-44a1-81cf-2c54820c097a\",\"type\":\"Legend\"},{\"id\":\"c7004a26-79ea-4619-89ab-ea882ab2f1a8\",\"type\":\"GlyphRenderer\"},{\"id\":\"119fd08c-a868-4058-832f-b32bb453831c\",\"type\":\"GlyphRenderer\"}],\"title\":{\"id\":\"d75f8bbe-1c4f-466c-a02f-66ef5d4035a8\",\"type\":\"Title\"},\"tool_events\":{\"id\":\"99d0c85f-f57d-4b12-adb4-aaf00b629dbf\",\"type\":\"ToolEvents\"},\"toolbar\":{\"id\":\"a5afd304-0e2e-4e72-ac6d-ea38b37ae9f7\",\"type\":\"Toolbar\"},\"x_range\":{\"id\":\"f888feff-eedd-490d-9f20-3cc7f8d01ff9\",\"type\":\"DataRange1d\"},\"y_range\":{\"id\":\"a4440312-ff02-4fec-a6d6-2b6a1f8909c5\",\"type\":\"DataRange1d\"}},\"id\":\"893a65ad-399c-4831-ae43-474dd0ad95a8\",\"subtype\":\"Figure\",\"type\":\"Plot\"},{\"attributes\":{\"editor\":{\"id\":\"09c7b0fe-e4f5-4fc8-a482-57f919c125e3\",\"type\":\"StringEditor\"},\"field\":\"correlation\",\"formatter\":{\"id\":\"ffda706e-4234-47de-8d9a-6d49ff92626b\",\"type\":\"StringFormatter\"},\"title\":\"Correlation\"},\"id\":\"b234b6e6-727a-454d-a40e-f2f22832d1d7\",\"type\":\"TableColumn\"},{\"attributes\":{\"base\":24,\"mantissas\":[1,2,4,6,8,12],\"max_interval\":43200000.0,\"min_interval\":3600000.0,\"num_minor_ticks\":0},\"id\":\"94a502f7-8a64-44e2-b187-688881d3190f\",\"type\":\"AdaptiveTicker\"},{\"attributes\":{\"max_interval\":500.0,\"num_minor_ticks\":0},\"id\":\"733f9a49-1143-42be-85fe-17242e3aba05\",\"type\":\"AdaptiveTicker\"},{\"attributes\":{\"plot\":{\"id\":\"893a65ad-399c-4831-ae43-474dd0ad95a8\",\"subtype\":\"Figure\",\"type\":\"Plot\"}},\"id\":\"2cba5504-fa0c-48a4-8f73-dd9696aa20d5\",\"type\":\"SaveTool\"},{\"attributes\":{\"days\":[1,4,7,10,13,16,19,22,25,28]},\"id\":\"26e36b10-3da3-4228-a663-8428bb96bafa\",\"type\":\"DaysTicker\"},{\"attributes\":{\"plot\":{\"id\":\"893a65ad-399c-4831-ae43-474dd0ad95a8\",\"subtype\":\"Figure\",\"type\":\"Plot\"}},\"id\":\"cedbff89-fbb5-4e14-a523-bf6aa0ddd066\",\"type\":\"ResetTool\"},{\"attributes\":{\"bottom_units\":\"screen\",\"fill_alpha\":{\"value\":0.5},\"fill_color\":{\"value\":\"lightgrey\"},\"left_units\":\"screen\",\"level\":\"overlay\",\"line_alpha\":{\"value\":1.0},\"line_color\":{\"value\":\"black\"},\"line_dash\":[4,4],\"line_width\":{\"value\":2},\"plot\":null,\"render_mode\":\"css\",\"right_units\":\"screen\",\"top_units\":\"screen\"},\"id\":\"0e4f6745-089d-4949-a038-84808709e84c\",\"type\":\"BoxAnnotation\"},{\"attributes\":{\"plot\":{\"id\":\"893a65ad-399c-4831-ae43-474dd0ad95a8\",\"subtype\":\"Figure\",\"type\":\"Plot\"}},\"id\":\"80d74d77-998c-4a09-95f8-2c2cadfe6c21\",\"type\":\"CrosshairTool\"},{\"attributes\":{\"base\":60,\"mantissas\":[1,2,5,10,15,20,30],\"max_interval\":1800000.0,\"min_interval\":1000.0,\"num_minor_ticks\":0},\"id\":\"563fea26-eb76-40ff-a487-c2e04345f456\",\"type\":\"AdaptiveTicker\"},{\"attributes\":{\"days\":[1,8,15,22]},\"id\":\"d0bb46f6-dc07-49f1-95f7-5586c01a7ccb\",\"type\":\"DaysTicker\"},{\"attributes\":{\"line_alpha\":{\"value\":0.1},\"line_color\":{\"value\":\"#1f77b4\"},\"x\":{\"field\":\"Date\"},\"y\":{\"field\":\"Org\"}},\"id\":\"be491d62-cc98-4c13-825a-feb73d5f057a\",\"type\":\"Line\"},{\"attributes\":{},\"id\":\"99d0c85f-f57d-4b12-adb4-aaf00b629dbf\",\"type\":\"ToolEvents\"},{\"attributes\":{\"days\":[1,15]},\"id\":\"a021efab-b58c-41c8-b59e-875c1bc0de3f\",\"type\":\"DaysTicker\"}],\"root_ids\":[\"d5a4b3dc-8933-4523-bf45-322309154b7b\"]},\"title\":\"Bokeh Application\",\"version\":\"0.12.0\"}};\n",
       "            var render_items = [{\"docid\":\"184d4562-e2e3-48cb-80f2-aa55fef05136\",\"elementid\":\"47d86190-7ad8-4af8-8002-48e683c23998\",\"modelid\":\"d5a4b3dc-8933-4523-bf45-322309154b7b\",\"notebook_comms_target\":\"df77b73e-7623-4a0d-be38-98320fea8977\"}];\n",
       "            \n",
       "            Bokeh.embed.embed_items(docs_json, render_items);\n",
       "        });\n",
       "      },\n",
       "      function(Bokeh) {\n",
       "      }\n",
       "    ];\n",
       "  \n",
       "    function run_inline_js() {\n",
       "      for (var i = 0; i < inline_js.length; i++) {\n",
       "        inline_js[i](window.Bokeh);\n",
       "      }\n",
       "    }\n",
       "  \n",
       "    if (window._bokeh_is_loading === 0) {\n",
       "      console.log(\"Bokeh: BokehJS loaded, going straight to plotting\");\n",
       "      run_inline_js();\n",
       "    } else {\n",
       "      load_libs(js_urls, function() {\n",
       "        console.log(\"Bokeh: BokehJS plotting callback run at\", now());\n",
       "        run_inline_js();\n",
       "      });\n",
       "    }\n",
       "  }(this));\n",
       "</script>"
      ]
     },
     "metadata": {},
     "output_type": "display_data"
    },
    {
     "data": {
      "text/html": [
       "<p><code>&lt;Bokeh Notebook handle for <strong>In[63]</strong>&gt;</code></p>"
      ],
      "text/plain": [
       "<bokeh.io._CommsHandle at 0x7f8b4ae35e48>"
      ]
     },
     "execution_count": 63,
     "metadata": {},
     "output_type": "execute_result"
    }
   ],
   "source": [
    "show(column(p,x))"
   ]
  },
  {
   "cell_type": "markdown",
   "metadata": {},
   "source": [
    "### Standalone html of graph"
   ]
  },
  {
   "cell_type": "code",
   "execution_count": null,
   "metadata": {
    "collapsed": false
   },
   "outputs": [],
   "source": [
    "# from jinja2 import Template\n",
    "\n",
    "# from bokeh.embed import components\n",
    "# from bokeh.models import Range1d\n",
    "# from bokeh.plotting import figure\n",
    "# from bokeh.resources import INLINE\n",
    "# from bokeh.util.browser import view"
   ]
  },
  {
   "cell_type": "code",
   "execution_count": null,
   "metadata": {
    "collapsed": true
   },
   "outputs": [],
   "source": [
    "plot = {'Comp':p}"
   ]
  },
  {
   "cell_type": "code",
   "execution_count": null,
   "metadata": {
    "collapsed": false
   },
   "outputs": [],
   "source": [
    "script, div = components(plot)"
   ]
  },
  {
   "cell_type": "code",
   "execution_count": null,
   "metadata": {
    "collapsed": false
   },
   "outputs": [],
   "source": [
    "template = Template('''<!DOCTYPE html>\n",
    "<html lang=\"en\">\n",
    "    <head>\n",
    "        <meta charset=\"utf-8\">\n",
    "        <title>Bokeh Scatter Plots</title>\n",
    "        {{ js_resources }}\n",
    "        {{ css_resources }}\n",
    "        {{ script }}\n",
    "        <style>\n",
    "            .embed-wrapper {\n",
    "                width: 50%;\n",
    "                height: 200px;\n",
    "                margin: auto;\n",
    "            }\n",
    "        </style>\n",
    "    </head>\n",
    "    <body>\n",
    "        {% for key in div.keys() %}\n",
    "            <div class=\"embed-wrapper\">\n",
    "            {{ div[key] }}\n",
    "            </div>\n",
    "        {% endfor %}\n",
    "    </body>\n",
    "</html>\n",
    "''')"
   ]
  },
  {
   "cell_type": "code",
   "execution_count": null,
   "metadata": {
    "collapsed": false
   },
   "outputs": [],
   "source": [
    "js_resources = INLINE.render_js()\n",
    "css_resources = INLINE.render_css()\n",
    "\n",
    "filename = 'organics.html'\n",
    "\n",
    "html = template.render(js_resources=js_resources,\n",
    "                       css_resources=css_resources,\n",
    "                       script=script,\n",
    "                       div=div)\n",
    "\n",
    "with open(filename, 'w') as f:\n",
    "    f.write(html)"
   ]
  },
  {
   "cell_type": "code",
   "execution_count": null,
   "metadata": {
    "collapsed": false,
    "scrolled": true
   },
   "outputs": [],
   "source": [
    "view(filename)"
   ]
  },
  {
   "cell_type": "code",
   "execution_count": null,
   "metadata": {
    "collapsed": true
   },
   "outputs": [],
   "source": []
  },
  {
   "cell_type": "code",
   "execution_count": null,
   "metadata": {
    "collapsed": true
   },
   "outputs": [],
   "source": []
  },
  {
   "cell_type": "code",
   "execution_count": null,
   "metadata": {
    "collapsed": true
   },
   "outputs": [],
   "source": []
  },
  {
   "cell_type": "code",
   "execution_count": null,
   "metadata": {
    "collapsed": true
   },
   "outputs": [],
   "source": []
  },
  {
   "cell_type": "code",
   "execution_count": null,
   "metadata": {
    "collapsed": true
   },
   "outputs": [],
   "source": []
  },
  {
   "cell_type": "code",
   "execution_count": null,
   "metadata": {
    "collapsed": true
   },
   "outputs": [],
   "source": []
  },
  {
   "cell_type": "code",
   "execution_count": null,
   "metadata": {
    "collapsed": true
   },
   "outputs": [],
   "source": [
    "#set up Plots\n",
    "p = figure(x_axis_type='datetime', tools='hover,pan,crosshair,box_zoom,reset,save',\n",
    "          title=\"s\")\n",
    "\n",
    "p.plot_width = 800\n",
    "p.plot_height = 500\n",
    "\n",
    "source = ColumnDataSource(\n",
    "    data=dict(\n",
    "        \n",
    "    #date for x axis\n",
    "    Date=[x for x in cab.index],\n",
    "        \n",
    "    #data for line\n",
    "    Org=[x for x in cab.Price_Org],\n",
    "    Conv=[x for x in cab.Price_Conv],\n",
    "        \n",
    "    #for the hover tool\n",
    "    OrgH = cab.Price_Org,\n",
    "    ConvH = cab.Price_Conv,\n",
    "    premH = cab.Premium     \n",
    "    )\n",
    ")\n",
    "\n",
    "p.select_one(HoverTool).tooltips = [\n",
    "    (\"Organic: \", \"@OrgH\"),\n",
    "    (\"Conventional: \", \"@ConvH\"),\n",
    "    (\"Org. Premium: \", \"@premH\"),\n",
    "    \n",
    "]\n",
    "\n",
    "p1 = p.line(x=\"Date\", y=\"Org\", legend=\"Organics\", line_color=\"#a6cee3\",source=source)\n",
    "p2 = p.line(x=\"Date\", y=\"Conv\", legend=\"Conventional\", line_color=\"#fdbf6f\",source=source)\n",
    "\n",
    "p.legend.orientation = \"horizontal\"\n",
    "p.legend.location=\"top_left\"\n",
    "\n",
    "#stats to display\n",
    "cabCorr = cab.Price_Conv.corr(cab.Price_Org).round(decimals=2)\n",
    "cabPremAvg = round(cab.PremiumAbs.mean(),2)\n",
    "minPrem = round(cab.PremiumAbs.min(),2)\n",
    "maxPrem = round(cab.PremiumAbs.max(),2)\n",
    "AvgOrg = round(cab.Price_Org.mean(),2)\n",
    "AvgConv = round(cab.Price_Conv.mean(),2)\n",
    "\n",
    "data = dict(\n",
    "    correlation=[cabCorr],\n",
    "    orgPrem=[cabPremAvg],\n",
    "    minPrem=[minPrem],\n",
    "    maxPrem=[maxPrem],\n",
    "    AvgOrg=[AvgOrg],\n",
    "    AvgConv=[AvgConv],\n",
    ")\n",
    "\n",
    "source=ColumnDataSource(data)\n",
    "\n",
    "columns = [\n",
    "    TableColumn(field=\"correlation\", title=\"Correlation\"),\n",
    "    TableColumn(field=\"orgPrem\", title=\"Average Premium\"),\n",
    "    TableColumn(field=\"minPrem\", title=\"Min. Premium\"),\n",
    "    TableColumn(field=\"maxPrem\", title=\"Max. Premium\"),\n",
    "]\n",
    "\n",
    "data_table = DataTable(source=source,columns=columns,width=900,height=75,row_headers=False,\n",
    "                      fit_columns=True)\n",
    "\n",
    "x = widgetbox(data_table)"
   ]
  },
  {
   "cell_type": "markdown",
   "metadata": {},
   "source": [
    "### Boneyard"
   ]
  },
  {
   "cell_type": "code",
   "execution_count": null,
   "metadata": {
    "collapsed": false
   },
   "outputs": [],
   "source": [
    "Ags1 = Ags.pivot_table('Price',['Commodity','MonthYearForm','Terminal Market','Subgroup'],'Organic/ Conventional')"
   ]
  },
  {
   "cell_type": "code",
   "execution_count": null,
   "metadata": {
    "collapsed": false
   },
   "outputs": [],
   "source": [
    "Ags1.head()"
   ]
  },
  {
   "cell_type": "code",
   "execution_count": null,
   "metadata": {
    "collapsed": false
   },
   "outputs": [],
   "source": [
    "Ags1.head()"
   ]
  },
  {
   "cell_type": "code",
   "execution_count": null,
   "metadata": {
    "collapsed": true
   },
   "outputs": [],
   "source": []
  },
  {
   "cell_type": "code",
   "execution_count": null,
   "metadata": {
    "collapsed": true
   },
   "outputs": [],
   "source": []
  },
  {
   "cell_type": "code",
   "execution_count": null,
   "metadata": {
    "collapsed": false,
    "scrolled": true
   },
   "outputs": [],
   "source": [
    "Ags.head()\n",
    "#Veggies2013.head()"
   ]
  },
  {
   "cell_type": "code",
   "execution_count": null,
   "metadata": {
    "collapsed": false
   },
   "outputs": [],
   "source": [
    "Veggies.dtypes"
   ]
  },
  {
   "cell_type": "code",
   "execution_count": null,
   "metadata": {
    "collapsed": true
   },
   "outputs": [],
   "source": []
  },
  {
   "cell_type": "code",
   "execution_count": null,
   "metadata": {
    "collapsed": true
   },
   "outputs": [],
   "source": []
  },
  {
   "cell_type": "code",
   "execution_count": null,
   "metadata": {
    "collapsed": true
   },
   "outputs": [],
   "source": []
  },
  {
   "cell_type": "code",
   "execution_count": null,
   "metadata": {
    "collapsed": true
   },
   "outputs": [],
   "source": []
  },
  {
   "cell_type": "code",
   "execution_count": null,
   "metadata": {
    "collapsed": true
   },
   "outputs": [],
   "source": []
  },
  {
   "cell_type": "code",
   "execution_count": null,
   "metadata": {
    "collapsed": true
   },
   "outputs": [],
   "source": []
  }
 ],
 "metadata": {
  "anaconda-cloud": {},
  "kernelspec": {
   "display_name": "Python [Root]",
   "language": "python",
   "name": "Python [Root]"
  },
  "language_info": {
   "codemirror_mode": {
    "name": "ipython",
    "version": 3
   },
   "file_extension": ".py",
   "mimetype": "text/x-python",
   "name": "python",
   "nbconvert_exporter": "python",
   "pygments_lexer": "ipython3",
   "version": "3.5.2"
  }
 },
 "nbformat": 4,
 "nbformat_minor": 0
}
