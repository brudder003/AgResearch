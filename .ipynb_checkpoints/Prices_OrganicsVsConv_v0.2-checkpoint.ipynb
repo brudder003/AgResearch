{
 "cells": [
  {
   "cell_type": "code",
   "execution_count": 1,
   "metadata": {
    "collapsed": true
   },
   "outputs": [],
   "source": [
    "import pandas as pd\n",
    "import numpy as np\n",
    "from dateutil.parser import *\n",
    "from datetime import *"
   ]
  },
  {
   "cell_type": "code",
   "execution_count": 2,
   "metadata": {
    "collapsed": false
   },
   "outputs": [],
   "source": [
    "DEFAULT = datetime(1,1,1)"
   ]
  },
  {
   "cell_type": "markdown",
   "metadata": {},
   "source": [
    "Py Notes\n",
    "\n",
    "- Data reshapping is awesome! http://pandas.pydata.org/pandas-docs/stable/reshaping.html"
   ]
  },
  {
   "cell_type": "markdown",
   "metadata": {
    "collapsed": true
   },
   "source": [
    "## Price relationship btwn organics and conventional crops\n",
    "\n",
    "\n",
    "Notes:\n",
    "- exempt farms are those that say they farm organic but do less thank $5k/year, so dont have be to be certified.\n",
    "- cropland - areas used for the production of adapted crops for harvest\n",
    "- rangeland - native vegetation land used for livestock\n",
    "- pastureland - seed land used for livestock\n",
    "\n",
    "Links:\n",
    "\n",
    "!UNFORTUNATELY THE USDA PRICE DATA HASNT BEEN UPDATED SINCE 2012\n",
    "- [USDA's ERS organic vs conventional price data](http://www.ers.usda.gov/data-products/organic-prices.aspx)\n",
    "- [USDA's ERS Documentation for prices](http://www.ers.usda.gov/data-products/organic-prices/documentation.aspx)\n",
    "\n",
    "The weekly reports are kept upt to date, but they're pdfs\n",
    "- [USDA's AMS Organic Reports (with commentary](http://www.ers.usda.gov/data-products/organic-prices/documentation.aspx)\n",
    "\n",
    "- [Resources for Organic and Transitioning Farmers](http://ofrf.org/policy/resources)\n",
    "\n",
    "-[USDA Oraganic Insider newsletter archive](http://archive.constantcontact.com/fs054/1103777415326/archive/1108212629106.html)\n",
    "\n",
    "https://www.agcensus.usda.gov/Publications/2012/Online_Resources/Organics/ORGANICS.pdf\n",
    "\n",
    "https://www.ams.usda.gov/market-news/organic\n",
    "\n",
    "https://www.ams.usda.gov/market-news/organic-market-news-reports\n",
    "\n",
    "https://www.ams.usda.gov/market-news/custom-reports\n",
    "\n",
    "\n",
    "- \"The 2015 Certified Organic Survey publication will be released in September 2016.\" [here](https://www.nass.usda.gov/Surveys/Guide_to_NASS_Surveys/Organic_Production/index.php)\n",
    "\n",
    "- [2014 Organic Survey](https://www.agcensus.usda.gov/Publications/2012/Online_Resources/Organics/)\n",
    "\n",
    "USDA Risk Management Agency: [organics page](http://www.rma.usda.gov/news/currentissues/organics/)\n",
    "- [Organic Pricing Methodologies for Barley, Corn,Cotton,Grain Sorghum, Rice, Soybeans, Sunflowers,and Wheat](http://www.rma.usda.gov/pubs/2015/organicpricingmethodology.pdf)\n",
    "- [Summary of business for organic production](http://www.rma.usda.gov/data/sob/organic/2015organic.pdf)\n",
    "\n",
    "[March 2016 report to congress](http://www.rma.usda.gov/pubs/2016/appropriations.pdf)\n",
    "\"After conducting research, it was determined that for some crops, the organic counterpart does \n",
    "not receive a premium price. For those crops, RMA has concluded that a premium organic price \n",
    "election is not warranted and has the potential to distort market behavior.  These crops are \n",
    "alfalfa seed, carambola trees, cigar filler tobacco, cigar wrapper tobacco, fire cured tobacco, forage seeding, lemon trees, lime trees, mango trees, and sugar beets.\"\n",
    "\n",
    "- [Auction Cash Market for organics](http://www.mercaris.com/company#about)\n",
    "\n"
   ]
  },
  {
   "cell_type": "code",
   "execution_count": 3,
   "metadata": {
    "collapsed": false
   },
   "outputs": [
    {
     "data": {
      "text/plain": [
       "'/home/brett/Documents/JupyterNotebooks/AgResearch'"
      ]
     },
     "execution_count": 3,
     "metadata": {},
     "output_type": "execute_result"
    }
   ],
   "source": [
    "%pwd"
   ]
  },
  {
   "cell_type": "code",
   "execution_count": 4,
   "metadata": {
    "collapsed": false
   },
   "outputs": [
    {
     "name": "stdout",
     "output_type": "stream",
     "text": [
      "/home/brett/Dropbox/AgResearch\n"
     ]
    }
   ],
   "source": [
    "%cd /home/brett/Dropbox/AgResearch/"
   ]
  },
  {
   "cell_type": "markdown",
   "metadata": {},
   "source": [
    "## 2014 organic survey table 551\n",
    "Transitional Organic Land Operated by Non-Organic Farms\n",
    "\n",
    "bullets:\n",
    "- 688 non-organic farms are transitioning to grow organic products. 50,688 acres total\n",
    "    - 24,550 acres cropland, 17,030 acres patureland, 9,108 acres rangeland\n",
    "    \n",
    "    \n",
    "    "
   ]
  },
  {
   "cell_type": "code",
   "execution_count": 5,
   "metadata": {
    "collapsed": false
   },
   "outputs": [
    {
     "name": "stdout",
     "output_type": "stream",
     "text": [
      "561,\"t\",\"2014 Organic Survey: Released September 17, 2015, by the National Agricultural Statistics Service (NASS), Agricultural Statistics Board, U.S. Department of Agriculture.\"\r",
      "\r\n",
      "561,\"t\",\"Table 81.  Transitional Organic Land Operated � Non-Organic Farms:  2014\"\r",
      "\r\n",
      "561,\"t\",\"[For meaning of abbreviations and symbols, see introductory text.]\"\r",
      "\r\n",
      "561,\"h\",\"\",\"\",\"\",\"\",\"\",\"\"\r",
      "\r\n",
      "561,\"h\",\"\",\"\",\"Acres in transition\",\"Acres in transition\",\"Acres in transition\",\"Acres in transition\"\r",
      "\r\n",
      "561,\"h\",\"\",\"\",\"\",\"\",\"\",\"\"\r",
      "\r\n",
      "561,\"h\",\"Geographic Area\",\"Farms\",\"Total\",\"Cropland\",\"Pastureland\",\"Rangeland\"\r",
      "\r\n",
      "561,\"h\",\"\",\"\",\"\",\"\",\"\",\"\"\r",
      "\r\n",
      "561,\"d\",\"United States\",688,50688,24550,17030,9108\r",
      "\r\n",
      "561,\"d\",\"\",,,,,\r",
      "\r\n"
     ]
    }
   ],
   "source": [
    "!head -n 10 corg_p551_t0561.csv"
   ]
  },
  {
   "cell_type": "code",
   "execution_count": 6,
   "metadata": {
    "collapsed": false
   },
   "outputs": [],
   "source": [
    "acresInTransition = pd.read_csv('corg_p551_t0561.csv',skiprows=6)"
   ]
  },
  {
   "cell_type": "code",
   "execution_count": 7,
   "metadata": {
    "collapsed": false
   },
   "outputs": [
    {
     "data": {
      "text/html": [
       "<div>\n",
       "<table border=\"1\" class=\"dataframe\">\n",
       "  <thead>\n",
       "    <tr style=\"text-align: right;\">\n",
       "      <th></th>\n",
       "      <th>561</th>\n",
       "      <th>h</th>\n",
       "      <th>Geographic Area</th>\n",
       "      <th>Farms</th>\n",
       "      <th>Total</th>\n",
       "      <th>Cropland</th>\n",
       "      <th>Pastureland</th>\n",
       "      <th>Rangeland</th>\n",
       "    </tr>\n",
       "  </thead>\n",
       "  <tbody>\n",
       "    <tr>\n",
       "      <th>0</th>\n",
       "      <td>561</td>\n",
       "      <td>h</td>\n",
       "      <td>NaN</td>\n",
       "      <td>NaN</td>\n",
       "      <td>NaN</td>\n",
       "      <td>NaN</td>\n",
       "      <td>NaN</td>\n",
       "      <td>NaN</td>\n",
       "    </tr>\n",
       "    <tr>\n",
       "      <th>1</th>\n",
       "      <td>561</td>\n",
       "      <td>d</td>\n",
       "      <td>United States</td>\n",
       "      <td>688.0</td>\n",
       "      <td>50688</td>\n",
       "      <td>24550</td>\n",
       "      <td>17030</td>\n",
       "      <td>9108</td>\n",
       "    </tr>\n",
       "    <tr>\n",
       "      <th>2</th>\n",
       "      <td>561</td>\n",
       "      <td>d</td>\n",
       "      <td>NaN</td>\n",
       "      <td>NaN</td>\n",
       "      <td>NaN</td>\n",
       "      <td>NaN</td>\n",
       "      <td>NaN</td>\n",
       "      <td>NaN</td>\n",
       "    </tr>\n",
       "    <tr>\n",
       "      <th>3</th>\n",
       "      <td>561</td>\n",
       "      <td>d</td>\n",
       "      <td>Alabama</td>\n",
       "      <td>6.0</td>\n",
       "      <td>(D)</td>\n",
       "      <td>17</td>\n",
       "      <td>(D)</td>\n",
       "      <td>-</td>\n",
       "    </tr>\n",
       "    <tr>\n",
       "      <th>4</th>\n",
       "      <td>561</td>\n",
       "      <td>d</td>\n",
       "      <td>Alaska</td>\n",
       "      <td>1.0</td>\n",
       "      <td>(D)</td>\n",
       "      <td>-</td>\n",
       "      <td>(D)</td>\n",
       "      <td>-</td>\n",
       "    </tr>\n",
       "    <tr>\n",
       "      <th>5</th>\n",
       "      <td>561</td>\n",
       "      <td>d</td>\n",
       "      <td>Arkansas</td>\n",
       "      <td>2.0</td>\n",
       "      <td>(D)</td>\n",
       "      <td>(D)</td>\n",
       "      <td>-</td>\n",
       "      <td>(D)</td>\n",
       "    </tr>\n",
       "    <tr>\n",
       "      <th>6</th>\n",
       "      <td>561</td>\n",
       "      <td>d</td>\n",
       "      <td>California</td>\n",
       "      <td>57.0</td>\n",
       "      <td>2596</td>\n",
       "      <td>1971</td>\n",
       "      <td>582</td>\n",
       "      <td>43</td>\n",
       "    </tr>\n",
       "    <tr>\n",
       "      <th>7</th>\n",
       "      <td>561</td>\n",
       "      <td>d</td>\n",
       "      <td>Colorado</td>\n",
       "      <td>13.0</td>\n",
       "      <td>680</td>\n",
       "      <td>491</td>\n",
       "      <td>69</td>\n",
       "      <td>120</td>\n",
       "    </tr>\n",
       "    <tr>\n",
       "      <th>8</th>\n",
       "      <td>561</td>\n",
       "      <td>d</td>\n",
       "      <td>NaN</td>\n",
       "      <td>NaN</td>\n",
       "      <td>NaN</td>\n",
       "      <td>NaN</td>\n",
       "      <td>NaN</td>\n",
       "      <td>NaN</td>\n",
       "    </tr>\n",
       "    <tr>\n",
       "      <th>9</th>\n",
       "      <td>561</td>\n",
       "      <td>d</td>\n",
       "      <td>Connecticut</td>\n",
       "      <td>8.0</td>\n",
       "      <td>26</td>\n",
       "      <td>25</td>\n",
       "      <td>1</td>\n",
       "      <td>-</td>\n",
       "    </tr>\n",
       "  </tbody>\n",
       "</table>\n",
       "</div>"
      ],
      "text/plain": [
       "   561  h Geographic Area  Farms  Total Cropland Pastureland Rangeland\n",
       "0  561  h             NaN    NaN    NaN      NaN         NaN       NaN\n",
       "1  561  d   United States  688.0  50688    24550       17030      9108\n",
       "2  561  d             NaN    NaN    NaN      NaN         NaN       NaN\n",
       "3  561  d         Alabama    6.0    (D)       17         (D)         -\n",
       "4  561  d          Alaska    1.0    (D)        -         (D)         -\n",
       "5  561  d        Arkansas    2.0    (D)      (D)           -       (D)\n",
       "6  561  d      California   57.0   2596     1971         582        43\n",
       "7  561  d        Colorado   13.0    680      491          69       120\n",
       "8  561  d             NaN    NaN    NaN      NaN         NaN       NaN\n",
       "9  561  d     Connecticut    8.0     26       25           1         -"
      ]
     },
     "execution_count": 7,
     "metadata": {},
     "output_type": "execute_result"
    }
   ],
   "source": [
    "acresInTransition.head(10)"
   ]
  },
  {
   "cell_type": "code",
   "execution_count": 8,
   "metadata": {
    "collapsed": false
   },
   "outputs": [],
   "source": [
    "#drop nan rows\n",
    "acresInTransition = acresInTransition[np.isfinite(acresInTransition['Farms'])]"
   ]
  },
  {
   "cell_type": "code",
   "execution_count": 9,
   "metadata": {
    "collapsed": true
   },
   "outputs": [],
   "source": [
    "#del col '561'\n",
    "acresInTransition = acresInTransition.drop('561',1)"
   ]
  },
  {
   "cell_type": "code",
   "execution_count": 10,
   "metadata": {
    "collapsed": true
   },
   "outputs": [],
   "source": [
    "#del col 'h'\n",
    "acresInTransition = acresInTransition.drop('h',1)"
   ]
  },
  {
   "cell_type": "code",
   "execution_count": 11,
   "metadata": {
    "collapsed": true
   },
   "outputs": [],
   "source": [
    "#rename columns\n",
    "acresInTransition.columns = ['Area','farmsCount','totalAcresInTrans','croplandAcresInTrans',\n",
    "                     'pasturelandAcresInTrans','rangelandAcresInTrans']"
   ]
  },
  {
   "cell_type": "markdown",
   "metadata": {},
   "source": [
    "## 2014 organic survey table 1\n",
    "Farms, land and value of sales of organic ag products - certified and exempt farms\n",
    "\n",
    "bullets:\n",
    "\n",
    "- There are 14,048 organic farms operating in the United states. The total acreage is 3,670,560 acres.\n",
    "    - thats 261 acres per farm\n",
    "- 1,365 farms are classified as transitional, with 122,175 acres transitioning. \n",
    "    - thats 89 acres per farm"
   ]
  },
  {
   "cell_type": "code",
   "execution_count": 12,
   "metadata": {
    "collapsed": false
   },
   "outputs": [
    {
     "name": "stdout",
     "output_type": "stream",
     "text": [
      "1,\"t\",\"2014 Organic Survey: Released September 17, 2015, by the National Agricultural Statistics Service (NASS), Agricultural Statistics Board, U.S. Department of Agriculture.\"\r",
      "\r\n",
      "1,\"t\",\"Table 1.  Farms, Land, and Value of Sales of Organic Agricultural Products � Certified and Exempt Organic Farms:  2014\"\r",
      "\r\n",
      "1,\"t\",\"[For meaning of abbreviations and symbols, see introductory text.]\"\r",
      "\r\n",
      "1,\"h\",\"\",\"\",\"\",\"\",\"\",\"\",\"\",\"\"\r",
      "\r\n",
      "1,\"h\",\"Item\",\"\",\"United States\",\"Alabama\",\"Alaska\",\"Arizona\",\"Arkansas\",\"California\"\r",
      "\r\n",
      "1,\"h\",\"\",\"\",\"\",\"\",\"\",\"\",\"\",\"\"\r",
      "\r\n",
      "1,\"d\",\"ORGANIC FARMS\",\"\",,,,,,\r",
      "\r\n",
      "1,\"d\",\"\",\"\",,,,,,\r",
      "\r\n",
      "1,\"d\",\"Certified or exempt\",\"farms\",14093,28,17,61,34,2805\r",
      "\r\n",
      "1,\"d\",\"\",\"\",,,,,,\r",
      "\r\n"
     ]
    }
   ],
   "source": [
    "!head -n 10 corg_p011_t0001.csv"
   ]
  },
  {
   "cell_type": "code",
   "execution_count": 13,
   "metadata": {
    "collapsed": false
   },
   "outputs": [],
   "source": [
    "farmsLandValue = pd.read_csv('corg_p011_t0001.csv',skiprows=4)"
   ]
  },
  {
   "cell_type": "code",
   "execution_count": 14,
   "metadata": {
    "collapsed": true
   },
   "outputs": [],
   "source": [
    "#drop nan rows\n",
    "farmsLandValue = farmsLandValue[np.isfinite(farmsLandValue['United States'])]"
   ]
  },
  {
   "cell_type": "code",
   "execution_count": 15,
   "metadata": {
    "collapsed": false
   },
   "outputs": [],
   "source": [
    "#del cols\n",
    "farmsLandValue = farmsLandValue.drop(farmsLandValue.columns[[0,1,5,6,7,8,9]],1)"
   ]
  },
  {
   "cell_type": "code",
   "execution_count": 16,
   "metadata": {
    "collapsed": true
   },
   "outputs": [],
   "source": [
    "#forward fill item names to get rid of nans\n",
    "farmsLandValue['Item'] = farmsLandValue['Item'].fillna(method='ffill')"
   ]
  },
  {
   "cell_type": "code",
   "execution_count": 17,
   "metadata": {
    "collapsed": true
   },
   "outputs": [],
   "source": [
    "#rename columns\n",
    "farmsLandValue.columns = ['Item','Type','UnitedStatesTotal']"
   ]
  },
  {
   "cell_type": "code",
   "execution_count": 18,
   "metadata": {
    "collapsed": false
   },
   "outputs": [
    {
     "data": {
      "text/html": [
       "<div>\n",
       "<table border=\"1\" class=\"dataframe\">\n",
       "  <thead>\n",
       "    <tr style=\"text-align: right;\">\n",
       "      <th></th>\n",
       "      <th>Item</th>\n",
       "      <th>Type</th>\n",
       "      <th>UnitedStatesTotal</th>\n",
       "    </tr>\n",
       "  </thead>\n",
       "  <tbody>\n",
       "    <tr>\n",
       "      <th>3</th>\n",
       "      <td>Certified or exempt</td>\n",
       "      <td>farms</td>\n",
       "      <td>14093.0</td>\n",
       "    </tr>\n",
       "    <tr>\n",
       "      <th>8</th>\n",
       "      <td>operated</td>\n",
       "      <td>farms</td>\n",
       "      <td>14048.0</td>\n",
       "    </tr>\n",
       "    <tr>\n",
       "      <th>9</th>\n",
       "      <td>operated</td>\n",
       "      <td>acres</td>\n",
       "      <td>3670560.0</td>\n",
       "    </tr>\n",
       "    <tr>\n",
       "      <th>11</th>\n",
       "      <td>Land owned</td>\n",
       "      <td>farms</td>\n",
       "      <td>12353.0</td>\n",
       "    </tr>\n",
       "    <tr>\n",
       "      <th>12</th>\n",
       "      <td>Land owned</td>\n",
       "      <td>acres</td>\n",
       "      <td>2221715.0</td>\n",
       "    </tr>\n",
       "    <tr>\n",
       "      <th>13</th>\n",
       "      <td>Land rented from others</td>\n",
       "      <td>farms</td>\n",
       "      <td>5582.0</td>\n",
       "    </tr>\n",
       "    <tr>\n",
       "      <th>14</th>\n",
       "      <td>Land rented from others</td>\n",
       "      <td>acres</td>\n",
       "      <td>1507957.0</td>\n",
       "    </tr>\n",
       "    <tr>\n",
       "      <th>15</th>\n",
       "      <td>Land rented to others</td>\n",
       "      <td>farms</td>\n",
       "      <td>521.0</td>\n",
       "    </tr>\n",
       "    <tr>\n",
       "      <th>16</th>\n",
       "      <td>Land rented to others</td>\n",
       "      <td>acres</td>\n",
       "      <td>59112.0</td>\n",
       "    </tr>\n",
       "    <tr>\n",
       "      <th>18</th>\n",
       "      <td>Total certified organic acres operated</td>\n",
       "      <td>farms</td>\n",
       "      <td>12595.0</td>\n",
       "    </tr>\n",
       "  </tbody>\n",
       "</table>\n",
       "</div>"
      ],
      "text/plain": [
       "                                        Item   Type  UnitedStatesTotal\n",
       "3                        Certified or exempt  farms            14093.0\n",
       "8                                   operated  farms            14048.0\n",
       "9                                   operated  acres          3670560.0\n",
       "11                                Land owned  farms            12353.0\n",
       "12                                Land owned  acres          2221715.0\n",
       "13                   Land rented from others  farms             5582.0\n",
       "14                   Land rented from others  acres          1507957.0\n",
       "15                     Land rented to others  farms              521.0\n",
       "16                     Land rented to others  acres            59112.0\n",
       "18    Total certified organic acres operated  farms            12595.0"
      ]
     },
     "execution_count": 18,
     "metadata": {},
     "output_type": "execute_result"
    }
   ],
   "source": [
    "farmsLandValue.head(10)"
   ]
  },
  {
   "cell_type": "markdown",
   "metadata": {
    "collapsed": true
   },
   "source": [
    "## ERS organic price tables [old data]"
   ]
  },
  {
   "cell_type": "markdown",
   "metadata": {},
   "source": [
    "### Wholesale Veggies"
   ]
  },
  {
   "cell_type": "code",
   "execution_count": 19,
   "metadata": {
    "collapsed": false
   },
   "outputs": [
    {
     "name": "stdout",
     "output_type": "stream",
     "text": [
      "\" Wholesale vegetable prices, organic and conventional, monthly and annual, 2012\",,,,,,,,,,,,,,,,,\r\n",
      "Commodity,Subgroup,Package,Organic/ Conventional,Terminal Market,Jan-12,Feb-12,Mar-12,Apr-12,May-12,Jun-12,Jul-12,Aug-12,Sep-12,Oct-12,Nov-12,Dec-12,2012\r\n",
      "Artichoke (SF only),Globe,\"cartons, 24s\",Conv,San Fran,28.58,30.00,30.94,18.50,13.48,17.83,30.00,35.26,25.75,24.66,23.47,26.29,24.12\r\n",
      "Artichoke (SF only),Globe,\"cartons, 24s\",Org,San Fran,37.34,35.46,N\\A,N\\A,N\\A,30.31,35.00,40.12,45.50,40.47,32.76,32.50,36.88\r\n",
      "Cabbage,Round green type,\"40 lb cartons, medium\",Conv,Atlanta,N\\A,N\\A,N\\A,N\\A,N\\A,N\\A,N\\A,16.50,N\\A,N\\A,N\\A,N\\A,16.50\r\n"
     ]
    }
   ],
   "source": [
    "!head -n 5 Vegetables2012.csv"
   ]
  },
  {
   "cell_type": "code",
   "execution_count": 20,
   "metadata": {
    "collapsed": true
   },
   "outputs": [],
   "source": [
    "Veggies2012 = pd.read_csv('Vegetables2012.csv',skiprows=1)"
   ]
  },
  {
   "cell_type": "code",
   "execution_count": 21,
   "metadata": {
    "collapsed": true
   },
   "outputs": [],
   "source": [
    "Veggies2013 = pd.read_csv('Vegetables2013.csv', skiprows=1)"
   ]
  },
  {
   "cell_type": "code",
   "execution_count": 22,
   "metadata": {
    "collapsed": false,
    "scrolled": true
   },
   "outputs": [],
   "source": [
    "#drop the year summary vars\n",
    "#Veggies2012.columns.get_loc('2012');\n",
    "Veggies2012 = Veggies2012.drop(Veggies2012.columns[17],1)\n",
    "Veggies2013 = Veggies2013.drop(Veggies2013.columns[17],1)"
   ]
  },
  {
   "cell_type": "code",
   "execution_count": 23,
   "metadata": {
    "collapsed": false
   },
   "outputs": [],
   "source": [
    "#transform the data so dates are a column\n",
    "Veggies2012 = pd.melt(Veggies2012, id_vars=['Commodity','Subgroup','Package','Organic/ Conventional','Terminal Market'],\n",
    "       var_name='MonthYear', value_name='Price')\n",
    "\n",
    "Veggies2013 = pd.melt(Veggies2013, id_vars=['Commodity','Subgroup','Package','Organic/ Conventional','Terminal Market'],\n",
    "       var_name='MonthYear', value_name='Price')"
   ]
  },
  {
   "cell_type": "code",
   "execution_count": 24,
   "metadata": {
    "collapsed": false
   },
   "outputs": [],
   "source": [
    "#put em together\n",
    "Ags = Veggies2012.append(Veggies2013)"
   ]
  },
  {
   "cell_type": "code",
   "execution_count": 25,
   "metadata": {
    "collapsed": true
   },
   "outputs": [],
   "source": [
    "#make sure month year is formatted correctly then convert it to datetime\n",
    "#Veggies['MonthYear'].str.strip('\\n')\n",
    "Ags['MonthYear'] = Ags['MonthYear'].str.replace('-','20')\n",
    "Ags['MonthYearForm'] = Ags['MonthYear'].apply(lambda x: parse(x,default=DEFAULT))"
   ]
  },
  {
   "cell_type": "code",
   "execution_count": 26,
   "metadata": {
    "collapsed": false
   },
   "outputs": [],
   "source": [
    "#convert price to number formatting\n",
    "Ags['Price'] = pd.to_numeric(Ags['Price'],errors='coerce')"
   ]
  },
  {
   "cell_type": "code",
   "execution_count": 27,
   "metadata": {
    "collapsed": false
   },
   "outputs": [],
   "source": [
    "#want to have it so price for conventional and organic are columns\n",
    "#couldnt quickly google how-to, so doing it 'by hand'\n",
    "#first make the two columns, with price if there is one\n",
    "Ags['Price_Conv'] = np.where(Ags['Organic/ Conventional']=='Conv',Ags['Price'],'NaN')\n",
    "Ags['Price_Org'] = np.where(Ags['Organic/ Conventional']=='Org',Ags['Price'],'NaN')"
   ]
  },
  {
   "cell_type": "code",
   "execution_count": 28,
   "metadata": {
    "collapsed": true
   },
   "outputs": [],
   "source": [
    "#next convert new cols to numbers, my NaNs werent numbers\n",
    "Ags['Price_Conv'] = pd.to_numeric(Ags['Price_Conv'],errors='coerce')\n",
    "Ags['Price_Org'] = pd.to_numeric(Ags['Price_Org'],errors='coerce')"
   ]
  },
  {
   "cell_type": "code",
   "execution_count": 29,
   "metadata": {
    "collapsed": false
   },
   "outputs": [],
   "source": [
    "#back fill nans so one row has an entry for both cols\n",
    "Ags['Price_Conv'] = Ags['Price_Conv'].fillna(method='bfill')\n",
    "Ags['Price_Org'] = Ags['Price_Org'].fillna(method='bfill')"
   ]
  },
  {
   "cell_type": "code",
   "execution_count": 30,
   "metadata": {
    "collapsed": true
   },
   "outputs": [],
   "source": [
    "#price data in new cols is repeated and only the first is correct\n",
    "#so put NaNs back where they are legit\n",
    "def convOrg(row):\n",
    "    if (row['Organic/ Conventional'] == 'Conv' and pd.isnull(row['Price'])):\n",
    "        row['Price_Conv'] = 'NaN'\n",
    "    if (row['Organic/ Conventional'] == 'Org' and pd.isnull(row['Price'])):\n",
    "        row['Price_Org'] = 'NaN'\n",
    "    return row"
   ]
  },
  {
   "cell_type": "code",
   "execution_count": 31,
   "metadata": {
    "collapsed": false
   },
   "outputs": [],
   "source": [
    "Ags = Ags.apply(convOrg,axis=1)"
   ]
  },
  {
   "cell_type": "code",
   "execution_count": 32,
   "metadata": {
    "collapsed": false
   },
   "outputs": [],
   "source": [
    "#drop now unwanted columns\n",
    "#Ags.columns.get_loc('Organic/ Conventional');\n",
    "Ags = Ags.drop(Ags.columns[[3,5,6]],1)"
   ]
  },
  {
   "cell_type": "code",
   "execution_count": 33,
   "metadata": {
    "collapsed": false
   },
   "outputs": [],
   "source": [
    "#drop dupes keep first entry bc thats the good one\n",
    "Ags = Ags.drop_duplicates(['Commodity','MonthYearForm','Subgroup','Package','Terminal Market'], keep='first')"
   ]
  },
  {
   "cell_type": "code",
   "execution_count": 34,
   "metadata": {
    "collapsed": true
   },
   "outputs": [],
   "source": [
    "#next convert new cols to numbers, my NaNs werent numbers\n",
    "Ags['Price_Conv'] = pd.to_numeric(Ags['Price_Conv'],errors='coerce')\n",
    "Ags['Price_Org'] = pd.to_numeric(Ags['Price_Org'],errors='coerce')"
   ]
  },
  {
   "cell_type": "code",
   "execution_count": 35,
   "metadata": {
    "collapsed": false,
    "scrolled": false
   },
   "outputs": [],
   "source": [
    "#calculate the organic premium\n",
    "Ags['Premium'] = Ags['Price_Org'] - Ags['Price_Conv']\n",
    "Ags['PremiumAbs'] = (Ags['Price_Org'] - Ags['Price_Conv'])"
   ]
  },
  {
   "cell_type": "code",
   "execution_count": 36,
   "metadata": {
    "collapsed": false
   },
   "outputs": [],
   "source": [
    "Ags = Ags.set_index(['MonthYearForm'])"
   ]
  },
  {
   "cell_type": "code",
   "execution_count": 37,
   "metadata": {
    "collapsed": true
   },
   "outputs": [],
   "source": [
    "#create groups to analyze\n",
    "gCSPT0 = Ags.groupby(['Commodity','Subgroup','Package','Terminal Market'])"
   ]
  },
  {
   "cell_type": "code",
   "execution_count": 38,
   "metadata": {
    "collapsed": false
   },
   "outputs": [
    {
     "data": {
      "text/html": [
       "\n",
       "    <div class=\"bk-root\">\n",
       "        <a href=\"http://bokeh.pydata.org\" target=\"_blank\" class=\"bk-logo bk-logo-small bk-logo-notebook\"></a>\n",
       "        <span id=\"51f69d0a-e947-476a-8bfe-7a107ebedc2e\">Loading BokehJS ...</span>\n",
       "    </div>"
      ]
     },
     "metadata": {},
     "output_type": "display_data"
    },
    {
     "data": {
      "application/javascript": [
       "\n",
       "(function(global) {\n",
       "  function now() {\n",
       "    return new Date();\n",
       "  }\n",
       "\n",
       "  if (typeof (window._bokeh_onload_callbacks) === \"undefined\") {\n",
       "    window._bokeh_onload_callbacks = [];\n",
       "  }\n",
       "\n",
       "  function run_callbacks() {\n",
       "    window._bokeh_onload_callbacks.forEach(function(callback) { callback() });\n",
       "    delete window._bokeh_onload_callbacks\n",
       "    console.info(\"Bokeh: all callbacks have finished\");\n",
       "  }\n",
       "\n",
       "  function load_libs(js_urls, callback) {\n",
       "    window._bokeh_onload_callbacks.push(callback);\n",
       "    if (window._bokeh_is_loading > 0) {\n",
       "      console.log(\"Bokeh: BokehJS is being loaded, scheduling callback at\", now());\n",
       "      return null;\n",
       "    }\n",
       "    if (js_urls == null || js_urls.length === 0) {\n",
       "      run_callbacks();\n",
       "      return null;\n",
       "    }\n",
       "    console.log(\"Bokeh: BokehJS not loaded, scheduling load and callback at\", now());\n",
       "    window._bokeh_is_loading = js_urls.length;\n",
       "    for (var i = 0; i < js_urls.length; i++) {\n",
       "      var url = js_urls[i];\n",
       "      var s = document.createElement('script');\n",
       "      s.src = url;\n",
       "      s.async = false;\n",
       "      s.onreadystatechange = s.onload = function() {\n",
       "        window._bokeh_is_loading--;\n",
       "        if (window._bokeh_is_loading === 0) {\n",
       "          console.log(\"Bokeh: all BokehJS libraries loaded\");\n",
       "          run_callbacks()\n",
       "        }\n",
       "      };\n",
       "      s.onerror = function() {\n",
       "        console.warn(\"failed to load library \" + url);\n",
       "      };\n",
       "      console.log(\"Bokeh: injecting script tag for BokehJS library: \", url);\n",
       "      document.getElementsByTagName(\"head\")[0].appendChild(s);\n",
       "    }\n",
       "  };\n",
       "\n",
       "  var js_urls = ['https://cdn.pydata.org/bokeh/release/bokeh-0.12.0.min.js', 'https://cdn.pydata.org/bokeh/release/bokeh-widgets-0.12.0.min.js', 'https://cdn.pydata.org/bokeh/release/bokeh-compiler-0.12.0.min.js'];\n",
       "\n",
       "  var inline_js = [\n",
       "    function(Bokeh) {\n",
       "      Bokeh.set_log_level(\"info\");\n",
       "    },\n",
       "    \n",
       "    function(Bokeh) {\n",
       "      Bokeh.$(\"#51f69d0a-e947-476a-8bfe-7a107ebedc2e\").text(\"BokehJS successfully loaded\");\n",
       "    },\n",
       "    function(Bokeh) {\n",
       "      console.log(\"Bokeh: injecting CSS: https://cdn.pydata.org/bokeh/release/bokeh-0.12.0.min.css\");\n",
       "      Bokeh.embed.inject_css(\"https://cdn.pydata.org/bokeh/release/bokeh-0.12.0.min.css\");\n",
       "      console.log(\"Bokeh: injecting CSS: https://cdn.pydata.org/bokeh/release/bokeh-widgets-0.12.0.min.css\");\n",
       "      Bokeh.embed.inject_css(\"https://cdn.pydata.org/bokeh/release/bokeh-widgets-0.12.0.min.css\");\n",
       "    }\n",
       "  ];\n",
       "\n",
       "  function run_inline_js() {\n",
       "    for (var i = 0; i < inline_js.length; i++) {\n",
       "      inline_js[i](window.Bokeh);\n",
       "    }\n",
       "  }\n",
       "\n",
       "  if (window._bokeh_is_loading === 0) {\n",
       "    console.log(\"Bokeh: BokehJS loaded, going straight to plotting\");\n",
       "    run_inline_js();\n",
       "  } else {\n",
       "    load_libs(js_urls, function() {\n",
       "      console.log(\"Bokeh: BokehJS plotting callback run at\", now());\n",
       "      run_inline_js();\n",
       "    });\n",
       "  }\n",
       "}(this));"
      ]
     },
     "metadata": {},
     "output_type": "display_data"
    }
   ],
   "source": [
    "from bokeh.models import ColumnDataSource, HoverTool, Legend, Label\n",
    "from bokeh.models.widgets import DataTable, DateFormatter, TableColumn, Select\n",
    "from bokeh.io import output_notebook, show, vform\n",
    "from bokeh.plotting import figure\n",
    "from bokeh.layouts import column\n",
    "\n",
    "output_notebook()"
   ]
  },
  {
   "cell_type": "code",
   "execution_count": 39,
   "metadata": {
    "collapsed": false
   },
   "outputs": [],
   "source": [
    "#subset for simplicity\n",
    "veglist =[]\n",
    "for i, group in gCSPT0:\n",
    "    veglist.append(i)"
   ]
  },
  {
   "cell_type": "code",
   "execution_count": 40,
   "metadata": {
    "collapsed": false
   },
   "outputs": [],
   "source": [
    "cab = Ags[(Ags.Commodity == 'Cabbage') &\n",
    "      (Ags.Subgroup == 'Round green type') &\n",
    "      (Ags.Package == '45 lb cartons, medium') &\n",
    "      (Ags['Terminal Market'] == 'Atlanta')]"
   ]
  },
  {
   "cell_type": "code",
   "execution_count": 41,
   "metadata": {
    "collapsed": false
   },
   "outputs": [],
   "source": [
    "#stats to display below the graph\n",
    "cabCorr = cab.Price_Conv.corr(cab.Price_Org).round(decimals=2)\n",
    "cabPremAvg = round(cab.PremiumAbs.mean(),2)"
   ]
  },
  {
   "cell_type": "code",
   "execution_count": 42,
   "metadata": {
    "collapsed": false
   },
   "outputs": [],
   "source": [
    "s= \"/\".join(veglist[1])"
   ]
  },
  {
   "cell_type": "code",
   "execution_count": 43,
   "metadata": {
    "collapsed": false
   },
   "outputs": [],
   "source": [
    "p = figure(x_axis_type='datetime', tools='hover,pan,crosshair,box_zoom,reset,save',\n",
    "          title=s)\n",
    "\n",
    "p.plot_width = 800\n",
    "p.plot_height = 500\n",
    "\n",
    "source = ColumnDataSource(\n",
    "    data=dict(\n",
    "        \n",
    "    #date for x axis\n",
    "    Date=[x for x in cab.index],\n",
    "        \n",
    "    #data for line\n",
    "    Org=[x for x in cab.Price_Org],\n",
    "    Conv=[x for x in cab.Price_Conv],\n",
    "        \n",
    "    #for the hover tool\n",
    "    OrgH = cab.Price_Org,\n",
    "    ConvH = cab.Price_Conv,\n",
    "    premH = cab.Premium     \n",
    "    )\n",
    ")\n",
    "\n",
    "p.select_one(HoverTool).tooltips = [\n",
    "    (\"Organic: \", \"@OrgH\"),\n",
    "    (\"Conventional: \", \"@ConvH\"),\n",
    "    (\"Org. Premium: \", \"@premH\"),\n",
    "    \n",
    "]\n",
    "\n",
    "p1 = p.line(x=\"Date\", y=\"Org\", legend=\"Organics\", line_color=\"#a6cee3\",source=source)\n",
    "p2 = p.line(x=\"Date\", y=\"Conv\", legend=\"Conventional\", line_color=\"#fdbf6f\",source=source)\n",
    "\n",
    "p.legend.orientation = \"horizontal\"\n",
    "p.legend.location=\"top_left\"\n"
   ]
  },
  {
   "cell_type": "code",
   "execution_count": 99,
   "metadata": {
    "collapsed": true
   },
   "outputs": [],
   "source": [
    "from bokeh.models.widgets import DataTable\n",
    "from bokeh.layouts import widgetbox"
   ]
  },
  {
   "cell_type": "code",
   "execution_count": 118,
   "metadata": {
    "collapsed": false
   },
   "outputs": [],
   "source": [
    "data = dict(\n",
    "    correlation=[cabCorr],\n",
    ")\n",
    "\n",
    "source=ColumnDataSource(data)"
   ]
  },
  {
   "cell_type": "code",
   "execution_count": 119,
   "metadata": {
    "collapsed": true
   },
   "outputs": [],
   "source": [
    "columns = [\n",
    "    TableColumn(field=\"correlation\", title=\"corr\"),\n",
    "]"
   ]
  },
  {
   "cell_type": "code",
   "execution_count": 120,
   "metadata": {
    "collapsed": false
   },
   "outputs": [],
   "source": [
    "data_table = DataTable(source=source,columns=columns,width=800)"
   ]
  },
  {
   "cell_type": "code",
   "execution_count": 126,
   "metadata": {
    "collapsed": false
   },
   "outputs": [],
   "source": [
    "x = widgetbox(data_table)"
   ]
  },
  {
   "cell_type": "code",
   "execution_count": 128,
   "metadata": {
    "collapsed": false
   },
   "outputs": [
    {
     "data": {
      "text/html": [
       "\n",
       "\n",
       "    <div class=\"bk-root\">\n",
       "        <div class=\"plotdiv\" id=\"172d0c31-6b35-4709-a3ac-11b37c4b5fb5\"></div>\n",
       "    </div>\n",
       "<script type=\"text/javascript\">\n",
       "  \n",
       "  (function(global) {\n",
       "    function now() {\n",
       "      return new Date();\n",
       "    }\n",
       "  \n",
       "    if (typeof (window._bokeh_onload_callbacks) === \"undefined\") {\n",
       "      window._bokeh_onload_callbacks = [];\n",
       "    }\n",
       "  \n",
       "    function run_callbacks() {\n",
       "      window._bokeh_onload_callbacks.forEach(function(callback) { callback() });\n",
       "      delete window._bokeh_onload_callbacks\n",
       "      console.info(\"Bokeh: all callbacks have finished\");\n",
       "    }\n",
       "  \n",
       "    function load_libs(js_urls, callback) {\n",
       "      window._bokeh_onload_callbacks.push(callback);\n",
       "      if (window._bokeh_is_loading > 0) {\n",
       "        console.log(\"Bokeh: BokehJS is being loaded, scheduling callback at\", now());\n",
       "        return null;\n",
       "      }\n",
       "      if (js_urls == null || js_urls.length === 0) {\n",
       "        run_callbacks();\n",
       "        return null;\n",
       "      }\n",
       "      console.log(\"Bokeh: BokehJS not loaded, scheduling load and callback at\", now());\n",
       "      window._bokeh_is_loading = js_urls.length;\n",
       "      for (var i = 0; i < js_urls.length; i++) {\n",
       "        var url = js_urls[i];\n",
       "        var s = document.createElement('script');\n",
       "        s.src = url;\n",
       "        s.async = false;\n",
       "        s.onreadystatechange = s.onload = function() {\n",
       "          window._bokeh_is_loading--;\n",
       "          if (window._bokeh_is_loading === 0) {\n",
       "            console.log(\"Bokeh: all BokehJS libraries loaded\");\n",
       "            run_callbacks()\n",
       "          }\n",
       "        };\n",
       "        s.onerror = function() {\n",
       "          console.warn(\"failed to load library \" + url);\n",
       "        };\n",
       "        console.log(\"Bokeh: injecting script tag for BokehJS library: \", url);\n",
       "        document.getElementsByTagName(\"head\")[0].appendChild(s);\n",
       "      }\n",
       "    };var element = document.getElementById(\"172d0c31-6b35-4709-a3ac-11b37c4b5fb5\");\n",
       "    if (element == null) {\n",
       "      console.log(\"Bokeh: ERROR: autoload.js configured with elementid '172d0c31-6b35-4709-a3ac-11b37c4b5fb5' but no matching script tag was found. \")\n",
       "      return false;\n",
       "    }\n",
       "  \n",
       "    var js_urls = [];\n",
       "  \n",
       "    var inline_js = [\n",
       "      function(Bokeh) {\n",
       "        Bokeh.$(function() {\n",
       "            var docs_json = {\"831d76e3-f480-4f84-8530-e0c3db682bc0\":{\"roots\":{\"references\":[{\"attributes\":{\"editor\":{\"id\":\"2b4f7f4d-dee4-409b-a5f9-45e450001478\",\"type\":\"StringEditor\"},\"field\":\"correlation\",\"formatter\":{\"id\":\"5b07706e-dba3-4380-89ef-80c10db7cc84\",\"type\":\"StringFormatter\"},\"title\":\"corr\"},\"id\":\"8c00a5a1-7623-43ad-b8ca-80608be1cc62\",\"type\":\"TableColumn\"},{\"attributes\":{},\"id\":\"5b07706e-dba3-4380-89ef-80c10db7cc84\",\"type\":\"StringFormatter\"},{\"attributes\":{\"callback\":null,\"column_names\":[\"correlation\"],\"data\":{\"correlation\":[0.37]}},\"id\":\"365cbcb9-7dd2-46f8-9150-51ec85d495e2\",\"type\":\"ColumnDataSource\"},{\"attributes\":{\"columns\":[{\"id\":\"8c00a5a1-7623-43ad-b8ca-80608be1cc62\",\"type\":\"TableColumn\"}],\"source\":{\"id\":\"365cbcb9-7dd2-46f8-9150-51ec85d495e2\",\"type\":\"ColumnDataSource\"},\"width\":800},\"id\":\"6cc90d1a-b095-4008-b668-2273dbadacca\",\"type\":\"DataTable\"},{\"attributes\":{},\"id\":\"2b4f7f4d-dee4-409b-a5f9-45e450001478\",\"type\":\"StringEditor\"},{\"attributes\":{\"children\":[{\"id\":\"6cc90d1a-b095-4008-b668-2273dbadacca\",\"type\":\"DataTable\"}]},\"id\":\"f6b6a965-295c-4ef3-9a12-38f5adf5fd54\",\"type\":\"WidgetBox\"}],\"root_ids\":[\"f6b6a965-295c-4ef3-9a12-38f5adf5fd54\"]},\"title\":\"Bokeh Application\",\"version\":\"0.12.0\"}};\n",
       "            var render_items = [{\"docid\":\"831d76e3-f480-4f84-8530-e0c3db682bc0\",\"elementid\":\"172d0c31-6b35-4709-a3ac-11b37c4b5fb5\",\"modelid\":\"f6b6a965-295c-4ef3-9a12-38f5adf5fd54\",\"notebook_comms_target\":\"50b95e28-fb2b-445f-9dfd-17377ee82058\"}];\n",
       "            \n",
       "            Bokeh.embed.embed_items(docs_json, render_items);\n",
       "        });\n",
       "      },\n",
       "      function(Bokeh) {\n",
       "      }\n",
       "    ];\n",
       "  \n",
       "    function run_inline_js() {\n",
       "      for (var i = 0; i < inline_js.length; i++) {\n",
       "        inline_js[i](window.Bokeh);\n",
       "      }\n",
       "    }\n",
       "  \n",
       "    if (window._bokeh_is_loading === 0) {\n",
       "      console.log(\"Bokeh: BokehJS loaded, going straight to plotting\");\n",
       "      run_inline_js();\n",
       "    } else {\n",
       "      load_libs(js_urls, function() {\n",
       "        console.log(\"Bokeh: BokehJS plotting callback run at\", now());\n",
       "        run_inline_js();\n",
       "      });\n",
       "    }\n",
       "  }(this));\n",
       "</script>"
      ]
     },
     "metadata": {},
     "output_type": "display_data"
    },
    {
     "ename": "TypeError",
     "evalue": "'float' object is not iterable",
     "output_type": "error",
     "traceback": [
      "\u001b[1;31m---------------------------------------------------------------------------\u001b[0m",
      "\u001b[1;31mTypeError\u001b[0m                                 Traceback (most recent call last)",
      "\u001b[1;32m<ipython-input-128-54e125f543c6>\u001b[0m in \u001b[0;36m<module>\u001b[1;34m()\u001b[0m\n\u001b[1;32m----> 1\u001b[1;33m \u001b[0mshow\u001b[0m\u001b[1;33m(\u001b[0m\u001b[0mx\u001b[0m\u001b[1;33m)\u001b[0m\u001b[1;33m\u001b[0m\u001b[0m\n\u001b[0m",
      "\u001b[1;32m/home/brett/anaconda3/lib/python3.5/site-packages/bokeh/io.py\u001b[0m in \u001b[0;36mshow\u001b[1;34m(obj, browser, new)\u001b[0m\n\u001b[0;32m    300\u001b[0m     \u001b[1;32mif\u001b[0m \u001b[0mobj\u001b[0m \u001b[1;32mnot\u001b[0m \u001b[1;32min\u001b[0m \u001b[0m_state\u001b[0m\u001b[1;33m.\u001b[0m\u001b[0mdocument\u001b[0m\u001b[1;33m.\u001b[0m\u001b[0mroots\u001b[0m\u001b[1;33m:\u001b[0m\u001b[1;33m\u001b[0m\u001b[0m\n\u001b[0;32m    301\u001b[0m         \u001b[0m_state\u001b[0m\u001b[1;33m.\u001b[0m\u001b[0mdocument\u001b[0m\u001b[1;33m.\u001b[0m\u001b[0madd_root\u001b[0m\u001b[1;33m(\u001b[0m\u001b[0mobj\u001b[0m\u001b[1;33m)\u001b[0m\u001b[1;33m\u001b[0m\u001b[0m\n\u001b[1;32m--> 302\u001b[1;33m     \u001b[1;32mreturn\u001b[0m \u001b[0m_show_with_state\u001b[0m\u001b[1;33m(\u001b[0m\u001b[0mobj\u001b[0m\u001b[1;33m,\u001b[0m \u001b[0m_state\u001b[0m\u001b[1;33m,\u001b[0m \u001b[0mbrowser\u001b[0m\u001b[1;33m,\u001b[0m \u001b[0mnew\u001b[0m\u001b[1;33m)\u001b[0m\u001b[1;33m\u001b[0m\u001b[0m\n\u001b[0m\u001b[0;32m    303\u001b[0m \u001b[1;33m\u001b[0m\u001b[0m\n\u001b[0;32m    304\u001b[0m \u001b[1;33m\u001b[0m\u001b[0m\n",
      "\u001b[1;32m/home/brett/anaconda3/lib/python3.5/site-packages/bokeh/io.py\u001b[0m in \u001b[0;36m_show_with_state\u001b[1;34m(obj, state, browser, new)\u001b[0m\n\u001b[0;32m    310\u001b[0m \u001b[1;33m\u001b[0m\u001b[0m\n\u001b[0;32m    311\u001b[0m     \u001b[1;32mif\u001b[0m \u001b[0mstate\u001b[0m\u001b[1;33m.\u001b[0m\u001b[0mnotebook\u001b[0m\u001b[1;33m:\u001b[0m\u001b[1;33m\u001b[0m\u001b[0m\n\u001b[1;32m--> 312\u001b[1;33m         \u001b[0mcomms_handle\u001b[0m \u001b[1;33m=\u001b[0m \u001b[0m_show_notebook_with_state\u001b[0m\u001b[1;33m(\u001b[0m\u001b[0mobj\u001b[0m\u001b[1;33m,\u001b[0m \u001b[0mstate\u001b[0m\u001b[1;33m)\u001b[0m\u001b[1;33m\u001b[0m\u001b[0m\n\u001b[0m\u001b[0;32m    313\u001b[0m         \u001b[0mshown\u001b[0m \u001b[1;33m=\u001b[0m \u001b[1;32mTrue\u001b[0m\u001b[1;33m\u001b[0m\u001b[0m\n\u001b[0;32m    314\u001b[0m \u001b[1;33m\u001b[0m\u001b[0m\n",
      "\u001b[1;32m/home/brett/anaconda3/lib/python3.5/site-packages/bokeh/io.py\u001b[0m in \u001b[0;36m_show_notebook_with_state\u001b[1;34m(obj, state)\u001b[0m\n\u001b[0;32m    334\u001b[0m         \u001b[0mcomms_target\u001b[0m \u001b[1;33m=\u001b[0m \u001b[0mmake_id\u001b[0m\u001b[1;33m(\u001b[0m\u001b[1;33m)\u001b[0m\u001b[1;33m\u001b[0m\u001b[0m\n\u001b[0;32m    335\u001b[0m         \u001b[0mpublish_display_data\u001b[0m\u001b[1;33m(\u001b[0m\u001b[1;33m{\u001b[0m\u001b[1;34m'text/html'\u001b[0m\u001b[1;33m:\u001b[0m \u001b[0mnotebook_div\u001b[0m\u001b[1;33m(\u001b[0m\u001b[0mobj\u001b[0m\u001b[1;33m,\u001b[0m \u001b[0mcomms_target\u001b[0m\u001b[1;33m)\u001b[0m\u001b[1;33m}\u001b[0m\u001b[1;33m)\u001b[0m\u001b[1;33m\u001b[0m\u001b[0m\n\u001b[1;32m--> 336\u001b[1;33m         \u001b[0mhandle\u001b[0m \u001b[1;33m=\u001b[0m \u001b[0m_CommsHandle\u001b[0m\u001b[1;33m(\u001b[0m\u001b[0mget_comms\u001b[0m\u001b[1;33m(\u001b[0m\u001b[0mcomms_target\u001b[0m\u001b[1;33m)\u001b[0m\u001b[1;33m,\u001b[0m \u001b[0mstate\u001b[0m\u001b[1;33m.\u001b[0m\u001b[0mdocument\u001b[0m\u001b[1;33m,\u001b[0m \u001b[0mstate\u001b[0m\u001b[1;33m.\u001b[0m\u001b[0mdocument\u001b[0m\u001b[1;33m.\u001b[0m\u001b[0mto_json\u001b[0m\u001b[1;33m(\u001b[0m\u001b[1;33m)\u001b[0m\u001b[1;33m)\u001b[0m\u001b[1;33m\u001b[0m\u001b[0m\n\u001b[0m\u001b[0;32m    337\u001b[0m         \u001b[0mstate\u001b[0m\u001b[1;33m.\u001b[0m\u001b[0mlast_comms_handle\u001b[0m \u001b[1;33m=\u001b[0m \u001b[0mhandle\u001b[0m\u001b[1;33m\u001b[0m\u001b[0m\n\u001b[0;32m    338\u001b[0m         \u001b[1;32mreturn\u001b[0m \u001b[0mhandle\u001b[0m\u001b[1;33m\u001b[0m\u001b[0m\n",
      "\u001b[1;32m/home/brett/anaconda3/lib/python3.5/site-packages/bokeh/document.py\u001b[0m in \u001b[0;36mto_json\u001b[1;34m(self)\u001b[0m\n\u001b[0;32m    792\u001b[0m         \u001b[1;31m# this is a total hack to go via a string, needed because\u001b[0m\u001b[1;33m\u001b[0m\u001b[1;33m\u001b[0m\u001b[0m\n\u001b[0;32m    793\u001b[0m         \u001b[1;31m# our BokehJSONEncoder goes straight to a string.\u001b[0m\u001b[1;33m\u001b[0m\u001b[1;33m\u001b[0m\u001b[0m\n\u001b[1;32m--> 794\u001b[1;33m         \u001b[0mdoc_json\u001b[0m \u001b[1;33m=\u001b[0m \u001b[0mself\u001b[0m\u001b[1;33m.\u001b[0m\u001b[0mto_json_string\u001b[0m\u001b[1;33m(\u001b[0m\u001b[1;33m)\u001b[0m\u001b[1;33m\u001b[0m\u001b[0m\n\u001b[0m\u001b[0;32m    795\u001b[0m         \u001b[1;32mreturn\u001b[0m \u001b[0mloads\u001b[0m\u001b[1;33m(\u001b[0m\u001b[0mdoc_json\u001b[0m\u001b[1;33m)\u001b[0m\u001b[1;33m\u001b[0m\u001b[0m\n\u001b[0;32m    796\u001b[0m \u001b[1;33m\u001b[0m\u001b[0m\n",
      "\u001b[1;32m/home/brett/anaconda3/lib/python3.5/site-packages/bokeh/document.py\u001b[0m in \u001b[0;36mto_json_string\u001b[1;34m(self, indent)\u001b[0m\n\u001b[0;32m    780\u001b[0m             'roots' : {\n\u001b[0;32m    781\u001b[0m                 \u001b[1;34m'root_ids'\u001b[0m \u001b[1;33m:\u001b[0m \u001b[0mroot_ids\u001b[0m\u001b[1;33m,\u001b[0m\u001b[1;33m\u001b[0m\u001b[0m\n\u001b[1;32m--> 782\u001b[1;33m                 \u001b[1;34m'references'\u001b[0m \u001b[1;33m:\u001b[0m \u001b[0mself\u001b[0m\u001b[1;33m.\u001b[0m\u001b[0m_references_json\u001b[0m\u001b[1;33m(\u001b[0m\u001b[0mroot_references\u001b[0m\u001b[1;33m)\u001b[0m\u001b[1;33m\u001b[0m\u001b[0m\n\u001b[0m\u001b[0;32m    783\u001b[0m             },\n\u001b[0;32m    784\u001b[0m             \u001b[1;34m'version'\u001b[0m \u001b[1;33m:\u001b[0m \u001b[0m__version__\u001b[0m\u001b[1;33m\u001b[0m\u001b[0m\n",
      "\u001b[1;32m/home/brett/anaconda3/lib/python3.5/site-packages/bokeh/document.py\u001b[0m in \u001b[0;36m_references_json\u001b[1;34m(cls, references)\u001b[0m\n\u001b[0;32m    591\u001b[0m         \u001b[1;32mfor\u001b[0m \u001b[0mr\u001b[0m \u001b[1;32min\u001b[0m \u001b[0mreferences\u001b[0m\u001b[1;33m:\u001b[0m\u001b[1;33m\u001b[0m\u001b[0m\n\u001b[0;32m    592\u001b[0m             \u001b[0mref\u001b[0m \u001b[1;33m=\u001b[0m \u001b[0mr\u001b[0m\u001b[1;33m.\u001b[0m\u001b[0mref\u001b[0m\u001b[1;33m\u001b[0m\u001b[0m\n\u001b[1;32m--> 593\u001b[1;33m             \u001b[0mref\u001b[0m\u001b[1;33m[\u001b[0m\u001b[1;34m'attributes'\u001b[0m\u001b[1;33m]\u001b[0m \u001b[1;33m=\u001b[0m \u001b[0mr\u001b[0m\u001b[1;33m.\u001b[0m\u001b[0m_to_json_like\u001b[0m\u001b[1;33m(\u001b[0m\u001b[0minclude_defaults\u001b[0m\u001b[1;33m=\u001b[0m\u001b[1;32mFalse\u001b[0m\u001b[1;33m)\u001b[0m\u001b[1;33m\u001b[0m\u001b[0m\n\u001b[0m\u001b[0;32m    594\u001b[0m             \u001b[0mreferences_json\u001b[0m\u001b[1;33m.\u001b[0m\u001b[0mappend\u001b[0m\u001b[1;33m(\u001b[0m\u001b[0mref\u001b[0m\u001b[1;33m)\u001b[0m\u001b[1;33m\u001b[0m\u001b[0m\n\u001b[0;32m    595\u001b[0m \u001b[1;33m\u001b[0m\u001b[0m\n",
      "\u001b[1;32m/home/brett/anaconda3/lib/python3.5/site-packages/bokeh/models/sources.py\u001b[0m in \u001b[0;36m_to_json_like\u001b[1;34m(self, include_defaults)\u001b[0m\n\u001b[0;32m    170\u001b[0m         \u001b[0mattrs\u001b[0m \u001b[1;33m=\u001b[0m \u001b[0msuper\u001b[0m\u001b[1;33m(\u001b[0m\u001b[0mColumnDataSource\u001b[0m\u001b[1;33m,\u001b[0m \u001b[0mself\u001b[0m\u001b[1;33m)\u001b[0m\u001b[1;33m.\u001b[0m\u001b[0m_to_json_like\u001b[0m\u001b[1;33m(\u001b[0m\u001b[0minclude_defaults\u001b[0m\u001b[1;33m=\u001b[0m\u001b[0minclude_defaults\u001b[0m\u001b[1;33m)\u001b[0m\u001b[1;33m\u001b[0m\u001b[0m\n\u001b[0;32m    171\u001b[0m         \u001b[1;32mif\u001b[0m \u001b[1;34m'data'\u001b[0m \u001b[1;32min\u001b[0m \u001b[0mattrs\u001b[0m\u001b[1;33m:\u001b[0m\u001b[1;33m\u001b[0m\u001b[0m\n\u001b[1;32m--> 172\u001b[1;33m             \u001b[0mattrs\u001b[0m\u001b[1;33m[\u001b[0m\u001b[1;34m'data'\u001b[0m\u001b[1;33m]\u001b[0m \u001b[1;33m=\u001b[0m \u001b[0mtransform_column_source_data\u001b[0m\u001b[1;33m(\u001b[0m\u001b[0mattrs\u001b[0m\u001b[1;33m[\u001b[0m\u001b[1;34m'data'\u001b[0m\u001b[1;33m]\u001b[0m\u001b[1;33m)\u001b[0m\u001b[1;33m\u001b[0m\u001b[0m\n\u001b[0m\u001b[0;32m    173\u001b[0m         \u001b[1;32mreturn\u001b[0m \u001b[0mattrs\u001b[0m\u001b[1;33m\u001b[0m\u001b[0m\n\u001b[0;32m    174\u001b[0m \u001b[1;33m\u001b[0m\u001b[0m\n",
      "\u001b[1;32m/home/brett/anaconda3/lib/python3.5/site-packages/bokeh/util/serialization.py\u001b[0m in \u001b[0;36mtransform_column_source_data\u001b[1;34m(data)\u001b[0m\n\u001b[0;32m    129\u001b[0m             \u001b[0mdata_copy\u001b[0m\u001b[1;33m[\u001b[0m\u001b[0mkey\u001b[0m\u001b[1;33m]\u001b[0m \u001b[1;33m=\u001b[0m \u001b[0mtransform_array\u001b[0m\u001b[1;33m(\u001b[0m\u001b[0mdata\u001b[0m\u001b[1;33m[\u001b[0m\u001b[0mkey\u001b[0m\u001b[1;33m]\u001b[0m\u001b[1;33m)\u001b[0m\u001b[1;33m\u001b[0m\u001b[0m\n\u001b[0;32m    130\u001b[0m         \u001b[1;32melse\u001b[0m\u001b[1;33m:\u001b[0m\u001b[1;33m\u001b[0m\u001b[0m\n\u001b[1;32m--> 131\u001b[1;33m             \u001b[0mdata_copy\u001b[0m\u001b[1;33m[\u001b[0m\u001b[0mkey\u001b[0m\u001b[1;33m]\u001b[0m \u001b[1;33m=\u001b[0m \u001b[0mtraverse_data\u001b[0m\u001b[1;33m(\u001b[0m\u001b[0mdata\u001b[0m\u001b[1;33m[\u001b[0m\u001b[0mkey\u001b[0m\u001b[1;33m]\u001b[0m\u001b[1;33m)\u001b[0m\u001b[1;33m\u001b[0m\u001b[0m\n\u001b[0m\u001b[0;32m    132\u001b[0m     \u001b[1;32mreturn\u001b[0m \u001b[0mdata_copy\u001b[0m\u001b[1;33m\u001b[0m\u001b[0m\n",
      "\u001b[1;32m/home/brett/anaconda3/lib/python3.5/site-packages/bokeh/util/serialization.py\u001b[0m in \u001b[0;36mtraverse_data\u001b[1;34m(datum, is_numpy, use_numpy)\u001b[0m\n\u001b[0;32m    100\u001b[0m     \"\"\"\n\u001b[0;32m    101\u001b[0m     \u001b[0mis_numpy\u001b[0m \u001b[1;33m=\u001b[0m \u001b[0mis_numpy\u001b[0m \u001b[1;32mand\u001b[0m \u001b[0muse_numpy\u001b[0m\u001b[1;33m\u001b[0m\u001b[0m\n\u001b[1;32m--> 102\u001b[1;33m     \u001b[1;32mif\u001b[0m \u001b[0mis_numpy\u001b[0m \u001b[1;32mand\u001b[0m \u001b[1;32mnot\u001b[0m \u001b[0many\u001b[0m\u001b[1;33m(\u001b[0m\u001b[0misinstance\u001b[0m\u001b[1;33m(\u001b[0m\u001b[0mel\u001b[0m\u001b[1;33m,\u001b[0m \u001b[1;33m(\u001b[0m\u001b[0mlist\u001b[0m\u001b[1;33m,\u001b[0m \u001b[0mtuple\u001b[0m\u001b[1;33m)\u001b[0m\u001b[1;33m)\u001b[0m \u001b[1;32mfor\u001b[0m \u001b[0mel\u001b[0m \u001b[1;32min\u001b[0m \u001b[0mdatum\u001b[0m\u001b[1;33m)\u001b[0m\u001b[1;33m:\u001b[0m\u001b[1;33m\u001b[0m\u001b[0m\n\u001b[0m\u001b[0;32m    103\u001b[0m         \u001b[1;32mreturn\u001b[0m \u001b[0mtransform_array\u001b[0m\u001b[1;33m(\u001b[0m\u001b[0mnp\u001b[0m\u001b[1;33m.\u001b[0m\u001b[0masarray\u001b[0m\u001b[1;33m(\u001b[0m\u001b[0mdatum\u001b[0m\u001b[1;33m)\u001b[0m\u001b[1;33m)\u001b[0m\u001b[1;33m\u001b[0m\u001b[0m\n\u001b[0;32m    104\u001b[0m     \u001b[0mdatum_copy\u001b[0m \u001b[1;33m=\u001b[0m \u001b[1;33m[\u001b[0m\u001b[1;33m]\u001b[0m\u001b[1;33m\u001b[0m\u001b[0m\n",
      "\u001b[1;31mTypeError\u001b[0m: 'float' object is not iterable"
     ]
    }
   ],
   "source": [
    "show(x)"
   ]
  },
  {
   "cell_type": "code",
   "execution_count": 44,
   "metadata": {
    "collapsed": false
   },
   "outputs": [],
   "source": [
    "# w = figure()\n",
    "\n",
    "# sourcew = ColumnDataSource(\n",
    "#     data=dict(\n",
    "    \n",
    "#     #x and y axes\n",
    "#     xw = [1,2,3,4],\n",
    "#     yw = [1]\n",
    "    \n",
    "#     ))\n",
    "\n",
    "# w.plot_height=125\n",
    "# w.plot_width=800\n",
    "# w.toolbar_location = None\n",
    "# w.grid=None\n",
    "# w.background_fill_color = \"white\""
   ]
  },
  {
   "cell_type": "code",
   "execution_count": 45,
   "metadata": {
    "collapsed": false,
    "scrolled": false
   },
   "outputs": [
    {
     "data": {
      "text/html": [
       "\n",
       "\n",
       "    <div class=\"bk-root\">\n",
       "        <div class=\"plotdiv\" id=\"0d49f03c-3a2a-4567-b7e4-cd4124e9a61e\"></div>\n",
       "    </div>\n",
       "<script type=\"text/javascript\">\n",
       "  \n",
       "  (function(global) {\n",
       "    function now() {\n",
       "      return new Date();\n",
       "    }\n",
       "  \n",
       "    if (typeof (window._bokeh_onload_callbacks) === \"undefined\") {\n",
       "      window._bokeh_onload_callbacks = [];\n",
       "    }\n",
       "  \n",
       "    function run_callbacks() {\n",
       "      window._bokeh_onload_callbacks.forEach(function(callback) { callback() });\n",
       "      delete window._bokeh_onload_callbacks\n",
       "      console.info(\"Bokeh: all callbacks have finished\");\n",
       "    }\n",
       "  \n",
       "    function load_libs(js_urls, callback) {\n",
       "      window._bokeh_onload_callbacks.push(callback);\n",
       "      if (window._bokeh_is_loading > 0) {\n",
       "        console.log(\"Bokeh: BokehJS is being loaded, scheduling callback at\", now());\n",
       "        return null;\n",
       "      }\n",
       "      if (js_urls == null || js_urls.length === 0) {\n",
       "        run_callbacks();\n",
       "        return null;\n",
       "      }\n",
       "      console.log(\"Bokeh: BokehJS not loaded, scheduling load and callback at\", now());\n",
       "      window._bokeh_is_loading = js_urls.length;\n",
       "      for (var i = 0; i < js_urls.length; i++) {\n",
       "        var url = js_urls[i];\n",
       "        var s = document.createElement('script');\n",
       "        s.src = url;\n",
       "        s.async = false;\n",
       "        s.onreadystatechange = s.onload = function() {\n",
       "          window._bokeh_is_loading--;\n",
       "          if (window._bokeh_is_loading === 0) {\n",
       "            console.log(\"Bokeh: all BokehJS libraries loaded\");\n",
       "            run_callbacks()\n",
       "          }\n",
       "        };\n",
       "        s.onerror = function() {\n",
       "          console.warn(\"failed to load library \" + url);\n",
       "        };\n",
       "        console.log(\"Bokeh: injecting script tag for BokehJS library: \", url);\n",
       "        document.getElementsByTagName(\"head\")[0].appendChild(s);\n",
       "      }\n",
       "    };var element = document.getElementById(\"0d49f03c-3a2a-4567-b7e4-cd4124e9a61e\");\n",
       "    if (element == null) {\n",
       "      console.log(\"Bokeh: ERROR: autoload.js configured with elementid '0d49f03c-3a2a-4567-b7e4-cd4124e9a61e' but no matching script tag was found. \")\n",
       "      return false;\n",
       "    }\n",
       "  \n",
       "    var js_urls = [];\n",
       "  \n",
       "    var inline_js = [\n",
       "      function(Bokeh) {\n",
       "        Bokeh.$(function() {\n",
       "            var docs_json = {\"e38a3527-adf1-4f67-8cb4-58724bee329a\":{\"roots\":{\"references\":[{\"attributes\":{\"months\":[0,6]},\"id\":\"93a4c105-3f1f-4b22-90a8-636507d6bbaf\",\"type\":\"MonthsTicker\"},{\"attributes\":{\"days\":[1,4,7,10,13,16,19,22,25,28]},\"id\":\"5394097e-a0ad-4071-8f73-eac96f950b2d\",\"type\":\"DaysTicker\"},{\"attributes\":{\"plot\":null,\"text\":\"Cabbage/Round green type/40 lb cartons, medium/Atlanta\"},\"id\":\"3fbf81f3-1308-4a34-91a2-d1f6015b4937\",\"type\":\"Title\"},{\"attributes\":{\"overlay\":{\"id\":\"f6367b9f-7c8a-4e31-9a14-e79ab55a5b4e\",\"type\":\"BoxAnnotation\"},\"plot\":{\"id\":\"bef59473-7ce9-4723-a358-b2d4abec4d26\",\"subtype\":\"Figure\",\"type\":\"Plot\"}},\"id\":\"46a466a0-1227-4bb3-94e5-a997e5610b5a\",\"type\":\"BoxZoomTool\"},{\"attributes\":{\"days\":[1,8,15,22]},\"id\":\"04a4be20-ac18-4790-a39f-e9fc3de31174\",\"type\":\"DaysTicker\"},{\"attributes\":{\"data_source\":{\"id\":\"3638dd51-91af-48f4-99e8-4a7a3f0b582a\",\"type\":\"ColumnDataSource\"},\"glyph\":{\"id\":\"5087e44a-2ea7-4603-b72a-ff43928553ec\",\"type\":\"Line\"},\"hover_glyph\":null,\"nonselection_glyph\":{\"id\":\"59a457e8-e942-4897-8908-cf88579db6e4\",\"type\":\"Line\"},\"selection_glyph\":null},\"id\":\"d813f4f1-c96c-40aa-b32e-709670f4191b\",\"type\":\"GlyphRenderer\"},{\"attributes\":{\"base\":60,\"mantissas\":[1,2,5,10,15,20,30],\"max_interval\":1800000.0,\"min_interval\":1000.0,\"num_minor_ticks\":0},\"id\":\"280e4c3e-76f4-468b-a658-3f0a7afe4fe3\",\"type\":\"AdaptiveTicker\"},{\"attributes\":{\"callback\":null,\"column_names\":[\"Date\",\"Org\",\"OrgH\",\"ConvH\",\"Conv\",\"premH\"],\"data\":{\"Conv\":[14.85,8.4,10.37,8.77,9.73,10.81,10.78,11.76,15.86,19.19,19.16,15.85,12.02,10.02,13.5,12.15,13.4,14.04,13.66,14.92,18.95,15.13,13.8,13.81],\"ConvH\":[14.85,8.4,10.37,8.77,9.73,10.81,10.78,11.76,15.86,19.19,19.16,15.85,12.02,10.02,13.5,12.15,13.4,14.04,13.66,14.92,18.95,15.13,13.8,13.81],\"Date\":[1325376000000.0,1328054400000.0,1330560000000.0,1333238400000.0,1335830400000.0,1338508800000.0,1341100800000.0,1343779200000.0,1346457600000.0,1349049600000.0,1351728000000.0,1354320000000.0,1356998400000.0,1359676800000.0,1362096000000.0,1364774400000.0,1367366400000.0,1370044800000.0,1372636800000.0,1375315200000.0,1377993600000.0,1380585600000.0,1383264000000.0,1385856000000.0],\"Org\":[33.95,36.35,29.59,24.43,29.0,32.94,\"NaN\",52.77,45.5,36.78,42.0,45.65,39.38,41.44,36.4,36.25,47.78,63.33,62.82,55.09,45.8,45.0,42.79,38.73],\"OrgH\":[33.95,36.35,29.59,24.43,29.0,32.94,\"NaN\",52.77,45.5,36.78,42.0,45.65,39.38,41.44,36.4,36.25,47.78,63.33,62.82,55.09,45.8,45.0,42.79,38.73],\"premH\":[19.1,27.950000000000003,19.22,15.66,19.27,22.129999999999995,\"NaN\",41.010000000000005,29.64,17.59,22.84,29.799999999999997,27.360000000000003,31.419999999999998,22.9,24.1,34.38,49.29,49.16,40.17,26.849999999999998,29.869999999999997,28.99,24.919999999999995]}},\"id\":\"3638dd51-91af-48f4-99e8-4a7a3f0b582a\",\"type\":\"ColumnDataSource\"},{\"attributes\":{\"line_alpha\":{\"value\":0.1},\"line_color\":{\"value\":\"#1f77b4\"},\"x\":{\"field\":\"Date\"},\"y\":{\"field\":\"Conv\"}},\"id\":\"59a457e8-e942-4897-8908-cf88579db6e4\",\"type\":\"Line\"},{\"attributes\":{\"plot\":{\"id\":\"bef59473-7ce9-4723-a358-b2d4abec4d26\",\"subtype\":\"Figure\",\"type\":\"Plot\"}},\"id\":\"74985afc-f3fd-47a6-97de-7f7d4144c64c\",\"type\":\"CrosshairTool\"},{\"attributes\":{\"months\":[0,1,2,3,4,5,6,7,8,9,10,11]},\"id\":\"cc08fdd0-c9ae-4c97-82f4-e83ad04740c7\",\"type\":\"MonthsTicker\"},{\"attributes\":{\"callback\":null,\"plot\":{\"id\":\"bef59473-7ce9-4723-a358-b2d4abec4d26\",\"subtype\":\"Figure\",\"type\":\"Plot\"},\"tooltips\":[[\"Organic: \",\"@OrgH\"],[\"Conventional: \",\"@ConvH\"],[\"Org. Premium: \",\"@premH\"]]},\"id\":\"ef636009-fd27-4282-9abc-5e28ce62ef06\",\"type\":\"HoverTool\"},{\"attributes\":{\"days\":[1,2,3,4,5,6,7,8,9,10,11,12,13,14,15,16,17,18,19,20,21,22,23,24,25,26,27,28,29,30,31]},\"id\":\"658047cd-4ec9-4ef0-b669-9587f215a200\",\"type\":\"DaysTicker\"},{\"attributes\":{},\"id\":\"0ceaa190-e11b-489d-8099-5f04e1c53197\",\"type\":\"ToolEvents\"},{\"attributes\":{\"base\":24,\"mantissas\":[1,2,4,6,8,12],\"max_interval\":43200000.0,\"min_interval\":3600000.0,\"num_minor_ticks\":0},\"id\":\"b8122482-000a-47d2-8113-5fca44d0b320\",\"type\":\"AdaptiveTicker\"},{\"attributes\":{},\"id\":\"423f783e-f751-458b-bde0-929deb078f0e\",\"type\":\"YearsTicker\"},{\"attributes\":{\"plot\":{\"id\":\"bef59473-7ce9-4723-a358-b2d4abec4d26\",\"subtype\":\"Figure\",\"type\":\"Plot\"}},\"id\":\"f5fe566a-f4a8-4b76-a674-b4a57f4094a8\",\"type\":\"SaveTool\"},{\"attributes\":{\"data_source\":{\"id\":\"3638dd51-91af-48f4-99e8-4a7a3f0b582a\",\"type\":\"ColumnDataSource\"},\"glyph\":{\"id\":\"16300018-2be9-4520-b02f-a2a76198472d\",\"type\":\"Line\"},\"hover_glyph\":null,\"nonselection_glyph\":{\"id\":\"602e1d8e-ddb7-46c5-9d6b-a8391da65c25\",\"type\":\"Line\"},\"selection_glyph\":null},\"id\":\"b413969a-f598-493e-a975-3b57b2a1c177\",\"type\":\"GlyphRenderer\"},{\"attributes\":{\"plot\":{\"id\":\"bef59473-7ce9-4723-a358-b2d4abec4d26\",\"subtype\":\"Figure\",\"type\":\"Plot\"}},\"id\":\"f238023e-5e85-4f1e-aef5-2aba4e21c07c\",\"type\":\"ResetTool\"},{\"attributes\":{\"plot\":{\"id\":\"bef59473-7ce9-4723-a358-b2d4abec4d26\",\"subtype\":\"Figure\",\"type\":\"Plot\"},\"ticker\":{\"id\":\"e0ea9ca1-b761-4943-8ed8-594490e9096b\",\"type\":\"DatetimeTicker\"}},\"id\":\"5a7b1d36-acdd-4ca1-abca-ef09f46d5f84\",\"type\":\"Grid\"},{\"attributes\":{},\"id\":\"1a55b4c9-7276-478e-a88e-6cdbd1fff1ae\",\"type\":\"DatetimeTickFormatter\"},{\"attributes\":{\"active_drag\":\"auto\",\"active_scroll\":\"auto\",\"active_tap\":\"auto\",\"tools\":[{\"id\":\"ef636009-fd27-4282-9abc-5e28ce62ef06\",\"type\":\"HoverTool\"},{\"id\":\"e5ab4227-e26c-4db3-a74a-e7b6838c22ce\",\"type\":\"PanTool\"},{\"id\":\"74985afc-f3fd-47a6-97de-7f7d4144c64c\",\"type\":\"CrosshairTool\"},{\"id\":\"46a466a0-1227-4bb3-94e5-a997e5610b5a\",\"type\":\"BoxZoomTool\"},{\"id\":\"f238023e-5e85-4f1e-aef5-2aba4e21c07c\",\"type\":\"ResetTool\"},{\"id\":\"f5fe566a-f4a8-4b76-a674-b4a57f4094a8\",\"type\":\"SaveTool\"}]},\"id\":\"eb0dc76e-a406-4332-a4f8-8f8ad47952ba\",\"type\":\"Toolbar\"},{\"attributes\":{},\"id\":\"6f474933-b905-4f60-a088-fb8125b814f4\",\"type\":\"BasicTickFormatter\"},{\"attributes\":{\"formatter\":{\"id\":\"1a55b4c9-7276-478e-a88e-6cdbd1fff1ae\",\"type\":\"DatetimeTickFormatter\"},\"plot\":{\"id\":\"bef59473-7ce9-4723-a358-b2d4abec4d26\",\"subtype\":\"Figure\",\"type\":\"Plot\"},\"ticker\":{\"id\":\"e0ea9ca1-b761-4943-8ed8-594490e9096b\",\"type\":\"DatetimeTicker\"}},\"id\":\"ddd24a0e-64d4-439f-8f15-47d6aeaec84a\",\"type\":\"DatetimeAxis\"},{\"attributes\":{\"formatter\":{\"id\":\"6f474933-b905-4f60-a088-fb8125b814f4\",\"type\":\"BasicTickFormatter\"},\"plot\":{\"id\":\"bef59473-7ce9-4723-a358-b2d4abec4d26\",\"subtype\":\"Figure\",\"type\":\"Plot\"},\"ticker\":{\"id\":\"a9843c73-3fc7-4980-92cf-878b53fd24b9\",\"type\":\"BasicTicker\"}},\"id\":\"8fc87120-e50f-41d1-92e9-bb469cf98fe5\",\"type\":\"LinearAxis\"},{\"attributes\":{\"months\":[0,4,8]},\"id\":\"f4335994-f021-4217-b796-b2cb1c848cb5\",\"type\":\"MonthsTicker\"},{\"attributes\":{\"days\":[1,15]},\"id\":\"d7429b4a-4433-4f0e-9f96-99ab5f5ac0a8\",\"type\":\"DaysTicker\"},{\"attributes\":{\"dimension\":1,\"plot\":{\"id\":\"bef59473-7ce9-4723-a358-b2d4abec4d26\",\"subtype\":\"Figure\",\"type\":\"Plot\"},\"ticker\":{\"id\":\"a9843c73-3fc7-4980-92cf-878b53fd24b9\",\"type\":\"BasicTicker\"}},\"id\":\"7d4765d9-0e0b-443c-9b64-fa60308d7b00\",\"type\":\"Grid\"},{\"attributes\":{},\"id\":\"a9843c73-3fc7-4980-92cf-878b53fd24b9\",\"type\":\"BasicTicker\"},{\"attributes\":{\"line_color\":{\"value\":\"#fdbf6f\"},\"x\":{\"field\":\"Date\"},\"y\":{\"field\":\"Conv\"}},\"id\":\"5087e44a-2ea7-4603-b72a-ff43928553ec\",\"type\":\"Line\"},{\"attributes\":{\"bottom_units\":\"screen\",\"fill_alpha\":{\"value\":0.5},\"fill_color\":{\"value\":\"lightgrey\"},\"left_units\":\"screen\",\"level\":\"overlay\",\"line_alpha\":{\"value\":1.0},\"line_color\":{\"value\":\"black\"},\"line_dash\":[4,4],\"line_width\":{\"value\":2},\"plot\":null,\"render_mode\":\"css\",\"right_units\":\"screen\",\"top_units\":\"screen\"},\"id\":\"f6367b9f-7c8a-4e31-9a14-e79ab55a5b4e\",\"type\":\"BoxAnnotation\"},{\"attributes\":{\"line_color\":{\"value\":\"#a6cee3\"},\"x\":{\"field\":\"Date\"},\"y\":{\"field\":\"Org\"}},\"id\":\"16300018-2be9-4520-b02f-a2a76198472d\",\"type\":\"Line\"},{\"attributes\":{\"callback\":null},\"id\":\"a8d805a8-2252-4928-b451-78a785a36b77\",\"type\":\"DataRange1d\"},{\"attributes\":{\"num_minor_ticks\":5},\"id\":\"e0ea9ca1-b761-4943-8ed8-594490e9096b\",\"type\":\"DatetimeTicker\"},{\"attributes\":{\"plot\":{\"id\":\"bef59473-7ce9-4723-a358-b2d4abec4d26\",\"subtype\":\"Figure\",\"type\":\"Plot\"}},\"id\":\"e5ab4227-e26c-4db3-a74a-e7b6838c22ce\",\"type\":\"PanTool\"},{\"attributes\":{\"below\":[{\"id\":\"ddd24a0e-64d4-439f-8f15-47d6aeaec84a\",\"type\":\"DatetimeAxis\"}],\"left\":[{\"id\":\"8fc87120-e50f-41d1-92e9-bb469cf98fe5\",\"type\":\"LinearAxis\"}],\"plot_height\":500,\"plot_width\":800,\"renderers\":[{\"id\":\"ddd24a0e-64d4-439f-8f15-47d6aeaec84a\",\"type\":\"DatetimeAxis\"},{\"id\":\"5a7b1d36-acdd-4ca1-abca-ef09f46d5f84\",\"type\":\"Grid\"},{\"id\":\"8fc87120-e50f-41d1-92e9-bb469cf98fe5\",\"type\":\"LinearAxis\"},{\"id\":\"7d4765d9-0e0b-443c-9b64-fa60308d7b00\",\"type\":\"Grid\"},{\"id\":\"f6367b9f-7c8a-4e31-9a14-e79ab55a5b4e\",\"type\":\"BoxAnnotation\"},{\"id\":\"47808ed9-bb38-496e-b132-4e82a608d831\",\"type\":\"Legend\"},{\"id\":\"b413969a-f598-493e-a975-3b57b2a1c177\",\"type\":\"GlyphRenderer\"},{\"id\":\"d813f4f1-c96c-40aa-b32e-709670f4191b\",\"type\":\"GlyphRenderer\"}],\"title\":{\"id\":\"3fbf81f3-1308-4a34-91a2-d1f6015b4937\",\"type\":\"Title\"},\"tool_events\":{\"id\":\"0ceaa190-e11b-489d-8099-5f04e1c53197\",\"type\":\"ToolEvents\"},\"toolbar\":{\"id\":\"eb0dc76e-a406-4332-a4f8-8f8ad47952ba\",\"type\":\"Toolbar\"},\"x_range\":{\"id\":\"a8d805a8-2252-4928-b451-78a785a36b77\",\"type\":\"DataRange1d\"},\"y_range\":{\"id\":\"e5bd6a0d-5fa4-49f6-a9bc-d1996e130ee2\",\"type\":\"DataRange1d\"}},\"id\":\"bef59473-7ce9-4723-a358-b2d4abec4d26\",\"subtype\":\"Figure\",\"type\":\"Plot\"},{\"attributes\":{\"callback\":null},\"id\":\"e5bd6a0d-5fa4-49f6-a9bc-d1996e130ee2\",\"type\":\"DataRange1d\"},{\"attributes\":{\"max_interval\":500.0,\"num_minor_ticks\":0},\"id\":\"88c06d8c-5c81-469e-8e68-174a078e1599\",\"type\":\"AdaptiveTicker\"},{\"attributes\":{\"legends\":[[\"Organics\",[{\"id\":\"b413969a-f598-493e-a975-3b57b2a1c177\",\"type\":\"GlyphRenderer\"}]],[\"Conventional\",[{\"id\":\"d813f4f1-c96c-40aa-b32e-709670f4191b\",\"type\":\"GlyphRenderer\"}]]],\"location\":\"top_left\",\"orientation\":\"horizontal\",\"plot\":{\"id\":\"bef59473-7ce9-4723-a358-b2d4abec4d26\",\"subtype\":\"Figure\",\"type\":\"Plot\"}},\"id\":\"47808ed9-bb38-496e-b132-4e82a608d831\",\"type\":\"Legend\"},{\"attributes\":{\"line_alpha\":{\"value\":0.1},\"line_color\":{\"value\":\"#1f77b4\"},\"x\":{\"field\":\"Date\"},\"y\":{\"field\":\"Org\"}},\"id\":\"602e1d8e-ddb7-46c5-9d6b-a8391da65c25\",\"type\":\"Line\"},{\"attributes\":{\"months\":[0,2,4,6,8,10]},\"id\":\"069b427d-ab6a-46f9-a695-c9a0480b3ca2\",\"type\":\"MonthsTicker\"}],\"root_ids\":[\"bef59473-7ce9-4723-a358-b2d4abec4d26\"]},\"title\":\"Bokeh Application\",\"version\":\"0.12.0\"}};\n",
       "            var render_items = [{\"docid\":\"e38a3527-adf1-4f67-8cb4-58724bee329a\",\"elementid\":\"0d49f03c-3a2a-4567-b7e4-cd4124e9a61e\",\"modelid\":\"bef59473-7ce9-4723-a358-b2d4abec4d26\",\"notebook_comms_target\":\"3043ee5d-35d9-4077-9fbd-ad70f44aca06\"}];\n",
       "            \n",
       "            Bokeh.embed.embed_items(docs_json, render_items);\n",
       "        });\n",
       "      },\n",
       "      function(Bokeh) {\n",
       "      }\n",
       "    ];\n",
       "  \n",
       "    function run_inline_js() {\n",
       "      for (var i = 0; i < inline_js.length; i++) {\n",
       "        inline_js[i](window.Bokeh);\n",
       "      }\n",
       "    }\n",
       "  \n",
       "    if (window._bokeh_is_loading === 0) {\n",
       "      console.log(\"Bokeh: BokehJS loaded, going straight to plotting\");\n",
       "      run_inline_js();\n",
       "    } else {\n",
       "      load_libs(js_urls, function() {\n",
       "        console.log(\"Bokeh: BokehJS plotting callback run at\", now());\n",
       "        run_inline_js();\n",
       "      });\n",
       "    }\n",
       "  }(this));\n",
       "</script>"
      ]
     },
     "metadata": {},
     "output_type": "display_data"
    },
    {
     "name": "stdout",
     "output_type": "stream",
     "text": [
      "HI\n"
     ]
    }
   ],
   "source": [
    "show(p)"
   ]
  },
  {
   "cell_type": "code",
   "execution_count": 55,
   "metadata": {
    "collapsed": false
   },
   "outputs": [],
   "source": [
    "from jinja2 import Template\n",
    "\n",
    "from bokeh.embed import components\n",
    "from bokeh.models import Range1d\n",
    "from bokeh.plotting import figure\n",
    "from bokeh.resources import INLINE\n",
    "from bokeh.util.browser import view"
   ]
  },
  {
   "cell_type": "code",
   "execution_count": 65,
   "metadata": {
    "collapsed": true
   },
   "outputs": [],
   "source": [
    "plot = {'Comp':p}"
   ]
  },
  {
   "cell_type": "code",
   "execution_count": 66,
   "metadata": {
    "collapsed": false
   },
   "outputs": [],
   "source": [
    "script, div = components(plot)"
   ]
  },
  {
   "cell_type": "code",
   "execution_count": 70,
   "metadata": {
    "collapsed": false
   },
   "outputs": [],
   "source": [
    "template = Template('''<!DOCTYPE html>\n",
    "<html lang=\"en\">\n",
    "    <head>\n",
    "        <meta charset=\"utf-8\">\n",
    "        <title>Bokeh Scatter Plots</title>\n",
    "        {{ js_resources }}\n",
    "        {{ css_resources }}\n",
    "        {{ script }}\n",
    "        <style>\n",
    "            .embed-wrapper {\n",
    "                width: 50%;\n",
    "                height: 200px;\n",
    "                margin: auto;\n",
    "            }\n",
    "        </style>\n",
    "    </head>\n",
    "    <body>\n",
    "        {% for key in div.keys() %}\n",
    "            <div class=\"embed-wrapper\">\n",
    "            {{ div[key] }}\n",
    "            </div>\n",
    "        {% endfor %}\n",
    "    </body>\n",
    "</html>\n",
    "''')"
   ]
  },
  {
   "cell_type": "code",
   "execution_count": 71,
   "metadata": {
    "collapsed": false
   },
   "outputs": [],
   "source": [
    "js_resources = INLINE.render_js()\n",
    "css_resources = INLINE.render_css()\n",
    "\n",
    "filename = 'organics.html'\n",
    "\n",
    "html = template.render(js_resources=js_resources,\n",
    "                       css_resources=css_resources,\n",
    "                       script=script,\n",
    "                       div=div)\n",
    "\n",
    "with open(filename, 'w') as f:\n",
    "    f.write(html)"
   ]
  },
  {
   "cell_type": "code",
   "execution_count": 72,
   "metadata": {
    "collapsed": false,
    "scrolled": true
   },
   "outputs": [],
   "source": [
    "view(filename)"
   ]
  },
  {
   "cell_type": "code",
   "execution_count": null,
   "metadata": {
    "collapsed": true
   },
   "outputs": [],
   "source": []
  },
  {
   "cell_type": "code",
   "execution_count": null,
   "metadata": {
    "collapsed": true
   },
   "outputs": [],
   "source": []
  },
  {
   "cell_type": "code",
   "execution_count": null,
   "metadata": {
    "collapsed": true
   },
   "outputs": [],
   "source": []
  },
  {
   "cell_type": "code",
   "execution_count": 418,
   "metadata": {
    "collapsed": false
   },
   "outputs": [],
   "source": [
    "Ags1 = Ags.pivot_table('Price',['Commodity','MonthYearForm','Terminal Market','Subgroup'],'Organic/ Conventional')"
   ]
  },
  {
   "cell_type": "code",
   "execution_count": 419,
   "metadata": {
    "collapsed": false
   },
   "outputs": [
    {
     "data": {
      "text/html": [
       "<div>\n",
       "<table border=\"1\" class=\"dataframe\">\n",
       "  <thead>\n",
       "    <tr style=\"text-align: right;\">\n",
       "      <th></th>\n",
       "      <th></th>\n",
       "      <th></th>\n",
       "      <th>Organic/ Conventional</th>\n",
       "      <th>Conv</th>\n",
       "      <th>Org</th>\n",
       "    </tr>\n",
       "    <tr>\n",
       "      <th>Commodity</th>\n",
       "      <th>MonthYearForm</th>\n",
       "      <th>Terminal Market</th>\n",
       "      <th>Subgroup</th>\n",
       "      <th></th>\n",
       "      <th></th>\n",
       "    </tr>\n",
       "  </thead>\n",
       "  <tbody>\n",
       "    <tr>\n",
       "      <th rowspan=\"5\" valign=\"top\">Artichoke (SF only)</th>\n",
       "      <th>2012-01-01</th>\n",
       "      <th>San Fran</th>\n",
       "      <th>Globe</th>\n",
       "      <td>28.58</td>\n",
       "      <td>37.34</td>\n",
       "    </tr>\n",
       "    <tr>\n",
       "      <th>2012-02-01</th>\n",
       "      <th>San Fran</th>\n",
       "      <th>Globe</th>\n",
       "      <td>30.00</td>\n",
       "      <td>35.46</td>\n",
       "    </tr>\n",
       "    <tr>\n",
       "      <th>2012-03-01</th>\n",
       "      <th>San Fran</th>\n",
       "      <th>Globe</th>\n",
       "      <td>30.94</td>\n",
       "      <td>NaN</td>\n",
       "    </tr>\n",
       "    <tr>\n",
       "      <th>2012-04-01</th>\n",
       "      <th>San Fran</th>\n",
       "      <th>Globe</th>\n",
       "      <td>18.50</td>\n",
       "      <td>NaN</td>\n",
       "    </tr>\n",
       "    <tr>\n",
       "      <th>2012-05-01</th>\n",
       "      <th>San Fran</th>\n",
       "      <th>Globe</th>\n",
       "      <td>13.48</td>\n",
       "      <td>NaN</td>\n",
       "    </tr>\n",
       "  </tbody>\n",
       "</table>\n",
       "</div>"
      ],
      "text/plain": [
       "Organic/ Conventional                                        Conv    Org\n",
       "Commodity           MonthYearForm Terminal Market Subgroup              \n",
       "Artichoke (SF only) 2012-01-01    San Fran        Globe     28.58  37.34\n",
       "                    2012-02-01    San Fran        Globe     30.00  35.46\n",
       "                    2012-03-01    San Fran        Globe     30.94    NaN\n",
       "                    2012-04-01    San Fran        Globe     18.50    NaN\n",
       "                    2012-05-01    San Fran        Globe     13.48    NaN"
      ]
     },
     "execution_count": 419,
     "metadata": {},
     "output_type": "execute_result"
    }
   ],
   "source": [
    "Ags1.head()"
   ]
  },
  {
   "cell_type": "code",
   "execution_count": 355,
   "metadata": {
    "collapsed": false
   },
   "outputs": [
    {
     "data": {
      "text/plain": [
       "Commodity            MonthYearForm  Terminal Market  Subgroup\n",
       "Artichoke (SF only)  2012-01-01     San Fran         Globe       28.58\n",
       "                     2012-02-01     San Fran         Globe       30.00\n",
       "                     2012-03-01     San Fran         Globe       30.94\n",
       "                     2012-04-01     San Fran         Globe       18.50\n",
       "                     2012-05-01     San Fran         Globe       13.48\n",
       "Name: Conv, dtype: float64"
      ]
     },
     "execution_count": 355,
     "metadata": {},
     "output_type": "execute_result"
    }
   ],
   "source": [
    "Ags1.head()"
   ]
  },
  {
   "cell_type": "code",
   "execution_count": null,
   "metadata": {
    "collapsed": true
   },
   "outputs": [],
   "source": []
  },
  {
   "cell_type": "code",
   "execution_count": null,
   "metadata": {
    "collapsed": true
   },
   "outputs": [],
   "source": []
  },
  {
   "cell_type": "code",
   "execution_count": 323,
   "metadata": {
    "collapsed": false,
    "scrolled": true
   },
   "outputs": [
    {
     "data": {
      "text/html": [
       "<div>\n",
       "<table border=\"1\" class=\"dataframe\">\n",
       "  <thead>\n",
       "    <tr style=\"text-align: right;\">\n",
       "      <th></th>\n",
       "      <th></th>\n",
       "      <th>Organic/ Conventional</th>\n",
       "      <th>Conv</th>\n",
       "      <th>Org</th>\n",
       "    </tr>\n",
       "    <tr>\n",
       "      <th>Commodity</th>\n",
       "      <th>MonthYearForm</th>\n",
       "      <th>Terminal Market</th>\n",
       "      <th></th>\n",
       "      <th></th>\n",
       "    </tr>\n",
       "  </thead>\n",
       "  <tbody>\n",
       "    <tr>\n",
       "      <th rowspan=\"5\" valign=\"top\">Artichoke (SF only)</th>\n",
       "      <th>2012-01-01</th>\n",
       "      <th>San Fran</th>\n",
       "      <td>28.58</td>\n",
       "      <td>37.34</td>\n",
       "    </tr>\n",
       "    <tr>\n",
       "      <th>2012-02-01</th>\n",
       "      <th>San Fran</th>\n",
       "      <td>30.00</td>\n",
       "      <td>35.46</td>\n",
       "    </tr>\n",
       "    <tr>\n",
       "      <th>2012-03-01</th>\n",
       "      <th>San Fran</th>\n",
       "      <td>30.94</td>\n",
       "      <td>NaN</td>\n",
       "    </tr>\n",
       "    <tr>\n",
       "      <th>2012-04-01</th>\n",
       "      <th>San Fran</th>\n",
       "      <td>18.50</td>\n",
       "      <td>NaN</td>\n",
       "    </tr>\n",
       "    <tr>\n",
       "      <th>2012-05-01</th>\n",
       "      <th>San Fran</th>\n",
       "      <td>13.48</td>\n",
       "      <td>NaN</td>\n",
       "    </tr>\n",
       "  </tbody>\n",
       "</table>\n",
       "</div>"
      ],
      "text/plain": [
       "Organic/ Conventional                               Conv    Org\n",
       "Commodity           MonthYearForm Terminal Market              \n",
       "Artichoke (SF only) 2012-01-01    San Fran         28.58  37.34\n",
       "                    2012-02-01    San Fran         30.00  35.46\n",
       "                    2012-03-01    San Fran         30.94    NaN\n",
       "                    2012-04-01    San Fran         18.50    NaN\n",
       "                    2012-05-01    San Fran         13.48    NaN"
      ]
     },
     "execution_count": 323,
     "metadata": {},
     "output_type": "execute_result"
    }
   ],
   "source": [
    "Ags.head()\n",
    "#Veggies2013.head()"
   ]
  },
  {
   "cell_type": "code",
   "execution_count": 226,
   "metadata": {
    "collapsed": false
   },
   "outputs": [
    {
     "data": {
      "text/plain": [
       "Commodity                        object\n",
       "Subgroup                         object\n",
       "Package                          object\n",
       "Organic/ Conventional            object\n",
       "Terminal Market                  object\n",
       "MonthYear                        object\n",
       "Price                            object\n",
       "MonthYearForm            datetime64[ns]\n",
       "dtype: object"
      ]
     },
     "execution_count": 226,
     "metadata": {},
     "output_type": "execute_result"
    }
   ],
   "source": [
    "Veggies.dtypes"
   ]
  },
  {
   "cell_type": "code",
   "execution_count": null,
   "metadata": {
    "collapsed": true
   },
   "outputs": [],
   "source": []
  },
  {
   "cell_type": "code",
   "execution_count": null,
   "metadata": {
    "collapsed": true
   },
   "outputs": [],
   "source": []
  },
  {
   "cell_type": "code",
   "execution_count": null,
   "metadata": {
    "collapsed": true
   },
   "outputs": [],
   "source": []
  },
  {
   "cell_type": "code",
   "execution_count": null,
   "metadata": {
    "collapsed": true
   },
   "outputs": [],
   "source": []
  },
  {
   "cell_type": "code",
   "execution_count": null,
   "metadata": {
    "collapsed": true
   },
   "outputs": [],
   "source": []
  },
  {
   "cell_type": "code",
   "execution_count": null,
   "metadata": {
    "collapsed": true
   },
   "outputs": [],
   "source": []
  }
 ],
 "metadata": {
  "anaconda-cloud": {},
  "kernelspec": {
   "display_name": "Python [Root]",
   "language": "python",
   "name": "Python [Root]"
  },
  "language_info": {
   "codemirror_mode": {
    "name": "ipython",
    "version": 3
   },
   "file_extension": ".py",
   "mimetype": "text/x-python",
   "name": "python",
   "nbconvert_exporter": "python",
   "pygments_lexer": "ipython3",
   "version": "3.5.2"
  }
 },
 "nbformat": 4,
 "nbformat_minor": 0
}
