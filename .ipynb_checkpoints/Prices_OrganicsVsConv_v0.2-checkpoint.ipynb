{
 "cells": [
  {
   "cell_type": "code",
   "execution_count": 1,
   "metadata": {
    "collapsed": true
   },
   "outputs": [],
   "source": [
    "import pandas as pd\n",
    "import numpy as np\n",
    "from dateutil.parser import *\n",
    "from datetime import *"
   ]
  },
  {
   "cell_type": "code",
   "execution_count": 2,
   "metadata": {
    "collapsed": false
   },
   "outputs": [],
   "source": [
    "DEFAULT = datetime(1,1,1)"
   ]
  },
  {
   "cell_type": "markdown",
   "metadata": {},
   "source": [
    "Py Notes\n",
    "\n",
    "- Data reshapping is awesome! http://pandas.pydata.org/pandas-docs/stable/reshaping.html"
   ]
  },
  {
   "cell_type": "markdown",
   "metadata": {
    "collapsed": true
   },
   "source": [
    "## Price relationship btwn organics and conventional crops\n",
    "\n",
    "\n",
    "Notes:\n",
    "- exempt farms are those that say they farm organic but do less thank $5k/year, so dont have be to be certified.\n",
    "- cropland - areas used for the production of adapted crops for harvest\n",
    "- rangeland - native vegetation land used for livestock\n",
    "- pastureland - seed land used for livestock\n",
    "\n",
    "Links:\n",
    "\n",
    "!UNFORTUNATELY THE USDA PRICE DATA HASNT BEEN UPDATED SINCE 2012\n",
    "- [USDA's ERS organic vs conventional price data](http://www.ers.usda.gov/data-products/organic-prices.aspx)\n",
    "- [USDA's ERS Documentation for prices](http://www.ers.usda.gov/data-products/organic-prices/documentation.aspx)\n",
    "\n",
    "The weekly reports are kept upt to date, but they're pdfs\n",
    "- [USDA's AMS Organic Reports (with commentary](http://www.ers.usda.gov/data-products/organic-prices/documentation.aspx)\n",
    "\n",
    "- [Resources for Organic and Transitioning Farmers](http://ofrf.org/policy/resources)\n",
    "\n",
    "-[USDA Oraganic Insider newsletter archive](http://archive.constantcontact.com/fs054/1103777415326/archive/1108212629106.html)\n",
    "\n",
    "https://www.agcensus.usda.gov/Publications/2012/Online_Resources/Organics/ORGANICS.pdf\n",
    "\n",
    "https://www.ams.usda.gov/market-news/organic\n",
    "\n",
    "https://www.ams.usda.gov/market-news/organic-market-news-reports\n",
    "\n",
    "https://www.ams.usda.gov/market-news/custom-reports\n",
    "\n",
    "\n",
    "- \"The 2015 Certified Organic Survey publication will be released in September 2016.\" [here](https://www.nass.usda.gov/Surveys/Guide_to_NASS_Surveys/Organic_Production/index.php)\n",
    "\n",
    "- [2014 Organic Survey](https://www.agcensus.usda.gov/Publications/2012/Online_Resources/Organics/)\n",
    "\n",
    "USDA Risk Management Agency: [organics page](http://www.rma.usda.gov/news/currentissues/organics/)\n",
    "- [Organic Pricing Methodologies for Barley, Corn,Cotton,Grain Sorghum, Rice, Soybeans, Sunflowers,and Wheat](http://www.rma.usda.gov/pubs/2015/organicpricingmethodology.pdf)\n",
    "- [Summary of business for organic production](http://www.rma.usda.gov/data/sob/organic/2015organic.pdf)\n",
    "\n",
    "[March 2016 report to congress](http://www.rma.usda.gov/pubs/2016/appropriations.pdf)\n",
    "\"After conducting research, it was determined that for some crops, the organic counterpart does \n",
    "not receive a premium price. For those crops, RMA has concluded that a premium organic price \n",
    "election is not warranted and has the potential to distort market behavior.  These crops are \n",
    "alfalfa seed, carambola trees, cigar filler tobacco, cigar wrapper tobacco, fire cured tobacco, forage seeding, lemon trees, lime trees, mango trees, and sugar beets.\"\n",
    "\n",
    "- [Auction Cash Market for organics](http://www.mercaris.com/company#about)\n",
    "\n"
   ]
  },
  {
   "cell_type": "code",
   "execution_count": 3,
   "metadata": {
    "collapsed": false
   },
   "outputs": [
    {
     "data": {
      "text/plain": [
       "'/home/brett/Documents/JupyterNotebooks/AgResearch'"
      ]
     },
     "execution_count": 3,
     "metadata": {},
     "output_type": "execute_result"
    }
   ],
   "source": [
    "%pwd"
   ]
  },
  {
   "cell_type": "code",
   "execution_count": 4,
   "metadata": {
    "collapsed": false
   },
   "outputs": [
    {
     "name": "stdout",
     "output_type": "stream",
     "text": [
      "/home/brett/Dropbox/AgResearch\n"
     ]
    }
   ],
   "source": [
    "%cd /home/brett/Dropbox/AgResearch/"
   ]
  },
  {
   "cell_type": "markdown",
   "metadata": {},
   "source": [
    "## 2014 organic survey table 551\n",
    "Transitional Organic Land Operated by Non-Organic Farms\n",
    "\n",
    "bullets:\n",
    "- 688 non-organic farms are transitioning to grow organic products. 50,688 acres total\n",
    "    - 24,550 acres cropland, 17,030 acres patureland, 9,108 acres rangeland\n",
    "    \n",
    "    \n",
    "    "
   ]
  },
  {
   "cell_type": "code",
   "execution_count": 5,
   "metadata": {
    "collapsed": false
   },
   "outputs": [
    {
     "name": "stdout",
     "output_type": "stream",
     "text": [
      "561,\"t\",\"2014 Organic Survey: Released September 17, 2015, by the National Agricultural Statistics Service (NASS), Agricultural Statistics Board, U.S. Department of Agriculture.\"\r",
      "\r\n",
      "561,\"t\",\"Table 81.  Transitional Organic Land Operated � Non-Organic Farms:  2014\"\r",
      "\r\n",
      "561,\"t\",\"[For meaning of abbreviations and symbols, see introductory text.]\"\r",
      "\r\n",
      "561,\"h\",\"\",\"\",\"\",\"\",\"\",\"\"\r",
      "\r\n",
      "561,\"h\",\"\",\"\",\"Acres in transition\",\"Acres in transition\",\"Acres in transition\",\"Acres in transition\"\r",
      "\r\n",
      "561,\"h\",\"\",\"\",\"\",\"\",\"\",\"\"\r",
      "\r\n",
      "561,\"h\",\"Geographic Area\",\"Farms\",\"Total\",\"Cropland\",\"Pastureland\",\"Rangeland\"\r",
      "\r\n",
      "561,\"h\",\"\",\"\",\"\",\"\",\"\",\"\"\r",
      "\r\n",
      "561,\"d\",\"United States\",688,50688,24550,17030,9108\r",
      "\r\n",
      "561,\"d\",\"\",,,,,\r",
      "\r\n"
     ]
    }
   ],
   "source": [
    "!head -n 10 corg_p551_t0561.csv"
   ]
  },
  {
   "cell_type": "code",
   "execution_count": 6,
   "metadata": {
    "collapsed": false
   },
   "outputs": [],
   "source": [
    "acresInTransition = pd.read_csv('corg_p551_t0561.csv',skiprows=6)"
   ]
  },
  {
   "cell_type": "code",
   "execution_count": 7,
   "metadata": {
    "collapsed": false
   },
   "outputs": [
    {
     "data": {
      "text/html": [
       "<div>\n",
       "<table border=\"1\" class=\"dataframe\">\n",
       "  <thead>\n",
       "    <tr style=\"text-align: right;\">\n",
       "      <th></th>\n",
       "      <th>561</th>\n",
       "      <th>h</th>\n",
       "      <th>Geographic Area</th>\n",
       "      <th>Farms</th>\n",
       "      <th>Total</th>\n",
       "      <th>Cropland</th>\n",
       "      <th>Pastureland</th>\n",
       "      <th>Rangeland</th>\n",
       "    </tr>\n",
       "  </thead>\n",
       "  <tbody>\n",
       "    <tr>\n",
       "      <th>0</th>\n",
       "      <td>561</td>\n",
       "      <td>h</td>\n",
       "      <td>NaN</td>\n",
       "      <td>NaN</td>\n",
       "      <td>NaN</td>\n",
       "      <td>NaN</td>\n",
       "      <td>NaN</td>\n",
       "      <td>NaN</td>\n",
       "    </tr>\n",
       "    <tr>\n",
       "      <th>1</th>\n",
       "      <td>561</td>\n",
       "      <td>d</td>\n",
       "      <td>United States</td>\n",
       "      <td>688.0</td>\n",
       "      <td>50688</td>\n",
       "      <td>24550</td>\n",
       "      <td>17030</td>\n",
       "      <td>9108</td>\n",
       "    </tr>\n",
       "    <tr>\n",
       "      <th>2</th>\n",
       "      <td>561</td>\n",
       "      <td>d</td>\n",
       "      <td>NaN</td>\n",
       "      <td>NaN</td>\n",
       "      <td>NaN</td>\n",
       "      <td>NaN</td>\n",
       "      <td>NaN</td>\n",
       "      <td>NaN</td>\n",
       "    </tr>\n",
       "    <tr>\n",
       "      <th>3</th>\n",
       "      <td>561</td>\n",
       "      <td>d</td>\n",
       "      <td>Alabama</td>\n",
       "      <td>6.0</td>\n",
       "      <td>(D)</td>\n",
       "      <td>17</td>\n",
       "      <td>(D)</td>\n",
       "      <td>-</td>\n",
       "    </tr>\n",
       "    <tr>\n",
       "      <th>4</th>\n",
       "      <td>561</td>\n",
       "      <td>d</td>\n",
       "      <td>Alaska</td>\n",
       "      <td>1.0</td>\n",
       "      <td>(D)</td>\n",
       "      <td>-</td>\n",
       "      <td>(D)</td>\n",
       "      <td>-</td>\n",
       "    </tr>\n",
       "    <tr>\n",
       "      <th>5</th>\n",
       "      <td>561</td>\n",
       "      <td>d</td>\n",
       "      <td>Arkansas</td>\n",
       "      <td>2.0</td>\n",
       "      <td>(D)</td>\n",
       "      <td>(D)</td>\n",
       "      <td>-</td>\n",
       "      <td>(D)</td>\n",
       "    </tr>\n",
       "    <tr>\n",
       "      <th>6</th>\n",
       "      <td>561</td>\n",
       "      <td>d</td>\n",
       "      <td>California</td>\n",
       "      <td>57.0</td>\n",
       "      <td>2596</td>\n",
       "      <td>1971</td>\n",
       "      <td>582</td>\n",
       "      <td>43</td>\n",
       "    </tr>\n",
       "    <tr>\n",
       "      <th>7</th>\n",
       "      <td>561</td>\n",
       "      <td>d</td>\n",
       "      <td>Colorado</td>\n",
       "      <td>13.0</td>\n",
       "      <td>680</td>\n",
       "      <td>491</td>\n",
       "      <td>69</td>\n",
       "      <td>120</td>\n",
       "    </tr>\n",
       "    <tr>\n",
       "      <th>8</th>\n",
       "      <td>561</td>\n",
       "      <td>d</td>\n",
       "      <td>NaN</td>\n",
       "      <td>NaN</td>\n",
       "      <td>NaN</td>\n",
       "      <td>NaN</td>\n",
       "      <td>NaN</td>\n",
       "      <td>NaN</td>\n",
       "    </tr>\n",
       "    <tr>\n",
       "      <th>9</th>\n",
       "      <td>561</td>\n",
       "      <td>d</td>\n",
       "      <td>Connecticut</td>\n",
       "      <td>8.0</td>\n",
       "      <td>26</td>\n",
       "      <td>25</td>\n",
       "      <td>1</td>\n",
       "      <td>-</td>\n",
       "    </tr>\n",
       "  </tbody>\n",
       "</table>\n",
       "</div>"
      ],
      "text/plain": [
       "   561  h Geographic Area  Farms  Total Cropland Pastureland Rangeland\n",
       "0  561  h             NaN    NaN    NaN      NaN         NaN       NaN\n",
       "1  561  d   United States  688.0  50688    24550       17030      9108\n",
       "2  561  d             NaN    NaN    NaN      NaN         NaN       NaN\n",
       "3  561  d         Alabama    6.0    (D)       17         (D)         -\n",
       "4  561  d          Alaska    1.0    (D)        -         (D)         -\n",
       "5  561  d        Arkansas    2.0    (D)      (D)           -       (D)\n",
       "6  561  d      California   57.0   2596     1971         582        43\n",
       "7  561  d        Colorado   13.0    680      491          69       120\n",
       "8  561  d             NaN    NaN    NaN      NaN         NaN       NaN\n",
       "9  561  d     Connecticut    8.0     26       25           1         -"
      ]
     },
     "execution_count": 7,
     "metadata": {},
     "output_type": "execute_result"
    }
   ],
   "source": [
    "acresInTransition.head(10)"
   ]
  },
  {
   "cell_type": "code",
   "execution_count": 8,
   "metadata": {
    "collapsed": false
   },
   "outputs": [],
   "source": [
    "#drop nan rows\n",
    "acresInTransition = acresInTransition[np.isfinite(acresInTransition['Farms'])]"
   ]
  },
  {
   "cell_type": "code",
   "execution_count": 9,
   "metadata": {
    "collapsed": true
   },
   "outputs": [],
   "source": [
    "#del col '561'\n",
    "acresInTransition = acresInTransition.drop('561',1)"
   ]
  },
  {
   "cell_type": "code",
   "execution_count": 10,
   "metadata": {
    "collapsed": true
   },
   "outputs": [],
   "source": [
    "#del col 'h'\n",
    "acresInTransition = acresInTransition.drop('h',1)"
   ]
  },
  {
   "cell_type": "code",
   "execution_count": 11,
   "metadata": {
    "collapsed": true
   },
   "outputs": [],
   "source": [
    "#rename columns\n",
    "acresInTransition.columns = ['Area','farmsCount','totalAcresInTrans','croplandAcresInTrans',\n",
    "                     'pasturelandAcresInTrans','rangelandAcresInTrans']"
   ]
  },
  {
   "cell_type": "markdown",
   "metadata": {},
   "source": [
    "## 2014 organic survey table 1\n",
    "Farms, land and value of sales of organic ag products - certified and exempt farms\n",
    "\n",
    "bullets:\n",
    "\n",
    "- There are 14,048 organic farms operating in the United states. The total acreage is 3,670,560 acres.\n",
    "    - thats 261 acres per farm\n",
    "- 1,365 farms are classified as transitional, with 122,175 acres transitioning. \n",
    "    - thats 89 acres per farm"
   ]
  },
  {
   "cell_type": "code",
   "execution_count": 12,
   "metadata": {
    "collapsed": false
   },
   "outputs": [
    {
     "name": "stdout",
     "output_type": "stream",
     "text": [
      "1,\"t\",\"2014 Organic Survey: Released September 17, 2015, by the National Agricultural Statistics Service (NASS), Agricultural Statistics Board, U.S. Department of Agriculture.\"\r",
      "\r\n",
      "1,\"t\",\"Table 1.  Farms, Land, and Value of Sales of Organic Agricultural Products � Certified and Exempt Organic Farms:  2014\"\r",
      "\r\n",
      "1,\"t\",\"[For meaning of abbreviations and symbols, see introductory text.]\"\r",
      "\r\n",
      "1,\"h\",\"\",\"\",\"\",\"\",\"\",\"\",\"\",\"\"\r",
      "\r\n",
      "1,\"h\",\"Item\",\"\",\"United States\",\"Alabama\",\"Alaska\",\"Arizona\",\"Arkansas\",\"California\"\r",
      "\r\n",
      "1,\"h\",\"\",\"\",\"\",\"\",\"\",\"\",\"\",\"\"\r",
      "\r\n",
      "1,\"d\",\"ORGANIC FARMS\",\"\",,,,,,\r",
      "\r\n",
      "1,\"d\",\"\",\"\",,,,,,\r",
      "\r\n",
      "1,\"d\",\"Certified or exempt\",\"farms\",14093,28,17,61,34,2805\r",
      "\r\n",
      "1,\"d\",\"\",\"\",,,,,,\r",
      "\r\n"
     ]
    }
   ],
   "source": [
    "!head -n 10 corg_p011_t0001.csv"
   ]
  },
  {
   "cell_type": "code",
   "execution_count": 13,
   "metadata": {
    "collapsed": false
   },
   "outputs": [],
   "source": [
    "farmsLandValue = pd.read_csv('corg_p011_t0001.csv',skiprows=4)"
   ]
  },
  {
   "cell_type": "code",
   "execution_count": 14,
   "metadata": {
    "collapsed": true
   },
   "outputs": [],
   "source": [
    "#drop nan rows\n",
    "farmsLandValue = farmsLandValue[np.isfinite(farmsLandValue['United States'])]"
   ]
  },
  {
   "cell_type": "code",
   "execution_count": 15,
   "metadata": {
    "collapsed": false
   },
   "outputs": [],
   "source": [
    "#del cols\n",
    "farmsLandValue = farmsLandValue.drop(farmsLandValue.columns[[0,1,5,6,7,8,9]],1)"
   ]
  },
  {
   "cell_type": "code",
   "execution_count": 16,
   "metadata": {
    "collapsed": true
   },
   "outputs": [],
   "source": [
    "#forward fill item names to get rid of nans\n",
    "farmsLandValue['Item'] = farmsLandValue['Item'].fillna(method='ffill')"
   ]
  },
  {
   "cell_type": "code",
   "execution_count": 17,
   "metadata": {
    "collapsed": true
   },
   "outputs": [],
   "source": [
    "#rename columns\n",
    "farmsLandValue.columns = ['Item','Type','UnitedStatesTotal']"
   ]
  },
  {
   "cell_type": "code",
   "execution_count": 18,
   "metadata": {
    "collapsed": false
   },
   "outputs": [
    {
     "data": {
      "text/html": [
       "<div>\n",
       "<table border=\"1\" class=\"dataframe\">\n",
       "  <thead>\n",
       "    <tr style=\"text-align: right;\">\n",
       "      <th></th>\n",
       "      <th>Item</th>\n",
       "      <th>Type</th>\n",
       "      <th>UnitedStatesTotal</th>\n",
       "    </tr>\n",
       "  </thead>\n",
       "  <tbody>\n",
       "    <tr>\n",
       "      <th>3</th>\n",
       "      <td>Certified or exempt</td>\n",
       "      <td>farms</td>\n",
       "      <td>14093.0</td>\n",
       "    </tr>\n",
       "    <tr>\n",
       "      <th>8</th>\n",
       "      <td>operated</td>\n",
       "      <td>farms</td>\n",
       "      <td>14048.0</td>\n",
       "    </tr>\n",
       "    <tr>\n",
       "      <th>9</th>\n",
       "      <td>operated</td>\n",
       "      <td>acres</td>\n",
       "      <td>3670560.0</td>\n",
       "    </tr>\n",
       "    <tr>\n",
       "      <th>11</th>\n",
       "      <td>Land owned</td>\n",
       "      <td>farms</td>\n",
       "      <td>12353.0</td>\n",
       "    </tr>\n",
       "    <tr>\n",
       "      <th>12</th>\n",
       "      <td>Land owned</td>\n",
       "      <td>acres</td>\n",
       "      <td>2221715.0</td>\n",
       "    </tr>\n",
       "    <tr>\n",
       "      <th>13</th>\n",
       "      <td>Land rented from others</td>\n",
       "      <td>farms</td>\n",
       "      <td>5582.0</td>\n",
       "    </tr>\n",
       "    <tr>\n",
       "      <th>14</th>\n",
       "      <td>Land rented from others</td>\n",
       "      <td>acres</td>\n",
       "      <td>1507957.0</td>\n",
       "    </tr>\n",
       "    <tr>\n",
       "      <th>15</th>\n",
       "      <td>Land rented to others</td>\n",
       "      <td>farms</td>\n",
       "      <td>521.0</td>\n",
       "    </tr>\n",
       "    <tr>\n",
       "      <th>16</th>\n",
       "      <td>Land rented to others</td>\n",
       "      <td>acres</td>\n",
       "      <td>59112.0</td>\n",
       "    </tr>\n",
       "    <tr>\n",
       "      <th>18</th>\n",
       "      <td>Total certified organic acres operated</td>\n",
       "      <td>farms</td>\n",
       "      <td>12595.0</td>\n",
       "    </tr>\n",
       "  </tbody>\n",
       "</table>\n",
       "</div>"
      ],
      "text/plain": [
       "                                        Item   Type  UnitedStatesTotal\n",
       "3                        Certified or exempt  farms            14093.0\n",
       "8                                   operated  farms            14048.0\n",
       "9                                   operated  acres          3670560.0\n",
       "11                                Land owned  farms            12353.0\n",
       "12                                Land owned  acres          2221715.0\n",
       "13                   Land rented from others  farms             5582.0\n",
       "14                   Land rented from others  acres          1507957.0\n",
       "15                     Land rented to others  farms              521.0\n",
       "16                     Land rented to others  acres            59112.0\n",
       "18    Total certified organic acres operated  farms            12595.0"
      ]
     },
     "execution_count": 18,
     "metadata": {},
     "output_type": "execute_result"
    }
   ],
   "source": [
    "farmsLandValue.head(10)"
   ]
  },
  {
   "cell_type": "markdown",
   "metadata": {
    "collapsed": true
   },
   "source": [
    "## ERS organic price tables [old data]"
   ]
  },
  {
   "cell_type": "markdown",
   "metadata": {},
   "source": [
    "### Wholesale Veggies"
   ]
  },
  {
   "cell_type": "code",
   "execution_count": 19,
   "metadata": {
    "collapsed": false
   },
   "outputs": [
    {
     "name": "stdout",
     "output_type": "stream",
     "text": [
      "\" Wholesale vegetable prices, organic and conventional, monthly and annual, 2012\",,,,,,,,,,,,,,,,,\r\n",
      "Commodity,Subgroup,Package,Organic/ Conventional,Terminal Market,Jan-12,Feb-12,Mar-12,Apr-12,May-12,Jun-12,Jul-12,Aug-12,Sep-12,Oct-12,Nov-12,Dec-12,2012\r\n",
      "Artichoke (SF only),Globe,\"cartons, 24s\",Conv,San Fran,28.58,30.00,30.94,18.50,13.48,17.83,30.00,35.26,25.75,24.66,23.47,26.29,24.12\r\n",
      "Artichoke (SF only),Globe,\"cartons, 24s\",Org,San Fran,37.34,35.46,N\\A,N\\A,N\\A,30.31,35.00,40.12,45.50,40.47,32.76,32.50,36.88\r\n",
      "Cabbage,Round green type,\"40 lb cartons, medium\",Conv,Atlanta,N\\A,N\\A,N\\A,N\\A,N\\A,N\\A,N\\A,16.50,N\\A,N\\A,N\\A,N\\A,16.50\r\n"
     ]
    }
   ],
   "source": [
    "!head -n 5 Vegetables2012.csv"
   ]
  },
  {
   "cell_type": "code",
   "execution_count": 20,
   "metadata": {
    "collapsed": true
   },
   "outputs": [],
   "source": [
    "Veggies2012 = pd.read_csv('Vegetables2012.csv',skiprows=1)"
   ]
  },
  {
   "cell_type": "code",
   "execution_count": 21,
   "metadata": {
    "collapsed": true
   },
   "outputs": [],
   "source": [
    "Veggies2013 = pd.read_csv('Vegetables2013.csv', skiprows=1)"
   ]
  },
  {
   "cell_type": "code",
   "execution_count": 22,
   "metadata": {
    "collapsed": false,
    "scrolled": true
   },
   "outputs": [],
   "source": [
    "#drop the year summary vars\n",
    "#Veggies2012.columns.get_loc('2012');\n",
    "Veggies2012 = Veggies2012.drop(Veggies2012.columns[17],1)\n",
    "Veggies2013 = Veggies2013.drop(Veggies2013.columns[17],1)"
   ]
  },
  {
   "cell_type": "code",
   "execution_count": 23,
   "metadata": {
    "collapsed": false
   },
   "outputs": [],
   "source": [
    "#transform the data so dates are a column\n",
    "Veggies2012 = pd.melt(Veggies2012, id_vars=['Commodity','Subgroup','Package','Organic/ Conventional','Terminal Market'],\n",
    "       var_name='MonthYear', value_name='Price')\n",
    "\n",
    "Veggies2013 = pd.melt(Veggies2013, id_vars=['Commodity','Subgroup','Package','Organic/ Conventional','Terminal Market'],\n",
    "       var_name='MonthYear', value_name='Price')"
   ]
  },
  {
   "cell_type": "code",
   "execution_count": 24,
   "metadata": {
    "collapsed": false
   },
   "outputs": [],
   "source": [
    "#put em together\n",
    "Ags = Veggies2012.append(Veggies2013)"
   ]
  },
  {
   "cell_type": "code",
   "execution_count": 25,
   "metadata": {
    "collapsed": true
   },
   "outputs": [],
   "source": [
    "#make sure month year is formatted correctly then convert it to datetime\n",
    "#Veggies['MonthYear'].str.strip('\\n')\n",
    "Ags['MonthYear'] = Ags['MonthYear'].str.replace('-','20')\n",
    "Ags['MonthYearForm'] = Ags['MonthYear'].apply(lambda x: parse(x,default=DEFAULT))"
   ]
  },
  {
   "cell_type": "code",
   "execution_count": 26,
   "metadata": {
    "collapsed": false
   },
   "outputs": [],
   "source": [
    "#convert price to number formatting\n",
    "Ags['Price'] = pd.to_numeric(Ags['Price'],errors='coerce')"
   ]
  },
  {
   "cell_type": "code",
   "execution_count": 27,
   "metadata": {
    "collapsed": false
   },
   "outputs": [],
   "source": [
    "#want to have it so price for conventional and organic are columns\n",
    "#couldnt quickly google how-to, so doing it 'by hand'\n",
    "#first make the two columns, with price if there is one\n",
    "Ags['Price_Conv'] = np.where(Ags['Organic/ Conventional']=='Conv',Ags['Price'],'NaN')\n",
    "Ags['Price_Org'] = np.where(Ags['Organic/ Conventional']=='Org',Ags['Price'],'NaN')"
   ]
  },
  {
   "cell_type": "code",
   "execution_count": 28,
   "metadata": {
    "collapsed": true
   },
   "outputs": [],
   "source": [
    "#next convert new cols to numbers, my NaNs werent numbers\n",
    "Ags['Price_Conv'] = pd.to_numeric(Ags['Price_Conv'],errors='coerce')\n",
    "Ags['Price_Org'] = pd.to_numeric(Ags['Price_Org'],errors='coerce')"
   ]
  },
  {
   "cell_type": "code",
   "execution_count": 29,
   "metadata": {
    "collapsed": false
   },
   "outputs": [],
   "source": [
    "#back fill nans so one row has an entry for both cols\n",
    "Ags['Price_Conv'] = Ags['Price_Conv'].fillna(method='bfill')\n",
    "Ags['Price_Org'] = Ags['Price_Org'].fillna(method='bfill')"
   ]
  },
  {
   "cell_type": "code",
   "execution_count": 30,
   "metadata": {
    "collapsed": true
   },
   "outputs": [],
   "source": [
    "#price data in new cols is repeated and only the first is correct\n",
    "#so put NaNs back where they are legit\n",
    "def convOrg(row):\n",
    "    if (row['Organic/ Conventional'] == 'Conv' and pd.isnull(row['Price'])):\n",
    "        row['Price_Conv'] = 'NaN'\n",
    "    if (row['Organic/ Conventional'] == 'Org' and pd.isnull(row['Price'])):\n",
    "        row['Price_Org'] = 'NaN'\n",
    "    return row"
   ]
  },
  {
   "cell_type": "code",
   "execution_count": 31,
   "metadata": {
    "collapsed": false
   },
   "outputs": [],
   "source": [
    "Ags = Ags.apply(convOrg,axis=1)"
   ]
  },
  {
   "cell_type": "code",
   "execution_count": 32,
   "metadata": {
    "collapsed": false
   },
   "outputs": [],
   "source": [
    "#drop now unwanted columns\n",
    "#Ags.columns.get_loc('Organic/ Conventional');\n",
    "Ags = Ags.drop(Ags.columns[[3,5,6]],1)"
   ]
  },
  {
   "cell_type": "code",
   "execution_count": 33,
   "metadata": {
    "collapsed": false
   },
   "outputs": [],
   "source": [
    "#drop dupes keep first entry bc thats the good one\n",
    "Ags = Ags.drop_duplicates(['Commodity','MonthYearForm','Subgroup','Package','Terminal Market'], keep='first')"
   ]
  },
  {
   "cell_type": "code",
   "execution_count": 34,
   "metadata": {
    "collapsed": true
   },
   "outputs": [],
   "source": [
    "#next convert new cols to numbers, my NaNs werent numbers\n",
    "Ags['Price_Conv'] = pd.to_numeric(Ags['Price_Conv'],errors='coerce')\n",
    "Ags['Price_Org'] = pd.to_numeric(Ags['Price_Org'],errors='coerce')"
   ]
  },
  {
   "cell_type": "code",
   "execution_count": 35,
   "metadata": {
    "collapsed": false,
    "scrolled": false
   },
   "outputs": [],
   "source": [
    "#calculate the organic premium\n",
    "Ags['Premium'] = Ags['Price_Org'] - Ags['Price_Conv']\n",
    "Ags['PremiumAbs'] = (Ags['Price_Org'] - Ags['Price_Conv'])"
   ]
  },
  {
   "cell_type": "code",
   "execution_count": 36,
   "metadata": {
    "collapsed": false
   },
   "outputs": [],
   "source": [
    "Ags = Ags.set_index(['MonthYearForm'])"
   ]
  },
  {
   "cell_type": "code",
   "execution_count": 37,
   "metadata": {
    "collapsed": true
   },
   "outputs": [],
   "source": [
    "#create groups to analyze\n",
    "gCSPT0 = Ags.groupby(['Commodity','Subgroup','Package','Terminal Market'])"
   ]
  },
  {
   "cell_type": "code",
   "execution_count": 236,
   "metadata": {
    "collapsed": false
   },
   "outputs": [
    {
     "data": {
      "text/html": [
       "\n",
       "    <div class=\"bk-root\">\n",
       "        <a href=\"http://bokeh.pydata.org\" target=\"_blank\" class=\"bk-logo bk-logo-small bk-logo-notebook\"></a>\n",
       "        <span id=\"fdb27f2b-8592-4215-b7ca-2d011d00ff10\">Loading BokehJS ...</span>\n",
       "    </div>"
      ]
     },
     "metadata": {},
     "output_type": "display_data"
    },
    {
     "data": {
      "application/javascript": [
       "\n",
       "(function(global) {\n",
       "  function now() {\n",
       "    return new Date();\n",
       "  }\n",
       "\n",
       "  if (typeof (window._bokeh_onload_callbacks) === \"undefined\") {\n",
       "    window._bokeh_onload_callbacks = [];\n",
       "  }\n",
       "\n",
       "  function run_callbacks() {\n",
       "    window._bokeh_onload_callbacks.forEach(function(callback) { callback() });\n",
       "    delete window._bokeh_onload_callbacks\n",
       "    console.info(\"Bokeh: all callbacks have finished\");\n",
       "  }\n",
       "\n",
       "  function load_libs(js_urls, callback) {\n",
       "    window._bokeh_onload_callbacks.push(callback);\n",
       "    if (window._bokeh_is_loading > 0) {\n",
       "      console.log(\"Bokeh: BokehJS is being loaded, scheduling callback at\", now());\n",
       "      return null;\n",
       "    }\n",
       "    if (js_urls == null || js_urls.length === 0) {\n",
       "      run_callbacks();\n",
       "      return null;\n",
       "    }\n",
       "    console.log(\"Bokeh: BokehJS not loaded, scheduling load and callback at\", now());\n",
       "    window._bokeh_is_loading = js_urls.length;\n",
       "    for (var i = 0; i < js_urls.length; i++) {\n",
       "      var url = js_urls[i];\n",
       "      var s = document.createElement('script');\n",
       "      s.src = url;\n",
       "      s.async = false;\n",
       "      s.onreadystatechange = s.onload = function() {\n",
       "        window._bokeh_is_loading--;\n",
       "        if (window._bokeh_is_loading === 0) {\n",
       "          console.log(\"Bokeh: all BokehJS libraries loaded\");\n",
       "          run_callbacks()\n",
       "        }\n",
       "      };\n",
       "      s.onerror = function() {\n",
       "        console.warn(\"failed to load library \" + url);\n",
       "      };\n",
       "      console.log(\"Bokeh: injecting script tag for BokehJS library: \", url);\n",
       "      document.getElementsByTagName(\"head\")[0].appendChild(s);\n",
       "    }\n",
       "  };\n",
       "\n",
       "  var js_urls = ['https://cdn.pydata.org/bokeh/release/bokeh-0.12.0.min.js', 'https://cdn.pydata.org/bokeh/release/bokeh-widgets-0.12.0.min.js', 'https://cdn.pydata.org/bokeh/release/bokeh-compiler-0.12.0.min.js'];\n",
       "\n",
       "  var inline_js = [\n",
       "    function(Bokeh) {\n",
       "      Bokeh.set_log_level(\"info\");\n",
       "    },\n",
       "    \n",
       "    function(Bokeh) {\n",
       "      Bokeh.$(\"#fdb27f2b-8592-4215-b7ca-2d011d00ff10\").text(\"BokehJS successfully loaded\");\n",
       "    },\n",
       "    function(Bokeh) {\n",
       "      console.log(\"Bokeh: injecting CSS: https://cdn.pydata.org/bokeh/release/bokeh-0.12.0.min.css\");\n",
       "      Bokeh.embed.inject_css(\"https://cdn.pydata.org/bokeh/release/bokeh-0.12.0.min.css\");\n",
       "      console.log(\"Bokeh: injecting CSS: https://cdn.pydata.org/bokeh/release/bokeh-widgets-0.12.0.min.css\");\n",
       "      Bokeh.embed.inject_css(\"https://cdn.pydata.org/bokeh/release/bokeh-widgets-0.12.0.min.css\");\n",
       "    }\n",
       "  ];\n",
       "\n",
       "  function run_inline_js() {\n",
       "    for (var i = 0; i < inline_js.length; i++) {\n",
       "      inline_js[i](window.Bokeh);\n",
       "    }\n",
       "  }\n",
       "\n",
       "  if (window._bokeh_is_loading === 0) {\n",
       "    console.log(\"Bokeh: BokehJS loaded, going straight to plotting\");\n",
       "    run_inline_js();\n",
       "  } else {\n",
       "    load_libs(js_urls, function() {\n",
       "      console.log(\"Bokeh: BokehJS plotting callback run at\", now());\n",
       "      run_inline_js();\n",
       "    });\n",
       "  }\n",
       "}(this));"
      ]
     },
     "metadata": {},
     "output_type": "display_data"
    }
   ],
   "source": [
    "from bokeh.models import ColumnDataSource, HoverTool, Legend, Label\n",
    "from bokeh.models.widgets import DataTable, DateFormatter, TableColumn, Select\n",
    "from bokeh.io import output_notebook, show, vform, output_file\n",
    "from bokeh.plotting import figure\n",
    "from bokeh.layouts import column\n",
    "\n",
    "output_notebook()"
   ]
  },
  {
   "cell_type": "code",
   "execution_count": 39,
   "metadata": {
    "collapsed": false
   },
   "outputs": [],
   "source": [
    "#subset for simplicity\n",
    "veglist =[]\n",
    "for i, group in gCSPT0:\n",
    "    veglist.append(i)"
   ]
  },
  {
   "cell_type": "code",
   "execution_count": 40,
   "metadata": {
    "collapsed": false
   },
   "outputs": [],
   "source": [
    "cab = Ags[(Ags.Commodity == 'Cabbage') &\n",
    "      (Ags.Subgroup == 'Round green type') &\n",
    "      (Ags.Package == '45 lb cartons, medium') &\n",
    "      (Ags['Terminal Market'] == 'Atlanta')]"
   ]
  },
  {
   "cell_type": "code",
   "execution_count": 185,
   "metadata": {
    "collapsed": false
   },
   "outputs": [],
   "source": [
    "#stats to display below the graph\n",
    "cabCorr = cab.Price_Conv.corr(cab.Price_Org).round(decimals=2)\n",
    "cabPremAvg = round(cab.PremiumAbs.mean(),2)"
   ]
  },
  {
   "cell_type": "code",
   "execution_count": 174,
   "metadata": {
    "collapsed": false
   },
   "outputs": [],
   "source": [
    "s= \"/\".join(veglist[1])"
   ]
  },
  {
   "cell_type": "code",
   "execution_count": 230,
   "metadata": {
    "collapsed": false
   },
   "outputs": [],
   "source": [
    "p = figure(x_axis_type='datetime', tools='hover,pan,crosshair,box_zoom,reset,save',\n",
    "          title=s)\n",
    "\n",
    "p.plot_width = 800\n",
    "p.plot_height = 500\n",
    "\n",
    "source = ColumnDataSource(\n",
    "    data=dict(\n",
    "        \n",
    "    #date for x axis\n",
    "    Date=[x for x in cab.index],\n",
    "        \n",
    "    #data for line\n",
    "    Org=[x for x in cab.Price_Org],\n",
    "    Conv=[x for x in cab.Price_Conv],\n",
    "        \n",
    "    #for the hover tool\n",
    "    OrgH = cab.Price_Org,\n",
    "    ConvH = cab.Price_Conv,\n",
    "    premH = cab.Premium     \n",
    "    )\n",
    ")\n",
    "\n",
    "p.select_one(HoverTool).tooltips = [\n",
    "    (\"Organic: \", \"@OrgH\"),\n",
    "    (\"Conventional: \", \"@ConvH\"),\n",
    "    (\"Org. Premium: \", \"@premH\"),\n",
    "    \n",
    "]\n",
    "\n",
    "p1 = p.line(x=\"Date\", y=\"Org\", legend=\"Organics\", line_color=\"#a6cee3\",source=source)\n",
    "p2 = p.line(x=\"Date\", y=\"Conv\", legend=\"Conventional\", line_color=\"#fdbf6f\",source=source)\n",
    "\n",
    "p.legend.orientation = \"horizontal\"\n",
    "p.legend.location=\"top_left\"\n"
   ]
  },
  {
   "cell_type": "code",
   "execution_count": 231,
   "metadata": {
    "collapsed": false
   },
   "outputs": [],
   "source": [
    "# w = figure()\n",
    "\n",
    "# sourcew = ColumnDataSource(\n",
    "#     data=dict(\n",
    "    \n",
    "#     #x and y axes\n",
    "#     xw = [1,2,3,4],\n",
    "#     yw = [1]\n",
    "    \n",
    "#     ))\n",
    "\n",
    "# w.plot_height=125\n",
    "# w.plot_width=800\n",
    "# w.toolbar_location = None\n",
    "# w.grid=None\n",
    "# w.background_fill_color = \"white\""
   ]
  },
  {
   "cell_type": "code",
   "execution_count": 240,
   "metadata": {
    "collapsed": false,
    "scrolled": false
   },
   "outputs": [
    {
     "data": {
      "text/html": [
       "\n",
       "\n",
       "    <div class=\"bk-root\">\n",
       "        <div class=\"plotdiv\" id=\"e09da181-158f-4c20-903d-57c7beeb5977\"></div>\n",
       "    </div>\n",
       "<script type=\"text/javascript\">\n",
       "  \n",
       "  (function(global) {\n",
       "    function now() {\n",
       "      return new Date();\n",
       "    }\n",
       "  \n",
       "    if (typeof (window._bokeh_onload_callbacks) === \"undefined\") {\n",
       "      window._bokeh_onload_callbacks = [];\n",
       "    }\n",
       "  \n",
       "    function run_callbacks() {\n",
       "      window._bokeh_onload_callbacks.forEach(function(callback) { callback() });\n",
       "      delete window._bokeh_onload_callbacks\n",
       "      console.info(\"Bokeh: all callbacks have finished\");\n",
       "    }\n",
       "  \n",
       "    function load_libs(js_urls, callback) {\n",
       "      window._bokeh_onload_callbacks.push(callback);\n",
       "      if (window._bokeh_is_loading > 0) {\n",
       "        console.log(\"Bokeh: BokehJS is being loaded, scheduling callback at\", now());\n",
       "        return null;\n",
       "      }\n",
       "      if (js_urls == null || js_urls.length === 0) {\n",
       "        run_callbacks();\n",
       "        return null;\n",
       "      }\n",
       "      console.log(\"Bokeh: BokehJS not loaded, scheduling load and callback at\", now());\n",
       "      window._bokeh_is_loading = js_urls.length;\n",
       "      for (var i = 0; i < js_urls.length; i++) {\n",
       "        var url = js_urls[i];\n",
       "        var s = document.createElement('script');\n",
       "        s.src = url;\n",
       "        s.async = false;\n",
       "        s.onreadystatechange = s.onload = function() {\n",
       "          window._bokeh_is_loading--;\n",
       "          if (window._bokeh_is_loading === 0) {\n",
       "            console.log(\"Bokeh: all BokehJS libraries loaded\");\n",
       "            run_callbacks()\n",
       "          }\n",
       "        };\n",
       "        s.onerror = function() {\n",
       "          console.warn(\"failed to load library \" + url);\n",
       "        };\n",
       "        console.log(\"Bokeh: injecting script tag for BokehJS library: \", url);\n",
       "        document.getElementsByTagName(\"head\")[0].appendChild(s);\n",
       "      }\n",
       "    };var element = document.getElementById(\"e09da181-158f-4c20-903d-57c7beeb5977\");\n",
       "    if (element == null) {\n",
       "      console.log(\"Bokeh: ERROR: autoload.js configured with elementid 'e09da181-158f-4c20-903d-57c7beeb5977' but no matching script tag was found. \")\n",
       "      return false;\n",
       "    }\n",
       "  \n",
       "    var js_urls = [];\n",
       "  \n",
       "    var inline_js = [\n",
       "      function(Bokeh) {\n",
       "        Bokeh.$(function() {\n",
       "            var docs_json = {\"120ffeab-fe21-47f6-a581-5961c3b4e75e\":{\"roots\":{\"references\":[{\"attributes\":{\"overlay\":{\"id\":\"9fa235ab-b54c-4ade-b25e-7cbda5f7a339\",\"type\":\"BoxAnnotation\"},\"plot\":{\"id\":\"a66682fc-c908-4d74-aca8-4104fff6ec3d\",\"subtype\":\"Figure\",\"type\":\"Plot\"}},\"id\":\"e4a638d4-8c22-4639-81e2-6de9498ed3f1\",\"type\":\"BoxZoomTool\"},{\"attributes\":{\"months\":[0,1,2,3,4,5,6,7,8,9,10,11]},\"id\":\"89f4922e-9041-4e96-9d51-7e5c14e5490c\",\"type\":\"MonthsTicker\"},{\"attributes\":{\"plot\":{\"id\":\"a66682fc-c908-4d74-aca8-4104fff6ec3d\",\"subtype\":\"Figure\",\"type\":\"Plot\"}},\"id\":\"a581d901-e4c5-4534-8843-ecf25b02f665\",\"type\":\"ResetTool\"},{\"attributes\":{\"days\":[1,4,7,10,13,16,19,22,25,28]},\"id\":\"fa980204-546f-401c-bae7-3341c9b34065\",\"type\":\"DaysTicker\"},{\"attributes\":{\"callback\":null,\"column_names\":[\"ConvH\",\"OrgH\",\"Conv\",\"Org\",\"Date\",\"premH\"],\"data\":{\"Conv\":[14.85,8.4,10.37,8.77,9.73,10.81,10.78,11.76,15.86,19.19,19.16,15.85,12.02,10.02,13.5,12.15,13.4,14.04,13.66,14.92,18.95,15.13,13.8,13.81],\"ConvH\":[14.85,8.4,10.37,8.77,9.73,10.81,10.78,11.76,15.86,19.19,19.16,15.85,12.02,10.02,13.5,12.15,13.4,14.04,13.66,14.92,18.95,15.13,13.8,13.81],\"Date\":[1325376000000.0,1328054400000.0,1330560000000.0,1333238400000.0,1335830400000.0,1338508800000.0,1341100800000.0,1343779200000.0,1346457600000.0,1349049600000.0,1351728000000.0,1354320000000.0,1356998400000.0,1359676800000.0,1362096000000.0,1364774400000.0,1367366400000.0,1370044800000.0,1372636800000.0,1375315200000.0,1377993600000.0,1380585600000.0,1383264000000.0,1385856000000.0],\"Org\":[33.95,36.35,29.59,24.43,29.0,32.94,\"NaN\",52.77,45.5,36.78,42.0,45.65,39.38,41.44,36.4,36.25,47.78,63.33,62.82,55.09,45.8,45.0,42.79,38.73],\"OrgH\":[33.95,36.35,29.59,24.43,29.0,32.94,\"NaN\",52.77,45.5,36.78,42.0,45.65,39.38,41.44,36.4,36.25,47.78,63.33,62.82,55.09,45.8,45.0,42.79,38.73],\"premH\":[19.1,27.950000000000003,19.22,15.66,19.27,22.129999999999995,\"NaN\",41.010000000000005,29.64,17.59,22.84,29.799999999999997,27.360000000000003,31.419999999999998,22.9,24.1,34.38,49.29,49.16,40.17,26.849999999999998,29.869999999999997,28.99,24.919999999999995]}},\"id\":\"0cd0337f-a462-4c0d-8472-9101041423c4\",\"type\":\"ColumnDataSource\"},{\"attributes\":{\"plot\":{\"id\":\"a66682fc-c908-4d74-aca8-4104fff6ec3d\",\"subtype\":\"Figure\",\"type\":\"Plot\"}},\"id\":\"3bc70035-e09f-4946-8da8-1c9513703f6f\",\"type\":\"PanTool\"},{\"attributes\":{\"plot\":{\"id\":\"a66682fc-c908-4d74-aca8-4104fff6ec3d\",\"subtype\":\"Figure\",\"type\":\"Plot\"},\"ticker\":{\"id\":\"1d11440d-8663-4148-ac80-9f2350f43474\",\"type\":\"DatetimeTicker\"}},\"id\":\"6cfd20bb-02ed-430d-bd0a-cc530706b6a6\",\"type\":\"Grid\"},{\"attributes\":{\"formatter\":{\"id\":\"33688db4-39e7-4642-ae41-5934ae490ecf\",\"type\":\"BasicTickFormatter\"},\"plot\":{\"id\":\"a66682fc-c908-4d74-aca8-4104fff6ec3d\",\"subtype\":\"Figure\",\"type\":\"Plot\"},\"ticker\":{\"id\":\"08e02b78-171f-4fb0-aa71-0bd785040bea\",\"type\":\"BasicTicker\"}},\"id\":\"400abb8c-5e3d-4d85-9fec-167aa93434da\",\"type\":\"LinearAxis\"},{\"attributes\":{\"callback\":null,\"plot\":{\"id\":\"a66682fc-c908-4d74-aca8-4104fff6ec3d\",\"subtype\":\"Figure\",\"type\":\"Plot\"},\"tooltips\":[[\"Organic: \",\"@OrgH\"],[\"Conventional: \",\"@ConvH\"],[\"Org. Premium: \",\"@premH\"]]},\"id\":\"9d802200-6e29-48af-b6f7-f2dc962520c2\",\"type\":\"HoverTool\"},{\"attributes\":{\"bottom_units\":\"screen\",\"fill_alpha\":{\"value\":0.5},\"fill_color\":{\"value\":\"lightgrey\"},\"left_units\":\"screen\",\"level\":\"overlay\",\"line_alpha\":{\"value\":1.0},\"line_color\":{\"value\":\"black\"},\"line_dash\":[4,4],\"line_width\":{\"value\":2},\"plot\":null,\"render_mode\":\"css\",\"right_units\":\"screen\",\"top_units\":\"screen\"},\"id\":\"9fa235ab-b54c-4ade-b25e-7cbda5f7a339\",\"type\":\"BoxAnnotation\"},{\"attributes\":{\"plot\":null,\"text\":\"Cabbage/Round green type/40 lb cartons, medium/Atlanta\"},\"id\":\"0c79cde5-6be6-4a77-aeb2-dae4a818572e\",\"type\":\"Title\"},{\"attributes\":{},\"id\":\"08e02b78-171f-4fb0-aa71-0bd785040bea\",\"type\":\"BasicTicker\"},{\"attributes\":{\"months\":[0,4,8]},\"id\":\"2bbd19ac-2a73-4df1-b4b0-4267a580ab03\",\"type\":\"MonthsTicker\"},{\"attributes\":{\"line_alpha\":{\"value\":0.1},\"line_color\":{\"value\":\"#1f77b4\"},\"x\":{\"field\":\"Date\"},\"y\":{\"field\":\"Org\"}},\"id\":\"85f45ad6-3797-4bf8-b13e-3809495b8d39\",\"type\":\"Line\"},{\"attributes\":{\"plot\":{\"id\":\"a66682fc-c908-4d74-aca8-4104fff6ec3d\",\"subtype\":\"Figure\",\"type\":\"Plot\"}},\"id\":\"b82070b9-2f2c-4673-9fb7-d29f353dffb1\",\"type\":\"SaveTool\"},{\"attributes\":{\"months\":[0,6]},\"id\":\"3f3a73bc-c6cf-4d4b-966a-84804ecb5294\",\"type\":\"MonthsTicker\"},{\"attributes\":{\"base\":24,\"mantissas\":[1,2,4,6,8,12],\"max_interval\":43200000.0,\"min_interval\":3600000.0,\"num_minor_ticks\":0},\"id\":\"ac686f81-ee5a-4a20-8858-61452ef12984\",\"type\":\"AdaptiveTicker\"},{\"attributes\":{\"max_interval\":500.0,\"num_minor_ticks\":0},\"id\":\"b78aa742-dfc3-4a90-9fa8-65698b0096e6\",\"type\":\"AdaptiveTicker\"},{\"attributes\":{\"days\":[1,15]},\"id\":\"507049c0-dddf-4ae5-90dd-efb64470a658\",\"type\":\"DaysTicker\"},{\"attributes\":{\"legends\":[[\"Organics\",[{\"id\":\"a67f403c-17ae-420c-b765-6e412b9b48e8\",\"type\":\"GlyphRenderer\"}]],[\"Conventional\",[{\"id\":\"005380d7-5290-4c37-baeb-7bf42c143c10\",\"type\":\"GlyphRenderer\"}]]],\"location\":\"top_left\",\"orientation\":\"horizontal\",\"plot\":{\"id\":\"a66682fc-c908-4d74-aca8-4104fff6ec3d\",\"subtype\":\"Figure\",\"type\":\"Plot\"}},\"id\":\"7d6ab73e-c8a0-4c70-816e-d8ec6f030f27\",\"type\":\"Legend\"},{\"attributes\":{\"line_color\":{\"value\":\"#a6cee3\"},\"x\":{\"field\":\"Date\"},\"y\":{\"field\":\"Org\"}},\"id\":\"7a039b92-e8ef-4075-bec1-af8894be4dc5\",\"type\":\"Line\"},{\"attributes\":{\"callback\":null},\"id\":\"1c31d59d-10d5-4adf-9bfe-4f68f463ddc0\",\"type\":\"DataRange1d\"},{\"attributes\":{\"days\":[1,8,15,22]},\"id\":\"2ceb6ab3-4085-4b53-b3cb-418871ff38e1\",\"type\":\"DaysTicker\"},{\"attributes\":{\"line_alpha\":{\"value\":0.1},\"line_color\":{\"value\":\"#1f77b4\"},\"x\":{\"field\":\"Date\"},\"y\":{\"field\":\"Conv\"}},\"id\":\"325707a8-c425-4841-b157-217ef553c087\",\"type\":\"Line\"},{\"attributes\":{\"plot\":{\"id\":\"a66682fc-c908-4d74-aca8-4104fff6ec3d\",\"subtype\":\"Figure\",\"type\":\"Plot\"}},\"id\":\"2b4048c2-0ea5-4b26-ac47-7a256533e934\",\"type\":\"CrosshairTool\"},{\"attributes\":{\"num_minor_ticks\":5},\"id\":\"1d11440d-8663-4148-ac80-9f2350f43474\",\"type\":\"DatetimeTicker\"},{\"attributes\":{\"base\":60,\"mantissas\":[1,2,5,10,15,20,30],\"max_interval\":1800000.0,\"min_interval\":1000.0,\"num_minor_ticks\":0},\"id\":\"25b4bc00-fdde-44fe-8b81-474c33747f7c\",\"type\":\"AdaptiveTicker\"},{\"attributes\":{},\"id\":\"77485c5f-26c1-4e10-8787-eaa83cd76f9d\",\"type\":\"DatetimeTickFormatter\"},{\"attributes\":{\"line_color\":{\"value\":\"#fdbf6f\"},\"x\":{\"field\":\"Date\"},\"y\":{\"field\":\"Conv\"}},\"id\":\"37d99f10-d52f-47c0-8f04-080b41b7dee8\",\"type\":\"Line\"},{\"attributes\":{\"below\":[{\"id\":\"ebe51b5e-6b10-45ba-b3ff-a0ff68c8c620\",\"type\":\"DatetimeAxis\"}],\"left\":[{\"id\":\"400abb8c-5e3d-4d85-9fec-167aa93434da\",\"type\":\"LinearAxis\"}],\"plot_height\":500,\"plot_width\":800,\"renderers\":[{\"id\":\"ebe51b5e-6b10-45ba-b3ff-a0ff68c8c620\",\"type\":\"DatetimeAxis\"},{\"id\":\"6cfd20bb-02ed-430d-bd0a-cc530706b6a6\",\"type\":\"Grid\"},{\"id\":\"400abb8c-5e3d-4d85-9fec-167aa93434da\",\"type\":\"LinearAxis\"},{\"id\":\"4a997599-e469-495c-b960-1dfb1275057a\",\"type\":\"Grid\"},{\"id\":\"9fa235ab-b54c-4ade-b25e-7cbda5f7a339\",\"type\":\"BoxAnnotation\"},{\"id\":\"7d6ab73e-c8a0-4c70-816e-d8ec6f030f27\",\"type\":\"Legend\"},{\"id\":\"a67f403c-17ae-420c-b765-6e412b9b48e8\",\"type\":\"GlyphRenderer\"},{\"id\":\"005380d7-5290-4c37-baeb-7bf42c143c10\",\"type\":\"GlyphRenderer\"}],\"title\":{\"id\":\"0c79cde5-6be6-4a77-aeb2-dae4a818572e\",\"type\":\"Title\"},\"tool_events\":{\"id\":\"f71a7727-be27-4c22-b628-16e53217091d\",\"type\":\"ToolEvents\"},\"toolbar\":{\"id\":\"b1b6a186-f27f-4574-a772-ac019e1d3543\",\"type\":\"Toolbar\"},\"x_range\":{\"id\":\"c39ab1b9-4960-4f2d-8e89-7779090a5ba1\",\"type\":\"DataRange1d\"},\"y_range\":{\"id\":\"1c31d59d-10d5-4adf-9bfe-4f68f463ddc0\",\"type\":\"DataRange1d\"}},\"id\":\"a66682fc-c908-4d74-aca8-4104fff6ec3d\",\"subtype\":\"Figure\",\"type\":\"Plot\"},{\"attributes\":{},\"id\":\"70a63714-2a38-4714-afc6-7f5f7e5f36c3\",\"type\":\"YearsTicker\"},{\"attributes\":{\"data_source\":{\"id\":\"0cd0337f-a462-4c0d-8472-9101041423c4\",\"type\":\"ColumnDataSource\"},\"glyph\":{\"id\":\"37d99f10-d52f-47c0-8f04-080b41b7dee8\",\"type\":\"Line\"},\"hover_glyph\":null,\"nonselection_glyph\":{\"id\":\"325707a8-c425-4841-b157-217ef553c087\",\"type\":\"Line\"},\"selection_glyph\":null},\"id\":\"005380d7-5290-4c37-baeb-7bf42c143c10\",\"type\":\"GlyphRenderer\"},{\"attributes\":{\"active_drag\":\"auto\",\"active_scroll\":\"auto\",\"active_tap\":\"auto\",\"tools\":[{\"id\":\"9d802200-6e29-48af-b6f7-f2dc962520c2\",\"type\":\"HoverTool\"},{\"id\":\"3bc70035-e09f-4946-8da8-1c9513703f6f\",\"type\":\"PanTool\"},{\"id\":\"2b4048c2-0ea5-4b26-ac47-7a256533e934\",\"type\":\"CrosshairTool\"},{\"id\":\"e4a638d4-8c22-4639-81e2-6de9498ed3f1\",\"type\":\"BoxZoomTool\"},{\"id\":\"a581d901-e4c5-4534-8843-ecf25b02f665\",\"type\":\"ResetTool\"},{\"id\":\"b82070b9-2f2c-4673-9fb7-d29f353dffb1\",\"type\":\"SaveTool\"}]},\"id\":\"b1b6a186-f27f-4574-a772-ac019e1d3543\",\"type\":\"Toolbar\"},{\"attributes\":{\"dimension\":1,\"plot\":{\"id\":\"a66682fc-c908-4d74-aca8-4104fff6ec3d\",\"subtype\":\"Figure\",\"type\":\"Plot\"},\"ticker\":{\"id\":\"08e02b78-171f-4fb0-aa71-0bd785040bea\",\"type\":\"BasicTicker\"}},\"id\":\"4a997599-e469-495c-b960-1dfb1275057a\",\"type\":\"Grid\"},{\"attributes\":{},\"id\":\"33688db4-39e7-4642-ae41-5934ae490ecf\",\"type\":\"BasicTickFormatter\"},{\"attributes\":{},\"id\":\"f71a7727-be27-4c22-b628-16e53217091d\",\"type\":\"ToolEvents\"},{\"attributes\":{\"days\":[1,2,3,4,5,6,7,8,9,10,11,12,13,14,15,16,17,18,19,20,21,22,23,24,25,26,27,28,29,30,31]},\"id\":\"7d2d3d9c-93c9-4283-abb9-26d8afca38d0\",\"type\":\"DaysTicker\"},{\"attributes\":{\"months\":[0,2,4,6,8,10]},\"id\":\"64ed104d-a553-4289-8ab2-8275d3047852\",\"type\":\"MonthsTicker\"},{\"attributes\":{\"data_source\":{\"id\":\"0cd0337f-a462-4c0d-8472-9101041423c4\",\"type\":\"ColumnDataSource\"},\"glyph\":{\"id\":\"7a039b92-e8ef-4075-bec1-af8894be4dc5\",\"type\":\"Line\"},\"hover_glyph\":null,\"nonselection_glyph\":{\"id\":\"85f45ad6-3797-4bf8-b13e-3809495b8d39\",\"type\":\"Line\"},\"selection_glyph\":null},\"id\":\"a67f403c-17ae-420c-b765-6e412b9b48e8\",\"type\":\"GlyphRenderer\"},{\"attributes\":{\"callback\":null},\"id\":\"c39ab1b9-4960-4f2d-8e89-7779090a5ba1\",\"type\":\"DataRange1d\"},{\"attributes\":{\"formatter\":{\"id\":\"77485c5f-26c1-4e10-8787-eaa83cd76f9d\",\"type\":\"DatetimeTickFormatter\"},\"plot\":{\"id\":\"a66682fc-c908-4d74-aca8-4104fff6ec3d\",\"subtype\":\"Figure\",\"type\":\"Plot\"},\"ticker\":{\"id\":\"1d11440d-8663-4148-ac80-9f2350f43474\",\"type\":\"DatetimeTicker\"}},\"id\":\"ebe51b5e-6b10-45ba-b3ff-a0ff68c8c620\",\"type\":\"DatetimeAxis\"}],\"root_ids\":[\"a66682fc-c908-4d74-aca8-4104fff6ec3d\"]},\"title\":\"Bokeh Application\",\"version\":\"0.12.0\"}};\n",
       "            var render_items = [{\"docid\":\"120ffeab-fe21-47f6-a581-5961c3b4e75e\",\"elementid\":\"e09da181-158f-4c20-903d-57c7beeb5977\",\"modelid\":\"a66682fc-c908-4d74-aca8-4104fff6ec3d\",\"notebook_comms_target\":\"6709b705-227a-4e4b-b8cd-612b1fd91d66\"}];\n",
       "            \n",
       "            Bokeh.embed.embed_items(docs_json, render_items);\n",
       "        });\n",
       "      },\n",
       "      function(Bokeh) {\n",
       "      }\n",
       "    ];\n",
       "  \n",
       "    function run_inline_js() {\n",
       "      for (var i = 0; i < inline_js.length; i++) {\n",
       "        inline_js[i](window.Bokeh);\n",
       "      }\n",
       "    }\n",
       "  \n",
       "    if (window._bokeh_is_loading === 0) {\n",
       "      console.log(\"Bokeh: BokehJS loaded, going straight to plotting\");\n",
       "      run_inline_js();\n",
       "    } else {\n",
       "      load_libs(js_urls, function() {\n",
       "        console.log(\"Bokeh: BokehJS plotting callback run at\", now());\n",
       "        run_inline_js();\n",
       "      });\n",
       "    }\n",
       "  }(this));\n",
       "</script>"
      ]
     },
     "metadata": {},
     "output_type": "display_data"
    },
    {
     "name": "stdout",
     "output_type": "stream",
     "text": [
      "HI\n"
     ]
    }
   ],
   "source": [
    "show(p)\n",
    "print(\"HI\")"
   ]
  },
  {
   "cell_type": "code",
   "execution_count": 238,
   "metadata": {
    "collapsed": false
   },
   "outputs": [
    {
     "data": {
      "text/html": [
       "\n",
       "\n",
       "    <div class=\"bk-root\">\n",
       "        <div class=\"plotdiv\" id=\"4e55e8f8-9bc3-41af-bc33-6ee510f7a5cc\"></div>\n",
       "    </div>\n",
       "<script type=\"text/javascript\">\n",
       "  \n",
       "  (function(global) {\n",
       "    function now() {\n",
       "      return new Date();\n",
       "    }\n",
       "  \n",
       "    if (typeof (window._bokeh_onload_callbacks) === \"undefined\") {\n",
       "      window._bokeh_onload_callbacks = [];\n",
       "    }\n",
       "  \n",
       "    function run_callbacks() {\n",
       "      window._bokeh_onload_callbacks.forEach(function(callback) { callback() });\n",
       "      delete window._bokeh_onload_callbacks\n",
       "      console.info(\"Bokeh: all callbacks have finished\");\n",
       "    }\n",
       "  \n",
       "    function load_libs(js_urls, callback) {\n",
       "      window._bokeh_onload_callbacks.push(callback);\n",
       "      if (window._bokeh_is_loading > 0) {\n",
       "        console.log(\"Bokeh: BokehJS is being loaded, scheduling callback at\", now());\n",
       "        return null;\n",
       "      }\n",
       "      if (js_urls == null || js_urls.length === 0) {\n",
       "        run_callbacks();\n",
       "        return null;\n",
       "      }\n",
       "      console.log(\"Bokeh: BokehJS not loaded, scheduling load and callback at\", now());\n",
       "      window._bokeh_is_loading = js_urls.length;\n",
       "      for (var i = 0; i < js_urls.length; i++) {\n",
       "        var url = js_urls[i];\n",
       "        var s = document.createElement('script');\n",
       "        s.src = url;\n",
       "        s.async = false;\n",
       "        s.onreadystatechange = s.onload = function() {\n",
       "          window._bokeh_is_loading--;\n",
       "          if (window._bokeh_is_loading === 0) {\n",
       "            console.log(\"Bokeh: all BokehJS libraries loaded\");\n",
       "            run_callbacks()\n",
       "          }\n",
       "        };\n",
       "        s.onerror = function() {\n",
       "          console.warn(\"failed to load library \" + url);\n",
       "        };\n",
       "        console.log(\"Bokeh: injecting script tag for BokehJS library: \", url);\n",
       "        document.getElementsByTagName(\"head\")[0].appendChild(s);\n",
       "      }\n",
       "    };var element = document.getElementById(\"4e55e8f8-9bc3-41af-bc33-6ee510f7a5cc\");\n",
       "    if (element == null) {\n",
       "      console.log(\"Bokeh: ERROR: autoload.js configured with elementid '4e55e8f8-9bc3-41af-bc33-6ee510f7a5cc' but no matching script tag was found. \")\n",
       "      return false;\n",
       "    }\n",
       "  \n",
       "    var js_urls = [];\n",
       "  \n",
       "    var inline_js = [\n",
       "      function(Bokeh) {\n",
       "        Bokeh.$(function() {\n",
       "            var docs_json = {\"08b6ee4b-23f0-4bb6-bb9b-ec4d73da5308\":{\"roots\":{\"references\":[{\"attributes\":{\"overlay\":{\"id\":\"9fa235ab-b54c-4ade-b25e-7cbda5f7a339\",\"type\":\"BoxAnnotation\"},\"plot\":{\"id\":\"a66682fc-c908-4d74-aca8-4104fff6ec3d\",\"subtype\":\"Figure\",\"type\":\"Plot\"}},\"id\":\"e4a638d4-8c22-4639-81e2-6de9498ed3f1\",\"type\":\"BoxZoomTool\"},{\"attributes\":{\"months\":[0,1,2,3,4,5,6,7,8,9,10,11]},\"id\":\"89f4922e-9041-4e96-9d51-7e5c14e5490c\",\"type\":\"MonthsTicker\"},{\"attributes\":{\"plot\":{\"id\":\"a66682fc-c908-4d74-aca8-4104fff6ec3d\",\"subtype\":\"Figure\",\"type\":\"Plot\"}},\"id\":\"a581d901-e4c5-4534-8843-ecf25b02f665\",\"type\":\"ResetTool\"},{\"attributes\":{\"days\":[1,4,7,10,13,16,19,22,25,28]},\"id\":\"fa980204-546f-401c-bae7-3341c9b34065\",\"type\":\"DaysTicker\"},{\"attributes\":{\"callback\":null,\"column_names\":[\"ConvH\",\"OrgH\",\"Conv\",\"Org\",\"Date\",\"premH\"],\"data\":{\"Conv\":[14.85,8.4,10.37,8.77,9.73,10.81,10.78,11.76,15.86,19.19,19.16,15.85,12.02,10.02,13.5,12.15,13.4,14.04,13.66,14.92,18.95,15.13,13.8,13.81],\"ConvH\":[14.85,8.4,10.37,8.77,9.73,10.81,10.78,11.76,15.86,19.19,19.16,15.85,12.02,10.02,13.5,12.15,13.4,14.04,13.66,14.92,18.95,15.13,13.8,13.81],\"Date\":[1325376000000.0,1328054400000.0,1330560000000.0,1333238400000.0,1335830400000.0,1338508800000.0,1341100800000.0,1343779200000.0,1346457600000.0,1349049600000.0,1351728000000.0,1354320000000.0,1356998400000.0,1359676800000.0,1362096000000.0,1364774400000.0,1367366400000.0,1370044800000.0,1372636800000.0,1375315200000.0,1377993600000.0,1380585600000.0,1383264000000.0,1385856000000.0],\"Org\":[33.95,36.35,29.59,24.43,29.0,32.94,\"NaN\",52.77,45.5,36.78,42.0,45.65,39.38,41.44,36.4,36.25,47.78,63.33,62.82,55.09,45.8,45.0,42.79,38.73],\"OrgH\":[33.95,36.35,29.59,24.43,29.0,32.94,\"NaN\",52.77,45.5,36.78,42.0,45.65,39.38,41.44,36.4,36.25,47.78,63.33,62.82,55.09,45.8,45.0,42.79,38.73],\"premH\":[19.1,27.950000000000003,19.22,15.66,19.27,22.129999999999995,\"NaN\",41.010000000000005,29.64,17.59,22.84,29.799999999999997,27.360000000000003,31.419999999999998,22.9,24.1,34.38,49.29,49.16,40.17,26.849999999999998,29.869999999999997,28.99,24.919999999999995]}},\"id\":\"0cd0337f-a462-4c0d-8472-9101041423c4\",\"type\":\"ColumnDataSource\"},{\"attributes\":{\"plot\":{\"id\":\"a66682fc-c908-4d74-aca8-4104fff6ec3d\",\"subtype\":\"Figure\",\"type\":\"Plot\"}},\"id\":\"3bc70035-e09f-4946-8da8-1c9513703f6f\",\"type\":\"PanTool\"},{\"attributes\":{\"plot\":{\"id\":\"a66682fc-c908-4d74-aca8-4104fff6ec3d\",\"subtype\":\"Figure\",\"type\":\"Plot\"},\"ticker\":{\"id\":\"1d11440d-8663-4148-ac80-9f2350f43474\",\"type\":\"DatetimeTicker\"}},\"id\":\"6cfd20bb-02ed-430d-bd0a-cc530706b6a6\",\"type\":\"Grid\"},{\"attributes\":{\"formatter\":{\"id\":\"33688db4-39e7-4642-ae41-5934ae490ecf\",\"type\":\"BasicTickFormatter\"},\"plot\":{\"id\":\"a66682fc-c908-4d74-aca8-4104fff6ec3d\",\"subtype\":\"Figure\",\"type\":\"Plot\"},\"ticker\":{\"id\":\"08e02b78-171f-4fb0-aa71-0bd785040bea\",\"type\":\"BasicTicker\"}},\"id\":\"400abb8c-5e3d-4d85-9fec-167aa93434da\",\"type\":\"LinearAxis\"},{\"attributes\":{\"callback\":null,\"plot\":{\"id\":\"a66682fc-c908-4d74-aca8-4104fff6ec3d\",\"subtype\":\"Figure\",\"type\":\"Plot\"},\"tooltips\":[[\"Organic: \",\"@OrgH\"],[\"Conventional: \",\"@ConvH\"],[\"Org. Premium: \",\"@premH\"]]},\"id\":\"9d802200-6e29-48af-b6f7-f2dc962520c2\",\"type\":\"HoverTool\"},{\"attributes\":{\"bottom_units\":\"screen\",\"fill_alpha\":{\"value\":0.5},\"fill_color\":{\"value\":\"lightgrey\"},\"left_units\":\"screen\",\"level\":\"overlay\",\"line_alpha\":{\"value\":1.0},\"line_color\":{\"value\":\"black\"},\"line_dash\":[4,4],\"line_width\":{\"value\":2},\"plot\":null,\"render_mode\":\"css\",\"right_units\":\"screen\",\"top_units\":\"screen\"},\"id\":\"9fa235ab-b54c-4ade-b25e-7cbda5f7a339\",\"type\":\"BoxAnnotation\"},{\"attributes\":{\"plot\":null,\"text\":\"Cabbage/Round green type/40 lb cartons, medium/Atlanta\"},\"id\":\"0c79cde5-6be6-4a77-aeb2-dae4a818572e\",\"type\":\"Title\"},{\"attributes\":{},\"id\":\"08e02b78-171f-4fb0-aa71-0bd785040bea\",\"type\":\"BasicTicker\"},{\"attributes\":{\"months\":[0,4,8]},\"id\":\"2bbd19ac-2a73-4df1-b4b0-4267a580ab03\",\"type\":\"MonthsTicker\"},{\"attributes\":{\"line_alpha\":{\"value\":0.1},\"line_color\":{\"value\":\"#1f77b4\"},\"x\":{\"field\":\"Date\"},\"y\":{\"field\":\"Org\"}},\"id\":\"85f45ad6-3797-4bf8-b13e-3809495b8d39\",\"type\":\"Line\"},{\"attributes\":{\"plot\":{\"id\":\"a66682fc-c908-4d74-aca8-4104fff6ec3d\",\"subtype\":\"Figure\",\"type\":\"Plot\"}},\"id\":\"b82070b9-2f2c-4673-9fb7-d29f353dffb1\",\"type\":\"SaveTool\"},{\"attributes\":{\"months\":[0,6]},\"id\":\"3f3a73bc-c6cf-4d4b-966a-84804ecb5294\",\"type\":\"MonthsTicker\"},{\"attributes\":{\"base\":24,\"mantissas\":[1,2,4,6,8,12],\"max_interval\":43200000.0,\"min_interval\":3600000.0,\"num_minor_ticks\":0},\"id\":\"ac686f81-ee5a-4a20-8858-61452ef12984\",\"type\":\"AdaptiveTicker\"},{\"attributes\":{\"max_interval\":500.0,\"num_minor_ticks\":0},\"id\":\"b78aa742-dfc3-4a90-9fa8-65698b0096e6\",\"type\":\"AdaptiveTicker\"},{\"attributes\":{\"days\":[1,15]},\"id\":\"507049c0-dddf-4ae5-90dd-efb64470a658\",\"type\":\"DaysTicker\"},{\"attributes\":{\"legends\":[[\"Organics\",[{\"id\":\"a67f403c-17ae-420c-b765-6e412b9b48e8\",\"type\":\"GlyphRenderer\"}]],[\"Conventional\",[{\"id\":\"005380d7-5290-4c37-baeb-7bf42c143c10\",\"type\":\"GlyphRenderer\"}]]],\"location\":\"top_left\",\"orientation\":\"horizontal\",\"plot\":{\"id\":\"a66682fc-c908-4d74-aca8-4104fff6ec3d\",\"subtype\":\"Figure\",\"type\":\"Plot\"}},\"id\":\"7d6ab73e-c8a0-4c70-816e-d8ec6f030f27\",\"type\":\"Legend\"},{\"attributes\":{\"line_color\":{\"value\":\"#a6cee3\"},\"x\":{\"field\":\"Date\"},\"y\":{\"field\":\"Org\"}},\"id\":\"7a039b92-e8ef-4075-bec1-af8894be4dc5\",\"type\":\"Line\"},{\"attributes\":{\"callback\":null},\"id\":\"1c31d59d-10d5-4adf-9bfe-4f68f463ddc0\",\"type\":\"DataRange1d\"},{\"attributes\":{\"days\":[1,8,15,22]},\"id\":\"2ceb6ab3-4085-4b53-b3cb-418871ff38e1\",\"type\":\"DaysTicker\"},{\"attributes\":{\"line_alpha\":{\"value\":0.1},\"line_color\":{\"value\":\"#1f77b4\"},\"x\":{\"field\":\"Date\"},\"y\":{\"field\":\"Conv\"}},\"id\":\"325707a8-c425-4841-b157-217ef553c087\",\"type\":\"Line\"},{\"attributes\":{\"plot\":{\"id\":\"a66682fc-c908-4d74-aca8-4104fff6ec3d\",\"subtype\":\"Figure\",\"type\":\"Plot\"}},\"id\":\"2b4048c2-0ea5-4b26-ac47-7a256533e934\",\"type\":\"CrosshairTool\"},{\"attributes\":{\"num_minor_ticks\":5},\"id\":\"1d11440d-8663-4148-ac80-9f2350f43474\",\"type\":\"DatetimeTicker\"},{\"attributes\":{\"base\":60,\"mantissas\":[1,2,5,10,15,20,30],\"max_interval\":1800000.0,\"min_interval\":1000.0,\"num_minor_ticks\":0},\"id\":\"25b4bc00-fdde-44fe-8b81-474c33747f7c\",\"type\":\"AdaptiveTicker\"},{\"attributes\":{},\"id\":\"77485c5f-26c1-4e10-8787-eaa83cd76f9d\",\"type\":\"DatetimeTickFormatter\"},{\"attributes\":{\"line_color\":{\"value\":\"#fdbf6f\"},\"x\":{\"field\":\"Date\"},\"y\":{\"field\":\"Conv\"}},\"id\":\"37d99f10-d52f-47c0-8f04-080b41b7dee8\",\"type\":\"Line\"},{\"attributes\":{\"below\":[{\"id\":\"ebe51b5e-6b10-45ba-b3ff-a0ff68c8c620\",\"type\":\"DatetimeAxis\"}],\"left\":[{\"id\":\"400abb8c-5e3d-4d85-9fec-167aa93434da\",\"type\":\"LinearAxis\"}],\"plot_height\":500,\"plot_width\":800,\"renderers\":[{\"id\":\"ebe51b5e-6b10-45ba-b3ff-a0ff68c8c620\",\"type\":\"DatetimeAxis\"},{\"id\":\"6cfd20bb-02ed-430d-bd0a-cc530706b6a6\",\"type\":\"Grid\"},{\"id\":\"400abb8c-5e3d-4d85-9fec-167aa93434da\",\"type\":\"LinearAxis\"},{\"id\":\"4a997599-e469-495c-b960-1dfb1275057a\",\"type\":\"Grid\"},{\"id\":\"9fa235ab-b54c-4ade-b25e-7cbda5f7a339\",\"type\":\"BoxAnnotation\"},{\"id\":\"7d6ab73e-c8a0-4c70-816e-d8ec6f030f27\",\"type\":\"Legend\"},{\"id\":\"a67f403c-17ae-420c-b765-6e412b9b48e8\",\"type\":\"GlyphRenderer\"},{\"id\":\"005380d7-5290-4c37-baeb-7bf42c143c10\",\"type\":\"GlyphRenderer\"}],\"title\":{\"id\":\"0c79cde5-6be6-4a77-aeb2-dae4a818572e\",\"type\":\"Title\"},\"tool_events\":{\"id\":\"f71a7727-be27-4c22-b628-16e53217091d\",\"type\":\"ToolEvents\"},\"toolbar\":{\"id\":\"b1b6a186-f27f-4574-a772-ac019e1d3543\",\"type\":\"Toolbar\"},\"x_range\":{\"id\":\"c39ab1b9-4960-4f2d-8e89-7779090a5ba1\",\"type\":\"DataRange1d\"},\"y_range\":{\"id\":\"1c31d59d-10d5-4adf-9bfe-4f68f463ddc0\",\"type\":\"DataRange1d\"}},\"id\":\"a66682fc-c908-4d74-aca8-4104fff6ec3d\",\"subtype\":\"Figure\",\"type\":\"Plot\"},{\"attributes\":{},\"id\":\"70a63714-2a38-4714-afc6-7f5f7e5f36c3\",\"type\":\"YearsTicker\"},{\"attributes\":{\"data_source\":{\"id\":\"0cd0337f-a462-4c0d-8472-9101041423c4\",\"type\":\"ColumnDataSource\"},\"glyph\":{\"id\":\"37d99f10-d52f-47c0-8f04-080b41b7dee8\",\"type\":\"Line\"},\"hover_glyph\":null,\"nonselection_glyph\":{\"id\":\"325707a8-c425-4841-b157-217ef553c087\",\"type\":\"Line\"},\"selection_glyph\":null},\"id\":\"005380d7-5290-4c37-baeb-7bf42c143c10\",\"type\":\"GlyphRenderer\"},{\"attributes\":{\"active_drag\":\"auto\",\"active_scroll\":\"auto\",\"active_tap\":\"auto\",\"tools\":[{\"id\":\"9d802200-6e29-48af-b6f7-f2dc962520c2\",\"type\":\"HoverTool\"},{\"id\":\"3bc70035-e09f-4946-8da8-1c9513703f6f\",\"type\":\"PanTool\"},{\"id\":\"2b4048c2-0ea5-4b26-ac47-7a256533e934\",\"type\":\"CrosshairTool\"},{\"id\":\"e4a638d4-8c22-4639-81e2-6de9498ed3f1\",\"type\":\"BoxZoomTool\"},{\"id\":\"a581d901-e4c5-4534-8843-ecf25b02f665\",\"type\":\"ResetTool\"},{\"id\":\"b82070b9-2f2c-4673-9fb7-d29f353dffb1\",\"type\":\"SaveTool\"}]},\"id\":\"b1b6a186-f27f-4574-a772-ac019e1d3543\",\"type\":\"Toolbar\"},{\"attributes\":{\"dimension\":1,\"plot\":{\"id\":\"a66682fc-c908-4d74-aca8-4104fff6ec3d\",\"subtype\":\"Figure\",\"type\":\"Plot\"},\"ticker\":{\"id\":\"08e02b78-171f-4fb0-aa71-0bd785040bea\",\"type\":\"BasicTicker\"}},\"id\":\"4a997599-e469-495c-b960-1dfb1275057a\",\"type\":\"Grid\"},{\"attributes\":{},\"id\":\"33688db4-39e7-4642-ae41-5934ae490ecf\",\"type\":\"BasicTickFormatter\"},{\"attributes\":{},\"id\":\"f71a7727-be27-4c22-b628-16e53217091d\",\"type\":\"ToolEvents\"},{\"attributes\":{\"days\":[1,2,3,4,5,6,7,8,9,10,11,12,13,14,15,16,17,18,19,20,21,22,23,24,25,26,27,28,29,30,31]},\"id\":\"7d2d3d9c-93c9-4283-abb9-26d8afca38d0\",\"type\":\"DaysTicker\"},{\"attributes\":{\"months\":[0,2,4,6,8,10]},\"id\":\"64ed104d-a553-4289-8ab2-8275d3047852\",\"type\":\"MonthsTicker\"},{\"attributes\":{\"data_source\":{\"id\":\"0cd0337f-a462-4c0d-8472-9101041423c4\",\"type\":\"ColumnDataSource\"},\"glyph\":{\"id\":\"7a039b92-e8ef-4075-bec1-af8894be4dc5\",\"type\":\"Line\"},\"hover_glyph\":null,\"nonselection_glyph\":{\"id\":\"85f45ad6-3797-4bf8-b13e-3809495b8d39\",\"type\":\"Line\"},\"selection_glyph\":null},\"id\":\"a67f403c-17ae-420c-b765-6e412b9b48e8\",\"type\":\"GlyphRenderer\"},{\"attributes\":{\"callback\":null},\"id\":\"c39ab1b9-4960-4f2d-8e89-7779090a5ba1\",\"type\":\"DataRange1d\"},{\"attributes\":{\"formatter\":{\"id\":\"77485c5f-26c1-4e10-8787-eaa83cd76f9d\",\"type\":\"DatetimeTickFormatter\"},\"plot\":{\"id\":\"a66682fc-c908-4d74-aca8-4104fff6ec3d\",\"subtype\":\"Figure\",\"type\":\"Plot\"},\"ticker\":{\"id\":\"1d11440d-8663-4148-ac80-9f2350f43474\",\"type\":\"DatetimeTicker\"}},\"id\":\"ebe51b5e-6b10-45ba-b3ff-a0ff68c8c620\",\"type\":\"DatetimeAxis\"}],\"root_ids\":[\"a66682fc-c908-4d74-aca8-4104fff6ec3d\"]},\"title\":\"Bokeh Application\",\"version\":\"0.12.0\"}};\n",
       "            var render_items = [{\"docid\":\"08b6ee4b-23f0-4bb6-bb9b-ec4d73da5308\",\"elementid\":\"4e55e8f8-9bc3-41af-bc33-6ee510f7a5cc\",\"modelid\":\"a66682fc-c908-4d74-aca8-4104fff6ec3d\",\"notebook_comms_target\":\"51b3d456-4444-45ea-91a6-80435d056685\"}];\n",
       "            \n",
       "            Bokeh.embed.embed_items(docs_json, render_items);\n",
       "        });\n",
       "      },\n",
       "      function(Bokeh) {\n",
       "      }\n",
       "    ];\n",
       "  \n",
       "    function run_inline_js() {\n",
       "      for (var i = 0; i < inline_js.length; i++) {\n",
       "        inline_js[i](window.Bokeh);\n",
       "      }\n",
       "    }\n",
       "  \n",
       "    if (window._bokeh_is_loading === 0) {\n",
       "      console.log(\"Bokeh: BokehJS loaded, going straight to plotting\");\n",
       "      run_inline_js();\n",
       "    } else {\n",
       "      load_libs(js_urls, function() {\n",
       "        console.log(\"Bokeh: BokehJS plotting callback run at\", now());\n",
       "        run_inline_js();\n",
       "      });\n",
       "    }\n",
       "  }(this));\n",
       "</script>"
      ]
     },
     "metadata": {},
     "output_type": "display_data"
    },
    {
     "data": {
      "text/html": [
       "<p><code>&lt;Bokeh Notebook handle for <strong>In[238]</strong>&gt;</code></p>"
      ],
      "text/plain": [
       "<bokeh.io._CommsHandle at 0x7f9e06163550>"
      ]
     },
     "execution_count": 238,
     "metadata": {},
     "output_type": "execute_result"
    }
   ],
   "source": [
    "output_file(\"test.html\")\n",
    "show(p)"
   ]
  },
  {
   "cell_type": "code",
   "execution_count": 97,
   "metadata": {
    "collapsed": false
   },
   "outputs": [
    {
     "data": {
      "text/html": [
       "<div>\n",
       "<table border=\"1\" class=\"dataframe\">\n",
       "  <thead>\n",
       "    <tr style=\"text-align: right;\">\n",
       "      <th></th>\n",
       "      <th>Commodity</th>\n",
       "      <th>Subgroup</th>\n",
       "      <th>Package</th>\n",
       "      <th>Terminal Market</th>\n",
       "      <th>Price_Conv</th>\n",
       "      <th>Price_Org</th>\n",
       "      <th>Premium</th>\n",
       "    </tr>\n",
       "    <tr>\n",
       "      <th>MonthYearForm</th>\n",
       "      <th></th>\n",
       "      <th></th>\n",
       "      <th></th>\n",
       "      <th></th>\n",
       "      <th></th>\n",
       "      <th></th>\n",
       "      <th></th>\n",
       "    </tr>\n",
       "  </thead>\n",
       "  <tbody>\n",
       "    <tr>\n",
       "      <th>2012-01-01</th>\n",
       "      <td>Artichoke (SF only)</td>\n",
       "      <td>Globe</td>\n",
       "      <td>cartons, 24s</td>\n",
       "      <td>San Fran</td>\n",
       "      <td>28.58</td>\n",
       "      <td>37.34</td>\n",
       "      <td>8.76</td>\n",
       "    </tr>\n",
       "    <tr>\n",
       "      <th>2012-01-01</th>\n",
       "      <td>Cabbage</td>\n",
       "      <td>Round green type</td>\n",
       "      <td>40 lb cartons, medium</td>\n",
       "      <td>Atlanta</td>\n",
       "      <td>NaN</td>\n",
       "      <td>33.95</td>\n",
       "      <td>NaN</td>\n",
       "    </tr>\n",
       "    <tr>\n",
       "      <th>2012-01-01</th>\n",
       "      <td>Cabbage</td>\n",
       "      <td>Round green type</td>\n",
       "      <td>45 lb cartons, medium</td>\n",
       "      <td>Atlanta</td>\n",
       "      <td>14.85</td>\n",
       "      <td>33.95</td>\n",
       "      <td>19.10</td>\n",
       "    </tr>\n",
       "    <tr>\n",
       "      <th>2012-01-01</th>\n",
       "      <td>Cabbage</td>\n",
       "      <td>Round green type</td>\n",
       "      <td>45 lb cartons, 18-24s</td>\n",
       "      <td>San Fran</td>\n",
       "      <td>14.85</td>\n",
       "      <td>24.97</td>\n",
       "      <td>10.12</td>\n",
       "    </tr>\n",
       "    <tr>\n",
       "      <th>2012-01-01</th>\n",
       "      <td>Carrots</td>\n",
       "      <td>Not specified</td>\n",
       "      <td>25 lb sacks loose</td>\n",
       "      <td>Atlanta</td>\n",
       "      <td>12.50</td>\n",
       "      <td>24.97</td>\n",
       "      <td>12.47</td>\n",
       "    </tr>\n",
       "    <tr>\n",
       "      <th>2012-01-01</th>\n",
       "      <td>Carrots</td>\n",
       "      <td>Topped</td>\n",
       "      <td>25 lb sacks loose</td>\n",
       "      <td>San Fran</td>\n",
       "      <td>6.60</td>\n",
       "      <td>22.00</td>\n",
       "      <td>15.40</td>\n",
       "    </tr>\n",
       "    <tr>\n",
       "      <th>2012-01-01</th>\n",
       "      <td>Cauliflower</td>\n",
       "      <td>White</td>\n",
       "      <td>cartons, film wrapped, 12s</td>\n",
       "      <td>Atlanta</td>\n",
       "      <td>15.03</td>\n",
       "      <td>20.10</td>\n",
       "      <td>5.07</td>\n",
       "    </tr>\n",
       "    <tr>\n",
       "      <th>2012-01-01</th>\n",
       "      <td>Cauliflower</td>\n",
       "      <td>White</td>\n",
       "      <td>cartons, film wrapped, 12s</td>\n",
       "      <td>San Fran</td>\n",
       "      <td>11.24</td>\n",
       "      <td>20.10</td>\n",
       "      <td>8.86</td>\n",
       "    </tr>\n",
       "    <tr>\n",
       "      <th>2012-01-01</th>\n",
       "      <td>Greens</td>\n",
       "      <td>Swiss Chard, mixed colors</td>\n",
       "      <td>cartons bunched, 24s</td>\n",
       "      <td>Atlanta</td>\n",
       "      <td>25.03</td>\n",
       "      <td>23.81</td>\n",
       "      <td>-1.22</td>\n",
       "    </tr>\n",
       "    <tr>\n",
       "      <th>2012-01-01</th>\n",
       "      <td>Greens</td>\n",
       "      <td>Swiss Chard, mixed colors</td>\n",
       "      <td>cartons bunched, 24s</td>\n",
       "      <td>San Fran</td>\n",
       "      <td>NaN</td>\n",
       "      <td>23.81</td>\n",
       "      <td>NaN</td>\n",
       "    </tr>\n",
       "  </tbody>\n",
       "</table>\n",
       "</div>"
      ],
      "text/plain": [
       "                         Commodity                   Subgroup  \\\n",
       "MonthYearForm                                                   \n",
       "2012-01-01     Artichoke (SF only)                      Globe   \n",
       "2012-01-01                 Cabbage           Round green type   \n",
       "2012-01-01                 Cabbage           Round green type   \n",
       "2012-01-01                 Cabbage           Round green type   \n",
       "2012-01-01                 Carrots              Not specified   \n",
       "2012-01-01                 Carrots                     Topped   \n",
       "2012-01-01             Cauliflower                      White   \n",
       "2012-01-01             Cauliflower                      White   \n",
       "2012-01-01                  Greens  Swiss Chard, mixed colors   \n",
       "2012-01-01                  Greens  Swiss Chard, mixed colors   \n",
       "\n",
       "                                  Package Terminal Market  Price_Conv  \\\n",
       "MonthYearForm                                                           \n",
       "2012-01-01                   cartons, 24s        San Fran       28.58   \n",
       "2012-01-01          40 lb cartons, medium         Atlanta         NaN   \n",
       "2012-01-01          45 lb cartons, medium         Atlanta       14.85   \n",
       "2012-01-01          45 lb cartons, 18-24s        San Fran       14.85   \n",
       "2012-01-01              25 lb sacks loose         Atlanta       12.50   \n",
       "2012-01-01              25 lb sacks loose        San Fran        6.60   \n",
       "2012-01-01     cartons, film wrapped, 12s         Atlanta       15.03   \n",
       "2012-01-01     cartons, film wrapped, 12s        San Fran       11.24   \n",
       "2012-01-01           cartons bunched, 24s         Atlanta       25.03   \n",
       "2012-01-01           cartons bunched, 24s        San Fran         NaN   \n",
       "\n",
       "               Price_Org  Premium  \n",
       "MonthYearForm                      \n",
       "2012-01-01         37.34     8.76  \n",
       "2012-01-01         33.95      NaN  \n",
       "2012-01-01         33.95    19.10  \n",
       "2012-01-01         24.97    10.12  \n",
       "2012-01-01         24.97    12.47  \n",
       "2012-01-01         22.00    15.40  \n",
       "2012-01-01         20.10     5.07  \n",
       "2012-01-01         20.10     8.86  \n",
       "2012-01-01         23.81    -1.22  \n",
       "2012-01-01         23.81      NaN  "
      ]
     },
     "execution_count": 97,
     "metadata": {},
     "output_type": "execute_result"
    }
   ],
   "source": [
    "Ags.head(n=10)"
   ]
  },
  {
   "cell_type": "code",
   "execution_count": 37,
   "metadata": {
    "collapsed": true
   },
   "outputs": [
    {
     "data": {
      "text/html": [
       "<div>\n",
       "<table border=\"1\" class=\"dataframe\">\n",
       "  <thead>\n",
       "    <tr style=\"text-align: right;\">\n",
       "      <th></th>\n",
       "      <th>Commodity</th>\n",
       "      <th>Subgroup</th>\n",
       "      <th>Package</th>\n",
       "      <th>Terminal Market</th>\n",
       "      <th>MonthYearForm</th>\n",
       "      <th>Price_Conv</th>\n",
       "      <th>Price_Org</th>\n",
       "      <th>Premium</th>\n",
       "    </tr>\n",
       "  </thead>\n",
       "  <tbody>\n",
       "    <tr>\n",
       "      <th>0</th>\n",
       "      <td>Artichoke (SF only)</td>\n",
       "      <td>Globe</td>\n",
       "      <td>cartons, 24s</td>\n",
       "      <td>San Fran</td>\n",
       "      <td>2012-01-01</td>\n",
       "      <td>28.58</td>\n",
       "      <td>37.34</td>\n",
       "      <td>8.76</td>\n",
       "    </tr>\n",
       "    <tr>\n",
       "      <th>2</th>\n",
       "      <td>Cabbage</td>\n",
       "      <td>Round green type</td>\n",
       "      <td>40 lb cartons, medium</td>\n",
       "      <td>Atlanta</td>\n",
       "      <td>2012-01-01</td>\n",
       "      <td>NaN</td>\n",
       "      <td>33.95</td>\n",
       "      <td>NaN</td>\n",
       "    </tr>\n",
       "    <tr>\n",
       "      <th>3</th>\n",
       "      <td>Cabbage</td>\n",
       "      <td>Round green type</td>\n",
       "      <td>45 lb cartons, medium</td>\n",
       "      <td>Atlanta</td>\n",
       "      <td>2012-01-01</td>\n",
       "      <td>14.85</td>\n",
       "      <td>33.95</td>\n",
       "      <td>19.10</td>\n",
       "    </tr>\n",
       "    <tr>\n",
       "      <th>4</th>\n",
       "      <td>Cabbage</td>\n",
       "      <td>Round green type</td>\n",
       "      <td>45 lb cartons, 18-24s</td>\n",
       "      <td>San Fran</td>\n",
       "      <td>2012-01-01</td>\n",
       "      <td>14.85</td>\n",
       "      <td>24.97</td>\n",
       "      <td>10.12</td>\n",
       "    </tr>\n",
       "    <tr>\n",
       "      <th>6</th>\n",
       "      <td>Carrots</td>\n",
       "      <td>Not specified</td>\n",
       "      <td>25 lb sacks loose</td>\n",
       "      <td>Atlanta</td>\n",
       "      <td>2012-01-01</td>\n",
       "      <td>12.50</td>\n",
       "      <td>24.97</td>\n",
       "      <td>12.47</td>\n",
       "    </tr>\n",
       "  </tbody>\n",
       "</table>\n",
       "</div>"
      ],
      "text/plain": [
       "             Commodity          Subgroup                Package  \\\n",
       "0  Artichoke (SF only)             Globe           cartons, 24s   \n",
       "2              Cabbage  Round green type  40 lb cartons, medium   \n",
       "3              Cabbage  Round green type  45 lb cartons, medium   \n",
       "4              Cabbage  Round green type  45 lb cartons, 18-24s   \n",
       "6              Carrots     Not specified      25 lb sacks loose   \n",
       "\n",
       "  Terminal Market MonthYearForm  Price_Conv  Price_Org  Premium  \n",
       "0        San Fran    2012-01-01       28.58      37.34     8.76  \n",
       "2         Atlanta    2012-01-01         NaN      33.95      NaN  \n",
       "3         Atlanta    2012-01-01       14.85      33.95    19.10  \n",
       "4        San Fran    2012-01-01       14.85      24.97    10.12  \n",
       "6         Atlanta    2012-01-01       12.50      24.97    12.47  "
      ]
     },
     "execution_count": 37,
     "metadata": {},
     "output_type": "execute_result"
    }
   ],
   "source": [
    "Ags.head()"
   ]
  },
  {
   "cell_type": "code",
   "execution_count": null,
   "metadata": {
    "collapsed": true
   },
   "outputs": [],
   "source": []
  },
  {
   "cell_type": "code",
   "execution_count": null,
   "metadata": {
    "collapsed": true
   },
   "outputs": [],
   "source": []
  },
  {
   "cell_type": "code",
   "execution_count": null,
   "metadata": {
    "collapsed": true
   },
   "outputs": [],
   "source": []
  },
  {
   "cell_type": "code",
   "execution_count": 418,
   "metadata": {
    "collapsed": false
   },
   "outputs": [],
   "source": [
    "Ags1 = Ags.pivot_table('Price',['Commodity','MonthYearForm','Terminal Market','Subgroup'],'Organic/ Conventional')"
   ]
  },
  {
   "cell_type": "code",
   "execution_count": 419,
   "metadata": {
    "collapsed": false
   },
   "outputs": [
    {
     "data": {
      "text/html": [
       "<div>\n",
       "<table border=\"1\" class=\"dataframe\">\n",
       "  <thead>\n",
       "    <tr style=\"text-align: right;\">\n",
       "      <th></th>\n",
       "      <th></th>\n",
       "      <th></th>\n",
       "      <th>Organic/ Conventional</th>\n",
       "      <th>Conv</th>\n",
       "      <th>Org</th>\n",
       "    </tr>\n",
       "    <tr>\n",
       "      <th>Commodity</th>\n",
       "      <th>MonthYearForm</th>\n",
       "      <th>Terminal Market</th>\n",
       "      <th>Subgroup</th>\n",
       "      <th></th>\n",
       "      <th></th>\n",
       "    </tr>\n",
       "  </thead>\n",
       "  <tbody>\n",
       "    <tr>\n",
       "      <th rowspan=\"5\" valign=\"top\">Artichoke (SF only)</th>\n",
       "      <th>2012-01-01</th>\n",
       "      <th>San Fran</th>\n",
       "      <th>Globe</th>\n",
       "      <td>28.58</td>\n",
       "      <td>37.34</td>\n",
       "    </tr>\n",
       "    <tr>\n",
       "      <th>2012-02-01</th>\n",
       "      <th>San Fran</th>\n",
       "      <th>Globe</th>\n",
       "      <td>30.00</td>\n",
       "      <td>35.46</td>\n",
       "    </tr>\n",
       "    <tr>\n",
       "      <th>2012-03-01</th>\n",
       "      <th>San Fran</th>\n",
       "      <th>Globe</th>\n",
       "      <td>30.94</td>\n",
       "      <td>NaN</td>\n",
       "    </tr>\n",
       "    <tr>\n",
       "      <th>2012-04-01</th>\n",
       "      <th>San Fran</th>\n",
       "      <th>Globe</th>\n",
       "      <td>18.50</td>\n",
       "      <td>NaN</td>\n",
       "    </tr>\n",
       "    <tr>\n",
       "      <th>2012-05-01</th>\n",
       "      <th>San Fran</th>\n",
       "      <th>Globe</th>\n",
       "      <td>13.48</td>\n",
       "      <td>NaN</td>\n",
       "    </tr>\n",
       "  </tbody>\n",
       "</table>\n",
       "</div>"
      ],
      "text/plain": [
       "Organic/ Conventional                                        Conv    Org\n",
       "Commodity           MonthYearForm Terminal Market Subgroup              \n",
       "Artichoke (SF only) 2012-01-01    San Fran        Globe     28.58  37.34\n",
       "                    2012-02-01    San Fran        Globe     30.00  35.46\n",
       "                    2012-03-01    San Fran        Globe     30.94    NaN\n",
       "                    2012-04-01    San Fran        Globe     18.50    NaN\n",
       "                    2012-05-01    San Fran        Globe     13.48    NaN"
      ]
     },
     "execution_count": 419,
     "metadata": {},
     "output_type": "execute_result"
    }
   ],
   "source": [
    "Ags1.head()"
   ]
  },
  {
   "cell_type": "code",
   "execution_count": 355,
   "metadata": {
    "collapsed": false
   },
   "outputs": [
    {
     "data": {
      "text/plain": [
       "Commodity            MonthYearForm  Terminal Market  Subgroup\n",
       "Artichoke (SF only)  2012-01-01     San Fran         Globe       28.58\n",
       "                     2012-02-01     San Fran         Globe       30.00\n",
       "                     2012-03-01     San Fran         Globe       30.94\n",
       "                     2012-04-01     San Fran         Globe       18.50\n",
       "                     2012-05-01     San Fran         Globe       13.48\n",
       "Name: Conv, dtype: float64"
      ]
     },
     "execution_count": 355,
     "metadata": {},
     "output_type": "execute_result"
    }
   ],
   "source": [
    "Ags1.head()"
   ]
  },
  {
   "cell_type": "code",
   "execution_count": null,
   "metadata": {
    "collapsed": true
   },
   "outputs": [],
   "source": []
  },
  {
   "cell_type": "code",
   "execution_count": null,
   "metadata": {
    "collapsed": true
   },
   "outputs": [],
   "source": []
  },
  {
   "cell_type": "code",
   "execution_count": 323,
   "metadata": {
    "collapsed": false,
    "scrolled": true
   },
   "outputs": [
    {
     "data": {
      "text/html": [
       "<div>\n",
       "<table border=\"1\" class=\"dataframe\">\n",
       "  <thead>\n",
       "    <tr style=\"text-align: right;\">\n",
       "      <th></th>\n",
       "      <th></th>\n",
       "      <th>Organic/ Conventional</th>\n",
       "      <th>Conv</th>\n",
       "      <th>Org</th>\n",
       "    </tr>\n",
       "    <tr>\n",
       "      <th>Commodity</th>\n",
       "      <th>MonthYearForm</th>\n",
       "      <th>Terminal Market</th>\n",
       "      <th></th>\n",
       "      <th></th>\n",
       "    </tr>\n",
       "  </thead>\n",
       "  <tbody>\n",
       "    <tr>\n",
       "      <th rowspan=\"5\" valign=\"top\">Artichoke (SF only)</th>\n",
       "      <th>2012-01-01</th>\n",
       "      <th>San Fran</th>\n",
       "      <td>28.58</td>\n",
       "      <td>37.34</td>\n",
       "    </tr>\n",
       "    <tr>\n",
       "      <th>2012-02-01</th>\n",
       "      <th>San Fran</th>\n",
       "      <td>30.00</td>\n",
       "      <td>35.46</td>\n",
       "    </tr>\n",
       "    <tr>\n",
       "      <th>2012-03-01</th>\n",
       "      <th>San Fran</th>\n",
       "      <td>30.94</td>\n",
       "      <td>NaN</td>\n",
       "    </tr>\n",
       "    <tr>\n",
       "      <th>2012-04-01</th>\n",
       "      <th>San Fran</th>\n",
       "      <td>18.50</td>\n",
       "      <td>NaN</td>\n",
       "    </tr>\n",
       "    <tr>\n",
       "      <th>2012-05-01</th>\n",
       "      <th>San Fran</th>\n",
       "      <td>13.48</td>\n",
       "      <td>NaN</td>\n",
       "    </tr>\n",
       "  </tbody>\n",
       "</table>\n",
       "</div>"
      ],
      "text/plain": [
       "Organic/ Conventional                               Conv    Org\n",
       "Commodity           MonthYearForm Terminal Market              \n",
       "Artichoke (SF only) 2012-01-01    San Fran         28.58  37.34\n",
       "                    2012-02-01    San Fran         30.00  35.46\n",
       "                    2012-03-01    San Fran         30.94    NaN\n",
       "                    2012-04-01    San Fran         18.50    NaN\n",
       "                    2012-05-01    San Fran         13.48    NaN"
      ]
     },
     "execution_count": 323,
     "metadata": {},
     "output_type": "execute_result"
    }
   ],
   "source": [
    "Ags.head()\n",
    "#Veggies2013.head()"
   ]
  },
  {
   "cell_type": "code",
   "execution_count": 226,
   "metadata": {
    "collapsed": false
   },
   "outputs": [
    {
     "data": {
      "text/plain": [
       "Commodity                        object\n",
       "Subgroup                         object\n",
       "Package                          object\n",
       "Organic/ Conventional            object\n",
       "Terminal Market                  object\n",
       "MonthYear                        object\n",
       "Price                            object\n",
       "MonthYearForm            datetime64[ns]\n",
       "dtype: object"
      ]
     },
     "execution_count": 226,
     "metadata": {},
     "output_type": "execute_result"
    }
   ],
   "source": [
    "Veggies.dtypes"
   ]
  },
  {
   "cell_type": "code",
   "execution_count": null,
   "metadata": {
    "collapsed": true
   },
   "outputs": [],
   "source": []
  },
  {
   "cell_type": "code",
   "execution_count": null,
   "metadata": {
    "collapsed": true
   },
   "outputs": [],
   "source": []
  },
  {
   "cell_type": "code",
   "execution_count": null,
   "metadata": {
    "collapsed": true
   },
   "outputs": [],
   "source": []
  },
  {
   "cell_type": "code",
   "execution_count": null,
   "metadata": {
    "collapsed": true
   },
   "outputs": [],
   "source": []
  },
  {
   "cell_type": "code",
   "execution_count": null,
   "metadata": {
    "collapsed": true
   },
   "outputs": [],
   "source": []
  },
  {
   "cell_type": "code",
   "execution_count": null,
   "metadata": {
    "collapsed": true
   },
   "outputs": [],
   "source": []
  }
 ],
 "metadata": {
  "anaconda-cloud": {},
  "kernelspec": {
   "display_name": "Python [Root]",
   "language": "python",
   "name": "Python [Root]"
  },
  "language_info": {
   "codemirror_mode": {
    "name": "ipython",
    "version": 3
   },
   "file_extension": ".py",
   "mimetype": "text/x-python",
   "name": "python",
   "nbconvert_exporter": "python",
   "pygments_lexer": "ipython3",
   "version": "3.5.2"
  }
 },
 "nbformat": 4,
 "nbformat_minor": 0
}
