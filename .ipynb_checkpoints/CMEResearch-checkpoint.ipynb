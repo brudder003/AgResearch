{
 "cells": [
  {
   "cell_type": "markdown",
   "metadata": {},
   "source": [
    "## Daily Volume Data from CME's FTP "
   ]
  },
  {
   "cell_type": "code",
   "execution_count": 11,
   "metadata": {
    "collapsed": true
   },
   "outputs": [],
   "source": [
    "import os\n",
    "import pandas as pd\n",
    "import numpy as np"
   ]
  },
  {
   "cell_type": "code",
   "execution_count": 6,
   "metadata": {
    "collapsed": false
   },
   "outputs": [
    {
     "data": {
      "text/plain": [
       "'/home/brett/Dropbox/CMEResearch'"
      ]
     },
     "execution_count": 6,
     "metadata": {},
     "output_type": "execute_result"
    }
   ],
   "source": [
    "%pwd"
   ]
  },
  {
   "cell_type": "code",
   "execution_count": 7,
   "metadata": {
    "collapsed": false
   },
   "outputs": [
    {
     "name": "stdout",
     "output_type": "stream",
     "text": [
      "/home/brett/Dropbox/CMEResearch\n"
     ]
    }
   ],
   "source": [
    "%cd /home/brett/Dropbox/CMEResearch"
   ]
  },
  {
   "cell_type": "code",
   "execution_count": 5,
   "metadata": {
    "collapsed": true
   },
   "outputs": [
    {
     "name": "stdout",
     "output_type": "stream",
     "text": [
      "--2016-08-25 17:07:27--  ftp://ftp.cmegroup.com/pub/daily_volume/\n",
      "           => ‘ftp.cmegroup.com/pub/daily_volume/.listing’\n",
      "Resolving ftp.cmegroup.com (ftp.cmegroup.com)... 208.39.78.6\n",
      "Connecting to ftp.cmegroup.com (ftp.cmegroup.com)|208.39.78.6|:21... connected.\n",
      "Logging in as anonymous ... Logged in!\n",
      "==> SYST ... done.    ==> PWD ... done.\n",
      "==> TYPE I ... done.  ==> CWD (1) /pub/daily_volume ... done.\n",
      "==> PASV ... done.    ==> LIST ... done.\n",
      "\n",
      "ftp.cmegroup.com/pu     [  <=>               ]  55.20K   121KB/s    in 0.5s    \n",
      "\n",
      "2016-08-25 17:07:31 (121 KB/s) - ‘ftp.cmegroup.com/pub/daily_volume/.listing’ saved [56521]\n",
      "\n",
      "Removed ‘ftp.cmegroup.com/pub/daily_volume/.listing’.\n",
      "Rejecting ‘daily_volume_reports_2013.zip’.\n",
      "Remote file no newer than local file ‘ftp.cmegroup.com/pub/daily_volume/daily_volume.xlsx’ -- not retrieving.\n",
      "Remote file no newer than local file ‘ftp.cmegroup.com/pub/daily_volume/daily_volume_20140102.xlsx’ -- not retrieving.\n",
      "Remote file no newer than local file ‘ftp.cmegroup.com/pub/daily_volume/daily_volume_20140103.xlsx’ -- not retrieving.\n",
      "Remote file no newer than local file ‘ftp.cmegroup.com/pub/daily_volume/daily_volume_20140106.xlsx’ -- not retrieving.\n",
      "Remote file no newer than local file ‘ftp.cmegroup.com/pub/daily_volume/daily_volume_20140107.xlsx’ -- not retrieving.\n",
      "Remote file no newer than local file ‘ftp.cmegroup.com/pub/daily_volume/daily_volume_20140108.xlsx’ -- not retrieving.\n",
      "Remote file no newer than local file ‘ftp.cmegroup.com/pub/daily_volume/daily_volume_20140109.xlsx’ -- not retrieving.\n",
      "Remote file no newer than local file ‘ftp.cmegroup.com/pub/daily_volume/daily_volume_20140110.xlsx’ -- not retrieving.\n",
      "Remote file no newer than local file ‘ftp.cmegroup.com/pub/daily_volume/daily_volume_20140113.xlsx’ -- not retrieving.\n",
      "Remote file no newer than local file ‘ftp.cmegroup.com/pub/daily_volume/daily_volume_20140114.xlsx’ -- not retrieving.\n",
      "Remote file no newer than local file ‘ftp.cmegroup.com/pub/daily_volume/daily_volume_20140115.xlsx’ -- not retrieving.\n",
      "Remote file no newer than local file ‘ftp.cmegroup.com/pub/daily_volume/daily_volume_20140116.xlsx’ -- not retrieving.\n",
      "Remote file no newer than local file ‘ftp.cmegroup.com/pub/daily_volume/daily_volume_20140117.xlsx’ -- not retrieving.\n",
      "Remote file no newer than local file ‘ftp.cmegroup.com/pub/daily_volume/daily_volume_20140121.xlsx’ -- not retrieving.\n",
      "Remote file no newer than local file ‘ftp.cmegroup.com/pub/daily_volume/daily_volume_20140122.xlsx’ -- not retrieving.\n",
      "Remote file no newer than local file ‘ftp.cmegroup.com/pub/daily_volume/daily_volume_20140123.xlsx’ -- not retrieving.\n",
      "Remote file no newer than local file ‘ftp.cmegroup.com/pub/daily_volume/daily_volume_20140124.xlsx’ -- not retrieving.\n",
      "Remote file no newer than local file ‘ftp.cmegroup.com/pub/daily_volume/daily_volume_20140127.xlsx’ -- not retrieving.\n",
      "Remote file no newer than local file ‘ftp.cmegroup.com/pub/daily_volume/daily_volume_20140128.xlsx’ -- not retrieving.\n",
      "Remote file no newer than local file ‘ftp.cmegroup.com/pub/daily_volume/daily_volume_20140129.xlsx’ -- not retrieving.\n",
      "Remote file no newer than local file ‘ftp.cmegroup.com/pub/daily_volume/daily_volume_20140130.xlsx’ -- not retrieving.\n",
      "Remote file no newer than local file ‘ftp.cmegroup.com/pub/daily_volume/daily_volume_20140131.xlsx’ -- not retrieving.\n",
      "Remote file no newer than local file ‘ftp.cmegroup.com/pub/daily_volume/daily_volume_20140203.xlsx’ -- not retrieving.\n",
      "Remote file no newer than local file ‘ftp.cmegroup.com/pub/daily_volume/daily_volume_20140204.xlsx’ -- not retrieving.\n",
      "Remote file no newer than local file ‘ftp.cmegroup.com/pub/daily_volume/daily_volume_20140205.xlsx’ -- not retrieving.\n",
      "Remote file no newer than local file ‘ftp.cmegroup.com/pub/daily_volume/daily_volume_20140206.xlsx’ -- not retrieving.\n",
      "Remote file no newer than local file ‘ftp.cmegroup.com/pub/daily_volume/daily_volume_20140207.xlsx’ -- not retrieving.\n",
      "Remote file no newer than local file ‘ftp.cmegroup.com/pub/daily_volume/daily_volume_20140210.xlsx’ -- not retrieving.\n",
      "Remote file no newer than local file ‘ftp.cmegroup.com/pub/daily_volume/daily_volume_20140211.xlsx’ -- not retrieving.\n",
      "Remote file no newer than local file ‘ftp.cmegroup.com/pub/daily_volume/daily_volume_20140212.xlsx’ -- not retrieving.\n",
      "Remote file no newer than local file ‘ftp.cmegroup.com/pub/daily_volume/daily_volume_20140213.xlsx’ -- not retrieving.\n",
      "Remote file no newer than local file ‘ftp.cmegroup.com/pub/daily_volume/daily_volume_20140214.xlsx’ -- not retrieving.\n",
      "Remote file no newer than local file ‘ftp.cmegroup.com/pub/daily_volume/daily_volume_20140218.xlsx’ -- not retrieving.\n",
      "Remote file no newer than local file ‘ftp.cmegroup.com/pub/daily_volume/daily_volume_20140219.xlsx’ -- not retrieving.\n",
      "Remote file no newer than local file ‘ftp.cmegroup.com/pub/daily_volume/daily_volume_20140220.xlsx’ -- not retrieving.\n",
      "Remote file no newer than local file ‘ftp.cmegroup.com/pub/daily_volume/daily_volume_20140221.xlsx’ -- not retrieving.\n",
      "Remote file no newer than local file ‘ftp.cmegroup.com/pub/daily_volume/daily_volume_20140224.xlsx’ -- not retrieving.\n",
      "Remote file no newer than local file ‘ftp.cmegroup.com/pub/daily_volume/daily_volume_20140225.xlsx’ -- not retrieving.\n",
      "Remote file no newer than local file ‘ftp.cmegroup.com/pub/daily_volume/daily_volume_20140226.xlsx’ -- not retrieving.\n",
      "Remote file no newer than local file ‘ftp.cmegroup.com/pub/daily_volume/daily_volume_20140227.xlsx’ -- not retrieving.\n",
      "Remote file no newer than local file ‘ftp.cmegroup.com/pub/daily_volume/daily_volume_20140228.xlsx’ -- not retrieving.\n",
      "Remote file no newer than local file ‘ftp.cmegroup.com/pub/daily_volume/daily_volume_20140303.xlsx’ -- not retrieving.\n",
      "Remote file no newer than local file ‘ftp.cmegroup.com/pub/daily_volume/daily_volume_20140304.xlsx’ -- not retrieving.\n",
      "Remote file no newer than local file ‘ftp.cmegroup.com/pub/daily_volume/daily_volume_20140305.xlsx’ -- not retrieving.\n",
      "Remote file no newer than local file ‘ftp.cmegroup.com/pub/daily_volume/daily_volume_20140306.xlsx’ -- not retrieving.\n",
      "Remote file no newer than local file ‘ftp.cmegroup.com/pub/daily_volume/daily_volume_20140307.xlsx’ -- not retrieving.\n",
      "Remote file no newer than local file ‘ftp.cmegroup.com/pub/daily_volume/daily_volume_20140310.xlsx’ -- not retrieving.\n",
      "Remote file no newer than local file ‘ftp.cmegroup.com/pub/daily_volume/daily_volume_20140311.xlsx’ -- not retrieving.\n",
      "Remote file no newer than local file ‘ftp.cmegroup.com/pub/daily_volume/daily_volume_20140312.xlsx’ -- not retrieving.\n",
      "Remote file no newer than local file ‘ftp.cmegroup.com/pub/daily_volume/daily_volume_20140313.xlsx’ -- not retrieving.\n",
      "Remote file no newer than local file ‘ftp.cmegroup.com/pub/daily_volume/daily_volume_20140314.xlsx’ -- not retrieving.\n",
      "Remote file no newer than local file ‘ftp.cmegroup.com/pub/daily_volume/daily_volume_20140317.xlsx’ -- not retrieving.\n",
      "Remote file no newer than local file ‘ftp.cmegroup.com/pub/daily_volume/daily_volume_20140318.xlsx’ -- not retrieving.\n",
      "Remote file no newer than local file ‘ftp.cmegroup.com/pub/daily_volume/daily_volume_20140319.xlsx’ -- not retrieving.\n",
      "Remote file no newer than local file ‘ftp.cmegroup.com/pub/daily_volume/daily_volume_20140320.xlsx’ -- not retrieving.\n",
      "Remote file no newer than local file ‘ftp.cmegroup.com/pub/daily_volume/daily_volume_20140321.xlsx’ -- not retrieving.\n",
      "Remote file no newer than local file ‘ftp.cmegroup.com/pub/daily_volume/daily_volume_20140324.xlsx’ -- not retrieving.\n",
      "Remote file no newer than local file ‘ftp.cmegroup.com/pub/daily_volume/daily_volume_20140325.xlsx’ -- not retrieving.\n",
      "Remote file no newer than local file ‘ftp.cmegroup.com/pub/daily_volume/daily_volume_20140326.xlsx’ -- not retrieving.\n",
      "Remote file no newer than local file ‘ftp.cmegroup.com/pub/daily_volume/daily_volume_20140327.xlsx’ -- not retrieving.\n",
      "Remote file no newer than local file ‘ftp.cmegroup.com/pub/daily_volume/daily_volume_20140328.xlsx’ -- not retrieving.\n",
      "Remote file no newer than local file ‘ftp.cmegroup.com/pub/daily_volume/daily_volume_20140331.xlsx’ -- not retrieving.\n",
      "Remote file no newer than local file ‘ftp.cmegroup.com/pub/daily_volume/daily_volume_20140401.xlsx’ -- not retrieving.\n",
      "Remote file no newer than local file ‘ftp.cmegroup.com/pub/daily_volume/daily_volume_20140402.xlsx’ -- not retrieving.\n",
      "Remote file no newer than local file ‘ftp.cmegroup.com/pub/daily_volume/daily_volume_20140403.xlsx’ -- not retrieving.\n",
      "Remote file no newer than local file ‘ftp.cmegroup.com/pub/daily_volume/daily_volume_20140404.xlsx’ -- not retrieving.\n",
      "Remote file no newer than local file ‘ftp.cmegroup.com/pub/daily_volume/daily_volume_20140407.xlsx’ -- not retrieving.\n",
      "Remote file no newer than local file ‘ftp.cmegroup.com/pub/daily_volume/daily_volume_20140408.xlsx’ -- not retrieving.\n",
      "Remote file no newer than local file ‘ftp.cmegroup.com/pub/daily_volume/daily_volume_20140409.xlsx’ -- not retrieving.\n",
      "Remote file no newer than local file ‘ftp.cmegroup.com/pub/daily_volume/daily_volume_20140410.xlsx’ -- not retrieving.\n",
      "Remote file no newer than local file ‘ftp.cmegroup.com/pub/daily_volume/daily_volume_20140411.xlsx’ -- not retrieving.\n",
      "Remote file no newer than local file ‘ftp.cmegroup.com/pub/daily_volume/daily_volume_20140414.xlsx’ -- not retrieving.\n",
      "Remote file no newer than local file ‘ftp.cmegroup.com/pub/daily_volume/daily_volume_20140415.xlsx’ -- not retrieving.\n",
      "Remote file no newer than local file ‘ftp.cmegroup.com/pub/daily_volume/daily_volume_20140416.xlsx’ -- not retrieving.\n",
      "Remote file no newer than local file ‘ftp.cmegroup.com/pub/daily_volume/daily_volume_20140417.xlsx’ -- not retrieving.\n",
      "Remote file no newer than local file ‘ftp.cmegroup.com/pub/daily_volume/daily_volume_20140421.xlsx’ -- not retrieving.\n",
      "Remote file no newer than local file ‘ftp.cmegroup.com/pub/daily_volume/daily_volume_20140422.xlsx’ -- not retrieving.\n",
      "Remote file no newer than local file ‘ftp.cmegroup.com/pub/daily_volume/daily_volume_20140423.xlsx’ -- not retrieving.\n",
      "Remote file no newer than local file ‘ftp.cmegroup.com/pub/daily_volume/daily_volume_20140424.xlsx’ -- not retrieving.\n",
      "Remote file no newer than local file ‘ftp.cmegroup.com/pub/daily_volume/daily_volume_20140425.xlsx’ -- not retrieving.\n",
      "Remote file no newer than local file ‘ftp.cmegroup.com/pub/daily_volume/daily_volume_20140428.xlsx’ -- not retrieving.\n",
      "Remote file no newer than local file ‘ftp.cmegroup.com/pub/daily_volume/daily_volume_20140429.xlsx’ -- not retrieving.\n",
      "Remote file no newer than local file ‘ftp.cmegroup.com/pub/daily_volume/daily_volume_20140430.xlsx’ -- not retrieving.\n",
      "Remote file no newer than local file ‘ftp.cmegroup.com/pub/daily_volume/daily_volume_20140501.xlsx’ -- not retrieving.\n",
      "Remote file no newer than local file ‘ftp.cmegroup.com/pub/daily_volume/daily_volume_20140502.xlsx’ -- not retrieving.\n",
      "Remote file no newer than local file ‘ftp.cmegroup.com/pub/daily_volume/daily_volume_20140505.xlsx’ -- not retrieving.\n",
      "Remote file no newer than local file ‘ftp.cmegroup.com/pub/daily_volume/daily_volume_20140506.xlsx’ -- not retrieving.\n",
      "Remote file no newer than local file ‘ftp.cmegroup.com/pub/daily_volume/daily_volume_20140507.xlsx’ -- not retrieving.\n",
      "Remote file no newer than local file ‘ftp.cmegroup.com/pub/daily_volume/daily_volume_20140508.xlsx’ -- not retrieving.\n",
      "Remote file no newer than local file ‘ftp.cmegroup.com/pub/daily_volume/daily_volume_20140509.xlsx’ -- not retrieving.\n",
      "Remote file no newer than local file ‘ftp.cmegroup.com/pub/daily_volume/daily_volume_20140512.xlsx’ -- not retrieving.\n",
      "Remote file no newer than local file ‘ftp.cmegroup.com/pub/daily_volume/daily_volume_20140513.xlsx’ -- not retrieving.\n",
      "Remote file no newer than local file ‘ftp.cmegroup.com/pub/daily_volume/daily_volume_20140514.xlsx’ -- not retrieving.\n",
      "Remote file no newer than local file ‘ftp.cmegroup.com/pub/daily_volume/daily_volume_20140515.xlsx’ -- not retrieving.\n",
      "Remote file no newer than local file ‘ftp.cmegroup.com/pub/daily_volume/daily_volume_20140516.xlsx’ -- not retrieving.\n",
      "Remote file no newer than local file ‘ftp.cmegroup.com/pub/daily_volume/daily_volume_20140519.xlsx’ -- not retrieving.\n",
      "Remote file no newer than local file ‘ftp.cmegroup.com/pub/daily_volume/daily_volume_20140520.xlsx’ -- not retrieving.\n",
      "Remote file no newer than local file ‘ftp.cmegroup.com/pub/daily_volume/daily_volume_20140521.xlsx’ -- not retrieving.\n",
      "Remote file no newer than local file ‘ftp.cmegroup.com/pub/daily_volume/daily_volume_20140522.xlsx’ -- not retrieving.\n",
      "Remote file no newer than local file ‘ftp.cmegroup.com/pub/daily_volume/daily_volume_20140523.xlsx’ -- not retrieving.\n",
      "Remote file no newer than local file ‘ftp.cmegroup.com/pub/daily_volume/daily_volume_20140527.xlsx’ -- not retrieving.\n",
      "Remote file no newer than local file ‘ftp.cmegroup.com/pub/daily_volume/daily_volume_20140528.xlsx’ -- not retrieving.\n",
      "Remote file no newer than local file ‘ftp.cmegroup.com/pub/daily_volume/daily_volume_20140529.xlsx’ -- not retrieving.\n",
      "Remote file no newer than local file ‘ftp.cmegroup.com/pub/daily_volume/daily_volume_20140530.xlsx’ -- not retrieving.\n",
      "Remote file no newer than local file ‘ftp.cmegroup.com/pub/daily_volume/daily_volume_20140602.xlsx’ -- not retrieving.\n",
      "Remote file no newer than local file ‘ftp.cmegroup.com/pub/daily_volume/daily_volume_20140603.xlsx’ -- not retrieving.\n",
      "Remote file no newer than local file ‘ftp.cmegroup.com/pub/daily_volume/daily_volume_20140604.xlsx’ -- not retrieving.\n",
      "Remote file no newer than local file ‘ftp.cmegroup.com/pub/daily_volume/daily_volume_20140605.xlsx’ -- not retrieving.\n",
      "Remote file no newer than local file ‘ftp.cmegroup.com/pub/daily_volume/daily_volume_20140606.xlsx’ -- not retrieving.\n",
      "Remote file no newer than local file ‘ftp.cmegroup.com/pub/daily_volume/daily_volume_20140609.xlsx’ -- not retrieving.\n",
      "Remote file no newer than local file ‘ftp.cmegroup.com/pub/daily_volume/daily_volume_20140610.xlsx’ -- not retrieving.\n",
      "Remote file no newer than local file ‘ftp.cmegroup.com/pub/daily_volume/daily_volume_20140611.xlsx’ -- not retrieving.\n",
      "Remote file no newer than local file ‘ftp.cmegroup.com/pub/daily_volume/daily_volume_20140612.xlsx’ -- not retrieving.\n",
      "Remote file no newer than local file ‘ftp.cmegroup.com/pub/daily_volume/daily_volume_20140613.xlsx’ -- not retrieving.\n",
      "Remote file no newer than local file ‘ftp.cmegroup.com/pub/daily_volume/daily_volume_20140616.xlsx’ -- not retrieving.\n",
      "Remote file no newer than local file ‘ftp.cmegroup.com/pub/daily_volume/daily_volume_20140617.xlsx’ -- not retrieving.\n",
      "Remote file no newer than local file ‘ftp.cmegroup.com/pub/daily_volume/daily_volume_20140618.xlsx’ -- not retrieving.\n",
      "Remote file no newer than local file ‘ftp.cmegroup.com/pub/daily_volume/daily_volume_20140619.xlsx’ -- not retrieving.\n",
      "Remote file no newer than local file ‘ftp.cmegroup.com/pub/daily_volume/daily_volume_20140620.xlsx’ -- not retrieving.\n",
      "Remote file no newer than local file ‘ftp.cmegroup.com/pub/daily_volume/daily_volume_20140623.xlsx’ -- not retrieving.\n",
      "Remote file no newer than local file ‘ftp.cmegroup.com/pub/daily_volume/daily_volume_20140624.xlsx’ -- not retrieving.\n",
      "Remote file no newer than local file ‘ftp.cmegroup.com/pub/daily_volume/daily_volume_20140625.xlsx’ -- not retrieving.\n",
      "Remote file no newer than local file ‘ftp.cmegroup.com/pub/daily_volume/daily_volume_20140626.xlsx’ -- not retrieving.\n",
      "Remote file no newer than local file ‘ftp.cmegroup.com/pub/daily_volume/daily_volume_20140627.xlsx’ -- not retrieving.\n",
      "Remote file no newer than local file ‘ftp.cmegroup.com/pub/daily_volume/daily_volume_20140630.xlsx’ -- not retrieving.\n",
      "Remote file no newer than local file ‘ftp.cmegroup.com/pub/daily_volume/daily_volume_20140701.xlsx’ -- not retrieving.\n",
      "Remote file no newer than local file ‘ftp.cmegroup.com/pub/daily_volume/daily_volume_20140702.xlsx’ -- not retrieving.\n",
      "Remote file no newer than local file ‘ftp.cmegroup.com/pub/daily_volume/daily_volume_20140703.xlsx’ -- not retrieving.\n",
      "Remote file no newer than local file ‘ftp.cmegroup.com/pub/daily_volume/daily_volume_20140707.xlsx’ -- not retrieving.\n",
      "Remote file no newer than local file ‘ftp.cmegroup.com/pub/daily_volume/daily_volume_20140708.xlsx’ -- not retrieving.\n",
      "Remote file no newer than local file ‘ftp.cmegroup.com/pub/daily_volume/daily_volume_20140709.xlsx’ -- not retrieving.\n",
      "Remote file no newer than local file ‘ftp.cmegroup.com/pub/daily_volume/daily_volume_20140710.xlsx’ -- not retrieving.\n",
      "Remote file no newer than local file ‘ftp.cmegroup.com/pub/daily_volume/daily_volume_20140711.xlsx’ -- not retrieving.\n",
      "Remote file no newer than local file ‘ftp.cmegroup.com/pub/daily_volume/daily_volume_20140714.xlsx’ -- not retrieving.\n",
      "Remote file no newer than local file ‘ftp.cmegroup.com/pub/daily_volume/daily_volume_20140715.xlsx’ -- not retrieving.\n",
      "Remote file no newer than local file ‘ftp.cmegroup.com/pub/daily_volume/daily_volume_20140716.xlsx’ -- not retrieving.\n",
      "Remote file no newer than local file ‘ftp.cmegroup.com/pub/daily_volume/daily_volume_20140717.xlsx’ -- not retrieving.\n",
      "Remote file no newer than local file ‘ftp.cmegroup.com/pub/daily_volume/daily_volume_20140718.xlsx’ -- not retrieving.\n",
      "Remote file no newer than local file ‘ftp.cmegroup.com/pub/daily_volume/daily_volume_20140721.xlsx’ -- not retrieving.\n",
      "Remote file no newer than local file ‘ftp.cmegroup.com/pub/daily_volume/daily_volume_20140722.xlsx’ -- not retrieving.\n",
      "Remote file no newer than local file ‘ftp.cmegroup.com/pub/daily_volume/daily_volume_20140723.xlsx’ -- not retrieving.\n",
      "Remote file no newer than local file ‘ftp.cmegroup.com/pub/daily_volume/daily_volume_20140724.xlsx’ -- not retrieving.\n",
      "Remote file no newer than local file ‘ftp.cmegroup.com/pub/daily_volume/daily_volume_20140725.xlsx’ -- not retrieving.\n",
      "Remote file no newer than local file ‘ftp.cmegroup.com/pub/daily_volume/daily_volume_20140728.xlsx’ -- not retrieving.\n",
      "Remote file no newer than local file ‘ftp.cmegroup.com/pub/daily_volume/daily_volume_20140729.xlsx’ -- not retrieving.\n",
      "Remote file no newer than local file ‘ftp.cmegroup.com/pub/daily_volume/daily_volume_20140730.xlsx’ -- not retrieving.\n",
      "Remote file no newer than local file ‘ftp.cmegroup.com/pub/daily_volume/daily_volume_20140731.xlsx’ -- not retrieving.\n",
      "Remote file no newer than local file ‘ftp.cmegroup.com/pub/daily_volume/daily_volume_20140801.xlsx’ -- not retrieving.\n",
      "Remote file no newer than local file ‘ftp.cmegroup.com/pub/daily_volume/daily_volume_20140804.xlsx’ -- not retrieving.\n",
      "Remote file no newer than local file ‘ftp.cmegroup.com/pub/daily_volume/daily_volume_20140805.xlsx’ -- not retrieving.\n",
      "Remote file no newer than local file ‘ftp.cmegroup.com/pub/daily_volume/daily_volume_20140806.xlsx’ -- not retrieving.\n",
      "Remote file no newer than local file ‘ftp.cmegroup.com/pub/daily_volume/daily_volume_20140807.xlsx’ -- not retrieving.\n",
      "Remote file no newer than local file ‘ftp.cmegroup.com/pub/daily_volume/daily_volume_20140808.xlsx’ -- not retrieving.\n",
      "Remote file no newer than local file ‘ftp.cmegroup.com/pub/daily_volume/daily_volume_20140811.xlsx’ -- not retrieving.\n",
      "Remote file no newer than local file ‘ftp.cmegroup.com/pub/daily_volume/daily_volume_20140812.xlsx’ -- not retrieving.\n",
      "Remote file no newer than local file ‘ftp.cmegroup.com/pub/daily_volume/daily_volume_20140813.xlsx’ -- not retrieving.\n",
      "Remote file no newer than local file ‘ftp.cmegroup.com/pub/daily_volume/daily_volume_20140814.xlsx’ -- not retrieving.\n",
      "Remote file no newer than local file ‘ftp.cmegroup.com/pub/daily_volume/daily_volume_20140815.xlsx’ -- not retrieving.\n",
      "Remote file no newer than local file ‘ftp.cmegroup.com/pub/daily_volume/daily_volume_20140818.xlsx’ -- not retrieving.\n",
      "Remote file no newer than local file ‘ftp.cmegroup.com/pub/daily_volume/daily_volume_20140819.xlsx’ -- not retrieving.\n",
      "Remote file no newer than local file ‘ftp.cmegroup.com/pub/daily_volume/daily_volume_20140820.xlsx’ -- not retrieving.\n",
      "Remote file no newer than local file ‘ftp.cmegroup.com/pub/daily_volume/daily_volume_20140821.xlsx’ -- not retrieving.\n",
      "Remote file no newer than local file ‘ftp.cmegroup.com/pub/daily_volume/daily_volume_20140822.xlsx’ -- not retrieving.\n",
      "Remote file no newer than local file ‘ftp.cmegroup.com/pub/daily_volume/daily_volume_20140825.xlsx’ -- not retrieving.\n",
      "Remote file no newer than local file ‘ftp.cmegroup.com/pub/daily_volume/daily_volume_20140826.xlsx’ -- not retrieving.\n",
      "Remote file no newer than local file ‘ftp.cmegroup.com/pub/daily_volume/daily_volume_20140827.xlsx’ -- not retrieving.\n",
      "Remote file no newer than local file ‘ftp.cmegroup.com/pub/daily_volume/daily_volume_20140828.xlsx’ -- not retrieving.\n",
      "Remote file no newer than local file ‘ftp.cmegroup.com/pub/daily_volume/daily_volume_20140829.xlsx’ -- not retrieving.\n",
      "Remote file no newer than local file ‘ftp.cmegroup.com/pub/daily_volume/daily_volume_20140902.xlsx’ -- not retrieving.\n",
      "Remote file no newer than local file ‘ftp.cmegroup.com/pub/daily_volume/daily_volume_20140903.xlsx’ -- not retrieving.\n",
      "Remote file no newer than local file ‘ftp.cmegroup.com/pub/daily_volume/daily_volume_20140904.xlsx’ -- not retrieving.\n",
      "Remote file no newer than local file ‘ftp.cmegroup.com/pub/daily_volume/daily_volume_20140905.xlsx’ -- not retrieving.\n",
      "Remote file no newer than local file ‘ftp.cmegroup.com/pub/daily_volume/daily_volume_20140908.xlsx’ -- not retrieving.\n",
      "Remote file no newer than local file ‘ftp.cmegroup.com/pub/daily_volume/daily_volume_20140909.xlsx’ -- not retrieving.\n",
      "Remote file no newer than local file ‘ftp.cmegroup.com/pub/daily_volume/daily_volume_20140910.xlsx’ -- not retrieving.\n",
      "Remote file no newer than local file ‘ftp.cmegroup.com/pub/daily_volume/daily_volume_20140911.xlsx’ -- not retrieving.\n",
      "Remote file no newer than local file ‘ftp.cmegroup.com/pub/daily_volume/daily_volume_20140912.xlsx’ -- not retrieving.\n",
      "Remote file no newer than local file ‘ftp.cmegroup.com/pub/daily_volume/daily_volume_20140915.xlsx’ -- not retrieving.\n",
      "Remote file no newer than local file ‘ftp.cmegroup.com/pub/daily_volume/daily_volume_20140916.xlsx’ -- not retrieving.\n",
      "Remote file no newer than local file ‘ftp.cmegroup.com/pub/daily_volume/daily_volume_20140917.xlsx’ -- not retrieving.\n",
      "Remote file no newer than local file ‘ftp.cmegroup.com/pub/daily_volume/daily_volume_20140918.xlsx’ -- not retrieving.\n",
      "Remote file no newer than local file ‘ftp.cmegroup.com/pub/daily_volume/daily_volume_20140919.xlsx’ -- not retrieving.\n",
      "Remote file no newer than local file ‘ftp.cmegroup.com/pub/daily_volume/daily_volume_20140922.xlsx’ -- not retrieving.\n",
      "Remote file no newer than local file ‘ftp.cmegroup.com/pub/daily_volume/daily_volume_20140923.xlsx’ -- not retrieving.\n",
      "Remote file no newer than local file ‘ftp.cmegroup.com/pub/daily_volume/daily_volume_20140924.xlsx’ -- not retrieving.\n",
      "Remote file no newer than local file ‘ftp.cmegroup.com/pub/daily_volume/daily_volume_20140925.xlsx’ -- not retrieving.\n",
      "Remote file no newer than local file ‘ftp.cmegroup.com/pub/daily_volume/daily_volume_20140926.xlsx’ -- not retrieving.\n",
      "Remote file no newer than local file ‘ftp.cmegroup.com/pub/daily_volume/daily_volume_20140929.xlsx’ -- not retrieving.\n",
      "Remote file no newer than local file ‘ftp.cmegroup.com/pub/daily_volume/daily_volume_20140930.xlsx’ -- not retrieving.\n",
      "Remote file no newer than local file ‘ftp.cmegroup.com/pub/daily_volume/daily_volume_20141001.xlsx’ -- not retrieving.\n",
      "Remote file no newer than local file ‘ftp.cmegroup.com/pub/daily_volume/daily_volume_20141002.xlsx’ -- not retrieving.\n",
      "Remote file no newer than local file ‘ftp.cmegroup.com/pub/daily_volume/daily_volume_20141003.xlsx’ -- not retrieving.\n",
      "Remote file no newer than local file ‘ftp.cmegroup.com/pub/daily_volume/daily_volume_20141006.xlsx’ -- not retrieving.\n",
      "Remote file no newer than local file ‘ftp.cmegroup.com/pub/daily_volume/daily_volume_20141007.xlsx’ -- not retrieving.\n",
      "Remote file no newer than local file ‘ftp.cmegroup.com/pub/daily_volume/daily_volume_20141008.xlsx’ -- not retrieving.\n",
      "Remote file no newer than local file ‘ftp.cmegroup.com/pub/daily_volume/daily_volume_20141009.xlsx’ -- not retrieving.\n",
      "Remote file no newer than local file ‘ftp.cmegroup.com/pub/daily_volume/daily_volume_20141010.xlsx’ -- not retrieving.\n",
      "Remote file no newer than local file ‘ftp.cmegroup.com/pub/daily_volume/daily_volume_20141013.xlsx’ -- not retrieving.\n",
      "Remote file no newer than local file ‘ftp.cmegroup.com/pub/daily_volume/daily_volume_20141014.xlsx’ -- not retrieving.\n",
      "Remote file no newer than local file ‘ftp.cmegroup.com/pub/daily_volume/daily_volume_20141015.xlsx’ -- not retrieving.\n",
      "Remote file no newer than local file ‘ftp.cmegroup.com/pub/daily_volume/daily_volume_20141016.xlsx’ -- not retrieving.\n",
      "Remote file no newer than local file ‘ftp.cmegroup.com/pub/daily_volume/daily_volume_20141017.xlsx’ -- not retrieving.\n",
      "Remote file no newer than local file ‘ftp.cmegroup.com/pub/daily_volume/daily_volume_20141020.xlsx’ -- not retrieving.\n",
      "Remote file no newer than local file ‘ftp.cmegroup.com/pub/daily_volume/daily_volume_20141021.xlsx’ -- not retrieving.\n",
      "Remote file no newer than local file ‘ftp.cmegroup.com/pub/daily_volume/daily_volume_20141022.xlsx’ -- not retrieving.\n",
      "Remote file no newer than local file ‘ftp.cmegroup.com/pub/daily_volume/daily_volume_20141023.xlsx’ -- not retrieving.\n",
      "Remote file no newer than local file ‘ftp.cmegroup.com/pub/daily_volume/daily_volume_20141024.xlsx’ -- not retrieving.\n",
      "Remote file no newer than local file ‘ftp.cmegroup.com/pub/daily_volume/daily_volume_20141027.xlsx’ -- not retrieving.\n",
      "Remote file no newer than local file ‘ftp.cmegroup.com/pub/daily_volume/daily_volume_20141028.xlsx’ -- not retrieving.\n",
      "Remote file no newer than local file ‘ftp.cmegroup.com/pub/daily_volume/daily_volume_20141029.xlsx’ -- not retrieving.\n",
      "Remote file no newer than local file ‘ftp.cmegroup.com/pub/daily_volume/daily_volume_20141030.xlsx’ -- not retrieving.\n",
      "Remote file no newer than local file ‘ftp.cmegroup.com/pub/daily_volume/daily_volume_20141031.xlsx’ -- not retrieving.\n",
      "Remote file no newer than local file ‘ftp.cmegroup.com/pub/daily_volume/daily_volume_20141103.xlsx’ -- not retrieving.\n",
      "Remote file no newer than local file ‘ftp.cmegroup.com/pub/daily_volume/daily_volume_20141104.xlsx’ -- not retrieving.\n",
      "Remote file no newer than local file ‘ftp.cmegroup.com/pub/daily_volume/daily_volume_20141105.xlsx’ -- not retrieving.\n",
      "Remote file no newer than local file ‘ftp.cmegroup.com/pub/daily_volume/daily_volume_20141106.xlsx’ -- not retrieving.\n",
      "Remote file no newer than local file ‘ftp.cmegroup.com/pub/daily_volume/daily_volume_20141107.xlsx’ -- not retrieving.\n",
      "Remote file no newer than local file ‘ftp.cmegroup.com/pub/daily_volume/daily_volume_20141110.xlsx’ -- not retrieving.\n",
      "Remote file no newer than local file ‘ftp.cmegroup.com/pub/daily_volume/daily_volume_20141111.xlsx’ -- not retrieving.\n",
      "Remote file no newer than local file ‘ftp.cmegroup.com/pub/daily_volume/daily_volume_20141112.xlsx’ -- not retrieving.\n",
      "Remote file no newer than local file ‘ftp.cmegroup.com/pub/daily_volume/daily_volume_20141113.xlsx’ -- not retrieving.\n",
      "Remote file no newer than local file ‘ftp.cmegroup.com/pub/daily_volume/daily_volume_20141114.xlsx’ -- not retrieving.\n",
      "Remote file no newer than local file ‘ftp.cmegroup.com/pub/daily_volume/daily_volume_20141117.xlsx’ -- not retrieving.\n",
      "Remote file no newer than local file ‘ftp.cmegroup.com/pub/daily_volume/daily_volume_20141118.xlsx’ -- not retrieving.\n",
      "Remote file no newer than local file ‘ftp.cmegroup.com/pub/daily_volume/daily_volume_20141119.xlsx’ -- not retrieving.\n",
      "Remote file no newer than local file ‘ftp.cmegroup.com/pub/daily_volume/daily_volume_20141120.xlsx’ -- not retrieving.\n",
      "Remote file no newer than local file ‘ftp.cmegroup.com/pub/daily_volume/daily_volume_20141121.xlsx’ -- not retrieving.\n",
      "Remote file no newer than local file ‘ftp.cmegroup.com/pub/daily_volume/daily_volume_20141124.xlsx’ -- not retrieving.\n",
      "Remote file no newer than local file ‘ftp.cmegroup.com/pub/daily_volume/daily_volume_20141125.xlsx’ -- not retrieving.\n",
      "Remote file no newer than local file ‘ftp.cmegroup.com/pub/daily_volume/daily_volume_20141126.xlsx’ -- not retrieving.\n",
      "Remote file no newer than local file ‘ftp.cmegroup.com/pub/daily_volume/daily_volume_20141128.xlsx’ -- not retrieving.\n",
      "Remote file no newer than local file ‘ftp.cmegroup.com/pub/daily_volume/daily_volume_20141201.xlsx’ -- not retrieving.\n",
      "Remote file no newer than local file ‘ftp.cmegroup.com/pub/daily_volume/daily_volume_20141202.xlsx’ -- not retrieving.\n",
      "Remote file no newer than local file ‘ftp.cmegroup.com/pub/daily_volume/daily_volume_20141203.xlsx’ -- not retrieving.\n",
      "Remote file no newer than local file ‘ftp.cmegroup.com/pub/daily_volume/daily_volume_20141204.xlsx’ -- not retrieving.\n",
      "Remote file no newer than local file ‘ftp.cmegroup.com/pub/daily_volume/daily_volume_20141205.xlsx’ -- not retrieving.\n",
      "Remote file no newer than local file ‘ftp.cmegroup.com/pub/daily_volume/daily_volume_20141208.xlsx’ -- not retrieving.\n",
      "Remote file no newer than local file ‘ftp.cmegroup.com/pub/daily_volume/daily_volume_20141209.xlsx’ -- not retrieving.\n",
      "Remote file no newer than local file ‘ftp.cmegroup.com/pub/daily_volume/daily_volume_20141210.xlsx’ -- not retrieving.\n",
      "Remote file no newer than local file ‘ftp.cmegroup.com/pub/daily_volume/daily_volume_20141211.xlsx’ -- not retrieving.\n",
      "Remote file no newer than local file ‘ftp.cmegroup.com/pub/daily_volume/daily_volume_20141212.xlsx’ -- not retrieving.\n",
      "Remote file no newer than local file ‘ftp.cmegroup.com/pub/daily_volume/daily_volume_20141215.xlsx’ -- not retrieving.\n",
      "Remote file no newer than local file ‘ftp.cmegroup.com/pub/daily_volume/daily_volume_20141216.xlsx’ -- not retrieving.\n",
      "Remote file no newer than local file ‘ftp.cmegroup.com/pub/daily_volume/daily_volume_20141217.xlsx’ -- not retrieving.\n",
      "Remote file no newer than local file ‘ftp.cmegroup.com/pub/daily_volume/daily_volume_20141218.xlsx’ -- not retrieving.\n",
      "Remote file no newer than local file ‘ftp.cmegroup.com/pub/daily_volume/daily_volume_20141219.xlsx’ -- not retrieving.\n",
      "Remote file no newer than local file ‘ftp.cmegroup.com/pub/daily_volume/daily_volume_20141222.xlsx’ -- not retrieving.\n",
      "Remote file no newer than local file ‘ftp.cmegroup.com/pub/daily_volume/daily_volume_20141223.xlsx’ -- not retrieving.\n",
      "Remote file no newer than local file ‘ftp.cmegroup.com/pub/daily_volume/daily_volume_20141224.xlsx’ -- not retrieving.\n",
      "Remote file no newer than local file ‘ftp.cmegroup.com/pub/daily_volume/daily_volume_20141226.xlsx’ -- not retrieving.\n",
      "Remote file no newer than local file ‘ftp.cmegroup.com/pub/daily_volume/daily_volume_20141229.xlsx’ -- not retrieving.\n",
      "Remote file no newer than local file ‘ftp.cmegroup.com/pub/daily_volume/daily_volume_20141230.xlsx’ -- not retrieving.\n",
      "Remote file no newer than local file ‘ftp.cmegroup.com/pub/daily_volume/daily_volume_20141231.xlsx’ -- not retrieving.\n",
      "Remote file no newer than local file ‘ftp.cmegroup.com/pub/daily_volume/daily_volume_20150102.xlsx’ -- not retrieving.\n",
      "Remote file no newer than local file ‘ftp.cmegroup.com/pub/daily_volume/daily_volume_20150105.xlsx’ -- not retrieving.\n",
      "Remote file no newer than local file ‘ftp.cmegroup.com/pub/daily_volume/daily_volume_20150106.xlsx’ -- not retrieving.\n",
      "Remote file no newer than local file ‘ftp.cmegroup.com/pub/daily_volume/daily_volume_20150107.xlsx’ -- not retrieving.\n",
      "Remote file no newer than local file ‘ftp.cmegroup.com/pub/daily_volume/daily_volume_20150108.xlsx’ -- not retrieving.\n",
      "Remote file no newer than local file ‘ftp.cmegroup.com/pub/daily_volume/daily_volume_20150109.xlsx’ -- not retrieving.\n",
      "Remote file no newer than local file ‘ftp.cmegroup.com/pub/daily_volume/daily_volume_20150112.xlsx’ -- not retrieving.\n",
      "Remote file no newer than local file ‘ftp.cmegroup.com/pub/daily_volume/daily_volume_20150113.xlsx’ -- not retrieving.\n",
      "Remote file no newer than local file ‘ftp.cmegroup.com/pub/daily_volume/daily_volume_20150114.xlsx’ -- not retrieving.\n",
      "Remote file no newer than local file ‘ftp.cmegroup.com/pub/daily_volume/daily_volume_20150115.xlsx’ -- not retrieving.\n",
      "Remote file no newer than local file ‘ftp.cmegroup.com/pub/daily_volume/daily_volume_20150116.xlsx’ -- not retrieving.\n",
      "Remote file no newer than local file ‘ftp.cmegroup.com/pub/daily_volume/daily_volume_20150120.xlsx’ -- not retrieving.\n",
      "Remote file no newer than local file ‘ftp.cmegroup.com/pub/daily_volume/daily_volume_20150121.xlsx’ -- not retrieving.\n",
      "Remote file no newer than local file ‘ftp.cmegroup.com/pub/daily_volume/daily_volume_20150122.xlsx’ -- not retrieving.\n",
      "Remote file no newer than local file ‘ftp.cmegroup.com/pub/daily_volume/daily_volume_20150123.xlsx’ -- not retrieving.\n",
      "Remote file no newer than local file ‘ftp.cmegroup.com/pub/daily_volume/daily_volume_20150126.xlsx’ -- not retrieving.\n",
      "Remote file no newer than local file ‘ftp.cmegroup.com/pub/daily_volume/daily_volume_20150127.xlsx’ -- not retrieving.\n",
      "Remote file no newer than local file ‘ftp.cmegroup.com/pub/daily_volume/daily_volume_20150128.xlsx’ -- not retrieving.\n",
      "Remote file no newer than local file ‘ftp.cmegroup.com/pub/daily_volume/daily_volume_20150129.xlsx’ -- not retrieving.\n",
      "Remote file no newer than local file ‘ftp.cmegroup.com/pub/daily_volume/daily_volume_20150130.xlsx’ -- not retrieving.\n",
      "Remote file no newer than local file ‘ftp.cmegroup.com/pub/daily_volume/daily_volume_20150202.xlsx’ -- not retrieving.\n",
      "Remote file no newer than local file ‘ftp.cmegroup.com/pub/daily_volume/daily_volume_20150203.xlsx’ -- not retrieving.\n",
      "Remote file no newer than local file ‘ftp.cmegroup.com/pub/daily_volume/daily_volume_20150204.xlsx’ -- not retrieving.\n",
      "Remote file no newer than local file ‘ftp.cmegroup.com/pub/daily_volume/daily_volume_20150205.xlsx’ -- not retrieving.\n",
      "Remote file no newer than local file ‘ftp.cmegroup.com/pub/daily_volume/daily_volume_20150206.xlsx’ -- not retrieving.\n",
      "Remote file no newer than local file ‘ftp.cmegroup.com/pub/daily_volume/daily_volume_20150209.xlsx’ -- not retrieving.\n",
      "Remote file no newer than local file ‘ftp.cmegroup.com/pub/daily_volume/daily_volume_20150210.xlsx’ -- not retrieving.\n",
      "Remote file no newer than local file ‘ftp.cmegroup.com/pub/daily_volume/daily_volume_20150211.xlsx’ -- not retrieving.\n",
      "Remote file no newer than local file ‘ftp.cmegroup.com/pub/daily_volume/daily_volume_20150212.xlsx’ -- not retrieving.\n",
      "Remote file no newer than local file ‘ftp.cmegroup.com/pub/daily_volume/daily_volume_20150213.xlsx’ -- not retrieving.\n",
      "Remote file no newer than local file ‘ftp.cmegroup.com/pub/daily_volume/daily_volume_20150217.xlsx’ -- not retrieving.\n",
      "Remote file no newer than local file ‘ftp.cmegroup.com/pub/daily_volume/daily_volume_20150218.xlsx’ -- not retrieving.\n",
      "Remote file no newer than local file ‘ftp.cmegroup.com/pub/daily_volume/daily_volume_20150219.xlsx’ -- not retrieving.\n",
      "Remote file no newer than local file ‘ftp.cmegroup.com/pub/daily_volume/daily_volume_20150220.xlsx’ -- not retrieving.\n",
      "Remote file no newer than local file ‘ftp.cmegroup.com/pub/daily_volume/daily_volume_20150223.xlsx’ -- not retrieving.\n",
      "Remote file no newer than local file ‘ftp.cmegroup.com/pub/daily_volume/daily_volume_20150224.xlsx’ -- not retrieving.\n",
      "Remote file no newer than local file ‘ftp.cmegroup.com/pub/daily_volume/daily_volume_20150225.xlsx’ -- not retrieving.\n",
      "Remote file no newer than local file ‘ftp.cmegroup.com/pub/daily_volume/daily_volume_20150226.xlsx’ -- not retrieving.\n",
      "Remote file no newer than local file ‘ftp.cmegroup.com/pub/daily_volume/daily_volume_20150227.xlsx’ -- not retrieving.\n",
      "Remote file no newer than local file ‘ftp.cmegroup.com/pub/daily_volume/daily_volume_20150302.xlsx’ -- not retrieving.\n",
      "Remote file no newer than local file ‘ftp.cmegroup.com/pub/daily_volume/daily_volume_20150303.xlsx’ -- not retrieving.\n",
      "Remote file no newer than local file ‘ftp.cmegroup.com/pub/daily_volume/daily_volume_20150304.xlsx’ -- not retrieving.\n",
      "Remote file no newer than local file ‘ftp.cmegroup.com/pub/daily_volume/daily_volume_20150305.xlsx’ -- not retrieving.\n",
      "Remote file no newer than local file ‘ftp.cmegroup.com/pub/daily_volume/daily_volume_20150306.xlsx’ -- not retrieving.\n",
      "Remote file no newer than local file ‘ftp.cmegroup.com/pub/daily_volume/daily_volume_20150309.xlsx’ -- not retrieving.\n",
      "Remote file no newer than local file ‘ftp.cmegroup.com/pub/daily_volume/daily_volume_20150310.xlsx’ -- not retrieving.\n",
      "Remote file no newer than local file ‘ftp.cmegroup.com/pub/daily_volume/daily_volume_20150311.xlsx’ -- not retrieving.\n",
      "Remote file no newer than local file ‘ftp.cmegroup.com/pub/daily_volume/daily_volume_20150312.xlsx’ -- not retrieving.\n",
      "Remote file no newer than local file ‘ftp.cmegroup.com/pub/daily_volume/daily_volume_20150313.xlsx’ -- not retrieving.\n",
      "Remote file no newer than local file ‘ftp.cmegroup.com/pub/daily_volume/daily_volume_20150316.xlsx’ -- not retrieving.\n",
      "Remote file no newer than local file ‘ftp.cmegroup.com/pub/daily_volume/daily_volume_20150317.xlsx’ -- not retrieving.\n",
      "Remote file no newer than local file ‘ftp.cmegroup.com/pub/daily_volume/daily_volume_20150318.xlsx’ -- not retrieving.\n",
      "Remote file no newer than local file ‘ftp.cmegroup.com/pub/daily_volume/daily_volume_20150319.xlsx’ -- not retrieving.\n",
      "Remote file no newer than local file ‘ftp.cmegroup.com/pub/daily_volume/daily_volume_20150320.xlsx’ -- not retrieving.\n",
      "Remote file no newer than local file ‘ftp.cmegroup.com/pub/daily_volume/daily_volume_20150323.xlsx’ -- not retrieving.\n",
      "Remote file no newer than local file ‘ftp.cmegroup.com/pub/daily_volume/daily_volume_20150324.xlsx’ -- not retrieving.\n",
      "Remote file no newer than local file ‘ftp.cmegroup.com/pub/daily_volume/daily_volume_20150325.xlsx’ -- not retrieving.\n",
      "Remote file no newer than local file ‘ftp.cmegroup.com/pub/daily_volume/daily_volume_20150326.xlsx’ -- not retrieving.\n",
      "Remote file no newer than local file ‘ftp.cmegroup.com/pub/daily_volume/daily_volume_20150327.xlsx’ -- not retrieving.\n",
      "Remote file no newer than local file ‘ftp.cmegroup.com/pub/daily_volume/daily_volume_20150330.xlsx’ -- not retrieving.\n",
      "Remote file no newer than local file ‘ftp.cmegroup.com/pub/daily_volume/daily_volume_20150331.xlsx’ -- not retrieving.\n",
      "Remote file no newer than local file ‘ftp.cmegroup.com/pub/daily_volume/daily_volume_20150401.xlsx’ -- not retrieving.\n",
      "Remote file no newer than local file ‘ftp.cmegroup.com/pub/daily_volume/daily_volume_20150402.xlsx’ -- not retrieving.\n",
      "Remote file no newer than local file ‘ftp.cmegroup.com/pub/daily_volume/daily_volume_20150403.xlsx’ -- not retrieving.\n",
      "Remote file no newer than local file ‘ftp.cmegroup.com/pub/daily_volume/daily_volume_20150406.xlsx’ -- not retrieving.\n",
      "Remote file no newer than local file ‘ftp.cmegroup.com/pub/daily_volume/daily_volume_20150407.xlsx’ -- not retrieving.\n",
      "Remote file no newer than local file ‘ftp.cmegroup.com/pub/daily_volume/daily_volume_20150408.xlsx’ -- not retrieving.\n",
      "Remote file no newer than local file ‘ftp.cmegroup.com/pub/daily_volume/daily_volume_20150409.xlsx’ -- not retrieving.\n",
      "Remote file no newer than local file ‘ftp.cmegroup.com/pub/daily_volume/daily_volume_20150410.xlsx’ -- not retrieving.\n",
      "Remote file no newer than local file ‘ftp.cmegroup.com/pub/daily_volume/daily_volume_20150413.xlsx’ -- not retrieving.\n",
      "Remote file no newer than local file ‘ftp.cmegroup.com/pub/daily_volume/daily_volume_20150414.xlsx’ -- not retrieving.\n",
      "Remote file no newer than local file ‘ftp.cmegroup.com/pub/daily_volume/daily_volume_20150415.xlsx’ -- not retrieving.\n",
      "Remote file no newer than local file ‘ftp.cmegroup.com/pub/daily_volume/daily_volume_20150416.xlsx’ -- not retrieving.\n",
      "Remote file no newer than local file ‘ftp.cmegroup.com/pub/daily_volume/daily_volume_20150417.xlsx’ -- not retrieving.\n",
      "Remote file no newer than local file ‘ftp.cmegroup.com/pub/daily_volume/daily_volume_20150420.xlsx’ -- not retrieving.\n",
      "Remote file no newer than local file ‘ftp.cmegroup.com/pub/daily_volume/daily_volume_20150421.xlsx’ -- not retrieving.\n",
      "Remote file no newer than local file ‘ftp.cmegroup.com/pub/daily_volume/daily_volume_20150422.xlsx’ -- not retrieving.\n",
      "Remote file no newer than local file ‘ftp.cmegroup.com/pub/daily_volume/daily_volume_20150423.xlsx’ -- not retrieving.\n",
      "Remote file no newer than local file ‘ftp.cmegroup.com/pub/daily_volume/daily_volume_20150424.xlsx’ -- not retrieving.\n",
      "Remote file no newer than local file ‘ftp.cmegroup.com/pub/daily_volume/daily_volume_20150427.xlsx’ -- not retrieving.\n",
      "Remote file no newer than local file ‘ftp.cmegroup.com/pub/daily_volume/daily_volume_20150428.xlsx’ -- not retrieving.\n",
      "Remote file no newer than local file ‘ftp.cmegroup.com/pub/daily_volume/daily_volume_20150429.xlsx’ -- not retrieving.\n",
      "Remote file no newer than local file ‘ftp.cmegroup.com/pub/daily_volume/daily_volume_20150430.xlsx’ -- not retrieving.\n",
      "Remote file no newer than local file ‘ftp.cmegroup.com/pub/daily_volume/daily_volume_20150501.xlsx’ -- not retrieving.\n",
      "Remote file no newer than local file ‘ftp.cmegroup.com/pub/daily_volume/daily_volume_20150504.xlsx’ -- not retrieving.\n",
      "Remote file no newer than local file ‘ftp.cmegroup.com/pub/daily_volume/daily_volume_20150505.xlsx’ -- not retrieving.\n",
      "Remote file no newer than local file ‘ftp.cmegroup.com/pub/daily_volume/daily_volume_20150506.xlsx’ -- not retrieving.\n",
      "Remote file no newer than local file ‘ftp.cmegroup.com/pub/daily_volume/daily_volume_20150507.xlsx’ -- not retrieving.\n",
      "Remote file no newer than local file ‘ftp.cmegroup.com/pub/daily_volume/daily_volume_20150508.xlsx’ -- not retrieving.\n",
      "Remote file no newer than local file ‘ftp.cmegroup.com/pub/daily_volume/daily_volume_20150511.xlsx’ -- not retrieving.\n",
      "Remote file no newer than local file ‘ftp.cmegroup.com/pub/daily_volume/daily_volume_20150512.xlsx’ -- not retrieving.\n",
      "Remote file no newer than local file ‘ftp.cmegroup.com/pub/daily_volume/daily_volume_20150513.xlsx’ -- not retrieving.\n",
      "Remote file no newer than local file ‘ftp.cmegroup.com/pub/daily_volume/daily_volume_20150514.xlsx’ -- not retrieving.\n",
      "Remote file no newer than local file ‘ftp.cmegroup.com/pub/daily_volume/daily_volume_20150515.xlsx’ -- not retrieving.\n",
      "Remote file no newer than local file ‘ftp.cmegroup.com/pub/daily_volume/daily_volume_20150518.xlsx’ -- not retrieving.\n",
      "Remote file no newer than local file ‘ftp.cmegroup.com/pub/daily_volume/daily_volume_20150519.xlsx’ -- not retrieving.\n",
      "Remote file no newer than local file ‘ftp.cmegroup.com/pub/daily_volume/daily_volume_20150520.xlsx’ -- not retrieving.\n",
      "Remote file no newer than local file ‘ftp.cmegroup.com/pub/daily_volume/daily_volume_20150521.xlsx’ -- not retrieving.\n",
      "Remote file no newer than local file ‘ftp.cmegroup.com/pub/daily_volume/daily_volume_20150522.xlsx’ -- not retrieving.\n",
      "Remote file no newer than local file ‘ftp.cmegroup.com/pub/daily_volume/daily_volume_20150526.xlsx’ -- not retrieving.\n",
      "Remote file no newer than local file ‘ftp.cmegroup.com/pub/daily_volume/daily_volume_20150527.xlsx’ -- not retrieving.\n",
      "Remote file no newer than local file ‘ftp.cmegroup.com/pub/daily_volume/daily_volume_20150528.xlsx’ -- not retrieving.\n",
      "Remote file no newer than local file ‘ftp.cmegroup.com/pub/daily_volume/daily_volume_20150529.xlsx’ -- not retrieving.\n",
      "Remote file no newer than local file ‘ftp.cmegroup.com/pub/daily_volume/daily_volume_20150601.xlsx’ -- not retrieving.\n",
      "Remote file no newer than local file ‘ftp.cmegroup.com/pub/daily_volume/daily_volume_20150602.xlsx’ -- not retrieving.\n",
      "Remote file no newer than local file ‘ftp.cmegroup.com/pub/daily_volume/daily_volume_20150603.xlsx’ -- not retrieving.\n",
      "Remote file no newer than local file ‘ftp.cmegroup.com/pub/daily_volume/daily_volume_20150604.xlsx’ -- not retrieving.\n",
      "Remote file no newer than local file ‘ftp.cmegroup.com/pub/daily_volume/daily_volume_20150605.xlsx’ -- not retrieving.\n",
      "Remote file no newer than local file ‘ftp.cmegroup.com/pub/daily_volume/daily_volume_20150608.xlsx’ -- not retrieving.\n",
      "Remote file no newer than local file ‘ftp.cmegroup.com/pub/daily_volume/daily_volume_20150609.xlsx’ -- not retrieving.\n",
      "Remote file no newer than local file ‘ftp.cmegroup.com/pub/daily_volume/daily_volume_20150610.xlsx’ -- not retrieving.\n",
      "Remote file no newer than local file ‘ftp.cmegroup.com/pub/daily_volume/daily_volume_20150611.xlsx’ -- not retrieving.\n",
      "Remote file no newer than local file ‘ftp.cmegroup.com/pub/daily_volume/daily_volume_20150612.xlsx’ -- not retrieving.\n",
      "Remote file no newer than local file ‘ftp.cmegroup.com/pub/daily_volume/daily_volume_20150615.xlsx’ -- not retrieving.\n",
      "Remote file no newer than local file ‘ftp.cmegroup.com/pub/daily_volume/daily_volume_20150616.xlsx’ -- not retrieving.\n",
      "Remote file no newer than local file ‘ftp.cmegroup.com/pub/daily_volume/daily_volume_20150617.xlsx’ -- not retrieving.\n",
      "Remote file no newer than local file ‘ftp.cmegroup.com/pub/daily_volume/daily_volume_20150618.xlsx’ -- not retrieving.\n",
      "Remote file no newer than local file ‘ftp.cmegroup.com/pub/daily_volume/daily_volume_20150619.xlsx’ -- not retrieving.\n",
      "Remote file no newer than local file ‘ftp.cmegroup.com/pub/daily_volume/daily_volume_20150622.xlsx’ -- not retrieving.\n",
      "Remote file no newer than local file ‘ftp.cmegroup.com/pub/daily_volume/daily_volume_20150623.xlsx’ -- not retrieving.\n",
      "Remote file no newer than local file ‘ftp.cmegroup.com/pub/daily_volume/daily_volume_20150624.xlsx’ -- not retrieving.\n",
      "Remote file no newer than local file ‘ftp.cmegroup.com/pub/daily_volume/daily_volume_20150625.xlsx’ -- not retrieving.\n",
      "Remote file no newer than local file ‘ftp.cmegroup.com/pub/daily_volume/daily_volume_20150626.xlsx’ -- not retrieving.\n",
      "Remote file no newer than local file ‘ftp.cmegroup.com/pub/daily_volume/daily_volume_20150629.xlsx’ -- not retrieving.\n",
      "Remote file no newer than local file ‘ftp.cmegroup.com/pub/daily_volume/daily_volume_20150630.xlsx’ -- not retrieving.\n",
      "Remote file no newer than local file ‘ftp.cmegroup.com/pub/daily_volume/daily_volume_20150701.xlsx’ -- not retrieving.\n",
      "Remote file no newer than local file ‘ftp.cmegroup.com/pub/daily_volume/daily_volume_20150702.xlsx’ -- not retrieving.\n",
      "Remote file no newer than local file ‘ftp.cmegroup.com/pub/daily_volume/daily_volume_20150706.xlsx’ -- not retrieving.\n",
      "Remote file no newer than local file ‘ftp.cmegroup.com/pub/daily_volume/daily_volume_20150707.xlsx’ -- not retrieving.\n",
      "Remote file no newer than local file ‘ftp.cmegroup.com/pub/daily_volume/daily_volume_20150708.xlsx’ -- not retrieving.\n",
      "Remote file no newer than local file ‘ftp.cmegroup.com/pub/daily_volume/daily_volume_20150709.xlsx’ -- not retrieving.\n",
      "Remote file no newer than local file ‘ftp.cmegroup.com/pub/daily_volume/daily_volume_20150710.xlsx’ -- not retrieving.\n",
      "Remote file no newer than local file ‘ftp.cmegroup.com/pub/daily_volume/daily_volume_20150713.xlsx’ -- not retrieving.\n",
      "Remote file no newer than local file ‘ftp.cmegroup.com/pub/daily_volume/daily_volume_20150714.xlsx’ -- not retrieving.\n",
      "Remote file no newer than local file ‘ftp.cmegroup.com/pub/daily_volume/daily_volume_20150715.xlsx’ -- not retrieving.\n",
      "Remote file no newer than local file ‘ftp.cmegroup.com/pub/daily_volume/daily_volume_20150716.xlsx’ -- not retrieving.\n",
      "Remote file no newer than local file ‘ftp.cmegroup.com/pub/daily_volume/daily_volume_20150717.xlsx’ -- not retrieving.\n",
      "Remote file no newer than local file ‘ftp.cmegroup.com/pub/daily_volume/daily_volume_20150720.xlsx’ -- not retrieving.\n",
      "Remote file no newer than local file ‘ftp.cmegroup.com/pub/daily_volume/daily_volume_20150721.xlsx’ -- not retrieving.\n",
      "Remote file no newer than local file ‘ftp.cmegroup.com/pub/daily_volume/daily_volume_20150722.xlsx’ -- not retrieving.\n",
      "Remote file no newer than local file ‘ftp.cmegroup.com/pub/daily_volume/daily_volume_20150723.xlsx’ -- not retrieving.\n",
      "Remote file no newer than local file ‘ftp.cmegroup.com/pub/daily_volume/daily_volume_20150724.xlsx’ -- not retrieving.\n",
      "Remote file no newer than local file ‘ftp.cmegroup.com/pub/daily_volume/daily_volume_20150727.xlsx’ -- not retrieving.\n",
      "Remote file no newer than local file ‘ftp.cmegroup.com/pub/daily_volume/daily_volume_20150728.xlsx’ -- not retrieving.\n",
      "Remote file no newer than local file ‘ftp.cmegroup.com/pub/daily_volume/daily_volume_20150729.xlsx’ -- not retrieving.\n",
      "Remote file no newer than local file ‘ftp.cmegroup.com/pub/daily_volume/daily_volume_20150730.xlsx’ -- not retrieving.\n",
      "Remote file no newer than local file ‘ftp.cmegroup.com/pub/daily_volume/daily_volume_20150731.xlsx’ -- not retrieving.\n",
      "Remote file no newer than local file ‘ftp.cmegroup.com/pub/daily_volume/daily_volume_20150803.xlsx’ -- not retrieving.\n",
      "Remote file no newer than local file ‘ftp.cmegroup.com/pub/daily_volume/daily_volume_20150804.xlsx’ -- not retrieving.\n",
      "Remote file no newer than local file ‘ftp.cmegroup.com/pub/daily_volume/daily_volume_20150805.xlsx’ -- not retrieving.\n",
      "Remote file no newer than local file ‘ftp.cmegroup.com/pub/daily_volume/daily_volume_20150806.xlsx’ -- not retrieving.\n",
      "Remote file no newer than local file ‘ftp.cmegroup.com/pub/daily_volume/daily_volume_20150807.xlsx’ -- not retrieving.\n",
      "Remote file no newer than local file ‘ftp.cmegroup.com/pub/daily_volume/daily_volume_20150810.xlsx’ -- not retrieving.\n",
      "Remote file no newer than local file ‘ftp.cmegroup.com/pub/daily_volume/daily_volume_20150811.xlsx’ -- not retrieving.\n",
      "Remote file no newer than local file ‘ftp.cmegroup.com/pub/daily_volume/daily_volume_20150812.xlsx’ -- not retrieving.\n",
      "Remote file no newer than local file ‘ftp.cmegroup.com/pub/daily_volume/daily_volume_20150813.xlsx’ -- not retrieving.\n",
      "Remote file no newer than local file ‘ftp.cmegroup.com/pub/daily_volume/daily_volume_20150814.xlsx’ -- not retrieving.\n",
      "Remote file no newer than local file ‘ftp.cmegroup.com/pub/daily_volume/daily_volume_20150817.xlsx’ -- not retrieving.\n",
      "Remote file no newer than local file ‘ftp.cmegroup.com/pub/daily_volume/daily_volume_20150818.xlsx’ -- not retrieving.\n",
      "Remote file no newer than local file ‘ftp.cmegroup.com/pub/daily_volume/daily_volume_20150819.xlsx’ -- not retrieving.\n",
      "Remote file no newer than local file ‘ftp.cmegroup.com/pub/daily_volume/daily_volume_20150820.xlsx’ -- not retrieving.\n",
      "Remote file no newer than local file ‘ftp.cmegroup.com/pub/daily_volume/daily_volume_20150821.xlsx’ -- not retrieving.\n",
      "Remote file no newer than local file ‘ftp.cmegroup.com/pub/daily_volume/daily_volume_20150824.xlsx’ -- not retrieving.\n",
      "Remote file no newer than local file ‘ftp.cmegroup.com/pub/daily_volume/daily_volume_20150825.xlsx’ -- not retrieving.\n",
      "Remote file no newer than local file ‘ftp.cmegroup.com/pub/daily_volume/daily_volume_20150826.xlsx’ -- not retrieving.\n",
      "Remote file no newer than local file ‘ftp.cmegroup.com/pub/daily_volume/daily_volume_20150827.xlsx’ -- not retrieving.\n",
      "Remote file no newer than local file ‘ftp.cmegroup.com/pub/daily_volume/daily_volume_20150828.xlsx’ -- not retrieving.\n",
      "Remote file no newer than local file ‘ftp.cmegroup.com/pub/daily_volume/daily_volume_20150831.xlsx’ -- not retrieving.\n",
      "Remote file no newer than local file ‘ftp.cmegroup.com/pub/daily_volume/daily_volume_20150901.xlsx’ -- not retrieving.\n",
      "Remote file no newer than local file ‘ftp.cmegroup.com/pub/daily_volume/daily_volume_20150902.xlsx’ -- not retrieving.\n",
      "Remote file no newer than local file ‘ftp.cmegroup.com/pub/daily_volume/daily_volume_20150903.xlsx’ -- not retrieving.\n",
      "Remote file no newer than local file ‘ftp.cmegroup.com/pub/daily_volume/daily_volume_20150904.xlsx’ -- not retrieving.\n",
      "Remote file no newer than local file ‘ftp.cmegroup.com/pub/daily_volume/daily_volume_20150908.xlsx’ -- not retrieving.\n",
      "Remote file no newer than local file ‘ftp.cmegroup.com/pub/daily_volume/daily_volume_20150909.xlsx’ -- not retrieving.\n",
      "Remote file no newer than local file ‘ftp.cmegroup.com/pub/daily_volume/daily_volume_20150910.xlsx’ -- not retrieving.\n",
      "Remote file no newer than local file ‘ftp.cmegroup.com/pub/daily_volume/daily_volume_20150911.xlsx’ -- not retrieving.\n",
      "Remote file no newer than local file ‘ftp.cmegroup.com/pub/daily_volume/daily_volume_20150914.xlsx’ -- not retrieving.\n",
      "Remote file no newer than local file ‘ftp.cmegroup.com/pub/daily_volume/daily_volume_20150915.xlsx’ -- not retrieving.\n",
      "Remote file no newer than local file ‘ftp.cmegroup.com/pub/daily_volume/daily_volume_20150916.xlsx’ -- not retrieving.\n",
      "Remote file no newer than local file ‘ftp.cmegroup.com/pub/daily_volume/daily_volume_20150917.xlsx’ -- not retrieving.\n",
      "Remote file no newer than local file ‘ftp.cmegroup.com/pub/daily_volume/daily_volume_20150918.xlsx’ -- not retrieving.\n",
      "Remote file no newer than local file ‘ftp.cmegroup.com/pub/daily_volume/daily_volume_20150921.xlsx’ -- not retrieving.\n",
      "Remote file no newer than local file ‘ftp.cmegroup.com/pub/daily_volume/daily_volume_20150922.xlsx’ -- not retrieving.\n",
      "Remote file no newer than local file ‘ftp.cmegroup.com/pub/daily_volume/daily_volume_20150923.xlsx’ -- not retrieving.\n",
      "Remote file no newer than local file ‘ftp.cmegroup.com/pub/daily_volume/daily_volume_20150924.xlsx’ -- not retrieving.\n",
      "Remote file no newer than local file ‘ftp.cmegroup.com/pub/daily_volume/daily_volume_20150925.xlsx’ -- not retrieving.\n",
      "Remote file no newer than local file ‘ftp.cmegroup.com/pub/daily_volume/daily_volume_20150928.xlsx’ -- not retrieving.\n",
      "Remote file no newer than local file ‘ftp.cmegroup.com/pub/daily_volume/daily_volume_20150929.xlsx’ -- not retrieving.\n",
      "Remote file no newer than local file ‘ftp.cmegroup.com/pub/daily_volume/daily_volume_20150930.xlsx’ -- not retrieving.\n",
      "Remote file no newer than local file ‘ftp.cmegroup.com/pub/daily_volume/daily_volume_20151001.xlsx’ -- not retrieving.\n",
      "Remote file no newer than local file ‘ftp.cmegroup.com/pub/daily_volume/daily_volume_20151002.xlsx’ -- not retrieving.\n",
      "Remote file no newer than local file ‘ftp.cmegroup.com/pub/daily_volume/daily_volume_20151005.xlsx’ -- not retrieving.\n",
      "Remote file no newer than local file ‘ftp.cmegroup.com/pub/daily_volume/daily_volume_20151006.xlsx’ -- not retrieving.\n",
      "Remote file no newer than local file ‘ftp.cmegroup.com/pub/daily_volume/daily_volume_20151007.xlsx’ -- not retrieving.\n",
      "Remote file no newer than local file ‘ftp.cmegroup.com/pub/daily_volume/daily_volume_20151008.xlsx’ -- not retrieving.\n",
      "Remote file no newer than local file ‘ftp.cmegroup.com/pub/daily_volume/daily_volume_20151009.xlsx’ -- not retrieving.\n",
      "Remote file no newer than local file ‘ftp.cmegroup.com/pub/daily_volume/daily_volume_20151012.xlsx’ -- not retrieving.\n",
      "Remote file no newer than local file ‘ftp.cmegroup.com/pub/daily_volume/daily_volume_20151013.xlsx’ -- not retrieving.\n",
      "Remote file no newer than local file ‘ftp.cmegroup.com/pub/daily_volume/daily_volume_20151014.xlsx’ -- not retrieving.\n",
      "Remote file no newer than local file ‘ftp.cmegroup.com/pub/daily_volume/daily_volume_20151015.xlsx’ -- not retrieving.\n",
      "Remote file no newer than local file ‘ftp.cmegroup.com/pub/daily_volume/daily_volume_20151016.xlsx’ -- not retrieving.\n",
      "Remote file no newer than local file ‘ftp.cmegroup.com/pub/daily_volume/daily_volume_20151019.xlsx’ -- not retrieving.\n",
      "Remote file no newer than local file ‘ftp.cmegroup.com/pub/daily_volume/daily_volume_20151020.xlsx’ -- not retrieving.\n",
      "Remote file no newer than local file ‘ftp.cmegroup.com/pub/daily_volume/daily_volume_20151021.xlsx’ -- not retrieving.\n",
      "Remote file no newer than local file ‘ftp.cmegroup.com/pub/daily_volume/daily_volume_20151022.xlsx’ -- not retrieving.\n",
      "Remote file no newer than local file ‘ftp.cmegroup.com/pub/daily_volume/daily_volume_20151023.xlsx’ -- not retrieving.\n",
      "Remote file no newer than local file ‘ftp.cmegroup.com/pub/daily_volume/daily_volume_20151026.xlsx’ -- not retrieving.\n",
      "Remote file no newer than local file ‘ftp.cmegroup.com/pub/daily_volume/daily_volume_20151027.xlsx’ -- not retrieving.\n",
      "Remote file no newer than local file ‘ftp.cmegroup.com/pub/daily_volume/daily_volume_20151028.xlsx’ -- not retrieving.\n",
      "Remote file no newer than local file ‘ftp.cmegroup.com/pub/daily_volume/daily_volume_20151029.xlsx’ -- not retrieving.\n",
      "Remote file no newer than local file ‘ftp.cmegroup.com/pub/daily_volume/daily_volume_20151030.xlsx’ -- not retrieving.\n",
      "Remote file no newer than local file ‘ftp.cmegroup.com/pub/daily_volume/daily_volume_20151102.xlsx’ -- not retrieving.\n",
      "Remote file no newer than local file ‘ftp.cmegroup.com/pub/daily_volume/daily_volume_20151103.xlsx’ -- not retrieving.\n",
      "Remote file no newer than local file ‘ftp.cmegroup.com/pub/daily_volume/daily_volume_20151104.xlsx’ -- not retrieving.\n",
      "Remote file no newer than local file ‘ftp.cmegroup.com/pub/daily_volume/daily_volume_20151105.xlsx’ -- not retrieving.\n",
      "Remote file no newer than local file ‘ftp.cmegroup.com/pub/daily_volume/daily_volume_20151106.xlsx’ -- not retrieving.\n",
      "Remote file no newer than local file ‘ftp.cmegroup.com/pub/daily_volume/daily_volume_20151109.xlsx’ -- not retrieving.\n",
      "Remote file no newer than local file ‘ftp.cmegroup.com/pub/daily_volume/daily_volume_20151110.xlsx’ -- not retrieving.\n",
      "Remote file no newer than local file ‘ftp.cmegroup.com/pub/daily_volume/daily_volume_20151111.xlsx’ -- not retrieving.\n",
      "Remote file no newer than local file ‘ftp.cmegroup.com/pub/daily_volume/daily_volume_20151112.xlsx’ -- not retrieving.\n",
      "Remote file no newer than local file ‘ftp.cmegroup.com/pub/daily_volume/daily_volume_20151113.xlsx’ -- not retrieving.\n",
      "Remote file no newer than local file ‘ftp.cmegroup.com/pub/daily_volume/daily_volume_20151116.xlsx’ -- not retrieving.\n",
      "Remote file no newer than local file ‘ftp.cmegroup.com/pub/daily_volume/daily_volume_20151117.xlsx’ -- not retrieving.\n",
      "Remote file no newer than local file ‘ftp.cmegroup.com/pub/daily_volume/daily_volume_20151118.xlsx’ -- not retrieving.\n",
      "Remote file no newer than local file ‘ftp.cmegroup.com/pub/daily_volume/daily_volume_20151119.xlsx’ -- not retrieving.\n",
      "Remote file no newer than local file ‘ftp.cmegroup.com/pub/daily_volume/daily_volume_20151120.xlsx’ -- not retrieving.\n",
      "Remote file no newer than local file ‘ftp.cmegroup.com/pub/daily_volume/daily_volume_20151123.xlsx’ -- not retrieving.\n",
      "Remote file no newer than local file ‘ftp.cmegroup.com/pub/daily_volume/daily_volume_20151124.xlsx’ -- not retrieving.\n",
      "Remote file no newer than local file ‘ftp.cmegroup.com/pub/daily_volume/daily_volume_20151125.xlsx’ -- not retrieving.\n",
      "Remote file no newer than local file ‘ftp.cmegroup.com/pub/daily_volume/daily_volume_20151127.xlsx’ -- not retrieving.\n",
      "Remote file no newer than local file ‘ftp.cmegroup.com/pub/daily_volume/daily_volume_20151130.xlsx’ -- not retrieving.\n",
      "Remote file no newer than local file ‘ftp.cmegroup.com/pub/daily_volume/daily_volume_20151201.xlsx’ -- not retrieving.\n",
      "Remote file no newer than local file ‘ftp.cmegroup.com/pub/daily_volume/daily_volume_20151202.xlsx’ -- not retrieving.\n",
      "Remote file no newer than local file ‘ftp.cmegroup.com/pub/daily_volume/daily_volume_20151203.xlsx’ -- not retrieving.\n",
      "Remote file no newer than local file ‘ftp.cmegroup.com/pub/daily_volume/daily_volume_20151204.xlsx’ -- not retrieving.\n",
      "Remote file no newer than local file ‘ftp.cmegroup.com/pub/daily_volume/daily_volume_20151207.xlsx’ -- not retrieving.\n",
      "Remote file no newer than local file ‘ftp.cmegroup.com/pub/daily_volume/daily_volume_20151208.xlsx’ -- not retrieving.\n",
      "Remote file no newer than local file ‘ftp.cmegroup.com/pub/daily_volume/daily_volume_20151209.xlsx’ -- not retrieving.\n",
      "Remote file no newer than local file ‘ftp.cmegroup.com/pub/daily_volume/daily_volume_20151210.xlsx’ -- not retrieving.\n",
      "Remote file no newer than local file ‘ftp.cmegroup.com/pub/daily_volume/daily_volume_20151211.xlsx’ -- not retrieving.\n",
      "Remote file no newer than local file ‘ftp.cmegroup.com/pub/daily_volume/daily_volume_20151214.xlsx’ -- not retrieving.\n",
      "Remote file no newer than local file ‘ftp.cmegroup.com/pub/daily_volume/daily_volume_20151215.xlsx’ -- not retrieving.\n",
      "Remote file no newer than local file ‘ftp.cmegroup.com/pub/daily_volume/daily_volume_20151216.xlsx’ -- not retrieving.\n",
      "Remote file no newer than local file ‘ftp.cmegroup.com/pub/daily_volume/daily_volume_20151217.xlsx’ -- not retrieving.\n",
      "Remote file no newer than local file ‘ftp.cmegroup.com/pub/daily_volume/daily_volume_20151218.xlsx’ -- not retrieving.\n",
      "Remote file no newer than local file ‘ftp.cmegroup.com/pub/daily_volume/daily_volume_20151221.xlsx’ -- not retrieving.\n",
      "Remote file no newer than local file ‘ftp.cmegroup.com/pub/daily_volume/daily_volume_20151222.xlsx’ -- not retrieving.\n",
      "Remote file no newer than local file ‘ftp.cmegroup.com/pub/daily_volume/daily_volume_20151223.xlsx’ -- not retrieving.\n",
      "Remote file no newer than local file ‘ftp.cmegroup.com/pub/daily_volume/daily_volume_20151224.xlsx’ -- not retrieving.\n",
      "Remote file no newer than local file ‘ftp.cmegroup.com/pub/daily_volume/daily_volume_20151228.xlsx’ -- not retrieving.\n",
      "Remote file no newer than local file ‘ftp.cmegroup.com/pub/daily_volume/daily_volume_20151229.xlsx’ -- not retrieving.\n",
      "Remote file no newer than local file ‘ftp.cmegroup.com/pub/daily_volume/daily_volume_20151230.xlsx’ -- not retrieving.\n",
      "Remote file no newer than local file ‘ftp.cmegroup.com/pub/daily_volume/daily_volume_20151231.xlsx’ -- not retrieving.\n",
      "Remote file no newer than local file ‘ftp.cmegroup.com/pub/daily_volume/daily_volume_20160104.xlsx’ -- not retrieving.\n",
      "Remote file no newer than local file ‘ftp.cmegroup.com/pub/daily_volume/daily_volume_20160105.xlsx’ -- not retrieving.\n",
      "Remote file no newer than local file ‘ftp.cmegroup.com/pub/daily_volume/daily_volume_20160106.xlsx’ -- not retrieving.\n",
      "Remote file no newer than local file ‘ftp.cmegroup.com/pub/daily_volume/daily_volume_20160107.xlsx’ -- not retrieving.\n",
      "Remote file no newer than local file ‘ftp.cmegroup.com/pub/daily_volume/daily_volume_20160108.xlsx’ -- not retrieving.\n",
      "Remote file no newer than local file ‘ftp.cmegroup.com/pub/daily_volume/daily_volume_20160111.xlsx’ -- not retrieving.\n",
      "Remote file no newer than local file ‘ftp.cmegroup.com/pub/daily_volume/daily_volume_20160112.xlsx’ -- not retrieving.\n",
      "Remote file no newer than local file ‘ftp.cmegroup.com/pub/daily_volume/daily_volume_20160113.xlsx’ -- not retrieving.\n",
      "Remote file no newer than local file ‘ftp.cmegroup.com/pub/daily_volume/daily_volume_20160114.xlsx’ -- not retrieving.\n",
      "Remote file no newer than local file ‘ftp.cmegroup.com/pub/daily_volume/daily_volume_20160115.xlsx’ -- not retrieving.\n",
      "Remote file no newer than local file ‘ftp.cmegroup.com/pub/daily_volume/daily_volume_20160119.xlsx’ -- not retrieving.\n",
      "Remote file no newer than local file ‘ftp.cmegroup.com/pub/daily_volume/daily_volume_20160120.xlsx’ -- not retrieving.\n",
      "Remote file no newer than local file ‘ftp.cmegroup.com/pub/daily_volume/daily_volume_20160121.xlsx’ -- not retrieving.\n",
      "Remote file no newer than local file ‘ftp.cmegroup.com/pub/daily_volume/daily_volume_20160122.xlsx’ -- not retrieving.\n",
      "Remote file no newer than local file ‘ftp.cmegroup.com/pub/daily_volume/daily_volume_20160125.xlsx’ -- not retrieving.\n",
      "Remote file no newer than local file ‘ftp.cmegroup.com/pub/daily_volume/daily_volume_20160126.xlsx’ -- not retrieving.\n",
      "Remote file no newer than local file ‘ftp.cmegroup.com/pub/daily_volume/daily_volume_20160127.xlsx’ -- not retrieving.\n",
      "Remote file no newer than local file ‘ftp.cmegroup.com/pub/daily_volume/daily_volume_20160128.xlsx’ -- not retrieving.\n",
      "Remote file no newer than local file ‘ftp.cmegroup.com/pub/daily_volume/daily_volume_20160129.xlsx’ -- not retrieving.\n",
      "Remote file no newer than local file ‘ftp.cmegroup.com/pub/daily_volume/daily_volume_20160201.xlsx’ -- not retrieving.\n",
      "Remote file no newer than local file ‘ftp.cmegroup.com/pub/daily_volume/daily_volume_20160202.xlsx’ -- not retrieving.\n",
      "Remote file no newer than local file ‘ftp.cmegroup.com/pub/daily_volume/daily_volume_20160203.xlsx’ -- not retrieving.\n",
      "Remote file no newer than local file ‘ftp.cmegroup.com/pub/daily_volume/daily_volume_20160204.xlsx’ -- not retrieving.\n",
      "Remote file no newer than local file ‘ftp.cmegroup.com/pub/daily_volume/daily_volume_20160205.xlsx’ -- not retrieving.\n",
      "Remote file no newer than local file ‘ftp.cmegroup.com/pub/daily_volume/daily_volume_20160208.xlsx’ -- not retrieving.\n",
      "Remote file no newer than local file ‘ftp.cmegroup.com/pub/daily_volume/daily_volume_20160209.xlsx’ -- not retrieving.\n",
      "Remote file no newer than local file ‘ftp.cmegroup.com/pub/daily_volume/daily_volume_20160210.xlsx’ -- not retrieving.\n",
      "Remote file no newer than local file ‘ftp.cmegroup.com/pub/daily_volume/daily_volume_20160211.xlsx’ -- not retrieving.\n",
      "Remote file no newer than local file ‘ftp.cmegroup.com/pub/daily_volume/daily_volume_20160212.xlsx’ -- not retrieving.\n",
      "Remote file no newer than local file ‘ftp.cmegroup.com/pub/daily_volume/daily_volume_20160216.xlsx’ -- not retrieving.\n",
      "Remote file no newer than local file ‘ftp.cmegroup.com/pub/daily_volume/daily_volume_20160217.xlsx’ -- not retrieving.\n",
      "Remote file no newer than local file ‘ftp.cmegroup.com/pub/daily_volume/daily_volume_20160218.xlsx’ -- not retrieving.\n",
      "Remote file no newer than local file ‘ftp.cmegroup.com/pub/daily_volume/daily_volume_20160219.xlsx’ -- not retrieving.\n",
      "Remote file no newer than local file ‘ftp.cmegroup.com/pub/daily_volume/daily_volume_20160222.xlsx’ -- not retrieving.\n",
      "Remote file no newer than local file ‘ftp.cmegroup.com/pub/daily_volume/daily_volume_20160223.xlsx’ -- not retrieving.\n",
      "Remote file no newer than local file ‘ftp.cmegroup.com/pub/daily_volume/daily_volume_20160224.xlsx’ -- not retrieving.\n",
      "Remote file no newer than local file ‘ftp.cmegroup.com/pub/daily_volume/daily_volume_20160225.xlsx’ -- not retrieving.\n",
      "Remote file no newer than local file ‘ftp.cmegroup.com/pub/daily_volume/daily_volume_20160226.xlsx’ -- not retrieving.\n",
      "Remote file no newer than local file ‘ftp.cmegroup.com/pub/daily_volume/daily_volume_20160229.xlsx’ -- not retrieving.\n",
      "Remote file no newer than local file ‘ftp.cmegroup.com/pub/daily_volume/daily_volume_20160301.xlsx’ -- not retrieving.\n",
      "Remote file no newer than local file ‘ftp.cmegroup.com/pub/daily_volume/daily_volume_20160302.xlsx’ -- not retrieving.\n",
      "Remote file no newer than local file ‘ftp.cmegroup.com/pub/daily_volume/daily_volume_20160303.xlsx’ -- not retrieving.\n",
      "Remote file no newer than local file ‘ftp.cmegroup.com/pub/daily_volume/daily_volume_20160304.xlsx’ -- not retrieving.\n",
      "Remote file no newer than local file ‘ftp.cmegroup.com/pub/daily_volume/daily_volume_20160307.xlsx’ -- not retrieving.\n",
      "Remote file no newer than local file ‘ftp.cmegroup.com/pub/daily_volume/daily_volume_20160308.xlsx’ -- not retrieving.\n",
      "Remote file no newer than local file ‘ftp.cmegroup.com/pub/daily_volume/daily_volume_20160309.xlsx’ -- not retrieving.\n",
      "Remote file no newer than local file ‘ftp.cmegroup.com/pub/daily_volume/daily_volume_20160310.xlsx’ -- not retrieving.\n",
      "Remote file no newer than local file ‘ftp.cmegroup.com/pub/daily_volume/daily_volume_20160311.xlsx’ -- not retrieving.\n",
      "Remote file no newer than local file ‘ftp.cmegroup.com/pub/daily_volume/daily_volume_20160314.xlsx’ -- not retrieving.\n",
      "Remote file no newer than local file ‘ftp.cmegroup.com/pub/daily_volume/daily_volume_20160315.xlsx’ -- not retrieving.\n",
      "Remote file no newer than local file ‘ftp.cmegroup.com/pub/daily_volume/daily_volume_20160316.xlsx’ -- not retrieving.\n",
      "Remote file no newer than local file ‘ftp.cmegroup.com/pub/daily_volume/daily_volume_20160317.xlsx’ -- not retrieving.\n",
      "Remote file no newer than local file ‘ftp.cmegroup.com/pub/daily_volume/daily_volume_20160318.xlsx’ -- not retrieving.\n",
      "Remote file no newer than local file ‘ftp.cmegroup.com/pub/daily_volume/daily_volume_20160321.xlsx’ -- not retrieving.\n",
      "Remote file no newer than local file ‘ftp.cmegroup.com/pub/daily_volume/daily_volume_20160322.xlsx’ -- not retrieving.\n",
      "Remote file no newer than local file ‘ftp.cmegroup.com/pub/daily_volume/daily_volume_20160323.xlsx’ -- not retrieving.\n",
      "Remote file no newer than local file ‘ftp.cmegroup.com/pub/daily_volume/daily_volume_20160324.xlsx’ -- not retrieving.\n",
      "Remote file no newer than local file ‘ftp.cmegroup.com/pub/daily_volume/daily_volume_20160328.xlsx’ -- not retrieving.\n",
      "Remote file no newer than local file ‘ftp.cmegroup.com/pub/daily_volume/daily_volume_20160329.xlsx’ -- not retrieving.\n",
      "Remote file no newer than local file ‘ftp.cmegroup.com/pub/daily_volume/daily_volume_20160330.xlsx’ -- not retrieving.\n",
      "Remote file no newer than local file ‘ftp.cmegroup.com/pub/daily_volume/daily_volume_20160331.xlsx’ -- not retrieving.\n",
      "Remote file no newer than local file ‘ftp.cmegroup.com/pub/daily_volume/daily_volume_20160401.xlsx’ -- not retrieving.\n",
      "Remote file no newer than local file ‘ftp.cmegroup.com/pub/daily_volume/daily_volume_20160404.xlsx’ -- not retrieving.\n",
      "Remote file no newer than local file ‘ftp.cmegroup.com/pub/daily_volume/daily_volume_20160405.xlsx’ -- not retrieving.\n",
      "Remote file no newer than local file ‘ftp.cmegroup.com/pub/daily_volume/daily_volume_20160406.xlsx’ -- not retrieving.\n",
      "Remote file no newer than local file ‘ftp.cmegroup.com/pub/daily_volume/daily_volume_20160407.xlsx’ -- not retrieving.\n",
      "Remote file no newer than local file ‘ftp.cmegroup.com/pub/daily_volume/daily_volume_20160408.xlsx’ -- not retrieving.\n",
      "Remote file no newer than local file ‘ftp.cmegroup.com/pub/daily_volume/daily_volume_20160411.xlsx’ -- not retrieving.\n",
      "Remote file no newer than local file ‘ftp.cmegroup.com/pub/daily_volume/daily_volume_20160412.xlsx’ -- not retrieving.\n",
      "Remote file no newer than local file ‘ftp.cmegroup.com/pub/daily_volume/daily_volume_20160413.xlsx’ -- not retrieving.\n",
      "Remote file no newer than local file ‘ftp.cmegroup.com/pub/daily_volume/daily_volume_20160414.xlsx’ -- not retrieving.\n",
      "Remote file no newer than local file ‘ftp.cmegroup.com/pub/daily_volume/daily_volume_20160415.xlsx’ -- not retrieving.\n",
      "Remote file no newer than local file ‘ftp.cmegroup.com/pub/daily_volume/daily_volume_20160418.xlsx’ -- not retrieving.\n",
      "Remote file no newer than local file ‘ftp.cmegroup.com/pub/daily_volume/daily_volume_20160419.xlsx’ -- not retrieving.\n",
      "Remote file no newer than local file ‘ftp.cmegroup.com/pub/daily_volume/daily_volume_20160420.xlsx’ -- not retrieving.\n",
      "Remote file no newer than local file ‘ftp.cmegroup.com/pub/daily_volume/daily_volume_20160421.xlsx’ -- not retrieving.\n",
      "Remote file no newer than local file ‘ftp.cmegroup.com/pub/daily_volume/daily_volume_20160422.xlsx’ -- not retrieving.\n",
      "Remote file no newer than local file ‘ftp.cmegroup.com/pub/daily_volume/daily_volume_20160425.xlsx’ -- not retrieving.\n",
      "Remote file no newer than local file ‘ftp.cmegroup.com/pub/daily_volume/daily_volume_20160426.xlsx’ -- not retrieving.\n",
      "Remote file no newer than local file ‘ftp.cmegroup.com/pub/daily_volume/daily_volume_20160427.xlsx’ -- not retrieving.\n",
      "Remote file no newer than local file ‘ftp.cmegroup.com/pub/daily_volume/daily_volume_20160428.xlsx’ -- not retrieving.\n",
      "Remote file no newer than local file ‘ftp.cmegroup.com/pub/daily_volume/daily_volume_20160429.xlsx’ -- not retrieving.\n",
      "Remote file no newer than local file ‘ftp.cmegroup.com/pub/daily_volume/daily_volume_20160502.xlsx’ -- not retrieving.\n",
      "Remote file no newer than local file ‘ftp.cmegroup.com/pub/daily_volume/daily_volume_20160503.xlsx’ -- not retrieving.\n",
      "Remote file no newer than local file ‘ftp.cmegroup.com/pub/daily_volume/daily_volume_20160504.xlsx’ -- not retrieving.\n",
      "Remote file no newer than local file ‘ftp.cmegroup.com/pub/daily_volume/daily_volume_20160505.xlsx’ -- not retrieving.\n",
      "Remote file no newer than local file ‘ftp.cmegroup.com/pub/daily_volume/daily_volume_20160506.xlsx’ -- not retrieving.\n",
      "Remote file no newer than local file ‘ftp.cmegroup.com/pub/daily_volume/daily_volume_20160509.xlsx’ -- not retrieving.\n",
      "Remote file no newer than local file ‘ftp.cmegroup.com/pub/daily_volume/daily_volume_20160510.xlsx’ -- not retrieving.\n",
      "Remote file no newer than local file ‘ftp.cmegroup.com/pub/daily_volume/daily_volume_20160511.xlsx’ -- not retrieving.\n",
      "Remote file no newer than local file ‘ftp.cmegroup.com/pub/daily_volume/daily_volume_20160512.xlsx’ -- not retrieving.\n",
      "Remote file no newer than local file ‘ftp.cmegroup.com/pub/daily_volume/daily_volume_20160513.xlsx’ -- not retrieving.\n",
      "Remote file no newer than local file ‘ftp.cmegroup.com/pub/daily_volume/daily_volume_20160516.xlsx’ -- not retrieving.\n",
      "Remote file no newer than local file ‘ftp.cmegroup.com/pub/daily_volume/daily_volume_20160517.xlsx’ -- not retrieving.\n",
      "Remote file no newer than local file ‘ftp.cmegroup.com/pub/daily_volume/daily_volume_20160518.xlsx’ -- not retrieving.\n",
      "Remote file no newer than local file ‘ftp.cmegroup.com/pub/daily_volume/daily_volume_20160519.xlsx’ -- not retrieving.\n",
      "Remote file no newer than local file ‘ftp.cmegroup.com/pub/daily_volume/daily_volume_20160520.xlsx’ -- not retrieving.\n",
      "Remote file no newer than local file ‘ftp.cmegroup.com/pub/daily_volume/daily_volume_20160523.xlsx’ -- not retrieving.\n",
      "Remote file no newer than local file ‘ftp.cmegroup.com/pub/daily_volume/daily_volume_20160524.xlsx’ -- not retrieving.\n",
      "Remote file no newer than local file ‘ftp.cmegroup.com/pub/daily_volume/daily_volume_20160525.xlsx’ -- not retrieving.\n",
      "Remote file no newer than local file ‘ftp.cmegroup.com/pub/daily_volume/daily_volume_20160526.xlsx’ -- not retrieving.\n",
      "Remote file no newer than local file ‘ftp.cmegroup.com/pub/daily_volume/daily_volume_20160527.xlsx’ -- not retrieving.\n",
      "Remote file no newer than local file ‘ftp.cmegroup.com/pub/daily_volume/daily_volume_20160531.xlsx’ -- not retrieving.\n",
      "Remote file no newer than local file ‘ftp.cmegroup.com/pub/daily_volume/daily_volume_20160601.xlsx’ -- not retrieving.\n",
      "Remote file no newer than local file ‘ftp.cmegroup.com/pub/daily_volume/daily_volume_20160602.xlsx’ -- not retrieving.\n",
      "Remote file no newer than local file ‘ftp.cmegroup.com/pub/daily_volume/daily_volume_20160603.xlsx’ -- not retrieving.\n",
      "Remote file no newer than local file ‘ftp.cmegroup.com/pub/daily_volume/daily_volume_20160606.xlsx’ -- not retrieving.\n",
      "Remote file no newer than local file ‘ftp.cmegroup.com/pub/daily_volume/daily_volume_20160607.xlsx’ -- not retrieving.\n",
      "Remote file no newer than local file ‘ftp.cmegroup.com/pub/daily_volume/daily_volume_20160608.xlsx’ -- not retrieving.\n",
      "Remote file no newer than local file ‘ftp.cmegroup.com/pub/daily_volume/daily_volume_20160609.xlsx’ -- not retrieving.\n",
      "Remote file no newer than local file ‘ftp.cmegroup.com/pub/daily_volume/daily_volume_20160610.xlsx’ -- not retrieving.\n",
      "Remote file no newer than local file ‘ftp.cmegroup.com/pub/daily_volume/daily_volume_20160613.xlsx’ -- not retrieving.\n",
      "Remote file no newer than local file ‘ftp.cmegroup.com/pub/daily_volume/daily_volume_20160614.xlsx’ -- not retrieving.\n",
      "Remote file no newer than local file ‘ftp.cmegroup.com/pub/daily_volume/daily_volume_20160615.xlsx’ -- not retrieving.\n",
      "Remote file no newer than local file ‘ftp.cmegroup.com/pub/daily_volume/daily_volume_20160616.xlsx’ -- not retrieving.\n",
      "Remote file no newer than local file ‘ftp.cmegroup.com/pub/daily_volume/daily_volume_20160617.xlsx’ -- not retrieving.\n",
      "Remote file no newer than local file ‘ftp.cmegroup.com/pub/daily_volume/daily_volume_20160620.xlsx’ -- not retrieving.\n",
      "Remote file no newer than local file ‘ftp.cmegroup.com/pub/daily_volume/daily_volume_20160621.xlsx’ -- not retrieving.\n",
      "Remote file no newer than local file ‘ftp.cmegroup.com/pub/daily_volume/daily_volume_20160622.xlsx’ -- not retrieving.\n",
      "Remote file no newer than local file ‘ftp.cmegroup.com/pub/daily_volume/daily_volume_20160623.xlsx’ -- not retrieving.\n",
      "Remote file no newer than local file ‘ftp.cmegroup.com/pub/daily_volume/daily_volume_20160624.xlsx’ -- not retrieving.\n",
      "Remote file no newer than local file ‘ftp.cmegroup.com/pub/daily_volume/daily_volume_20160627.xlsx’ -- not retrieving.\n",
      "Remote file no newer than local file ‘ftp.cmegroup.com/pub/daily_volume/daily_volume_20160628.xlsx’ -- not retrieving.\n",
      "Remote file no newer than local file ‘ftp.cmegroup.com/pub/daily_volume/daily_volume_20160629.xlsx’ -- not retrieving.\n",
      "Remote file no newer than local file ‘ftp.cmegroup.com/pub/daily_volume/daily_volume_20160630.xlsx’ -- not retrieving.\n",
      "Remote file no newer than local file ‘ftp.cmegroup.com/pub/daily_volume/daily_volume_20160701.xlsx’ -- not retrieving.\n",
      "Remote file no newer than local file ‘ftp.cmegroup.com/pub/daily_volume/daily_volume_20160705.xlsx’ -- not retrieving.\n",
      "Remote file no newer than local file ‘ftp.cmegroup.com/pub/daily_volume/daily_volume_20160706.xlsx’ -- not retrieving.\n",
      "Remote file no newer than local file ‘ftp.cmegroup.com/pub/daily_volume/daily_volume_20160707.xlsx’ -- not retrieving.\n",
      "Remote file no newer than local file ‘ftp.cmegroup.com/pub/daily_volume/daily_volume_20160708.xlsx’ -- not retrieving.\n",
      "Remote file no newer than local file ‘ftp.cmegroup.com/pub/daily_volume/daily_volume_20160711.xlsx’ -- not retrieving.\n",
      "Remote file no newer than local file ‘ftp.cmegroup.com/pub/daily_volume/daily_volume_20160712.xlsx’ -- not retrieving.\n",
      "Remote file no newer than local file ‘ftp.cmegroup.com/pub/daily_volume/daily_volume_20160713.xlsx’ -- not retrieving.\n",
      "Remote file no newer than local file ‘ftp.cmegroup.com/pub/daily_volume/daily_volume_20160714.xlsx’ -- not retrieving.\n",
      "Remote file no newer than local file ‘ftp.cmegroup.com/pub/daily_volume/daily_volume_20160715.xlsx’ -- not retrieving.\n",
      "Remote file no newer than local file ‘ftp.cmegroup.com/pub/daily_volume/daily_volume_20160718.xlsx’ -- not retrieving.\n",
      "Remote file no newer than local file ‘ftp.cmegroup.com/pub/daily_volume/daily_volume_20160719.xlsx’ -- not retrieving.\n",
      "Remote file no newer than local file ‘ftp.cmegroup.com/pub/daily_volume/daily_volume_20160720.xlsx’ -- not retrieving.\n",
      "Remote file no newer than local file ‘ftp.cmegroup.com/pub/daily_volume/daily_volume_20160721.xlsx’ -- not retrieving.\n",
      "Remote file no newer than local file ‘ftp.cmegroup.com/pub/daily_volume/daily_volume_20160722.xlsx’ -- not retrieving.\n",
      "Remote file no newer than local file ‘ftp.cmegroup.com/pub/daily_volume/daily_volume_20160725.xlsx’ -- not retrieving.\n",
      "Remote file no newer than local file ‘ftp.cmegroup.com/pub/daily_volume/daily_volume_20160726.xlsx’ -- not retrieving.\n",
      "Remote file no newer than local file ‘ftp.cmegroup.com/pub/daily_volume/daily_volume_20160727.xlsx’ -- not retrieving.\n",
      "Remote file no newer than local file ‘ftp.cmegroup.com/pub/daily_volume/daily_volume_20160728.xlsx’ -- not retrieving.\n",
      "Remote file no newer than local file ‘ftp.cmegroup.com/pub/daily_volume/daily_volume_20160729.xlsx’ -- not retrieving.\n",
      "Remote file no newer than local file ‘ftp.cmegroup.com/pub/daily_volume/daily_volume_20160801.xlsx’ -- not retrieving.\n",
      "Remote file no newer than local file ‘ftp.cmegroup.com/pub/daily_volume/daily_volume_20160802.xlsx’ -- not retrieving.\n",
      "Remote file no newer than local file ‘ftp.cmegroup.com/pub/daily_volume/daily_volume_20160803.xlsx’ -- not retrieving.\n",
      "Remote file no newer than local file ‘ftp.cmegroup.com/pub/daily_volume/daily_volume_20160804.xlsx’ -- not retrieving.\n",
      "Remote file no newer than local file ‘ftp.cmegroup.com/pub/daily_volume/daily_volume_20160805.xlsx’ -- not retrieving.\n",
      "Remote file no newer than local file ‘ftp.cmegroup.com/pub/daily_volume/daily_volume_20160808.xlsx’ -- not retrieving.\n",
      "Remote file no newer than local file ‘ftp.cmegroup.com/pub/daily_volume/daily_volume_20160809.xlsx’ -- not retrieving.\n",
      "Remote file no newer than local file ‘ftp.cmegroup.com/pub/daily_volume/daily_volume_20160810.xlsx’ -- not retrieving.\n",
      "Remote file no newer than local file ‘ftp.cmegroup.com/pub/daily_volume/daily_volume_20160811.xlsx’ -- not retrieving.\n",
      "Remote file no newer than local file ‘ftp.cmegroup.com/pub/daily_volume/daily_volume_20160812.xlsx’ -- not retrieving.\n",
      "Remote file no newer than local file ‘ftp.cmegroup.com/pub/daily_volume/daily_volume_20160815.xlsx’ -- not retrieving.\n",
      "Remote file no newer than local file ‘ftp.cmegroup.com/pub/daily_volume/daily_volume_20160816.xlsx’ -- not retrieving.\n",
      "Remote file no newer than local file ‘ftp.cmegroup.com/pub/daily_volume/daily_volume_20160817.xlsx’ -- not retrieving.\n",
      "Remote file no newer than local file ‘ftp.cmegroup.com/pub/daily_volume/daily_volume_20160818.xlsx’ -- not retrieving.\n",
      "Remote file no newer than local file ‘ftp.cmegroup.com/pub/daily_volume/daily_volume_20160819.xlsx’ -- not retrieving.\n",
      "Remote file no newer than local file ‘ftp.cmegroup.com/pub/daily_volume/daily_volume_20160822.xlsx’ -- not retrieving.\n",
      "Remote file no newer than local file ‘ftp.cmegroup.com/pub/daily_volume/daily_volume_20160823.xlsx’ -- not retrieving.\n",
      "Remote file is newer than local file ‘ftp.cmegroup.com/pub/daily_volume/daily_volume_20160824.xlsx’ -- retrieving.\n",
      "\n",
      "--2016-08-25 17:07:31--  ftp://ftp.cmegroup.com/pub/daily_volume/daily_volume_20160824.xlsx\n",
      "           => ‘ftp.cmegroup.com/pub/daily_volume/daily_volume_20160824.xlsx’\n",
      "==> CWD not required.\n",
      "==> PASV ... done.    ==> RETR daily_volume_20160824.xlsx ... done.\n",
      "Length: 73469 (72K)\n",
      "\n",
      "ftp.cmegroup.com/pu 100%[===================>]  71.75K  --.-KB/s    in 0.1s    \n",
      "\n",
      "2016-08-25 17:07:32 (503 KB/s) - ‘ftp.cmegroup.com/pub/daily_volume/daily_volume_20160824.xlsx’ saved [73469]\n",
      "\n",
      "--2016-08-25 17:07:32--  ftp://ftp.cmegroup.com/pub/daily_volume/datasuite/\n",
      "           => ‘ftp.cmegroup.com/pub/daily_volume/datasuite/.listing’\n",
      "==> CWD (1) /pub/daily_volume/datasuite ... done.\n",
      "==> PASV ... done.    ==> LIST ... done.\n",
      "\n",
      "ftp.cmegroup.com/pu     [ <=>                ]     119  --.-KB/s    in 0.003s  \n",
      "\n",
      "2016-08-25 17:07:32 (43.2 KB/s) - ‘ftp.cmegroup.com/pub/daily_volume/datasuite/.listing’ saved [119]\n",
      "\n",
      "Removed ‘ftp.cmegroup.com/pub/daily_volume/datasuite/.listing’.\n",
      "--2016-08-25 17:07:32--  ftp://ftp.cmegroup.com/pub/daily_volume/sef/\n",
      "           => ‘ftp.cmegroup.com/pub/daily_volume/sef/.listing’\n",
      "==> CWD (1) /pub/daily_volume/sef ... done.\n",
      "==> PASV ... done.    ==> LIST ... done.\n",
      "\n",
      "ftp.cmegroup.com/pu     [ <=>                ]     205  --.-KB/s    in 0.004s  \n",
      "\n",
      "2016-08-25 17:07:32 (48.1 KB/s) - ‘ftp.cmegroup.com/pub/daily_volume/sef/.listing’ saved [205]\n",
      "\n",
      "Removed ‘ftp.cmegroup.com/pub/daily_volume/sef/.listing’.\n",
      "Rejecting ‘sef_volume_price_extract.csv’.\n",
      "FINISHED --2016-08-25 17:07:32--\n",
      "Total wall clock time: 4.8s\n",
      "Downloaded: 1 files, 72K in 0.6s (119 KB/s)\n"
     ]
    }
   ],
   "source": [
    "!wget -r -N -A xlsx ftp://ftp.cmegroup.com/pub/daily_volume/"
   ]
  },
  {
   "cell_type": "code",
   "execution_count": 8,
   "metadata": {
    "collapsed": false
   },
   "outputs": [
    {
     "data": {
      "text/plain": [
       "'/home/brett/Dropbox/CMEResearch'"
      ]
     },
     "execution_count": 8,
     "metadata": {},
     "output_type": "execute_result"
    }
   ],
   "source": [
    "%pwd"
   ]
  },
  {
   "cell_type": "code",
   "execution_count": 9,
   "metadata": {
    "collapsed": false
   },
   "outputs": [
    {
     "name": "stdout",
     "output_type": "stream",
     "text": [
      "/home/brett/Dropbox/CMEResearch/ftp.cmegroup.com/pub/daily_volume\n"
     ]
    }
   ],
   "source": [
    "%cd /home/brett/Dropbox/CMEResearch/ftp.cmegroup.com/pub/daily_volume/"
   ]
  },
  {
   "cell_type": "code",
   "execution_count": 12,
   "metadata": {
    "collapsed": false
   },
   "outputs": [],
   "source": [
    "path = os.getcwd()"
   ]
  },
  {
   "cell_type": "code",
   "execution_count": 13,
   "metadata": {
    "collapsed": false
   },
   "outputs": [],
   "source": [
    "files = os.listdir(path)"
   ]
  },
  {
   "cell_type": "code",
   "execution_count": 14,
   "metadata": {
    "collapsed": false
   },
   "outputs": [],
   "source": [
    "files_xls = [f for f in files if f[-4:] == 'xlsx']"
   ]
  },
  {
   "cell_type": "code",
   "execution_count": 15,
   "metadata": {
    "collapsed": true
   },
   "outputs": [],
   "source": [
    "df = pd.DataFrame()"
   ]
  },
  {
   "cell_type": "code",
   "execution_count": 16,
   "metadata": {
    "collapsed": false
   },
   "outputs": [],
   "source": [
    "ff = files_xls[1:10]"
   ]
  },
  {
   "cell_type": "code",
   "execution_count": 17,
   "metadata": {
    "collapsed": false
   },
   "outputs": [],
   "source": [
    "for f in files_xls:\n",
    "    data = pd.read_excel(f, 'CME Group Vol and OI by Product',skiprows=2)\n",
    "    data['Date'] = f\n",
    "    df = df.append(data)"
   ]
  },
  {
   "cell_type": "code",
   "execution_count": 177,
   "metadata": {
    "collapsed": false
   },
   "outputs": [
    {
     "data": {
      "text/plain": [
       "(649412, 30)"
      ]
     },
     "execution_count": 177,
     "metadata": {},
     "output_type": "execute_result"
    }
   ],
   "source": [
    "df.shape"
   ]
  },
  {
   "cell_type": "code",
   "execution_count": 178,
   "metadata": {
    "collapsed": true
   },
   "outputs": [],
   "source": [
    "df1 = df[['* Open\\nInterest ', '**Total\\nVolume', 'CME® \\nGlobex® \\nVolume',\n",
    "       'Commodity Indicator', 'Date', 'Description', 'ExPit\\nVolume',\n",
    "       'Exchange Name', 'Future/Option Indicator', 'MTD ADV', 'OTC Volume',\n",
    "       'Pit\\nVolume', 'Product Description']]"
   ]
  },
  {
   "cell_type": "code",
   "execution_count": 179,
   "metadata": {
    "collapsed": false
   },
   "outputs": [
    {
     "data": {
      "text/plain": [
       "array(['Chicago Mercantile Exchange (STATS)',\n",
       "       'Chicago Board of Trade (STATS)', 'NYMEX(STATS)',\n",
       "       'CME Group OTC (STATS)', 'COMEX(STATS)', nan, 'CME Exchange Europe'], dtype=object)"
      ]
     },
     "execution_count": 179,
     "metadata": {},
     "output_type": "execute_result"
    }
   ],
   "source": [
    "df1['Exchange Name'].unique()"
   ]
  },
  {
   "cell_type": "code",
   "execution_count": 180,
   "metadata": {
    "collapsed": false
   },
   "outputs": [
    {
     "data": {
      "text/plain": [
       "Index(['* Open\\nInterest ', '**Total\\nVolume', 'CME® \\nGlobex® \\nVolume',\n",
       "       'Commodity Indicator', 'Date', 'Description', 'ExPit\\nVolume',\n",
       "       'Exchange Name', 'Future/Option Indicator', 'MTD ADV', 'OTC Volume',\n",
       "       'Pit\\nVolume', 'Product Description'],\n",
       "      dtype='object')"
      ]
     },
     "execution_count": 180,
     "metadata": {},
     "output_type": "execute_result"
    }
   ],
   "source": [
    "df1.columns"
   ]
  },
  {
   "cell_type": "code",
   "execution_count": 181,
   "metadata": {
    "collapsed": false,
    "scrolled": true
   },
   "outputs": [],
   "source": [
    "cbot = df1[df1['Exchange Name'] == 'Chicago Board of Trade (STATS)']"
   ]
  },
  {
   "cell_type": "code",
   "execution_count": 162,
   "metadata": {
    "collapsed": false
   },
   "outputs": [
    {
     "data": {
      "text/plain": [
       "array(['INTEREST RATES', 'EQUITY INDEX', 'ENERGY', 'COMM & ALT INVST'], dtype=object)"
      ]
     },
     "execution_count": 162,
     "metadata": {},
     "output_type": "execute_result"
    }
   ],
   "source": [
    "cbot.Description.unique()"
   ]
  },
  {
   "cell_type": "code",
   "execution_count": 163,
   "metadata": {
    "collapsed": true
   },
   "outputs": [],
   "source": [
    "comm = cbot[cbot['Exchange Name'] == 'COMM & ALT INVST']"
   ]
  },
  {
   "cell_type": "code",
   "execution_count": 183,
   "metadata": {
    "collapsed": false
   },
   "outputs": [
    {
     "data": {
      "text/plain": [
       "(78525, 13)"
      ]
     },
     "execution_count": 183,
     "metadata": {},
     "output_type": "execute_result"
    }
   ],
   "source": [
    "cbot.shape"
   ]
  },
  {
   "cell_type": "code",
   "execution_count": 184,
   "metadata": {
    "collapsed": false,
    "scrolled": true
   },
   "outputs": [
    {
     "name": "stdout",
     "output_type": "stream",
     "text": [
      "/home/brett/Dropbox/CMEResearch/Aggregrated\n"
     ]
    }
   ],
   "source": [
    "%cd Aggregrated"
   ]
  },
  {
   "cell_type": "code",
   "execution_count": 185,
   "metadata": {
    "collapsed": false
   },
   "outputs": [],
   "source": [
    "writer = pd.ExcelWriter('CBOTAggregrated.xlsx')\n",
    "df.to_excel(writer,'Sheet1')\n",
    "writer.save()"
   ]
  }
 ],
 "metadata": {
  "anaconda-cloud": {},
  "kernelspec": {
   "display_name": "Python [Root]",
   "language": "python",
   "name": "Python [Root]"
  },
  "language_info": {
   "codemirror_mode": {
    "name": "ipython",
    "version": 3
   },
   "file_extension": ".py",
   "mimetype": "text/x-python",
   "name": "python",
   "nbconvert_exporter": "python",
   "pygments_lexer": "ipython3",
   "version": "3.5.2"
  }
 },
 "nbformat": 4,
 "nbformat_minor": 0
}
