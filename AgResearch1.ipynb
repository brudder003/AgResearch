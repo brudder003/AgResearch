{
 "cells": [
  {
   "cell_type": "code",
   "execution_count": 2,
   "metadata": {
    "collapsed": false
   },
   "outputs": [
    {
     "data": {
      "text/html": [
       "\n",
       "    <div class=\"bk-banner\">\n",
       "        <a href=\"http://bokeh.pydata.org\" target=\"_blank\" class=\"bk-logo bk-logo-small bk-logo-notebook\"></a>\n",
       "        <span id=\"92581c77-6d23-4955-8d75-8fc98909c407\">Loading BokehJS ...</span>\n",
       "    </div>"
      ]
     },
     "metadata": {},
     "output_type": "display_data"
    },
    {
     "data": {
      "application/javascript": [
       "\n",
       "(function(global) {\n",
       "  function now() {\n",
       "    return new Date();\n",
       "  }\n",
       "\n",
       "  if (typeof (window._bokeh_onload_callbacks) === \"undefined\") {\n",
       "    window._bokeh_onload_callbacks = [];\n",
       "  }\n",
       "\n",
       "  function run_callbacks() {\n",
       "    window._bokeh_onload_callbacks.forEach(function(callback) { callback() });\n",
       "    delete window._bokeh_onload_callbacks\n",
       "    console.info(\"Bokeh: all callbacks have finished\");\n",
       "  }\n",
       "\n",
       "  function load_libs(js_urls, callback) {\n",
       "    window._bokeh_onload_callbacks.push(callback);\n",
       "    if (window._bokeh_is_loading > 0) {\n",
       "      console.log(\"Bokeh: BokehJS is being loaded, scheduling callback at\", now());\n",
       "      return null;\n",
       "    }\n",
       "    if (js_urls == null || js_urls.length === 0) {\n",
       "      run_callbacks();\n",
       "      return null;\n",
       "    }\n",
       "    console.log(\"Bokeh: BokehJS not loaded, scheduling load and callback at\", now());\n",
       "    window._bokeh_is_loading = js_urls.length;\n",
       "    for (var i = 0; i < js_urls.length; i++) {\n",
       "      var url = js_urls[i];\n",
       "      var s = document.createElement('script');\n",
       "      s.src = url;\n",
       "      s.async = false;\n",
       "      s.onreadystatechange = s.onload = function() {\n",
       "        window._bokeh_is_loading--;\n",
       "        if (window._bokeh_is_loading === 0) {\n",
       "          console.log(\"Bokeh: all BokehJS libraries loaded\");\n",
       "          run_callbacks()\n",
       "        }\n",
       "      };\n",
       "      s.onerror = function() {\n",
       "        console.warn(\"failed to load library \" + url);\n",
       "      };\n",
       "      console.log(\"Bokeh: injecting script tag for BokehJS library: \", url);\n",
       "      document.getElementsByTagName(\"head\")[0].appendChild(s);\n",
       "    }\n",
       "  };\n",
       "\n",
       "  var js_urls = ['https://cdn.pydata.org/bokeh/release/bokeh-0.11.1.min.js', 'https://cdn.pydata.org/bokeh/release/bokeh-widgets-0.11.1.min.js', 'https://cdn.pydata.org/bokeh/release/bokeh-compiler-0.11.1.min.js'];\n",
       "\n",
       "  var inline_js = [\n",
       "    function(Bokeh) {\n",
       "      Bokeh.set_log_level(\"info\");\n",
       "    },\n",
       "    \n",
       "    function(Bokeh) {\n",
       "      Bokeh.$(\"#92581c77-6d23-4955-8d75-8fc98909c407\").text(\"BokehJS successfully loaded\");\n",
       "    },\n",
       "    function(Bokeh) {\n",
       "      console.log(\"Bokeh: injecting CSS: https://cdn.pydata.org/bokeh/release/bokeh-0.11.1.min.css\");\n",
       "      Bokeh.embed.inject_css(\"https://cdn.pydata.org/bokeh/release/bokeh-0.11.1.min.css\");\n",
       "      console.log(\"Bokeh: injecting CSS: https://cdn.pydata.org/bokeh/release/bokeh-widgets-0.11.1.min.css\");\n",
       "      Bokeh.embed.inject_css(\"https://cdn.pydata.org/bokeh/release/bokeh-widgets-0.11.1.min.css\");\n",
       "    }\n",
       "  ];\n",
       "\n",
       "  function run_inline_js() {\n",
       "    for (var i = 0; i < inline_js.length; i++) {\n",
       "      inline_js[i](window.Bokeh);\n",
       "    }\n",
       "  }\n",
       "\n",
       "  if (window._bokeh_is_loading === 0) {\n",
       "    console.log(\"Bokeh: BokehJS loaded, going straight to plotting\");\n",
       "    run_inline_js();\n",
       "  } else {\n",
       "    load_libs(js_urls, function() {\n",
       "      console.log(\"Bokeh: BokehJS plotting callback run at\", now());\n",
       "      run_inline_js();\n",
       "    });\n",
       "  }\n",
       "}(this));"
      ]
     },
     "metadata": {},
     "output_type": "display_data"
    }
   ],
   "source": [
    "import quandl\n",
    "from datetime import date\n",
    "from bokeh.charts import Bar\n",
    "from bokeh.io import output_notebook, show, vform\n",
    "output_notebook()\n",
    "from pandas import ExcelWriter"
   ]
  },
  {
   "cell_type": "markdown",
   "metadata": {},
   "source": [
    "__plan and notes__\n",
    "\n",
    "- get physical volume from USDA convert to contracts\n",
    "\n",
    "- calc total volume traded last year divided by phy volume\n",
    "\n",
    "- calc average OI for the year divide by phys volume\n",
    "\n",
    "- if possible, calc total deliveries for the year divide by phys volume\n",
    "\n",
    "do 1. 2. 3. for producer/merchant/processor\n",
    "\n",
    "Notes:\n",
    "\n",
    "- [oats specs](www.cmegroup.com/trading/agricultural/grain-and-oilseed/oats_contract_specifications.html)\n",
    "- cot dataset titles like \"Commitment of Traders - Oats - Futures Only\"\n",
    " - dept of ag NASS dataset titles like \"Oats - Production, Measured In Bu\"\n",
    "\n",
    "- [CME contract specs](http://www.cmegroup.com/trading/agricultural/grain-and-oilseed/oats_contract_specifications.html) example\n",
    "\n",
    "- Some of the 2015 crop data is missing, I'm filling in 2015 with infromation form this pdf, i dont know why 2015 isnt online yet, but other years are the same in this report as the dataset. [\"Crop Production 2015 Summary\"](http://www.usda.gov/nass/PUBS/TODAYRPT/cropan16.pdf) [didnt end up doing this but could be done in future revision]\n",
    "    \n",
    "- 3,929,885 - 2015 Soybeans\n"
   ]
  },
  {
   "cell_type": "markdown",
   "metadata": {},
   "source": [
    "__Set up and Pull data__"
   ]
  },
  {
   "cell_type": "code",
   "execution_count": 3,
   "metadata": {
    "collapsed": true
   },
   "outputs": [],
   "source": [
    "#SET UP FOR QUANDL PULL\n",
    "\n",
    "#volume is from wiki continous futures\n",
    "# .7 is the volume column\n",
    "Volume_codes = [\"CHRIS/CME_O1.7\", #oats 1\n",
    "            \"CHRIS/CME_O2.7\", #oats 2\n",
    "            \"CHRIS/CME_O3.7\", #oats 3 \n",
    "                \n",
    "            \"CHRIS/CME_S1.7\", #soybean 1\n",
    "            \"CHRIS/CME_S2.7\", #soybean 2\n",
    "            \"CHRIS/CME_S3.7\", #soybean 3\n",
    "            \"CHRIS/CME_S4.7\", #soybean 4\n",
    "            \"CHRIS/CME_S5.7\", #soybean 5\n",
    "            \"CHRIS/CME_S6.7\", #soybean 6\n",
    "            \"CHRIS/CME_S7.7\", #soybean 7\n",
    "            \"CHRIS/CME_S8.7\", #soybean 8\n",
    "            \"CHRIS/CME_S9.7\", #soybean 9\n",
    "            \"CHRIS/CME_S10.7\", #soybean 10\n",
    "            \n",
    "            \"CHRIS/CME_C1.7\", #corn 1\n",
    "            \"CHRIS/CME_C2.7\", #corn 2\n",
    "            \"CHRIS/CME_C3.7\", #corn 3\n",
    "            \"CHRIS/CME_C4.7\", #corn 4\n",
    "            \"CHRIS/CME_C5.7\", #corn 5\n",
    "            \"CHRIS/CME_C6.7\", #corn 6\n",
    "            \"CHRIS/CME_C7.7\", #corn 7\n",
    "            \"CHRIS/CME_C8.7\", #corn 8\n",
    "            \"CHRIS/CME_C9.7\", #corn 9\n",
    "            \"CHRIS/CME_C10.7\", #corn 10\n",
    "                \n",
    "            \"CHRIS/CME_W1.7\", #Wheat (all KC) 1\n",
    "            \"CHRIS/CME_W2.7\", #Wheat 2\n",
    "            \"CHRIS/CME_W3.7\", #Wheat 3\n",
    "            \"CHRIS/CME_W4.7\", #Wheat 4\n",
    "            \"CHRIS/CME_W5.7\", #Wheat 5\n",
    "            \"CHRIS/CME_W6.7\", #Wheat 6\n",
    "            \"CHRIS/CME_W7.7\", #Wheat 7\n",
    "            \"CHRIS/CME_W8.7\", #Wheat 8\n",
    "\n",
    "            \"CHRIS/CME_RR1.7\", #rice 1\n",
    "            \"CHRIS/CME_RR2.7\", #rice 2\n",
    "            \"CHRIS/CME_RR3.7\", #rice 3       \n",
    "           ]\n",
    "\n",
    "#oi from COT\n",
    "OI_codes = [\"CFTC/O_F_ALL\", #oats\n",
    "            \"CFTC/S_F_ALL\", #soybean\n",
    "            \"CFTC/C_F_ALL\", #corn\n",
    "            \"CFTC/W_F_ALL\", #wheat\n",
    "            \"CFTC/RR_F_ALL\", #rice\n",
    "           ]\n",
    "\n",
    "#production from USDA NASS (National Ag Stats Service)\n",
    "Prod_codes = [\"USDANASS/NASS_OATSPRODUCTIONMEASUREDINBU\", #oats\n",
    "              \"USDANASS/NASS_SOYBEANSPRODUCTIONMEASUREDINBU\", #soybean\n",
    "              \"USDANASS/NASS_CORNGRAINPRODUCTIONMEASUREDINBU\", #corn\n",
    "              \"USDANASS/NASS_WHEATWINTERREDSOFTPRODUCTIONMEASUREDINBU\", #wheat\n",
    "              \"USDANASS/NASS_RICEPRODUCTIONMEASUREDINCWT\", #rice\n",
    "             ]\n",
    "\n",
    "#four years ago for quandl pull\n",
    "fouryears = date(2012, 1, 1)"
   ]
  },
  {
   "cell_type": "code",
   "execution_count": 4,
   "metadata": {
    "collapsed": true
   },
   "outputs": [],
   "source": [
    "OI = quandl.get(OI_codes, trim_start=fouryears, authtoken=\"UDaCz3fqxxJUAL3-WWmD\", returns=\"pandas\")"
   ]
  },
  {
   "cell_type": "code",
   "execution_count": 5,
   "metadata": {
    "collapsed": true
   },
   "outputs": [],
   "source": [
    "Production = quandl.get(Prod_codes, trim_start=fouryears, authtoken=\"UDaCz3fqxxJUAL3-WWmD\", returns=\"pandas\")"
   ]
  },
  {
   "cell_type": "code",
   "execution_count": 6,
   "metadata": {
    "collapsed": true
   },
   "outputs": [],
   "source": [
    "Volume = quandl.get(Volume_codes,trim_start=fouryears, authtoken=\"UDaCz3fqxxJUAL3-WWmD\", returns=\"pandas\")"
   ]
  },
  {
   "cell_type": "markdown",
   "metadata": {},
   "source": [
    "__Production Data__"
   ]
  },
  {
   "cell_type": "code",
   "execution_count": 10,
   "metadata": {
    "collapsed": false
   },
   "outputs": [
    {
     "data": {
      "text/html": [
       "<div>\n",
       "<table border=\"1\" class=\"dataframe\">\n",
       "  <thead>\n",
       "    <tr style=\"text-align: right;\">\n",
       "      <th></th>\n",
       "      <th>USDANASS/NASS_OATSPRODUCTIONMEASUREDINBU - Value</th>\n",
       "      <th>USDANASS/NASS_SOYBEANSPRODUCTIONMEASUREDINBU - Value</th>\n",
       "      <th>USDANASS/NASS_CORNGRAINPRODUCTIONMEASUREDINBU - Value</th>\n",
       "      <th>USDANASS/NASS_WHEATWINTERREDSOFTPRODUCTIONMEASUREDINBU - Value</th>\n",
       "      <th>USDANASS/NASS_RICEPRODUCTIONMEASUREDINCWT - Value</th>\n",
       "    </tr>\n",
       "    <tr>\n",
       "      <th>Date</th>\n",
       "      <th></th>\n",
       "      <th></th>\n",
       "      <th></th>\n",
       "      <th></th>\n",
       "      <th></th>\n",
       "    </tr>\n",
       "  </thead>\n",
       "  <tbody>\n",
       "    <tr>\n",
       "      <th>2012-12-31</th>\n",
       "      <td>61486000.0</td>\n",
       "      <td>3.042044e+09</td>\n",
       "      <td>1.075511e+10</td>\n",
       "      <td>412729000.0</td>\n",
       "      <td>199939000.0</td>\n",
       "    </tr>\n",
       "    <tr>\n",
       "      <th>2013-12-31</th>\n",
       "      <td>64642000.0</td>\n",
       "      <td>3.357984e+09</td>\n",
       "      <td>1.382896e+10</td>\n",
       "      <td>568481000.0</td>\n",
       "      <td>189953000.0</td>\n",
       "    </tr>\n",
       "    <tr>\n",
       "      <th>2014-12-31</th>\n",
       "      <td>69684000.0</td>\n",
       "      <td>3.968823e+09</td>\n",
       "      <td>1.421553e+10</td>\n",
       "      <td>455297000.0</td>\n",
       "      <td>221035000.0</td>\n",
       "    </tr>\n",
       "    <tr>\n",
       "      <th>2015-12-31</th>\n",
       "      <td>83640000.0</td>\n",
       "      <td>NaN</td>\n",
       "      <td>NaN</td>\n",
       "      <td>393416000.0</td>\n",
       "      <td>NaN</td>\n",
       "    </tr>\n",
       "  </tbody>\n",
       "</table>\n",
       "</div>"
      ],
      "text/plain": [
       "            USDANASS/NASS_OATSPRODUCTIONMEASUREDINBU - Value  \\\n",
       "Date                                                           \n",
       "2012-12-31                                        61486000.0   \n",
       "2013-12-31                                        64642000.0   \n",
       "2014-12-31                                        69684000.0   \n",
       "2015-12-31                                        83640000.0   \n",
       "\n",
       "            USDANASS/NASS_SOYBEANSPRODUCTIONMEASUREDINBU - Value  \\\n",
       "Date                                                               \n",
       "2012-12-31                                       3.042044e+09      \n",
       "2013-12-31                                       3.357984e+09      \n",
       "2014-12-31                                       3.968823e+09      \n",
       "2015-12-31                                                NaN      \n",
       "\n",
       "            USDANASS/NASS_CORNGRAINPRODUCTIONMEASUREDINBU - Value  \\\n",
       "Date                                                                \n",
       "2012-12-31                                       1.075511e+10       \n",
       "2013-12-31                                       1.382896e+10       \n",
       "2014-12-31                                       1.421553e+10       \n",
       "2015-12-31                                                NaN       \n",
       "\n",
       "            USDANASS/NASS_WHEATWINTERREDSOFTPRODUCTIONMEASUREDINBU - Value  \\\n",
       "Date                                                                         \n",
       "2012-12-31                                        412729000.0                \n",
       "2013-12-31                                        568481000.0                \n",
       "2014-12-31                                        455297000.0                \n",
       "2015-12-31                                        393416000.0                \n",
       "\n",
       "            USDANASS/NASS_RICEPRODUCTIONMEASUREDINCWT - Value  \n",
       "Date                                                           \n",
       "2012-12-31                                        199939000.0  \n",
       "2013-12-31                                        189953000.0  \n",
       "2014-12-31                                        221035000.0  \n",
       "2015-12-31                                                NaN  "
      ]
     },
     "execution_count": 10,
     "metadata": {},
     "output_type": "execute_result"
    }
   ],
   "source": [
    "Production.head()"
   ]
  },
  {
   "cell_type": "code",
   "execution_count": 7,
   "metadata": {
    "collapsed": true
   },
   "outputs": [],
   "source": [
    "#PRODUCTION\n",
    "#copy because quandl has a call limit and sometimes and I want this dataset to be my base.\n",
    "prod = Production.copy()\n",
    "\n",
    "#index based on date\n",
    "prod.index.name = None\n",
    "\n",
    "#already had this code thought it'd be easier than cut and paste them ugly col names\n",
    "oat_cols = [col for col in prod.columns if 'OATS' in col]\n",
    "soybean_cols = [col for col in prod.columns if 'SOYBEAN' in col]\n",
    "corn_cols = [col for col in prod.columns if 'CORN' in col]\n",
    "wheat_cols = [col for col in prod.columns if 'WHEAT' in col]\n",
    "rice_cols = [col for col in prod.columns if 'RICE' in col]\n",
    "\n",
    "#convert phy volum produced into contracts\n",
    "#contract sizes from CME website\n",
    "prod['Contracts Oats'] = prod[oat_cols]/5000\n",
    "prod['Contracts Soybean'] = prod[soybean_cols]/5000\n",
    "prod['Contracts Corn'] = prod[corn_cols]/5000\n",
    "prod['Contracts Wheat'] = prod[wheat_cols]/5000\n",
    "prod['Contracts Rice'] = prod[rice_cols]/2000"
   ]
  },
  {
   "cell_type": "code",
   "execution_count": null,
   "metadata": {
    "collapsed": true
   },
   "outputs": [],
   "source": [
    "prod = prod.drop(oat_cols,1)\n",
    "prod = prod.drop(soybean_cols,1)\n",
    "prod = prod.drop(corn_cols,1)\n",
    "prod = prod.drop(wheat_cols,1)\n",
    "prod = prod.drop(rice_cols,1)"
   ]
  },
  {
   "cell_type": "markdown",
   "metadata": {},
   "source": [
    "__OI Data__"
   ]
  },
  {
   "cell_type": "code",
   "execution_count": null,
   "metadata": {
    "collapsed": true
   },
   "outputs": [],
   "source": [
    "#OI\n",
    "oi = OI.copy()\n",
    "\n",
    "#index based on date\n",
    "oi.index.name = None\n",
    "\n",
    "#resample to yearly data, take mean of colums\n",
    "oi = oi.resample('A').mean()"
   ]
  }
 ],
 "metadata": {
  "kernelspec": {
   "display_name": "Python 3",
   "language": "python",
   "name": "python3"
  },
  "language_info": {
   "codemirror_mode": {
    "name": "ipython",
    "version": 3
   },
   "file_extension": ".py",
   "mimetype": "text/x-python",
   "name": "python",
   "nbconvert_exporter": "python",
   "pygments_lexer": "ipython3",
   "version": "3.5.1"
  }
 },
 "nbformat": 4,
 "nbformat_minor": 0
}
