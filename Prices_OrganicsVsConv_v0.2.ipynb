{
 "cells": [
  {
   "cell_type": "code",
   "execution_count": 1,
   "metadata": {
    "collapsed": true
   },
   "outputs": [],
   "source": [
    "import pandas as pd\n",
    "import numpy as np\n",
    "from dateutil.parser import *\n",
    "from datetime import *"
   ]
  },
  {
   "cell_type": "code",
   "execution_count": 2,
   "metadata": {
    "collapsed": false
   },
   "outputs": [],
   "source": [
    "DEFAULT = datetime(1,1,1)"
   ]
  },
  {
   "cell_type": "markdown",
   "metadata": {},
   "source": [
    "Py Notes\n",
    "\n",
    "- Data reshapping is awesome! http://pandas.pydata.org/pandas-docs/stable/reshaping.html"
   ]
  },
  {
   "cell_type": "markdown",
   "metadata": {
    "collapsed": true
   },
   "source": [
    "## Price relationship btwn organics and conventional crops\n",
    "\n",
    "\n",
    "Notes:\n",
    "- exempt farms are those that say they farm organic but do less thank $5k/year, so dont have be to be certified.\n",
    "- cropland - areas used for the production of adapted crops for harvest\n",
    "- rangeland - native vegetation land used for livestock\n",
    "- pastureland - seed land used for livestock\n",
    "\n",
    "Links:\n",
    "\n",
    "!UNFORTUNATELY THE USDA PRICE DATA HASNT BEEN UPDATED SINCE 2012\n",
    "- [USDA's ERS organic vs conventional price data](http://www.ers.usda.gov/data-products/organic-prices.aspx)\n",
    "- [USDA's ERS Documentation for prices](http://www.ers.usda.gov/data-products/organic-prices/documentation.aspx)\n",
    "\n",
    "The weekly reports are kept upt to date, but they're pdfs\n",
    "- [USDA's AMS Organic Reports (with commentary](http://www.ers.usda.gov/data-products/organic-prices/documentation.aspx)\n",
    "\n",
    "- [Resources for Organic and Transitioning Farmers](http://ofrf.org/policy/resources)\n",
    "\n",
    "-[USDA Oraganic Insider newsletter archive](http://archive.constantcontact.com/fs054/1103777415326/archive/1108212629106.html)\n",
    "\n",
    "https://www.agcensus.usda.gov/Publications/2012/Online_Resources/Organics/ORGANICS.pdf\n",
    "\n",
    "https://www.ams.usda.gov/market-news/organic\n",
    "\n",
    "https://www.ams.usda.gov/market-news/organic-market-news-reports\n",
    "\n",
    "https://www.ams.usda.gov/market-news/custom-reports\n",
    "\n",
    "\n",
    "- \"The 2015 Certified Organic Survey publication will be released in September 2016.\" [here](https://www.nass.usda.gov/Surveys/Guide_to_NASS_Surveys/Organic_Production/index.php)\n",
    "\n",
    "- [2014 Organic Survey](https://www.agcensus.usda.gov/Publications/2012/Online_Resources/Organics/)\n",
    "\n",
    "USDA Risk Management Agency: [organics page](http://www.rma.usda.gov/news/currentissues/organics/)\n",
    "- [Organic Pricing Methodologies for Barley, Corn,Cotton,Grain Sorghum, Rice, Soybeans, Sunflowers,and Wheat](http://www.rma.usda.gov/pubs/2015/organicpricingmethodology.pdf)\n",
    "- [Summary of business for organic production](http://www.rma.usda.gov/data/sob/organic/2015organic.pdf)\n",
    "\n",
    "[March 2016 report to congress](http://www.rma.usda.gov/pubs/2016/appropriations.pdf)\n",
    "\"After conducting research, it was determined that for some crops, the organic counterpart does \n",
    "not receive a premium price. For those crops, RMA has concluded that a premium organic price \n",
    "election is not warranted and has the potential to distort market behavior.  These crops are \n",
    "alfalfa seed, carambola trees, cigar filler tobacco, cigar wrapper tobacco, fire cured tobacco, forage seeding, lemon trees, lime trees, mango trees, and sugar beets.\"\n",
    "\n",
    "- [Auction Cash Market for organics](http://www.mercaris.com/company#about)\n",
    "\n"
   ]
  },
  {
   "cell_type": "code",
   "execution_count": 3,
   "metadata": {
    "collapsed": false
   },
   "outputs": [
    {
     "data": {
      "text/plain": [
       "'/home/brett/Documents/JupyterNotebooks/AgResearch'"
      ]
     },
     "execution_count": 3,
     "metadata": {},
     "output_type": "execute_result"
    }
   ],
   "source": [
    "%pwd"
   ]
  },
  {
   "cell_type": "code",
   "execution_count": 4,
   "metadata": {
    "collapsed": false
   },
   "outputs": [
    {
     "name": "stdout",
     "output_type": "stream",
     "text": [
      "/home/brett/Dropbox/AgResearch\n"
     ]
    }
   ],
   "source": [
    "%cd /home/brett/Dropbox/AgResearch/"
   ]
  },
  {
   "cell_type": "markdown",
   "metadata": {},
   "source": [
    "## 2014 organic survey table 551\n",
    "Transitional Organic Land Operated by Non-Organic Farms\n",
    "\n",
    "bullets:\n",
    "- 688 non-organic farms are transitioning to grow organic products. 50,688 acres total\n",
    "    - 24,550 acres cropland, 17,030 acres patureland, 9,108 acres rangeland\n",
    "    \n",
    "    \n",
    "    "
   ]
  },
  {
   "cell_type": "code",
   "execution_count": 5,
   "metadata": {
    "collapsed": false
   },
   "outputs": [
    {
     "name": "stdout",
     "output_type": "stream",
     "text": [
      "561,\"t\",\"2014 Organic Survey: Released September 17, 2015, by the National Agricultural Statistics Service (NASS), Agricultural Statistics Board, U.S. Department of Agriculture.\"\r",
      "\r\n",
      "561,\"t\",\"Table 81.  Transitional Organic Land Operated � Non-Organic Farms:  2014\"\r",
      "\r\n",
      "561,\"t\",\"[For meaning of abbreviations and symbols, see introductory text.]\"\r",
      "\r\n",
      "561,\"h\",\"\",\"\",\"\",\"\",\"\",\"\"\r",
      "\r\n",
      "561,\"h\",\"\",\"\",\"Acres in transition\",\"Acres in transition\",\"Acres in transition\",\"Acres in transition\"\r",
      "\r\n",
      "561,\"h\",\"\",\"\",\"\",\"\",\"\",\"\"\r",
      "\r\n",
      "561,\"h\",\"Geographic Area\",\"Farms\",\"Total\",\"Cropland\",\"Pastureland\",\"Rangeland\"\r",
      "\r\n",
      "561,\"h\",\"\",\"\",\"\",\"\",\"\",\"\"\r",
      "\r\n",
      "561,\"d\",\"United States\",688,50688,24550,17030,9108\r",
      "\r\n",
      "561,\"d\",\"\",,,,,\r",
      "\r\n"
     ]
    }
   ],
   "source": [
    "!head -n 10 corg_p551_t0561.csv"
   ]
  },
  {
   "cell_type": "code",
   "execution_count": 6,
   "metadata": {
    "collapsed": false
   },
   "outputs": [],
   "source": [
    "acresInTransition = pd.read_csv('corg_p551_t0561.csv',skiprows=6)"
   ]
  },
  {
   "cell_type": "code",
   "execution_count": 7,
   "metadata": {
    "collapsed": false
   },
   "outputs": [
    {
     "data": {
      "text/html": [
       "<div>\n",
       "<table border=\"1\" class=\"dataframe\">\n",
       "  <thead>\n",
       "    <tr style=\"text-align: right;\">\n",
       "      <th></th>\n",
       "      <th>561</th>\n",
       "      <th>h</th>\n",
       "      <th>Geographic Area</th>\n",
       "      <th>Farms</th>\n",
       "      <th>Total</th>\n",
       "      <th>Cropland</th>\n",
       "      <th>Pastureland</th>\n",
       "      <th>Rangeland</th>\n",
       "    </tr>\n",
       "  </thead>\n",
       "  <tbody>\n",
       "    <tr>\n",
       "      <th>0</th>\n",
       "      <td>561</td>\n",
       "      <td>h</td>\n",
       "      <td>NaN</td>\n",
       "      <td>NaN</td>\n",
       "      <td>NaN</td>\n",
       "      <td>NaN</td>\n",
       "      <td>NaN</td>\n",
       "      <td>NaN</td>\n",
       "    </tr>\n",
       "    <tr>\n",
       "      <th>1</th>\n",
       "      <td>561</td>\n",
       "      <td>d</td>\n",
       "      <td>United States</td>\n",
       "      <td>688.0</td>\n",
       "      <td>50688</td>\n",
       "      <td>24550</td>\n",
       "      <td>17030</td>\n",
       "      <td>9108</td>\n",
       "    </tr>\n",
       "    <tr>\n",
       "      <th>2</th>\n",
       "      <td>561</td>\n",
       "      <td>d</td>\n",
       "      <td>NaN</td>\n",
       "      <td>NaN</td>\n",
       "      <td>NaN</td>\n",
       "      <td>NaN</td>\n",
       "      <td>NaN</td>\n",
       "      <td>NaN</td>\n",
       "    </tr>\n",
       "    <tr>\n",
       "      <th>3</th>\n",
       "      <td>561</td>\n",
       "      <td>d</td>\n",
       "      <td>Alabama</td>\n",
       "      <td>6.0</td>\n",
       "      <td>(D)</td>\n",
       "      <td>17</td>\n",
       "      <td>(D)</td>\n",
       "      <td>-</td>\n",
       "    </tr>\n",
       "    <tr>\n",
       "      <th>4</th>\n",
       "      <td>561</td>\n",
       "      <td>d</td>\n",
       "      <td>Alaska</td>\n",
       "      <td>1.0</td>\n",
       "      <td>(D)</td>\n",
       "      <td>-</td>\n",
       "      <td>(D)</td>\n",
       "      <td>-</td>\n",
       "    </tr>\n",
       "    <tr>\n",
       "      <th>5</th>\n",
       "      <td>561</td>\n",
       "      <td>d</td>\n",
       "      <td>Arkansas</td>\n",
       "      <td>2.0</td>\n",
       "      <td>(D)</td>\n",
       "      <td>(D)</td>\n",
       "      <td>-</td>\n",
       "      <td>(D)</td>\n",
       "    </tr>\n",
       "    <tr>\n",
       "      <th>6</th>\n",
       "      <td>561</td>\n",
       "      <td>d</td>\n",
       "      <td>California</td>\n",
       "      <td>57.0</td>\n",
       "      <td>2596</td>\n",
       "      <td>1971</td>\n",
       "      <td>582</td>\n",
       "      <td>43</td>\n",
       "    </tr>\n",
       "    <tr>\n",
       "      <th>7</th>\n",
       "      <td>561</td>\n",
       "      <td>d</td>\n",
       "      <td>Colorado</td>\n",
       "      <td>13.0</td>\n",
       "      <td>680</td>\n",
       "      <td>491</td>\n",
       "      <td>69</td>\n",
       "      <td>120</td>\n",
       "    </tr>\n",
       "    <tr>\n",
       "      <th>8</th>\n",
       "      <td>561</td>\n",
       "      <td>d</td>\n",
       "      <td>NaN</td>\n",
       "      <td>NaN</td>\n",
       "      <td>NaN</td>\n",
       "      <td>NaN</td>\n",
       "      <td>NaN</td>\n",
       "      <td>NaN</td>\n",
       "    </tr>\n",
       "    <tr>\n",
       "      <th>9</th>\n",
       "      <td>561</td>\n",
       "      <td>d</td>\n",
       "      <td>Connecticut</td>\n",
       "      <td>8.0</td>\n",
       "      <td>26</td>\n",
       "      <td>25</td>\n",
       "      <td>1</td>\n",
       "      <td>-</td>\n",
       "    </tr>\n",
       "  </tbody>\n",
       "</table>\n",
       "</div>"
      ],
      "text/plain": [
       "   561  h Geographic Area  Farms  Total Cropland Pastureland Rangeland\n",
       "0  561  h             NaN    NaN    NaN      NaN         NaN       NaN\n",
       "1  561  d   United States  688.0  50688    24550       17030      9108\n",
       "2  561  d             NaN    NaN    NaN      NaN         NaN       NaN\n",
       "3  561  d         Alabama    6.0    (D)       17         (D)         -\n",
       "4  561  d          Alaska    1.0    (D)        -         (D)         -\n",
       "5  561  d        Arkansas    2.0    (D)      (D)           -       (D)\n",
       "6  561  d      California   57.0   2596     1971         582        43\n",
       "7  561  d        Colorado   13.0    680      491          69       120\n",
       "8  561  d             NaN    NaN    NaN      NaN         NaN       NaN\n",
       "9  561  d     Connecticut    8.0     26       25           1         -"
      ]
     },
     "execution_count": 7,
     "metadata": {},
     "output_type": "execute_result"
    }
   ],
   "source": [
    "acresInTransition.head(10)"
   ]
  },
  {
   "cell_type": "code",
   "execution_count": 8,
   "metadata": {
    "collapsed": false
   },
   "outputs": [],
   "source": [
    "#drop nan rows\n",
    "acresInTransition = acresInTransition[np.isfinite(acresInTransition['Farms'])]"
   ]
  },
  {
   "cell_type": "code",
   "execution_count": 9,
   "metadata": {
    "collapsed": true
   },
   "outputs": [],
   "source": [
    "#del col '561'\n",
    "acresInTransition = acresInTransition.drop('561',1)"
   ]
  },
  {
   "cell_type": "code",
   "execution_count": 10,
   "metadata": {
    "collapsed": true
   },
   "outputs": [],
   "source": [
    "#del col 'h'\n",
    "acresInTransition = acresInTransition.drop('h',1)"
   ]
  },
  {
   "cell_type": "code",
   "execution_count": 11,
   "metadata": {
    "collapsed": true
   },
   "outputs": [],
   "source": [
    "#rename columns\n",
    "acresInTransition.columns = ['Area','farmsCount','totalAcresInTrans','croplandAcresInTrans',\n",
    "                     'pasturelandAcresInTrans','rangelandAcresInTrans']"
   ]
  },
  {
   "cell_type": "markdown",
   "metadata": {},
   "source": [
    "## 2014 organic survey table 1\n",
    "Farms, land and value of sales of organic ag products - certified and exempt farms\n",
    "\n",
    "bullets:\n",
    "\n",
    "- There are 14,048 organic farms operating in the United states. The total acreage is 3,670,560 acres.\n",
    "    - thats 261 acres per farm\n",
    "- 1,365 farms are classified as transitional, with 122,175 acres transitioning. \n",
    "    - thats 89 acres per farm"
   ]
  },
  {
   "cell_type": "code",
   "execution_count": 12,
   "metadata": {
    "collapsed": false
   },
   "outputs": [
    {
     "name": "stdout",
     "output_type": "stream",
     "text": [
      "1,\"t\",\"2014 Organic Survey: Released September 17, 2015, by the National Agricultural Statistics Service (NASS), Agricultural Statistics Board, U.S. Department of Agriculture.\"\r",
      "\r\n",
      "1,\"t\",\"Table 1.  Farms, Land, and Value of Sales of Organic Agricultural Products � Certified and Exempt Organic Farms:  2014\"\r",
      "\r\n",
      "1,\"t\",\"[For meaning of abbreviations and symbols, see introductory text.]\"\r",
      "\r\n",
      "1,\"h\",\"\",\"\",\"\",\"\",\"\",\"\",\"\",\"\"\r",
      "\r\n",
      "1,\"h\",\"Item\",\"\",\"United States\",\"Alabama\",\"Alaska\",\"Arizona\",\"Arkansas\",\"California\"\r",
      "\r\n",
      "1,\"h\",\"\",\"\",\"\",\"\",\"\",\"\",\"\",\"\"\r",
      "\r\n",
      "1,\"d\",\"ORGANIC FARMS\",\"\",,,,,,\r",
      "\r\n",
      "1,\"d\",\"\",\"\",,,,,,\r",
      "\r\n",
      "1,\"d\",\"Certified or exempt\",\"farms\",14093,28,17,61,34,2805\r",
      "\r\n",
      "1,\"d\",\"\",\"\",,,,,,\r",
      "\r\n"
     ]
    }
   ],
   "source": [
    "!head -n 10 corg_p011_t0001.csv"
   ]
  },
  {
   "cell_type": "code",
   "execution_count": 13,
   "metadata": {
    "collapsed": false
   },
   "outputs": [],
   "source": [
    "farmsLandValue = pd.read_csv('corg_p011_t0001.csv',skiprows=4)"
   ]
  },
  {
   "cell_type": "code",
   "execution_count": 14,
   "metadata": {
    "collapsed": true
   },
   "outputs": [],
   "source": [
    "#drop nan rows\n",
    "farmsLandValue = farmsLandValue[np.isfinite(farmsLandValue['United States'])]"
   ]
  },
  {
   "cell_type": "code",
   "execution_count": 15,
   "metadata": {
    "collapsed": false
   },
   "outputs": [],
   "source": [
    "#del cols\n",
    "farmsLandValue = farmsLandValue.drop(farmsLandValue.columns[[0,1,5,6,7,8,9]],1)"
   ]
  },
  {
   "cell_type": "code",
   "execution_count": 16,
   "metadata": {
    "collapsed": true
   },
   "outputs": [],
   "source": [
    "#forward fill item names to get rid of nans\n",
    "farmsLandValue['Item'] = farmsLandValue['Item'].fillna(method='ffill')"
   ]
  },
  {
   "cell_type": "code",
   "execution_count": 17,
   "metadata": {
    "collapsed": true
   },
   "outputs": [],
   "source": [
    "#rename columns\n",
    "farmsLandValue.columns = ['Item','Type','UnitedStatesTotal']"
   ]
  },
  {
   "cell_type": "code",
   "execution_count": 18,
   "metadata": {
    "collapsed": false
   },
   "outputs": [
    {
     "data": {
      "text/html": [
       "<div>\n",
       "<table border=\"1\" class=\"dataframe\">\n",
       "  <thead>\n",
       "    <tr style=\"text-align: right;\">\n",
       "      <th></th>\n",
       "      <th>Item</th>\n",
       "      <th>Type</th>\n",
       "      <th>UnitedStatesTotal</th>\n",
       "    </tr>\n",
       "  </thead>\n",
       "  <tbody>\n",
       "    <tr>\n",
       "      <th>3</th>\n",
       "      <td>Certified or exempt</td>\n",
       "      <td>farms</td>\n",
       "      <td>14093.0</td>\n",
       "    </tr>\n",
       "    <tr>\n",
       "      <th>8</th>\n",
       "      <td>operated</td>\n",
       "      <td>farms</td>\n",
       "      <td>14048.0</td>\n",
       "    </tr>\n",
       "    <tr>\n",
       "      <th>9</th>\n",
       "      <td>operated</td>\n",
       "      <td>acres</td>\n",
       "      <td>3670560.0</td>\n",
       "    </tr>\n",
       "    <tr>\n",
       "      <th>11</th>\n",
       "      <td>Land owned</td>\n",
       "      <td>farms</td>\n",
       "      <td>12353.0</td>\n",
       "    </tr>\n",
       "    <tr>\n",
       "      <th>12</th>\n",
       "      <td>Land owned</td>\n",
       "      <td>acres</td>\n",
       "      <td>2221715.0</td>\n",
       "    </tr>\n",
       "    <tr>\n",
       "      <th>13</th>\n",
       "      <td>Land rented from others</td>\n",
       "      <td>farms</td>\n",
       "      <td>5582.0</td>\n",
       "    </tr>\n",
       "    <tr>\n",
       "      <th>14</th>\n",
       "      <td>Land rented from others</td>\n",
       "      <td>acres</td>\n",
       "      <td>1507957.0</td>\n",
       "    </tr>\n",
       "    <tr>\n",
       "      <th>15</th>\n",
       "      <td>Land rented to others</td>\n",
       "      <td>farms</td>\n",
       "      <td>521.0</td>\n",
       "    </tr>\n",
       "    <tr>\n",
       "      <th>16</th>\n",
       "      <td>Land rented to others</td>\n",
       "      <td>acres</td>\n",
       "      <td>59112.0</td>\n",
       "    </tr>\n",
       "    <tr>\n",
       "      <th>18</th>\n",
       "      <td>Total certified organic acres operated</td>\n",
       "      <td>farms</td>\n",
       "      <td>12595.0</td>\n",
       "    </tr>\n",
       "  </tbody>\n",
       "</table>\n",
       "</div>"
      ],
      "text/plain": [
       "                                        Item   Type  UnitedStatesTotal\n",
       "3                        Certified or exempt  farms            14093.0\n",
       "8                                   operated  farms            14048.0\n",
       "9                                   operated  acres          3670560.0\n",
       "11                                Land owned  farms            12353.0\n",
       "12                                Land owned  acres          2221715.0\n",
       "13                   Land rented from others  farms             5582.0\n",
       "14                   Land rented from others  acres          1507957.0\n",
       "15                     Land rented to others  farms              521.0\n",
       "16                     Land rented to others  acres            59112.0\n",
       "18    Total certified organic acres operated  farms            12595.0"
      ]
     },
     "execution_count": 18,
     "metadata": {},
     "output_type": "execute_result"
    }
   ],
   "source": [
    "farmsLandValue.head(10)"
   ]
  },
  {
   "cell_type": "markdown",
   "metadata": {
    "collapsed": true
   },
   "source": [
    "## ERS organic price tables [old data]"
   ]
  },
  {
   "cell_type": "markdown",
   "metadata": {},
   "source": [
    "### Wholesale Veggies"
   ]
  },
  {
   "cell_type": "code",
   "execution_count": 19,
   "metadata": {
    "collapsed": false
   },
   "outputs": [
    {
     "name": "stdout",
     "output_type": "stream",
     "text": [
      "\" Wholesale vegetable prices, organic and conventional, monthly and annual, 2012\",,,,,,,,,,,,,,,,,\r\n",
      "Commodity,Subgroup,Package,Organic/ Conventional,Terminal Market,Jan-12,Feb-12,Mar-12,Apr-12,May-12,Jun-12,Jul-12,Aug-12,Sep-12,Oct-12,Nov-12,Dec-12,2012\r\n",
      "Artichoke (SF only),Globe,\"cartons, 24s\",Conv,San Fran,28.58,30.00,30.94,18.50,13.48,17.83,30.00,35.26,25.75,24.66,23.47,26.29,24.12\r\n",
      "Artichoke (SF only),Globe,\"cartons, 24s\",Org,San Fran,37.34,35.46,N\\A,N\\A,N\\A,30.31,35.00,40.12,45.50,40.47,32.76,32.50,36.88\r\n",
      "Cabbage,Round green type,\"40 lb cartons, medium\",Conv,Atlanta,N\\A,N\\A,N\\A,N\\A,N\\A,N\\A,N\\A,16.50,N\\A,N\\A,N\\A,N\\A,16.50\r\n"
     ]
    }
   ],
   "source": [
    "!head -n 5 Vegetables2012.csv"
   ]
  },
  {
   "cell_type": "code",
   "execution_count": 20,
   "metadata": {
    "collapsed": true
   },
   "outputs": [],
   "source": [
    "Veggies2012 = pd.read_csv('Vegetables2012.csv',skiprows=1)"
   ]
  },
  {
   "cell_type": "code",
   "execution_count": 21,
   "metadata": {
    "collapsed": true
   },
   "outputs": [],
   "source": [
    "Veggies2013 = pd.read_csv('Vegetables2013.csv', skiprows=1)"
   ]
  },
  {
   "cell_type": "code",
   "execution_count": 22,
   "metadata": {
    "collapsed": false,
    "scrolled": true
   },
   "outputs": [],
   "source": [
    "#drop the year summary vars\n",
    "#Veggies2012.columns.get_loc('2012');\n",
    "Veggies2012 = Veggies2012.drop(Veggies2012.columns[17],1)\n",
    "Veggies2013 = Veggies2013.drop(Veggies2013.columns[17],1)"
   ]
  },
  {
   "cell_type": "code",
   "execution_count": 23,
   "metadata": {
    "collapsed": false
   },
   "outputs": [],
   "source": [
    "#transform the data so dates are a column\n",
    "Veggies2012 = pd.melt(Veggies2012, id_vars=['Commodity','Subgroup','Package','Organic/ Conventional','Terminal Market'],\n",
    "       var_name='MonthYear', value_name='Price')\n",
    "\n",
    "Veggies2013 = pd.melt(Veggies2013, id_vars=['Commodity','Subgroup','Package','Organic/ Conventional','Terminal Market'],\n",
    "       var_name='MonthYear', value_name='Price')"
   ]
  },
  {
   "cell_type": "code",
   "execution_count": 24,
   "metadata": {
    "collapsed": false
   },
   "outputs": [],
   "source": [
    "#put em together\n",
    "Ags = Veggies2012.append(Veggies2013)"
   ]
  },
  {
   "cell_type": "code",
   "execution_count": 25,
   "metadata": {
    "collapsed": true
   },
   "outputs": [],
   "source": [
    "#make sure month year is formatted correctly then convert it to datetime\n",
    "#Veggies['MonthYear'].str.strip('\\n')\n",
    "Ags['MonthYear'] = Ags['MonthYear'].str.replace('-','20')\n",
    "Ags['MonthYearForm'] = Ags['MonthYear'].apply(lambda x: parse(x,default=DEFAULT))"
   ]
  },
  {
   "cell_type": "code",
   "execution_count": 26,
   "metadata": {
    "collapsed": false
   },
   "outputs": [],
   "source": [
    "#convert price to number formatting\n",
    "Ags['Price'] = pd.to_numeric(Ags['Price'],errors='coerce')"
   ]
  },
  {
   "cell_type": "code",
   "execution_count": 27,
   "metadata": {
    "collapsed": false
   },
   "outputs": [],
   "source": [
    "#want to have it so price for conventional and organic are columns\n",
    "#couldnt quickly google how-to, so doing it 'by hand'\n",
    "#first make the two columns, with price if there is one\n",
    "Ags['Price_Conv'] = np.where(Ags['Organic/ Conventional']=='Conv',Ags['Price'],'NaN')\n",
    "Ags['Price_Org'] = np.where(Ags['Organic/ Conventional']=='Org',Ags['Price'],'NaN')"
   ]
  },
  {
   "cell_type": "code",
   "execution_count": 28,
   "metadata": {
    "collapsed": true
   },
   "outputs": [],
   "source": [
    "#next convert new cols to numbers, my NaNs werent numbers\n",
    "Ags['Price_Conv'] = pd.to_numeric(Ags['Price_Conv'],errors='coerce')\n",
    "Ags['Price_Org'] = pd.to_numeric(Ags['Price_Org'],errors='coerce')"
   ]
  },
  {
   "cell_type": "code",
   "execution_count": 29,
   "metadata": {
    "collapsed": false
   },
   "outputs": [],
   "source": [
    "#back fill nans so one row has an entry for both cols\n",
    "Ags['Price_Conv'] = Ags['Price_Conv'].fillna(method='bfill')\n",
    "Ags['Price_Org'] = Ags['Price_Org'].fillna(method='bfill')"
   ]
  },
  {
   "cell_type": "code",
   "execution_count": 30,
   "metadata": {
    "collapsed": true
   },
   "outputs": [],
   "source": [
    "#price data in new cols is repeated and only the first is correct\n",
    "#so put NaNs back where they are legit\n",
    "def convOrg(row):\n",
    "    if (row['Organic/ Conventional'] == 'Conv' and pd.isnull(row['Price'])):\n",
    "        row['Price_Conv'] = 'NaN'\n",
    "    if (row['Organic/ Conventional'] == 'Org' and pd.isnull(row['Price'])):\n",
    "        row['Price_Org'] = 'NaN'\n",
    "    return row"
   ]
  },
  {
   "cell_type": "code",
   "execution_count": 31,
   "metadata": {
    "collapsed": false
   },
   "outputs": [],
   "source": [
    "Ags = Ags.apply(convOrg,axis=1)"
   ]
  },
  {
   "cell_type": "code",
   "execution_count": 32,
   "metadata": {
    "collapsed": false
   },
   "outputs": [],
   "source": [
    "#drop now unwanted columns\n",
    "#Ags.columns.get_loc('Organic/ Conventional');\n",
    "Ags = Ags.drop(Ags.columns[[3,5,6]],1)"
   ]
  },
  {
   "cell_type": "code",
   "execution_count": 33,
   "metadata": {
    "collapsed": false
   },
   "outputs": [],
   "source": [
    "#drop dupes keep first entry bc thats the good one\n",
    "Ags = Ags.drop_duplicates(['Commodity','MonthYearForm','Subgroup','Package','Terminal Market'], keep='first')"
   ]
  },
  {
   "cell_type": "code",
   "execution_count": 34,
   "metadata": {
    "collapsed": true
   },
   "outputs": [],
   "source": [
    "#next convert new cols to numbers, my NaNs werent numbers\n",
    "Ags['Price_Conv'] = pd.to_numeric(Ags['Price_Conv'],errors='coerce')\n",
    "Ags['Price_Org'] = pd.to_numeric(Ags['Price_Org'],errors='coerce')"
   ]
  },
  {
   "cell_type": "code",
   "execution_count": 35,
   "metadata": {
    "collapsed": false,
    "scrolled": false
   },
   "outputs": [],
   "source": [
    "#calculate the organic premium\n",
    "Ags['Premium'] = Ags['Price_Org'] - Ags['Price_Conv']\n",
    "Ags['PremiumAbs'] = (Ags['Price_Org'] - Ags['Price_Conv'])"
   ]
  },
  {
   "cell_type": "code",
   "execution_count": 36,
   "metadata": {
    "collapsed": false
   },
   "outputs": [],
   "source": [
    "Ags = Ags.set_index(['MonthYearForm'])"
   ]
  },
  {
   "cell_type": "code",
   "execution_count": 37,
   "metadata": {
    "collapsed": true
   },
   "outputs": [],
   "source": [
    "#create groups to analyze\n",
    "gCSPT0 = Ags.groupby(['Commodity','Subgroup','Package','Terminal Market'])"
   ]
  },
  {
   "cell_type": "markdown",
   "metadata": {},
   "source": [
    "### Graph\n",
    "\n",
    "doing a two line graphs"
   ]
  },
  {
   "cell_type": "code",
   "execution_count": 60,
   "metadata": {
    "collapsed": false
   },
   "outputs": [
    {
     "data": {
      "text/html": [
       "\n",
       "    <div class=\"bk-root\">\n",
       "        <a href=\"http://bokeh.pydata.org\" target=\"_blank\" class=\"bk-logo bk-logo-small bk-logo-notebook\"></a>\n",
       "        <span id=\"741d172c-5e0a-49a9-9867-d676dc0770a0\">Loading BokehJS ...</span>\n",
       "    </div>"
      ]
     },
     "metadata": {},
     "output_type": "display_data"
    },
    {
     "data": {
      "application/javascript": [
       "\n",
       "(function(global) {\n",
       "  function now() {\n",
       "    return new Date();\n",
       "  }\n",
       "\n",
       "  if (typeof (window._bokeh_onload_callbacks) === \"undefined\") {\n",
       "    window._bokeh_onload_callbacks = [];\n",
       "  }\n",
       "\n",
       "  function run_callbacks() {\n",
       "    window._bokeh_onload_callbacks.forEach(function(callback) { callback() });\n",
       "    delete window._bokeh_onload_callbacks\n",
       "    console.info(\"Bokeh: all callbacks have finished\");\n",
       "  }\n",
       "\n",
       "  function load_libs(js_urls, callback) {\n",
       "    window._bokeh_onload_callbacks.push(callback);\n",
       "    if (window._bokeh_is_loading > 0) {\n",
       "      console.log(\"Bokeh: BokehJS is being loaded, scheduling callback at\", now());\n",
       "      return null;\n",
       "    }\n",
       "    if (js_urls == null || js_urls.length === 0) {\n",
       "      run_callbacks();\n",
       "      return null;\n",
       "    }\n",
       "    console.log(\"Bokeh: BokehJS not loaded, scheduling load and callback at\", now());\n",
       "    window._bokeh_is_loading = js_urls.length;\n",
       "    for (var i = 0; i < js_urls.length; i++) {\n",
       "      var url = js_urls[i];\n",
       "      var s = document.createElement('script');\n",
       "      s.src = url;\n",
       "      s.async = false;\n",
       "      s.onreadystatechange = s.onload = function() {\n",
       "        window._bokeh_is_loading--;\n",
       "        if (window._bokeh_is_loading === 0) {\n",
       "          console.log(\"Bokeh: all BokehJS libraries loaded\");\n",
       "          run_callbacks()\n",
       "        }\n",
       "      };\n",
       "      s.onerror = function() {\n",
       "        console.warn(\"failed to load library \" + url);\n",
       "      };\n",
       "      console.log(\"Bokeh: injecting script tag for BokehJS library: \", url);\n",
       "      document.getElementsByTagName(\"head\")[0].appendChild(s);\n",
       "    }\n",
       "  };\n",
       "\n",
       "  var js_urls = ['https://cdn.pydata.org/bokeh/release/bokeh-0.12.0.min.js', 'https://cdn.pydata.org/bokeh/release/bokeh-widgets-0.12.0.min.js', 'https://cdn.pydata.org/bokeh/release/bokeh-compiler-0.12.0.min.js'];\n",
       "\n",
       "  var inline_js = [\n",
       "    function(Bokeh) {\n",
       "      Bokeh.set_log_level(\"info\");\n",
       "    },\n",
       "    \n",
       "    function(Bokeh) {\n",
       "      Bokeh.$(\"#741d172c-5e0a-49a9-9867-d676dc0770a0\").text(\"BokehJS successfully loaded\");\n",
       "    },\n",
       "    function(Bokeh) {\n",
       "      console.log(\"Bokeh: injecting CSS: https://cdn.pydata.org/bokeh/release/bokeh-0.12.0.min.css\");\n",
       "      Bokeh.embed.inject_css(\"https://cdn.pydata.org/bokeh/release/bokeh-0.12.0.min.css\");\n",
       "      console.log(\"Bokeh: injecting CSS: https://cdn.pydata.org/bokeh/release/bokeh-widgets-0.12.0.min.css\");\n",
       "      Bokeh.embed.inject_css(\"https://cdn.pydata.org/bokeh/release/bokeh-widgets-0.12.0.min.css\");\n",
       "    }\n",
       "  ];\n",
       "\n",
       "  function run_inline_js() {\n",
       "    for (var i = 0; i < inline_js.length; i++) {\n",
       "      inline_js[i](window.Bokeh);\n",
       "    }\n",
       "  }\n",
       "\n",
       "  if (window._bokeh_is_loading === 0) {\n",
       "    console.log(\"Bokeh: BokehJS loaded, going straight to plotting\");\n",
       "    run_inline_js();\n",
       "  } else {\n",
       "    load_libs(js_urls, function() {\n",
       "      console.log(\"Bokeh: BokehJS plotting callback run at\", now());\n",
       "      run_inline_js();\n",
       "    });\n",
       "  }\n",
       "}(this));"
      ]
     },
     "metadata": {},
     "output_type": "display_data"
    }
   ],
   "source": [
    "from bokeh.models import ColumnDataSource, HoverTool, Legend, Label\n",
    "from bokeh.models.widgets import DataTable, DateFormatter, TableColumn, Select\n",
    "from bokeh.io import output_notebook, show, vform\n",
    "from bokeh.plotting import figure\n",
    "from bokeh.layouts import column\n",
    "\n",
    "output_notebook()"
   ]
  },
  {
   "cell_type": "code",
   "execution_count": 39,
   "metadata": {
    "collapsed": false
   },
   "outputs": [],
   "source": [
    "#subset for simplicity\n",
    "veglist =[]\n",
    "for i, group in gCSPT0:\n",
    "    veglist.append(i)"
   ]
  },
  {
   "cell_type": "code",
   "execution_count": 40,
   "metadata": {
    "collapsed": false
   },
   "outputs": [],
   "source": [
    "cab = Ags[(Ags.Commodity == 'Cabbage') &\n",
    "      (Ags.Subgroup == 'Round green type') &\n",
    "      (Ags.Package == '45 lb cartons, medium') &\n",
    "      (Ags['Terminal Market'] == 'Atlanta')]"
   ]
  },
  {
   "cell_type": "code",
   "execution_count": 42,
   "metadata": {
    "collapsed": false
   },
   "outputs": [],
   "source": [
    "#for the graph title\n",
    "s= \"/\".join(veglist[1])"
   ]
  },
  {
   "cell_type": "code",
   "execution_count": 43,
   "metadata": {
    "collapsed": false
   },
   "outputs": [],
   "source": [
    "p = figure(x_axis_type='datetime', tools='hover,pan,crosshair,box_zoom,reset,save',\n",
    "          title=s)\n",
    "\n",
    "p.plot_width = 800\n",
    "p.plot_height = 500\n",
    "\n",
    "source = ColumnDataSource(\n",
    "    data=dict(\n",
    "        \n",
    "    #date for x axis\n",
    "    Date=[x for x in cab.index],\n",
    "        \n",
    "    #data for line\n",
    "    Org=[x for x in cab.Price_Org],\n",
    "    Conv=[x for x in cab.Price_Conv],\n",
    "        \n",
    "    #for the hover tool\n",
    "    OrgH = cab.Price_Org,\n",
    "    ConvH = cab.Price_Conv,\n",
    "    premH = cab.Premium     \n",
    "    )\n",
    ")\n",
    "\n",
    "p.select_one(HoverTool).tooltips = [\n",
    "    (\"Organic: \", \"@OrgH\"),\n",
    "    (\"Conventional: \", \"@ConvH\"),\n",
    "    (\"Org. Premium: \", \"@premH\"),\n",
    "    \n",
    "]\n",
    "\n",
    "p1 = p.line(x=\"Date\", y=\"Org\", legend=\"Organics\", line_color=\"#a6cee3\",source=source)\n",
    "p2 = p.line(x=\"Date\", y=\"Conv\", legend=\"Conventional\", line_color=\"#fdbf6f\",source=source)\n",
    "\n",
    "p.legend.orientation = \"horizontal\"\n",
    "p.legend.location=\"top_left\"\n"
   ]
  },
  {
   "cell_type": "markdown",
   "metadata": {},
   "source": [
    "### Table below graph with stats"
   ]
  },
  {
   "cell_type": "code",
   "execution_count": 44,
   "metadata": {
    "collapsed": true
   },
   "outputs": [],
   "source": [
    "from bokeh.models.widgets import DataTable\n",
    "from bokeh.layouts import widgetbox"
   ]
  },
  {
   "cell_type": "code",
   "execution_count": 116,
   "metadata": {
    "collapsed": true
   },
   "outputs": [],
   "source": [
    "#stats to display\n",
    "cabCorr = cab.Price_Conv.corr(cab.Price_Org).round(decimals=2)\n",
    "cabPremAvg = round(cab.PremiumAbs.mean(),2)\n",
    "minPrem = round(cab.PremiumAbs.min(),2)\n",
    "maxPrem = round(cab.PremiumAbs.max(),2)\n",
    "AvgOrg = round(cab.Price_Org.mean(),2)\n",
    "AvgConv = round(cab.Price_Conv.mean(),2)"
   ]
  },
  {
   "cell_type": "code",
   "execution_count": 117,
   "metadata": {
    "collapsed": false
   },
   "outputs": [],
   "source": [
    "data = dict(\n",
    "    correlation=[cabCorr],\n",
    "    orgPrem=[cabPremAvg],\n",
    "    minPrem=[minPrem],\n",
    "    maxPrem=[maxPrem],\n",
    "    AvgOrg=[AvgOrg],\n",
    "    AvgConv=[AvgConv],\n",
    ")\n",
    "\n",
    "source=ColumnDataSource(data)"
   ]
  },
  {
   "cell_type": "code",
   "execution_count": 118,
   "metadata": {
    "collapsed": true
   },
   "outputs": [],
   "source": [
    "columns = [\n",
    "    TableColumn(field=\"correlation\", title=\"Correlation\"),\n",
    "    TableColumn(field=\"orgPrem\", title=\"Average Premium\"),\n",
    "    TableColumn(field=\"minPrem\", title=\"Min. Premium\"),\n",
    "    TableColumn(field=\"maxPrem\", title=\"Max. Premium\"),\n",
    "]"
   ]
  },
  {
   "cell_type": "code",
   "execution_count": 119,
   "metadata": {
    "collapsed": false
   },
   "outputs": [],
   "source": [
    "data_table = DataTable(source=source,columns=columns,width=900,height=75,row_headers=False,\n",
    "                      fit_columns=True)"
   ]
  },
  {
   "cell_type": "code",
   "execution_count": 120,
   "metadata": {
    "collapsed": false
   },
   "outputs": [],
   "source": [
    "x = widgetbox(data_table)"
   ]
  },
  {
   "cell_type": "markdown",
   "metadata": {},
   "source": [
    "### Final Graph"
   ]
  },
  {
   "cell_type": "code",
   "execution_count": 121,
   "metadata": {
    "collapsed": false,
    "scrolled": false
   },
   "outputs": [
    {
     "data": {
      "text/html": [
       "\n",
       "\n",
       "    <div class=\"bk-root\">\n",
       "        <div class=\"plotdiv\" id=\"7b4b5c86-d468-4eea-bf7e-90b0f257207d\"></div>\n",
       "    </div>\n",
       "<script type=\"text/javascript\">\n",
       "  \n",
       "  (function(global) {\n",
       "    function now() {\n",
       "      return new Date();\n",
       "    }\n",
       "  \n",
       "    if (typeof (window._bokeh_onload_callbacks) === \"undefined\") {\n",
       "      window._bokeh_onload_callbacks = [];\n",
       "    }\n",
       "  \n",
       "    function run_callbacks() {\n",
       "      window._bokeh_onload_callbacks.forEach(function(callback) { callback() });\n",
       "      delete window._bokeh_onload_callbacks\n",
       "      console.info(\"Bokeh: all callbacks have finished\");\n",
       "    }\n",
       "  \n",
       "    function load_libs(js_urls, callback) {\n",
       "      window._bokeh_onload_callbacks.push(callback);\n",
       "      if (window._bokeh_is_loading > 0) {\n",
       "        console.log(\"Bokeh: BokehJS is being loaded, scheduling callback at\", now());\n",
       "        return null;\n",
       "      }\n",
       "      if (js_urls == null || js_urls.length === 0) {\n",
       "        run_callbacks();\n",
       "        return null;\n",
       "      }\n",
       "      console.log(\"Bokeh: BokehJS not loaded, scheduling load and callback at\", now());\n",
       "      window._bokeh_is_loading = js_urls.length;\n",
       "      for (var i = 0; i < js_urls.length; i++) {\n",
       "        var url = js_urls[i];\n",
       "        var s = document.createElement('script');\n",
       "        s.src = url;\n",
       "        s.async = false;\n",
       "        s.onreadystatechange = s.onload = function() {\n",
       "          window._bokeh_is_loading--;\n",
       "          if (window._bokeh_is_loading === 0) {\n",
       "            console.log(\"Bokeh: all BokehJS libraries loaded\");\n",
       "            run_callbacks()\n",
       "          }\n",
       "        };\n",
       "        s.onerror = function() {\n",
       "          console.warn(\"failed to load library \" + url);\n",
       "        };\n",
       "        console.log(\"Bokeh: injecting script tag for BokehJS library: \", url);\n",
       "        document.getElementsByTagName(\"head\")[0].appendChild(s);\n",
       "      }\n",
       "    };var element = document.getElementById(\"7b4b5c86-d468-4eea-bf7e-90b0f257207d\");\n",
       "    if (element == null) {\n",
       "      console.log(\"Bokeh: ERROR: autoload.js configured with elementid '7b4b5c86-d468-4eea-bf7e-90b0f257207d' but no matching script tag was found. \")\n",
       "      return false;\n",
       "    }\n",
       "  \n",
       "    var js_urls = [];\n",
       "  \n",
       "    var inline_js = [\n",
       "      function(Bokeh) {\n",
       "        Bokeh.$(function() {\n",
       "            var docs_json = {\"d7552402-b899-4de0-8ed6-1a7fcbfbcc21\":{\"roots\":{\"references\":[{\"attributes\":{\"data_source\":{\"id\":\"53bc2bf1-0b87-4a2f-805b-33ea1ba13de0\",\"type\":\"ColumnDataSource\"},\"glyph\":{\"id\":\"5fcf107b-a955-4cb3-8efe-d16b06f09897\",\"type\":\"Line\"},\"hover_glyph\":null,\"nonselection_glyph\":{\"id\":\"5fc1ee2b-1771-4745-b749-937f86fb14f6\",\"type\":\"Line\"},\"selection_glyph\":null},\"id\":\"65c4ff36-d6f4-49ca-9c6c-a08763ebe801\",\"type\":\"GlyphRenderer\"},{\"attributes\":{\"formatter\":{\"id\":\"44a6fe50-9b4d-4a62-a38b-8936803d5b89\",\"type\":\"BasicTickFormatter\"},\"plot\":{\"id\":\"db0ff286-4b34-4ee0-b8ae-90aed1d3cfd9\",\"subtype\":\"Figure\",\"type\":\"Plot\"},\"ticker\":{\"id\":\"af96325c-0c75-4ddf-b9c2-5b061f7fd6fc\",\"type\":\"BasicTicker\"}},\"id\":\"b6ee8042-2542-4fcf-a0be-bbdcef62bca2\",\"type\":\"LinearAxis\"},{\"attributes\":{},\"id\":\"97780849-8887-47c9-bcd6-c6daea78b8c9\",\"type\":\"StringEditor\"},{\"attributes\":{\"data_source\":{\"id\":\"53bc2bf1-0b87-4a2f-805b-33ea1ba13de0\",\"type\":\"ColumnDataSource\"},\"glyph\":{\"id\":\"3497cd13-29c8-4248-b186-3dfe461bb4e7\",\"type\":\"Line\"},\"hover_glyph\":null,\"nonselection_glyph\":{\"id\":\"3376c800-406c-4efe-98e2-c8bffdaaec39\",\"type\":\"Line\"},\"selection_glyph\":null},\"id\":\"ac6dcbaf-08a9-4461-8a1b-8b80565f9974\",\"type\":\"GlyphRenderer\"},{\"attributes\":{\"editor\":{\"id\":\"05793199-146f-4019-8bf4-f885df3e212e\",\"type\":\"StringEditor\"},\"field\":\"correlation\",\"formatter\":{\"id\":\"c5ea201a-c744-4d2e-8820-8a0c39781d52\",\"type\":\"StringFormatter\"},\"title\":\"Correlation\"},\"id\":\"8ca7a7d4-30dd-4ecd-a1b4-d6f7be17e64f\",\"type\":\"TableColumn\"},{\"attributes\":{\"plot\":{\"id\":\"db0ff286-4b34-4ee0-b8ae-90aed1d3cfd9\",\"subtype\":\"Figure\",\"type\":\"Plot\"}},\"id\":\"06e6a296-1386-4ab1-bb13-0117ebdc90da\",\"type\":\"CrosshairTool\"},{\"attributes\":{},\"id\":\"280d7d9e-ec54-4461-91b0-c7e16dc5a935\",\"type\":\"ToolEvents\"},{\"attributes\":{\"plot\":{\"id\":\"db0ff286-4b34-4ee0-b8ae-90aed1d3cfd9\",\"subtype\":\"Figure\",\"type\":\"Plot\"},\"ticker\":{\"id\":\"c0ad6246-d4fd-4586-b476-4b65d3e7755a\",\"type\":\"DatetimeTicker\"}},\"id\":\"c2f7348f-774c-487d-a242-76acadbbda4d\",\"type\":\"Grid\"},{\"attributes\":{\"children\":[{\"id\":\"db0ff286-4b34-4ee0-b8ae-90aed1d3cfd9\",\"subtype\":\"Figure\",\"type\":\"Plot\"},{\"id\":\"d546881b-6501-4428-af5c-9a108ee1b4e7\",\"type\":\"WidgetBox\"}]},\"id\":\"9d6641e9-1f12-41ef-9aa8-0a26ae77f428\",\"type\":\"Column\"},{\"attributes\":{\"days\":[1,8,15,22]},\"id\":\"45f3854e-1e16-4407-8c7d-edafc410db16\",\"type\":\"DaysTicker\"},{\"attributes\":{\"base\":60,\"mantissas\":[1,2,5,10,15,20,30],\"max_interval\":1800000.0,\"min_interval\":1000.0,\"num_minor_ticks\":0},\"id\":\"bdd1706a-7241-40e2-8314-12db16be9dc5\",\"type\":\"AdaptiveTicker\"},{\"attributes\":{\"months\":[0,2,4,6,8,10]},\"id\":\"396ea8e8-6a4e-4fd6-b795-820b71e69573\",\"type\":\"MonthsTicker\"},{\"attributes\":{\"line_alpha\":{\"value\":0.1},\"line_color\":{\"value\":\"#1f77b4\"},\"x\":{\"field\":\"Date\"},\"y\":{\"field\":\"Org\"}},\"id\":\"3376c800-406c-4efe-98e2-c8bffdaaec39\",\"type\":\"Line\"},{\"attributes\":{\"plot\":{\"id\":\"db0ff286-4b34-4ee0-b8ae-90aed1d3cfd9\",\"subtype\":\"Figure\",\"type\":\"Plot\"}},\"id\":\"dbf17250-6169-4feb-8f97-55b7bf7411be\",\"type\":\"SaveTool\"},{\"attributes\":{\"overlay\":{\"id\":\"cd13ebfb-d6d0-4aef-a53a-e704c2d27d17\",\"type\":\"BoxAnnotation\"},\"plot\":{\"id\":\"db0ff286-4b34-4ee0-b8ae-90aed1d3cfd9\",\"subtype\":\"Figure\",\"type\":\"Plot\"}},\"id\":\"4f7cd7e9-403d-4c42-9df3-60b16275bbc1\",\"type\":\"BoxZoomTool\"},{\"attributes\":{},\"id\":\"05793199-146f-4019-8bf4-f885df3e212e\",\"type\":\"StringEditor\"},{\"attributes\":{},\"id\":\"c5ea201a-c744-4d2e-8820-8a0c39781d52\",\"type\":\"StringFormatter\"},{\"attributes\":{\"months\":[0,4,8]},\"id\":\"2229f9d5-ad90-498a-a67e-05ad080be95d\",\"type\":\"MonthsTicker\"},{\"attributes\":{\"callback\":null},\"id\":\"a04a386b-52e7-4018-b2ac-20a7d4b085e6\",\"type\":\"DataRange1d\"},{\"attributes\":{\"days\":[1,4,7,10,13,16,19,22,25,28]},\"id\":\"740051e7-4aab-44df-be3e-241202cc3d1a\",\"type\":\"DaysTicker\"},{\"attributes\":{},\"id\":\"af96325c-0c75-4ddf-b9c2-5b061f7fd6fc\",\"type\":\"BasicTicker\"},{\"attributes\":{},\"id\":\"dbfdfff1-1962-4bf6-8ec5-1dd547dc229f\",\"type\":\"StringFormatter\"},{\"attributes\":{},\"id\":\"3e055091-ea82-4219-ac7c-b6d3c418fd63\",\"type\":\"YearsTicker\"},{\"attributes\":{\"dimension\":1,\"plot\":{\"id\":\"db0ff286-4b34-4ee0-b8ae-90aed1d3cfd9\",\"subtype\":\"Figure\",\"type\":\"Plot\"},\"ticker\":{\"id\":\"af96325c-0c75-4ddf-b9c2-5b061f7fd6fc\",\"type\":\"BasicTicker\"}},\"id\":\"17af5e9e-c8dc-4de4-8c79-75f678a448f6\",\"type\":\"Grid\"},{\"attributes\":{},\"id\":\"3fe1154b-54f1-490c-9408-71caf3eef0ba\",\"type\":\"StringFormatter\"},{\"attributes\":{\"line_alpha\":{\"value\":0.1},\"line_color\":{\"value\":\"#1f77b4\"},\"x\":{\"field\":\"Date\"},\"y\":{\"field\":\"Conv\"}},\"id\":\"5fc1ee2b-1771-4745-b749-937f86fb14f6\",\"type\":\"Line\"},{\"attributes\":{},\"id\":\"899c2b56-5bec-4682-bf5a-dd1396a0065a\",\"type\":\"StringFormatter\"},{\"attributes\":{\"callback\":null,\"column_names\":[\"minPrem\",\"AvgConv\",\"orgPrem\",\"correlation\",\"AvgOrg\",\"maxPrem\"],\"data\":{\"AvgConv\":[13.37],\"AvgOrg\":[41.9],\"correlation\":[0.37],\"maxPrem\":[49.29],\"minPrem\":[15.66],\"orgPrem\":[28.42]}},\"id\":\"9ca006d9-9909-45ff-83e1-a517e82f78b4\",\"type\":\"ColumnDataSource\"},{\"attributes\":{\"days\":[1,2,3,4,5,6,7,8,9,10,11,12,13,14,15,16,17,18,19,20,21,22,23,24,25,26,27,28,29,30,31]},\"id\":\"74ab5bdb-b00c-452e-8ba5-c411b35e3f5e\",\"type\":\"DaysTicker\"},{\"attributes\":{},\"id\":\"30b832a8-970c-44c8-92ed-6fe7e7c3bebb\",\"type\":\"DatetimeTickFormatter\"},{\"attributes\":{\"plot\":{\"id\":\"db0ff286-4b34-4ee0-b8ae-90aed1d3cfd9\",\"subtype\":\"Figure\",\"type\":\"Plot\"}},\"id\":\"fba52140-ed2b-40e4-bcab-28274306b607\",\"type\":\"PanTool\"},{\"attributes\":{},\"id\":\"bdf7d8f2-4bbb-43c2-9f3a-425afc80f7bc\",\"type\":\"StringEditor\"},{\"attributes\":{\"callback\":null,\"column_names\":[\"Conv\",\"premH\",\"Date\",\"Org\",\"ConvH\",\"OrgH\"],\"data\":{\"Conv\":[14.85,8.4,10.37,8.77,9.73,10.81,10.78,11.76,15.86,19.19,19.16,15.85,12.02,10.02,13.5,12.15,13.4,14.04,13.66,14.92,18.95,15.13,13.8,13.81],\"ConvH\":[14.85,8.4,10.37,8.77,9.73,10.81,10.78,11.76,15.86,19.19,19.16,15.85,12.02,10.02,13.5,12.15,13.4,14.04,13.66,14.92,18.95,15.13,13.8,13.81],\"Date\":[1325376000000.0,1328054400000.0,1330560000000.0,1333238400000.0,1335830400000.0,1338508800000.0,1341100800000.0,1343779200000.0,1346457600000.0,1349049600000.0,1351728000000.0,1354320000000.0,1356998400000.0,1359676800000.0,1362096000000.0,1364774400000.0,1367366400000.0,1370044800000.0,1372636800000.0,1375315200000.0,1377993600000.0,1380585600000.0,1383264000000.0,1385856000000.0],\"Org\":[33.95,36.35,29.59,24.43,29.0,32.94,\"NaN\",52.77,45.5,36.78,42.0,45.65,39.38,41.44,36.4,36.25,47.78,63.33,62.82,55.09,45.8,45.0,42.79,38.73],\"OrgH\":[33.95,36.35,29.59,24.43,29.0,32.94,\"NaN\",52.77,45.5,36.78,42.0,45.65,39.38,41.44,36.4,36.25,47.78,63.33,62.82,55.09,45.8,45.0,42.79,38.73],\"premH\":[19.1,27.950000000000003,19.22,15.66,19.27,22.129999999999995,\"NaN\",41.010000000000005,29.64,17.59,22.84,29.799999999999997,27.360000000000003,31.419999999999998,22.9,24.1,34.38,49.29,49.16,40.17,26.849999999999998,29.869999999999997,28.99,24.919999999999995]}},\"id\":\"53bc2bf1-0b87-4a2f-805b-33ea1ba13de0\",\"type\":\"ColumnDataSource\"},{\"attributes\":{\"children\":[{\"id\":\"3a9ebe1d-596b-4e00-9497-a49745c299d8\",\"type\":\"DataTable\"}]},\"id\":\"d546881b-6501-4428-af5c-9a108ee1b4e7\",\"type\":\"WidgetBox\"},{\"attributes\":{\"num_minor_ticks\":5},\"id\":\"c0ad6246-d4fd-4586-b476-4b65d3e7755a\",\"type\":\"DatetimeTicker\"},{\"attributes\":{\"months\":[0,1,2,3,4,5,6,7,8,9,10,11]},\"id\":\"6603142d-468c-447b-93fd-f2131551e6ce\",\"type\":\"MonthsTicker\"},{\"attributes\":{},\"id\":\"aa8eb52f-a894-4b6d-a5c1-c8b05cb9f5a7\",\"type\":\"StringEditor\"},{\"attributes\":{\"below\":[{\"id\":\"6d79b028-757f-4c7a-8170-0f52e8ace562\",\"type\":\"DatetimeAxis\"}],\"left\":[{\"id\":\"b6ee8042-2542-4fcf-a0be-bbdcef62bca2\",\"type\":\"LinearAxis\"}],\"plot_height\":500,\"plot_width\":800,\"renderers\":[{\"id\":\"6d79b028-757f-4c7a-8170-0f52e8ace562\",\"type\":\"DatetimeAxis\"},{\"id\":\"c2f7348f-774c-487d-a242-76acadbbda4d\",\"type\":\"Grid\"},{\"id\":\"b6ee8042-2542-4fcf-a0be-bbdcef62bca2\",\"type\":\"LinearAxis\"},{\"id\":\"17af5e9e-c8dc-4de4-8c79-75f678a448f6\",\"type\":\"Grid\"},{\"id\":\"cd13ebfb-d6d0-4aef-a53a-e704c2d27d17\",\"type\":\"BoxAnnotation\"},{\"id\":\"5d5bbc15-3f93-4fcb-82e2-5c4e21dda6c0\",\"type\":\"Legend\"},{\"id\":\"ac6dcbaf-08a9-4461-8a1b-8b80565f9974\",\"type\":\"GlyphRenderer\"},{\"id\":\"65c4ff36-d6f4-49ca-9c6c-a08763ebe801\",\"type\":\"GlyphRenderer\"}],\"title\":{\"id\":\"580b6988-a510-4ace-b941-ad7537e1a9a1\",\"type\":\"Title\"},\"tool_events\":{\"id\":\"280d7d9e-ec54-4461-91b0-c7e16dc5a935\",\"type\":\"ToolEvents\"},\"toolbar\":{\"id\":\"961ab72b-7f44-4c1f-8e31-6b38e63d5b52\",\"type\":\"Toolbar\"},\"x_range\":{\"id\":\"82d72a3a-ac58-403e-b5d3-bd775901f4ad\",\"type\":\"DataRange1d\"},\"y_range\":{\"id\":\"a04a386b-52e7-4018-b2ac-20a7d4b085e6\",\"type\":\"DataRange1d\"}},\"id\":\"db0ff286-4b34-4ee0-b8ae-90aed1d3cfd9\",\"subtype\":\"Figure\",\"type\":\"Plot\"},{\"attributes\":{\"plot\":{\"id\":\"db0ff286-4b34-4ee0-b8ae-90aed1d3cfd9\",\"subtype\":\"Figure\",\"type\":\"Plot\"}},\"id\":\"f8f2ffa2-1e3c-427d-a5bd-e2a332be8b0f\",\"type\":\"ResetTool\"},{\"attributes\":{\"active_drag\":\"auto\",\"active_scroll\":\"auto\",\"active_tap\":\"auto\",\"tools\":[{\"id\":\"12da6fb6-5fc4-40bc-84c2-b7de9191da8f\",\"type\":\"HoverTool\"},{\"id\":\"fba52140-ed2b-40e4-bcab-28274306b607\",\"type\":\"PanTool\"},{\"id\":\"06e6a296-1386-4ab1-bb13-0117ebdc90da\",\"type\":\"CrosshairTool\"},{\"id\":\"4f7cd7e9-403d-4c42-9df3-60b16275bbc1\",\"type\":\"BoxZoomTool\"},{\"id\":\"f8f2ffa2-1e3c-427d-a5bd-e2a332be8b0f\",\"type\":\"ResetTool\"},{\"id\":\"dbf17250-6169-4feb-8f97-55b7bf7411be\",\"type\":\"SaveTool\"}]},\"id\":\"961ab72b-7f44-4c1f-8e31-6b38e63d5b52\",\"type\":\"Toolbar\"},{\"attributes\":{\"editor\":{\"id\":\"97780849-8887-47c9-bcd6-c6daea78b8c9\",\"type\":\"StringEditor\"},\"field\":\"maxPrem\",\"formatter\":{\"id\":\"899c2b56-5bec-4682-bf5a-dd1396a0065a\",\"type\":\"StringFormatter\"},\"title\":\"Max. Premium\"},\"id\":\"c1149f75-fd32-4aad-8e52-cc3c9446a405\",\"type\":\"TableColumn\"},{\"attributes\":{\"editor\":{\"id\":\"bdf7d8f2-4bbb-43c2-9f3a-425afc80f7bc\",\"type\":\"StringEditor\"},\"field\":\"minPrem\",\"formatter\":{\"id\":\"3fe1154b-54f1-490c-9408-71caf3eef0ba\",\"type\":\"StringFormatter\"},\"title\":\"Min. Premium\"},\"id\":\"9367a261-b010-42f1-88b1-20013d1097f7\",\"type\":\"TableColumn\"},{\"attributes\":{\"plot\":null,\"text\":\"Cabbage/Round green type/40 lb cartons, medium/Atlanta\"},\"id\":\"580b6988-a510-4ace-b941-ad7537e1a9a1\",\"type\":\"Title\"},{\"attributes\":{\"max_interval\":500.0,\"num_minor_ticks\":0},\"id\":\"d7fb88f7-5b8e-4fa9-b710-de891e71032a\",\"type\":\"AdaptiveTicker\"},{\"attributes\":{\"months\":[0,6]},\"id\":\"b35813d5-5860-41de-969f-1467dad09328\",\"type\":\"MonthsTicker\"},{\"attributes\":{\"bottom_units\":\"screen\",\"fill_alpha\":{\"value\":0.5},\"fill_color\":{\"value\":\"lightgrey\"},\"left_units\":\"screen\",\"level\":\"overlay\",\"line_alpha\":{\"value\":1.0},\"line_color\":{\"value\":\"black\"},\"line_dash\":[4,4],\"line_width\":{\"value\":2},\"plot\":null,\"render_mode\":\"css\",\"right_units\":\"screen\",\"top_units\":\"screen\"},\"id\":\"cd13ebfb-d6d0-4aef-a53a-e704c2d27d17\",\"type\":\"BoxAnnotation\"},{\"attributes\":{\"legends\":[[\"Organics\",[{\"id\":\"ac6dcbaf-08a9-4461-8a1b-8b80565f9974\",\"type\":\"GlyphRenderer\"}]],[\"Conventional\",[{\"id\":\"65c4ff36-d6f4-49ca-9c6c-a08763ebe801\",\"type\":\"GlyphRenderer\"}]]],\"location\":\"top_left\",\"orientation\":\"horizontal\",\"plot\":{\"id\":\"db0ff286-4b34-4ee0-b8ae-90aed1d3cfd9\",\"subtype\":\"Figure\",\"type\":\"Plot\"}},\"id\":\"5d5bbc15-3f93-4fcb-82e2-5c4e21dda6c0\",\"type\":\"Legend\"},{\"attributes\":{\"callback\":null,\"plot\":{\"id\":\"db0ff286-4b34-4ee0-b8ae-90aed1d3cfd9\",\"subtype\":\"Figure\",\"type\":\"Plot\"},\"tooltips\":[[\"Organic: \",\"@OrgH\"],[\"Conventional: \",\"@ConvH\"],[\"Org. Premium: \",\"@premH\"]]},\"id\":\"12da6fb6-5fc4-40bc-84c2-b7de9191da8f\",\"type\":\"HoverTool\"},{\"attributes\":{\"line_color\":{\"value\":\"#fdbf6f\"},\"x\":{\"field\":\"Date\"},\"y\":{\"field\":\"Conv\"}},\"id\":\"5fcf107b-a955-4cb3-8efe-d16b06f09897\",\"type\":\"Line\"},{\"attributes\":{\"formatter\":{\"id\":\"30b832a8-970c-44c8-92ed-6fe7e7c3bebb\",\"type\":\"DatetimeTickFormatter\"},\"plot\":{\"id\":\"db0ff286-4b34-4ee0-b8ae-90aed1d3cfd9\",\"subtype\":\"Figure\",\"type\":\"Plot\"},\"ticker\":{\"id\":\"c0ad6246-d4fd-4586-b476-4b65d3e7755a\",\"type\":\"DatetimeTicker\"}},\"id\":\"6d79b028-757f-4c7a-8170-0f52e8ace562\",\"type\":\"DatetimeAxis\"},{\"attributes\":{\"line_color\":{\"value\":\"#a6cee3\"},\"x\":{\"field\":\"Date\"},\"y\":{\"field\":\"Org\"}},\"id\":\"3497cd13-29c8-4248-b186-3dfe461bb4e7\",\"type\":\"Line\"},{\"attributes\":{\"editor\":{\"id\":\"aa8eb52f-a894-4b6d-a5c1-c8b05cb9f5a7\",\"type\":\"StringEditor\"},\"field\":\"orgPrem\",\"formatter\":{\"id\":\"dbfdfff1-1962-4bf6-8ec5-1dd547dc229f\",\"type\":\"StringFormatter\"},\"title\":\"Average Premium\"},\"id\":\"5805fa15-edda-4ef2-bf11-9787b2cdb14c\",\"type\":\"TableColumn\"},{\"attributes\":{},\"id\":\"44a6fe50-9b4d-4a62-a38b-8936803d5b89\",\"type\":\"BasicTickFormatter\"},{\"attributes\":{\"days\":[1,15]},\"id\":\"197de203-c6f3-49f9-a1c2-989361ee1701\",\"type\":\"DaysTicker\"},{\"attributes\":{\"base\":24,\"mantissas\":[1,2,4,6,8,12],\"max_interval\":43200000.0,\"min_interval\":3600000.0,\"num_minor_ticks\":0},\"id\":\"fe9e6fa0-2635-4484-9fa8-0eacbce39680\",\"type\":\"AdaptiveTicker\"},{\"attributes\":{\"columns\":[{\"id\":\"8ca7a7d4-30dd-4ecd-a1b4-d6f7be17e64f\",\"type\":\"TableColumn\"},{\"id\":\"5805fa15-edda-4ef2-bf11-9787b2cdb14c\",\"type\":\"TableColumn\"},{\"id\":\"9367a261-b010-42f1-88b1-20013d1097f7\",\"type\":\"TableColumn\"},{\"id\":\"c1149f75-fd32-4aad-8e52-cc3c9446a405\",\"type\":\"TableColumn\"}],\"height\":75,\"row_headers\":false,\"source\":{\"id\":\"9ca006d9-9909-45ff-83e1-a517e82f78b4\",\"type\":\"ColumnDataSource\"},\"width\":900},\"id\":\"3a9ebe1d-596b-4e00-9497-a49745c299d8\",\"type\":\"DataTable\"},{\"attributes\":{\"callback\":null},\"id\":\"82d72a3a-ac58-403e-b5d3-bd775901f4ad\",\"type\":\"DataRange1d\"}],\"root_ids\":[\"9d6641e9-1f12-41ef-9aa8-0a26ae77f428\"]},\"title\":\"Bokeh Application\",\"version\":\"0.12.0\"}};\n",
       "            var render_items = [{\"docid\":\"d7552402-b899-4de0-8ed6-1a7fcbfbcc21\",\"elementid\":\"7b4b5c86-d468-4eea-bf7e-90b0f257207d\",\"modelid\":\"9d6641e9-1f12-41ef-9aa8-0a26ae77f428\",\"notebook_comms_target\":\"af2e4a35-c5dc-4261-884f-611f6a127e3b\"}];\n",
       "            \n",
       "            Bokeh.embed.embed_items(docs_json, render_items);\n",
       "        });\n",
       "      },\n",
       "      function(Bokeh) {\n",
       "      }\n",
       "    ];\n",
       "  \n",
       "    function run_inline_js() {\n",
       "      for (var i = 0; i < inline_js.length; i++) {\n",
       "        inline_js[i](window.Bokeh);\n",
       "      }\n",
       "    }\n",
       "  \n",
       "    if (window._bokeh_is_loading === 0) {\n",
       "      console.log(\"Bokeh: BokehJS loaded, going straight to plotting\");\n",
       "      run_inline_js();\n",
       "    } else {\n",
       "      load_libs(js_urls, function() {\n",
       "        console.log(\"Bokeh: BokehJS plotting callback run at\", now());\n",
       "        run_inline_js();\n",
       "      });\n",
       "    }\n",
       "  }(this));\n",
       "</script>"
      ]
     },
     "metadata": {},
     "output_type": "display_data"
    },
    {
     "data": {
      "text/html": [
       "<p><code>&lt;Bokeh Notebook handle for <strong>In[121]</strong>&gt;</code></p>"
      ],
      "text/plain": [
       "<bokeh.io._CommsHandle at 0x7f45302035f8>"
      ]
     },
     "execution_count": 121,
     "metadata": {},
     "output_type": "execute_result"
    }
   ],
   "source": [
    "show(column(p,x))"
   ]
  },
  {
   "cell_type": "markdown",
   "metadata": {},
   "source": [
    "### Standalone html of graph"
   ]
  },
  {
   "cell_type": "code",
   "execution_count": 55,
   "metadata": {
    "collapsed": false
   },
   "outputs": [],
   "source": [
    "from jinja2 import Template\n",
    "\n",
    "from bokeh.embed import components\n",
    "from bokeh.models import Range1d\n",
    "from bokeh.plotting import figure\n",
    "from bokeh.resources import INLINE\n",
    "from bokeh.util.browser import view"
   ]
  },
  {
   "cell_type": "code",
   "execution_count": 65,
   "metadata": {
    "collapsed": true
   },
   "outputs": [],
   "source": [
    "plot = {'Comp':p}"
   ]
  },
  {
   "cell_type": "code",
   "execution_count": 66,
   "metadata": {
    "collapsed": false
   },
   "outputs": [],
   "source": [
    "script, div = components(plot)"
   ]
  },
  {
   "cell_type": "code",
   "execution_count": 70,
   "metadata": {
    "collapsed": false
   },
   "outputs": [],
   "source": [
    "template = Template('''<!DOCTYPE html>\n",
    "<html lang=\"en\">\n",
    "    <head>\n",
    "        <meta charset=\"utf-8\">\n",
    "        <title>Bokeh Scatter Plots</title>\n",
    "        {{ js_resources }}\n",
    "        {{ css_resources }}\n",
    "        {{ script }}\n",
    "        <style>\n",
    "            .embed-wrapper {\n",
    "                width: 50%;\n",
    "                height: 200px;\n",
    "                margin: auto;\n",
    "            }\n",
    "        </style>\n",
    "    </head>\n",
    "    <body>\n",
    "        {% for key in div.keys() %}\n",
    "            <div class=\"embed-wrapper\">\n",
    "            {{ div[key] }}\n",
    "            </div>\n",
    "        {% endfor %}\n",
    "    </body>\n",
    "</html>\n",
    "''')"
   ]
  },
  {
   "cell_type": "code",
   "execution_count": 71,
   "metadata": {
    "collapsed": false
   },
   "outputs": [],
   "source": [
    "js_resources = INLINE.render_js()\n",
    "css_resources = INLINE.render_css()\n",
    "\n",
    "filename = 'organics.html'\n",
    "\n",
    "html = template.render(js_resources=js_resources,\n",
    "                       css_resources=css_resources,\n",
    "                       script=script,\n",
    "                       div=div)\n",
    "\n",
    "with open(filename, 'w') as f:\n",
    "    f.write(html)"
   ]
  },
  {
   "cell_type": "code",
   "execution_count": 72,
   "metadata": {
    "collapsed": false,
    "scrolled": true
   },
   "outputs": [],
   "source": [
    "view(filename)"
   ]
  },
  {
   "cell_type": "code",
   "execution_count": null,
   "metadata": {
    "collapsed": true
   },
   "outputs": [],
   "source": []
  },
  {
   "cell_type": "code",
   "execution_count": null,
   "metadata": {
    "collapsed": true
   },
   "outputs": [],
   "source": []
  },
  {
   "cell_type": "code",
   "execution_count": null,
   "metadata": {
    "collapsed": true
   },
   "outputs": [],
   "source": []
  },
  {
   "cell_type": "code",
   "execution_count": null,
   "metadata": {
    "collapsed": true
   },
   "outputs": [],
   "source": []
  },
  {
   "cell_type": "code",
   "execution_count": null,
   "metadata": {
    "collapsed": true
   },
   "outputs": [],
   "source": []
  },
  {
   "cell_type": "code",
   "execution_count": null,
   "metadata": {
    "collapsed": true
   },
   "outputs": [],
   "source": []
  },
  {
   "cell_type": "code",
   "execution_count": null,
   "metadata": {
    "collapsed": true
   },
   "outputs": [],
   "source": []
  },
  {
   "cell_type": "markdown",
   "metadata": {},
   "source": [
    "### Boneyard"
   ]
  },
  {
   "cell_type": "code",
   "execution_count": 418,
   "metadata": {
    "collapsed": false
   },
   "outputs": [],
   "source": [
    "Ags1 = Ags.pivot_table('Price',['Commodity','MonthYearForm','Terminal Market','Subgroup'],'Organic/ Conventional')"
   ]
  },
  {
   "cell_type": "code",
   "execution_count": 419,
   "metadata": {
    "collapsed": false
   },
   "outputs": [
    {
     "data": {
      "text/html": [
       "<div>\n",
       "<table border=\"1\" class=\"dataframe\">\n",
       "  <thead>\n",
       "    <tr style=\"text-align: right;\">\n",
       "      <th></th>\n",
       "      <th></th>\n",
       "      <th></th>\n",
       "      <th>Organic/ Conventional</th>\n",
       "      <th>Conv</th>\n",
       "      <th>Org</th>\n",
       "    </tr>\n",
       "    <tr>\n",
       "      <th>Commodity</th>\n",
       "      <th>MonthYearForm</th>\n",
       "      <th>Terminal Market</th>\n",
       "      <th>Subgroup</th>\n",
       "      <th></th>\n",
       "      <th></th>\n",
       "    </tr>\n",
       "  </thead>\n",
       "  <tbody>\n",
       "    <tr>\n",
       "      <th rowspan=\"5\" valign=\"top\">Artichoke (SF only)</th>\n",
       "      <th>2012-01-01</th>\n",
       "      <th>San Fran</th>\n",
       "      <th>Globe</th>\n",
       "      <td>28.58</td>\n",
       "      <td>37.34</td>\n",
       "    </tr>\n",
       "    <tr>\n",
       "      <th>2012-02-01</th>\n",
       "      <th>San Fran</th>\n",
       "      <th>Globe</th>\n",
       "      <td>30.00</td>\n",
       "      <td>35.46</td>\n",
       "    </tr>\n",
       "    <tr>\n",
       "      <th>2012-03-01</th>\n",
       "      <th>San Fran</th>\n",
       "      <th>Globe</th>\n",
       "      <td>30.94</td>\n",
       "      <td>NaN</td>\n",
       "    </tr>\n",
       "    <tr>\n",
       "      <th>2012-04-01</th>\n",
       "      <th>San Fran</th>\n",
       "      <th>Globe</th>\n",
       "      <td>18.50</td>\n",
       "      <td>NaN</td>\n",
       "    </tr>\n",
       "    <tr>\n",
       "      <th>2012-05-01</th>\n",
       "      <th>San Fran</th>\n",
       "      <th>Globe</th>\n",
       "      <td>13.48</td>\n",
       "      <td>NaN</td>\n",
       "    </tr>\n",
       "  </tbody>\n",
       "</table>\n",
       "</div>"
      ],
      "text/plain": [
       "Organic/ Conventional                                        Conv    Org\n",
       "Commodity           MonthYearForm Terminal Market Subgroup              \n",
       "Artichoke (SF only) 2012-01-01    San Fran        Globe     28.58  37.34\n",
       "                    2012-02-01    San Fran        Globe     30.00  35.46\n",
       "                    2012-03-01    San Fran        Globe     30.94    NaN\n",
       "                    2012-04-01    San Fran        Globe     18.50    NaN\n",
       "                    2012-05-01    San Fran        Globe     13.48    NaN"
      ]
     },
     "execution_count": 419,
     "metadata": {},
     "output_type": "execute_result"
    }
   ],
   "source": [
    "Ags1.head()"
   ]
  },
  {
   "cell_type": "code",
   "execution_count": 355,
   "metadata": {
    "collapsed": false
   },
   "outputs": [
    {
     "data": {
      "text/plain": [
       "Commodity            MonthYearForm  Terminal Market  Subgroup\n",
       "Artichoke (SF only)  2012-01-01     San Fran         Globe       28.58\n",
       "                     2012-02-01     San Fran         Globe       30.00\n",
       "                     2012-03-01     San Fran         Globe       30.94\n",
       "                     2012-04-01     San Fran         Globe       18.50\n",
       "                     2012-05-01     San Fran         Globe       13.48\n",
       "Name: Conv, dtype: float64"
      ]
     },
     "execution_count": 355,
     "metadata": {},
     "output_type": "execute_result"
    }
   ],
   "source": [
    "Ags1.head()"
   ]
  },
  {
   "cell_type": "code",
   "execution_count": null,
   "metadata": {
    "collapsed": true
   },
   "outputs": [],
   "source": []
  },
  {
   "cell_type": "code",
   "execution_count": null,
   "metadata": {
    "collapsed": true
   },
   "outputs": [],
   "source": []
  },
  {
   "cell_type": "code",
   "execution_count": 323,
   "metadata": {
    "collapsed": false,
    "scrolled": true
   },
   "outputs": [
    {
     "data": {
      "text/html": [
       "<div>\n",
       "<table border=\"1\" class=\"dataframe\">\n",
       "  <thead>\n",
       "    <tr style=\"text-align: right;\">\n",
       "      <th></th>\n",
       "      <th></th>\n",
       "      <th>Organic/ Conventional</th>\n",
       "      <th>Conv</th>\n",
       "      <th>Org</th>\n",
       "    </tr>\n",
       "    <tr>\n",
       "      <th>Commodity</th>\n",
       "      <th>MonthYearForm</th>\n",
       "      <th>Terminal Market</th>\n",
       "      <th></th>\n",
       "      <th></th>\n",
       "    </tr>\n",
       "  </thead>\n",
       "  <tbody>\n",
       "    <tr>\n",
       "      <th rowspan=\"5\" valign=\"top\">Artichoke (SF only)</th>\n",
       "      <th>2012-01-01</th>\n",
       "      <th>San Fran</th>\n",
       "      <td>28.58</td>\n",
       "      <td>37.34</td>\n",
       "    </tr>\n",
       "    <tr>\n",
       "      <th>2012-02-01</th>\n",
       "      <th>San Fran</th>\n",
       "      <td>30.00</td>\n",
       "      <td>35.46</td>\n",
       "    </tr>\n",
       "    <tr>\n",
       "      <th>2012-03-01</th>\n",
       "      <th>San Fran</th>\n",
       "      <td>30.94</td>\n",
       "      <td>NaN</td>\n",
       "    </tr>\n",
       "    <tr>\n",
       "      <th>2012-04-01</th>\n",
       "      <th>San Fran</th>\n",
       "      <td>18.50</td>\n",
       "      <td>NaN</td>\n",
       "    </tr>\n",
       "    <tr>\n",
       "      <th>2012-05-01</th>\n",
       "      <th>San Fran</th>\n",
       "      <td>13.48</td>\n",
       "      <td>NaN</td>\n",
       "    </tr>\n",
       "  </tbody>\n",
       "</table>\n",
       "</div>"
      ],
      "text/plain": [
       "Organic/ Conventional                               Conv    Org\n",
       "Commodity           MonthYearForm Terminal Market              \n",
       "Artichoke (SF only) 2012-01-01    San Fran         28.58  37.34\n",
       "                    2012-02-01    San Fran         30.00  35.46\n",
       "                    2012-03-01    San Fran         30.94    NaN\n",
       "                    2012-04-01    San Fran         18.50    NaN\n",
       "                    2012-05-01    San Fran         13.48    NaN"
      ]
     },
     "execution_count": 323,
     "metadata": {},
     "output_type": "execute_result"
    }
   ],
   "source": [
    "Ags.head()\n",
    "#Veggies2013.head()"
   ]
  },
  {
   "cell_type": "code",
   "execution_count": 226,
   "metadata": {
    "collapsed": false
   },
   "outputs": [
    {
     "data": {
      "text/plain": [
       "Commodity                        object\n",
       "Subgroup                         object\n",
       "Package                          object\n",
       "Organic/ Conventional            object\n",
       "Terminal Market                  object\n",
       "MonthYear                        object\n",
       "Price                            object\n",
       "MonthYearForm            datetime64[ns]\n",
       "dtype: object"
      ]
     },
     "execution_count": 226,
     "metadata": {},
     "output_type": "execute_result"
    }
   ],
   "source": [
    "Veggies.dtypes"
   ]
  },
  {
   "cell_type": "code",
   "execution_count": null,
   "metadata": {
    "collapsed": true
   },
   "outputs": [],
   "source": []
  },
  {
   "cell_type": "code",
   "execution_count": null,
   "metadata": {
    "collapsed": true
   },
   "outputs": [],
   "source": []
  },
  {
   "cell_type": "code",
   "execution_count": null,
   "metadata": {
    "collapsed": true
   },
   "outputs": [],
   "source": []
  },
  {
   "cell_type": "code",
   "execution_count": null,
   "metadata": {
    "collapsed": true
   },
   "outputs": [],
   "source": []
  },
  {
   "cell_type": "code",
   "execution_count": null,
   "metadata": {
    "collapsed": true
   },
   "outputs": [],
   "source": []
  },
  {
   "cell_type": "code",
   "execution_count": null,
   "metadata": {
    "collapsed": true
   },
   "outputs": [],
   "source": []
  }
 ],
 "metadata": {
  "anaconda-cloud": {},
  "kernelspec": {
   "display_name": "Python [Root]",
   "language": "python",
   "name": "Python [Root]"
  },
  "language_info": {
   "codemirror_mode": {
    "name": "ipython",
    "version": 3
   },
   "file_extension": ".py",
   "mimetype": "text/x-python",
   "name": "python",
   "nbconvert_exporter": "python",
   "pygments_lexer": "ipython3",
   "version": "3.5.2"
  }
 },
 "nbformat": 4,
 "nbformat_minor": 0
}
