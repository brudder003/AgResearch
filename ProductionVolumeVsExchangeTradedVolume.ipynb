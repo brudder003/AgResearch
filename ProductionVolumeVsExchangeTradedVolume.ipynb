{
 "cells": [
  {
   "cell_type": "code",
   "execution_count": 1,
   "metadata": {
    "collapsed": false
   },
   "outputs": [
    {
     "data": {
      "text/html": [
       "\n",
       "    <div class=\"bk-root\">\n",
       "        <a href=\"http://bokeh.pydata.org\" target=\"_blank\" class=\"bk-logo bk-logo-small bk-logo-notebook\"></a>\n",
       "        <span id=\"e6d4c9a3-1c2d-4991-a932-7e4be8c2ec2d\">Loading BokehJS ...</span>\n",
       "    </div>"
      ]
     },
     "metadata": {},
     "output_type": "display_data"
    },
    {
     "data": {
      "application/javascript": [
       "\n",
       "(function(global) {\n",
       "  function now() {\n",
       "    return new Date();\n",
       "  }\n",
       "\n",
       "  if (typeof (window._bokeh_onload_callbacks) === \"undefined\") {\n",
       "    window._bokeh_onload_callbacks = [];\n",
       "  }\n",
       "\n",
       "  function run_callbacks() {\n",
       "    window._bokeh_onload_callbacks.forEach(function(callback) { callback() });\n",
       "    delete window._bokeh_onload_callbacks\n",
       "    console.info(\"Bokeh: all callbacks have finished\");\n",
       "  }\n",
       "\n",
       "  function load_libs(js_urls, callback) {\n",
       "    window._bokeh_onload_callbacks.push(callback);\n",
       "    if (window._bokeh_is_loading > 0) {\n",
       "      console.log(\"Bokeh: BokehJS is being loaded, scheduling callback at\", now());\n",
       "      return null;\n",
       "    }\n",
       "    if (js_urls == null || js_urls.length === 0) {\n",
       "      run_callbacks();\n",
       "      return null;\n",
       "    }\n",
       "    console.log(\"Bokeh: BokehJS not loaded, scheduling load and callback at\", now());\n",
       "    window._bokeh_is_loading = js_urls.length;\n",
       "    for (var i = 0; i < js_urls.length; i++) {\n",
       "      var url = js_urls[i];\n",
       "      var s = document.createElement('script');\n",
       "      s.src = url;\n",
       "      s.async = false;\n",
       "      s.onreadystatechange = s.onload = function() {\n",
       "        window._bokeh_is_loading--;\n",
       "        if (window._bokeh_is_loading === 0) {\n",
       "          console.log(\"Bokeh: all BokehJS libraries loaded\");\n",
       "          run_callbacks()\n",
       "        }\n",
       "      };\n",
       "      s.onerror = function() {\n",
       "        console.warn(\"failed to load library \" + url);\n",
       "      };\n",
       "      console.log(\"Bokeh: injecting script tag for BokehJS library: \", url);\n",
       "      document.getElementsByTagName(\"head\")[0].appendChild(s);\n",
       "    }\n",
       "  };\n",
       "\n",
       "  var js_urls = ['https://cdn.pydata.org/bokeh/release/bokeh-0.12.0.min.js', 'https://cdn.pydata.org/bokeh/release/bokeh-widgets-0.12.0.min.js', 'https://cdn.pydata.org/bokeh/release/bokeh-compiler-0.12.0.min.js'];\n",
       "\n",
       "  var inline_js = [\n",
       "    function(Bokeh) {\n",
       "      Bokeh.set_log_level(\"info\");\n",
       "    },\n",
       "    \n",
       "    function(Bokeh) {\n",
       "      Bokeh.$(\"#e6d4c9a3-1c2d-4991-a932-7e4be8c2ec2d\").text(\"BokehJS successfully loaded\");\n",
       "    },\n",
       "    function(Bokeh) {\n",
       "      console.log(\"Bokeh: injecting CSS: https://cdn.pydata.org/bokeh/release/bokeh-0.12.0.min.css\");\n",
       "      Bokeh.embed.inject_css(\"https://cdn.pydata.org/bokeh/release/bokeh-0.12.0.min.css\");\n",
       "      console.log(\"Bokeh: injecting CSS: https://cdn.pydata.org/bokeh/release/bokeh-widgets-0.12.0.min.css\");\n",
       "      Bokeh.embed.inject_css(\"https://cdn.pydata.org/bokeh/release/bokeh-widgets-0.12.0.min.css\");\n",
       "    }\n",
       "  ];\n",
       "\n",
       "  function run_inline_js() {\n",
       "    for (var i = 0; i < inline_js.length; i++) {\n",
       "      inline_js[i](window.Bokeh);\n",
       "    }\n",
       "  }\n",
       "\n",
       "  if (window._bokeh_is_loading === 0) {\n",
       "    console.log(\"Bokeh: BokehJS loaded, going straight to plotting\");\n",
       "    run_inline_js();\n",
       "  } else {\n",
       "    load_libs(js_urls, function() {\n",
       "      console.log(\"Bokeh: BokehJS plotting callback run at\", now());\n",
       "      run_inline_js();\n",
       "    });\n",
       "  }\n",
       "}(this));"
      ]
     },
     "metadata": {},
     "output_type": "display_data"
    }
   ],
   "source": [
    "import quandl\n",
    "from datetime import date\n",
    "from bokeh.charts import Bar\n",
    "from bokeh.io import output_notebook, show, vform\n",
    "output_notebook()\n",
    "from pandas import ExcelWriter"
   ]
  },
  {
   "cell_type": "markdown",
   "metadata": {},
   "source": [
    "__plan and notes__\n",
    "\n",
    "- get physical volume from USDA convert to contracts\n",
    "\n",
    "- calc total volume traded last year divided by phy volume\n",
    "\n",
    "- calc average OI for the year divide by phys volume\n",
    "\n",
    "- if possible, calc total deliveries for the year divide by phys volume\n",
    "\n",
    "do 1. 2. 3. for producer/merchant/processor\n",
    "\n",
    "Notes:\n",
    "\n",
    "- [oats specs](www.cmegroup.com/trading/agricultural/grain-and-oilseed/oats_contract_specifications.html)\n",
    "- cot dataset titles like \"Commitment of Traders - Oats - Futures Only\"\n",
    " - dept of ag NASS dataset titles like \"Oats - Production, Measured In Bu\"\n",
    "\n",
    "- [CME contract specs](http://www.cmegroup.com/trading/agricultural/grain-and-oilseed/oats_contract_specifications.html) example\n",
    "\n",
    "- Some of the 2015 crop data is missing, I'm filling in 2015 with infromation form this pdf, i dont know why 2015 isnt online yet, but other years are the same in this report as the dataset. [\"Crop Production 2015 Summary\"](http://www.usda.gov/nass/PUBS/TODAYRPT/cropan16.pdf) [didnt end up doing this but could be done in future revision]\n",
    "    \n",
    "- 3,929,885 - 2015 Soybeans\n"
   ]
  },
  {
   "cell_type": "markdown",
   "metadata": {},
   "source": [
    "__Set up and Pull data__"
   ]
  },
  {
   "cell_type": "code",
   "execution_count": 2,
   "metadata": {
    "collapsed": true
   },
   "outputs": [],
   "source": [
    "#SET UP FOR QUANDL PULL\n",
    "\n",
    "#volume is from wiki continous futures\n",
    "# .7 is the volume column\n",
    "Volume_codes = [\"CHRIS/CME_O1.7\", #oats 1\n",
    "            \"CHRIS/CME_O2.7\", #oats 2\n",
    "            \"CHRIS/CME_O3.7\", #oats 3 \n",
    "                \n",
    "            \"CHRIS/CME_S1.7\", #soybean 1\n",
    "            \"CHRIS/CME_S2.7\", #soybean 2\n",
    "            \"CHRIS/CME_S3.7\", #soybean 3\n",
    "            \"CHRIS/CME_S4.7\", #soybean 4\n",
    "            \"CHRIS/CME_S5.7\", #soybean 5\n",
    "            \"CHRIS/CME_S6.7\", #soybean 6\n",
    "            \"CHRIS/CME_S7.7\", #soybean 7\n",
    "            \"CHRIS/CME_S8.7\", #soybean 8\n",
    "            \"CHRIS/CME_S9.7\", #soybean 9\n",
    "            \"CHRIS/CME_S10.7\", #soybean 10\n",
    "            \n",
    "            \"CHRIS/CME_C1.7\", #corn 1\n",
    "            \"CHRIS/CME_C2.7\", #corn 2\n",
    "            \"CHRIS/CME_C3.7\", #corn 3\n",
    "            \"CHRIS/CME_C4.7\", #corn 4\n",
    "            \"CHRIS/CME_C5.7\", #corn 5\n",
    "            \"CHRIS/CME_C6.7\", #corn 6\n",
    "            \"CHRIS/CME_C7.7\", #corn 7\n",
    "            \"CHRIS/CME_C8.7\", #corn 8\n",
    "            \"CHRIS/CME_C9.7\", #corn 9\n",
    "            \"CHRIS/CME_C10.7\", #corn 10\n",
    "                \n",
    "            \"CHRIS/CME_W1.7\", #Wheat (all KC) 1\n",
    "            \"CHRIS/CME_W2.7\", #Wheat 2\n",
    "            \"CHRIS/CME_W3.7\", #Wheat 3\n",
    "            \"CHRIS/CME_W4.7\", #Wheat 4\n",
    "            \"CHRIS/CME_W5.7\", #Wheat 5\n",
    "            \"CHRIS/CME_W6.7\", #Wheat 6\n",
    "            \"CHRIS/CME_W7.7\", #Wheat 7\n",
    "            \"CHRIS/CME_W8.7\", #Wheat 8\n",
    "\n",
    "            \"CHRIS/CME_RR1.7\", #rice 1\n",
    "            \"CHRIS/CME_RR2.7\", #rice 2\n",
    "            \"CHRIS/CME_RR3.7\", #rice 3       \n",
    "           ]\n",
    "\n",
    "#oi from COT\n",
    "OI_codes = [\"CFTC/O_F_ALL\", #oats\n",
    "            \"CFTC/S_F_ALL\", #soybean\n",
    "            \"CFTC/C_F_ALL\", #corn\n",
    "            \"CFTC/W_F_ALL\", #wheat\n",
    "            \"CFTC/RR_F_ALL\", #rice\n",
    "           ]\n",
    "\n",
    "#production from USDA NASS (National Ag Stats Service)\n",
    "Prod_codes = [\"USDANASS/NASS_OATSPRODUCTIONMEASUREDINBU\", #oats\n",
    "              \"USDANASS/NASS_SOYBEANSPRODUCTIONMEASUREDINBU\", #soybean\n",
    "              \"USDANASS/NASS_CORNGRAINPRODUCTIONMEASUREDINBU\", #corn\n",
    "              \"USDANASS/NASS_WHEATWINTERREDSOFTPRODUCTIONMEASUREDINBU\", #wheat\n",
    "              \"USDANASS/NASS_RICEPRODUCTIONMEASUREDINCWT\", #rice\n",
    "             ]\n",
    "\n",
    "#four years ago for quandl pull\n",
    "fouryears = date(2012, 1, 1)"
   ]
  },
  {
   "cell_type": "code",
   "execution_count": 4,
   "metadata": {
    "collapsed": true
   },
   "outputs": [],
   "source": [
    "OI = quandl.get(OI_codes, trim_start=fouryears, authtoken=\"UDaCz3fqxxJUAL3-WWmD\", returns=\"pandas\")"
   ]
  },
  {
   "cell_type": "code",
   "execution_count": 5,
   "metadata": {
    "collapsed": true
   },
   "outputs": [],
   "source": [
    "Production = quandl.get(Prod_codes, trim_start=fouryears, authtoken=\"UDaCz3fqxxJUAL3-WWmD\", returns=\"pandas\")"
   ]
  },
  {
   "cell_type": "code",
   "execution_count": 6,
   "metadata": {
    "collapsed": true
   },
   "outputs": [],
   "source": [
    "Volume = quandl.get(Volume_codes,trim_start=fouryears, authtoken=\"UDaCz3fqxxJUAL3-WWmD\", returns=\"pandas\")"
   ]
  },
  {
   "cell_type": "markdown",
   "metadata": {},
   "source": [
    "__Production Data__"
   ]
  },
  {
   "cell_type": "code",
   "execution_count": 10,
   "metadata": {
    "collapsed": false
   },
   "outputs": [
    {
     "data": {
      "text/html": [
       "<div>\n",
       "<table border=\"1\" class=\"dataframe\">\n",
       "  <thead>\n",
       "    <tr style=\"text-align: right;\">\n",
       "      <th></th>\n",
       "      <th>USDANASS/NASS_OATSPRODUCTIONMEASUREDINBU - Value</th>\n",
       "      <th>USDANASS/NASS_SOYBEANSPRODUCTIONMEASUREDINBU - Value</th>\n",
       "      <th>USDANASS/NASS_CORNGRAINPRODUCTIONMEASUREDINBU - Value</th>\n",
       "      <th>USDANASS/NASS_WHEATWINTERREDSOFTPRODUCTIONMEASUREDINBU - Value</th>\n",
       "      <th>USDANASS/NASS_RICEPRODUCTIONMEASUREDINCWT - Value</th>\n",
       "    </tr>\n",
       "    <tr>\n",
       "      <th>Date</th>\n",
       "      <th></th>\n",
       "      <th></th>\n",
       "      <th></th>\n",
       "      <th></th>\n",
       "      <th></th>\n",
       "    </tr>\n",
       "  </thead>\n",
       "  <tbody>\n",
       "    <tr>\n",
       "      <th>2012-12-31</th>\n",
       "      <td>61486000.0</td>\n",
       "      <td>3.042044e+09</td>\n",
       "      <td>1.075511e+10</td>\n",
       "      <td>412729000.0</td>\n",
       "      <td>199939000.0</td>\n",
       "    </tr>\n",
       "    <tr>\n",
       "      <th>2013-12-31</th>\n",
       "      <td>64642000.0</td>\n",
       "      <td>3.357984e+09</td>\n",
       "      <td>1.382896e+10</td>\n",
       "      <td>568481000.0</td>\n",
       "      <td>189953000.0</td>\n",
       "    </tr>\n",
       "    <tr>\n",
       "      <th>2014-12-31</th>\n",
       "      <td>69684000.0</td>\n",
       "      <td>3.968823e+09</td>\n",
       "      <td>1.421553e+10</td>\n",
       "      <td>455297000.0</td>\n",
       "      <td>221035000.0</td>\n",
       "    </tr>\n",
       "    <tr>\n",
       "      <th>2015-12-31</th>\n",
       "      <td>83640000.0</td>\n",
       "      <td>NaN</td>\n",
       "      <td>NaN</td>\n",
       "      <td>393416000.0</td>\n",
       "      <td>NaN</td>\n",
       "    </tr>\n",
       "  </tbody>\n",
       "</table>\n",
       "</div>"
      ],
      "text/plain": [
       "            USDANASS/NASS_OATSPRODUCTIONMEASUREDINBU - Value  \\\n",
       "Date                                                           \n",
       "2012-12-31                                        61486000.0   \n",
       "2013-12-31                                        64642000.0   \n",
       "2014-12-31                                        69684000.0   \n",
       "2015-12-31                                        83640000.0   \n",
       "\n",
       "            USDANASS/NASS_SOYBEANSPRODUCTIONMEASUREDINBU - Value  \\\n",
       "Date                                                               \n",
       "2012-12-31                                       3.042044e+09      \n",
       "2013-12-31                                       3.357984e+09      \n",
       "2014-12-31                                       3.968823e+09      \n",
       "2015-12-31                                                NaN      \n",
       "\n",
       "            USDANASS/NASS_CORNGRAINPRODUCTIONMEASUREDINBU - Value  \\\n",
       "Date                                                                \n",
       "2012-12-31                                       1.075511e+10       \n",
       "2013-12-31                                       1.382896e+10       \n",
       "2014-12-31                                       1.421553e+10       \n",
       "2015-12-31                                                NaN       \n",
       "\n",
       "            USDANASS/NASS_WHEATWINTERREDSOFTPRODUCTIONMEASUREDINBU - Value  \\\n",
       "Date                                                                         \n",
       "2012-12-31                                        412729000.0                \n",
       "2013-12-31                                        568481000.0                \n",
       "2014-12-31                                        455297000.0                \n",
       "2015-12-31                                        393416000.0                \n",
       "\n",
       "            USDANASS/NASS_RICEPRODUCTIONMEASUREDINCWT - Value  \n",
       "Date                                                           \n",
       "2012-12-31                                        199939000.0  \n",
       "2013-12-31                                        189953000.0  \n",
       "2014-12-31                                        221035000.0  \n",
       "2015-12-31                                                NaN  "
      ]
     },
     "execution_count": 10,
     "metadata": {},
     "output_type": "execute_result"
    }
   ],
   "source": [
    "Production.head()"
   ]
  },
  {
   "cell_type": "code",
   "execution_count": 7,
   "metadata": {
    "collapsed": true
   },
   "outputs": [],
   "source": [
    "#PRODUCTION\n",
    "#copy because quandl has a call limit and sometimes and I want this dataset to be my base.\n",
    "prod = Production.copy()\n",
    "\n",
    "#index based on date\n",
    "prod.index.name = None\n",
    "\n",
    "#already had this code thought it'd be easier than cut and paste them ugly col names\n",
    "oat_cols = [col for col in prod.columns if 'OATS' in col]\n",
    "soybean_cols = [col for col in prod.columns if 'SOYBEAN' in col]\n",
    "corn_cols = [col for col in prod.columns if 'CORN' in col]\n",
    "wheat_cols = [col for col in prod.columns if 'WHEAT' in col]\n",
    "rice_cols = [col for col in prod.columns if 'RICE' in col]\n",
    "\n",
    "#convert phy volum produced into contracts\n",
    "#contract sizes from CME website\n",
    "prod['Contracts Oats'] = prod[oat_cols]/5000\n",
    "prod['Contracts Soybean'] = prod[soybean_cols]/5000\n",
    "prod['Contracts Corn'] = prod[corn_cols]/5000\n",
    "prod['Contracts Wheat'] = prod[wheat_cols]/5000\n",
    "prod['Contracts Rice'] = prod[rice_cols]/2000"
   ]
  },
  {
   "cell_type": "code",
   "execution_count": 13,
   "metadata": {
    "collapsed": true
   },
   "outputs": [],
   "source": [
    "prod = prod.drop(oat_cols,1)\n",
    "prod = prod.drop(soybean_cols,1)\n",
    "prod = prod.drop(corn_cols,1)\n",
    "prod = prod.drop(wheat_cols,1)\n",
    "prod = prod.drop(rice_cols,1)"
   ]
  },
  {
   "cell_type": "markdown",
   "metadata": {},
   "source": [
    "__OI Data__"
   ]
  },
  {
   "cell_type": "code",
   "execution_count": 12,
   "metadata": {
    "collapsed": true
   },
   "outputs": [],
   "source": [
    "#OI\n",
    "oi = OI.copy()\n",
    "\n",
    "#index based on date\n",
    "oi.index.name = None\n",
    "\n",
    "#resample to yearly data, take mean of colums\n",
    "oi = oi.resample('A').mean()"
   ]
  },
  {
   "cell_type": "code",
   "execution_count": 14,
   "metadata": {
    "collapsed": false
   },
   "outputs": [],
   "source": [
    "#keep certain columns\n",
    "oi = oi[['CFTC/O_F_ALL - Open Interest',\n",
    "       'CFTC/O_F_ALL - Producer/Merchant/Processor/User Longs',\n",
    "       'CFTC/O_F_ALL - Producer/Merchant/Processor/User Shorts',\n",
    "         \n",
    "        'CFTC/S_F_ALL - Open Interest',\n",
    "       'CFTC/S_F_ALL - Producer/Merchant/Processor/User Longs',\n",
    "       'CFTC/S_F_ALL - Producer/Merchant/Processor/User Shorts',\n",
    "         \n",
    "        'CFTC/C_F_ALL - Open Interest',\n",
    "       'CFTC/C_F_ALL - Producer/Merchant/Processor/User Longs',\n",
    "       'CFTC/C_F_ALL - Producer/Merchant/Processor/User Shorts',\n",
    "         \n",
    "        'CFTC/W_F_ALL - Open Interest',\n",
    "       'CFTC/W_F_ALL - Producer/Merchant/Processor/User Longs',\n",
    "       'CFTC/W_F_ALL - Producer/Merchant/Processor/User Shorts',\n",
    "         \n",
    "        'CFTC/RR_F_ALL - Open Interest',\n",
    "       'CFTC/RR_F_ALL - Producer/Merchant/Processor/User Longs',\n",
    "       'CFTC/RR_F_ALL - Producer/Merchant/Processor/User Shorts',\n",
    "        ]]"
   ]
  },
  {
   "cell_type": "code",
   "execution_count": 15,
   "metadata": {
    "collapsed": true
   },
   "outputs": [],
   "source": [
    "#rename columns\n",
    "oi.columns = ['Oats Open Interest',\n",
    "             'Oats Producer Longs',\n",
    "             'Oats Producer Shorts',\n",
    "              \n",
    "             'Soybean Open Interest',\n",
    "             'Soybean Producer Longs',\n",
    "             'Soybean Producer Shorts',\n",
    "              \n",
    "             'Corn Open Interest',\n",
    "             'Corn Producer Longs',\n",
    "             'Corn Producer Shorts',\n",
    "              \n",
    "             'Wheat Open Interest',\n",
    "             'Wheat Producer Longs',\n",
    "             'Wheat Producer Shorts',\n",
    "              \n",
    "             'Rice Open Interest',\n",
    "             'Rice Producer Longs',\n",
    "             'Rice Producer Shorts'\n",
    "             ]"
   ]
  },
  {
   "cell_type": "markdown",
   "metadata": {},
   "source": [
    "__Volume Data__"
   ]
  },
  {
   "cell_type": "code",
   "execution_count": 16,
   "metadata": {
    "collapsed": true
   },
   "outputs": [],
   "source": [
    "#VOLUME\n",
    "vol = Volume.copy()"
   ]
  },
  {
   "cell_type": "code",
   "execution_count": 17,
   "metadata": {
    "collapsed": true
   },
   "outputs": [],
   "source": [
    "#index based on date\n",
    "vol.index.name = None"
   ]
  },
  {
   "cell_type": "code",
   "execution_count": 18,
   "metadata": {
    "collapsed": true
   },
   "outputs": [],
   "source": [
    "oat_c = [col for col in vol.columns if 'CME_O' in col]\n",
    "soybean_c = [col for col in vol.columns if 'CME_S' in col]\n",
    "corn_c = [col for col in vol.columns if 'CME_C' in col]\n",
    "wheat_c = [col for col in vol.columns if 'CME_W' in col]\n",
    "rice_c = [col for col in vol.columns if 'CME_R' in col]"
   ]
  },
  {
   "cell_type": "code",
   "execution_count": 19,
   "metadata": {
    "collapsed": true
   },
   "outputs": [],
   "source": [
    "vol['oat TV'] = vol[oat_c].sum(axis=1)\n",
    "vol['soybean TV'] = vol[soybean_c].sum(axis=1)\n",
    "vol['corn TV'] = vol[corn_c].sum(axis=1)\n",
    "vol['wheat TV'] = vol[wheat_c].sum(axis=1)\n",
    "vol['rice TV'] = vol[rice_c].sum(axis=1)"
   ]
  },
  {
   "cell_type": "code",
   "execution_count": 20,
   "metadata": {
    "collapsed": true
   },
   "outputs": [],
   "source": [
    "vol = vol.resample('A').sum()"
   ]
  },
  {
   "cell_type": "code",
   "execution_count": 21,
   "metadata": {
    "collapsed": true
   },
   "outputs": [],
   "source": [
    "vol = vol[['oat TV','soybean TV','corn TV','wheat TV','rice TV']]"
   ]
  },
  {
   "cell_type": "markdown",
   "metadata": {},
   "source": [
    "__ Join datasets make columns __"
   ]
  },
  {
   "cell_type": "code",
   "execution_count": 22,
   "metadata": {
    "collapsed": true
   },
   "outputs": [],
   "source": [
    "vol = vol[vol.index.year != 2016]\n",
    "oi = oi[oi.index.year != 2016]"
   ]
  },
  {
   "cell_type": "code",
   "execution_count": 23,
   "metadata": {
    "collapsed": true
   },
   "outputs": [],
   "source": [
    "pv = prod.join(vol)"
   ]
  },
  {
   "cell_type": "code",
   "execution_count": 24,
   "metadata": {
    "collapsed": true
   },
   "outputs": [],
   "source": [
    "pvo = pv.join(oi)"
   ]
  },
  {
   "cell_type": "code",
   "execution_count": 25,
   "metadata": {
    "collapsed": false,
    "scrolled": true
   },
   "outputs": [
    {
     "data": {
      "text/html": [
       "<div>\n",
       "<table border=\"1\" class=\"dataframe\">\n",
       "  <thead>\n",
       "    <tr style=\"text-align: right;\">\n",
       "      <th></th>\n",
       "      <th>Contracts Oats</th>\n",
       "      <th>Contracts Soybean</th>\n",
       "      <th>Contracts Corn</th>\n",
       "      <th>Contracts Wheat</th>\n",
       "      <th>Contracts Rice</th>\n",
       "      <th>oat TV</th>\n",
       "      <th>soybean TV</th>\n",
       "      <th>corn TV</th>\n",
       "      <th>wheat TV</th>\n",
       "      <th>rice TV</th>\n",
       "      <th>...</th>\n",
       "      <th>Soybean Producer Shorts</th>\n",
       "      <th>Corn Open Interest</th>\n",
       "      <th>Corn Producer Longs</th>\n",
       "      <th>Corn Producer Shorts</th>\n",
       "      <th>Wheat Open Interest</th>\n",
       "      <th>Wheat Producer Longs</th>\n",
       "      <th>Wheat Producer Shorts</th>\n",
       "      <th>Rice Open Interest</th>\n",
       "      <th>Rice Producer Longs</th>\n",
       "      <th>Rice Producer Shorts</th>\n",
       "    </tr>\n",
       "  </thead>\n",
       "  <tbody>\n",
       "    <tr>\n",
       "      <th>2012-12-31</th>\n",
       "      <td>12297.2</td>\n",
       "      <td>608408.8</td>\n",
       "      <td>2151022.2</td>\n",
       "      <td>82545.8</td>\n",
       "      <td>99969.5</td>\n",
       "      <td>285186.0</td>\n",
       "      <td>53494064.0</td>\n",
       "      <td>72680440.0</td>\n",
       "      <td>28478378.0</td>\n",
       "      <td>390937.0</td>\n",
       "      <td>...</td>\n",
       "      <td>384333.584906</td>\n",
       "      <td>1.222394e+06</td>\n",
       "      <td>235429.849057</td>\n",
       "      <td>624896.754717</td>\n",
       "      <td>448913.811321</td>\n",
       "      <td>40155.264151</td>\n",
       "      <td>162945.735849</td>\n",
       "      <td>14592.754717</td>\n",
       "      <td>5542.622642</td>\n",
       "      <td>6577.245283</td>\n",
       "    </tr>\n",
       "    <tr>\n",
       "      <th>2013-12-31</th>\n",
       "      <td>12928.4</td>\n",
       "      <td>671596.8</td>\n",
       "      <td>2765792.8</td>\n",
       "      <td>113696.2</td>\n",
       "      <td>94976.5</td>\n",
       "      <td>253422.0</td>\n",
       "      <td>46838774.0</td>\n",
       "      <td>63948994.0</td>\n",
       "      <td>24891308.0</td>\n",
       "      <td>280705.0</td>\n",
       "      <td>...</td>\n",
       "      <td>311123.884615</td>\n",
       "      <td>1.211489e+06</td>\n",
       "      <td>271071.711538</td>\n",
       "      <td>484775.788462</td>\n",
       "      <td>413347.442308</td>\n",
       "      <td>64938.519231</td>\n",
       "      <td>117978.634615</td>\n",
       "      <td>11268.442308</td>\n",
       "      <td>5235.076923</td>\n",
       "      <td>5801.884615</td>\n",
       "    </tr>\n",
       "    <tr>\n",
       "      <th>2014-12-31</th>\n",
       "      <td>13936.8</td>\n",
       "      <td>793764.6</td>\n",
       "      <td>2843106.4</td>\n",
       "      <td>91059.4</td>\n",
       "      <td>110517.5</td>\n",
       "      <td>189443.0</td>\n",
       "      <td>48878387.0</td>\n",
       "      <td>68642593.0</td>\n",
       "      <td>25766260.0</td>\n",
       "      <td>216178.0</td>\n",
       "      <td>...</td>\n",
       "      <td>283839.538462</td>\n",
       "      <td>1.312403e+06</td>\n",
       "      <td>280910.153846</td>\n",
       "      <td>580553.846154</td>\n",
       "      <td>395130.384615</td>\n",
       "      <td>48378.538462</td>\n",
       "      <td>119332.615385</td>\n",
       "      <td>8856.384615</td>\n",
       "      <td>4060.942308</td>\n",
       "      <td>3842.903846</td>\n",
       "    </tr>\n",
       "    <tr>\n",
       "      <th>2015-12-31</th>\n",
       "      <td>16728.0</td>\n",
       "      <td>NaN</td>\n",
       "      <td>NaN</td>\n",
       "      <td>78683.2</td>\n",
       "      <td>NaN</td>\n",
       "      <td>173867.0</td>\n",
       "      <td>52232952.0</td>\n",
       "      <td>80924197.0</td>\n",
       "      <td>30599534.0</td>\n",
       "      <td>303870.0</td>\n",
       "      <td>...</td>\n",
       "      <td>302407.884615</td>\n",
       "      <td>1.333002e+06</td>\n",
       "      <td>305302.403846</td>\n",
       "      <td>562958.576923</td>\n",
       "      <td>402690.865385</td>\n",
       "      <td>50613.038462</td>\n",
       "      <td>110065.653846</td>\n",
       "      <td>10879.846154</td>\n",
       "      <td>5236.442308</td>\n",
       "      <td>3211.230769</td>\n",
       "    </tr>\n",
       "  </tbody>\n",
       "</table>\n",
       "<p>4 rows × 25 columns</p>\n",
       "</div>"
      ],
      "text/plain": [
       "            Contracts Oats  Contracts Soybean  Contracts Corn  \\\n",
       "2012-12-31         12297.2           608408.8       2151022.2   \n",
       "2013-12-31         12928.4           671596.8       2765792.8   \n",
       "2014-12-31         13936.8           793764.6       2843106.4   \n",
       "2015-12-31         16728.0                NaN             NaN   \n",
       "\n",
       "            Contracts Wheat  Contracts Rice    oat TV  soybean TV     corn TV  \\\n",
       "2012-12-31          82545.8         99969.5  285186.0  53494064.0  72680440.0   \n",
       "2013-12-31         113696.2         94976.5  253422.0  46838774.0  63948994.0   \n",
       "2014-12-31          91059.4        110517.5  189443.0  48878387.0  68642593.0   \n",
       "2015-12-31          78683.2             NaN  173867.0  52232952.0  80924197.0   \n",
       "\n",
       "              wheat TV   rice TV          ...           \\\n",
       "2012-12-31  28478378.0  390937.0          ...            \n",
       "2013-12-31  24891308.0  280705.0          ...            \n",
       "2014-12-31  25766260.0  216178.0          ...            \n",
       "2015-12-31  30599534.0  303870.0          ...            \n",
       "\n",
       "            Soybean Producer Shorts  Corn Open Interest  Corn Producer Longs  \\\n",
       "2012-12-31            384333.584906        1.222394e+06        235429.849057   \n",
       "2013-12-31            311123.884615        1.211489e+06        271071.711538   \n",
       "2014-12-31            283839.538462        1.312403e+06        280910.153846   \n",
       "2015-12-31            302407.884615        1.333002e+06        305302.403846   \n",
       "\n",
       "            Corn Producer Shorts  Wheat Open Interest  Wheat Producer Longs  \\\n",
       "2012-12-31         624896.754717        448913.811321          40155.264151   \n",
       "2013-12-31         484775.788462        413347.442308          64938.519231   \n",
       "2014-12-31         580553.846154        395130.384615          48378.538462   \n",
       "2015-12-31         562958.576923        402690.865385          50613.038462   \n",
       "\n",
       "            Wheat Producer Shorts  Rice Open Interest  Rice Producer Longs  \\\n",
       "2012-12-31          162945.735849        14592.754717          5542.622642   \n",
       "2013-12-31          117978.634615        11268.442308          5235.076923   \n",
       "2014-12-31          119332.615385         8856.384615          4060.942308   \n",
       "2015-12-31          110065.653846        10879.846154          5236.442308   \n",
       "\n",
       "            Rice Producer Shorts  \n",
       "2012-12-31           6577.245283  \n",
       "2013-12-31           5801.884615  \n",
       "2014-12-31           3842.903846  \n",
       "2015-12-31           3211.230769  \n",
       "\n",
       "[4 rows x 25 columns]"
      ]
     },
     "execution_count": 25,
     "metadata": {},
     "output_type": "execute_result"
    }
   ],
   "source": [
    "pvo"
   ]
  },
  {
   "cell_type": "code",
   "execution_count": 26,
   "metadata": {
    "collapsed": true
   },
   "outputs": [],
   "source": [
    "pvo['year'] = pvo.index.years"
   ]
  },
  {
   "cell_type": "code",
   "execution_count": 27,
   "metadata": {
    "collapsed": true
   },
   "outputs": [],
   "source": [
    "#oats plot\n",
    "op = Bar(pvo, 'year', values='Contracts Oats',\n",
    "        title=\"Total DISPL by YR\", bar_width=0.4)"
   ]
  },
  {
   "cell_type": "code",
   "execution_count": 28,
   "metadata": {
    "collapsed": false
   },
   "outputs": [
    {
     "data": {
      "text/html": [
       "\n",
       "\n",
       "    <div class=\"plotdiv\" id=\"4465d8ed-da4d-436f-81bf-51437a7d7f47\"></div>\n",
       "<script type=\"text/javascript\">\n",
       "  \n",
       "  (function(global) {\n",
       "    function now() {\n",
       "      return new Date();\n",
       "    }\n",
       "  \n",
       "    if (typeof (window._bokeh_onload_callbacks) === \"undefined\") {\n",
       "      window._bokeh_onload_callbacks = [];\n",
       "    }\n",
       "  \n",
       "    function run_callbacks() {\n",
       "      window._bokeh_onload_callbacks.forEach(function(callback) { callback() });\n",
       "      delete window._bokeh_onload_callbacks\n",
       "      console.info(\"Bokeh: all callbacks have finished\");\n",
       "    }\n",
       "  \n",
       "    function load_libs(js_urls, callback) {\n",
       "      window._bokeh_onload_callbacks.push(callback);\n",
       "      if (window._bokeh_is_loading > 0) {\n",
       "        console.log(\"Bokeh: BokehJS is being loaded, scheduling callback at\", now());\n",
       "        return null;\n",
       "      }\n",
       "      if (js_urls == null || js_urls.length === 0) {\n",
       "        run_callbacks();\n",
       "        return null;\n",
       "      }\n",
       "      console.log(\"Bokeh: BokehJS not loaded, scheduling load and callback at\", now());\n",
       "      window._bokeh_is_loading = js_urls.length;\n",
       "      for (var i = 0; i < js_urls.length; i++) {\n",
       "        var url = js_urls[i];\n",
       "        var s = document.createElement('script');\n",
       "        s.src = url;\n",
       "        s.async = false;\n",
       "        s.onreadystatechange = s.onload = function() {\n",
       "          window._bokeh_is_loading--;\n",
       "          if (window._bokeh_is_loading === 0) {\n",
       "            console.log(\"Bokeh: all BokehJS libraries loaded\");\n",
       "            run_callbacks()\n",
       "          }\n",
       "        };\n",
       "        s.onerror = function() {\n",
       "          console.warn(\"failed to load library \" + url);\n",
       "        };\n",
       "        console.log(\"Bokeh: injecting script tag for BokehJS library: \", url);\n",
       "        document.getElementsByTagName(\"head\")[0].appendChild(s);\n",
       "      }\n",
       "    };var element = document.getElementById(\"4465d8ed-da4d-436f-81bf-51437a7d7f47\");\n",
       "    if (element == null) {\n",
       "      console.log(\"Bokeh: ERROR: autoload.js configured with elementid '4465d8ed-da4d-436f-81bf-51437a7d7f47' but no matching script tag was found. \")\n",
       "      return false;\n",
       "    }\n",
       "  \n",
       "    var js_urls = [];\n",
       "  \n",
       "    var inline_js = [\n",
       "      function(Bokeh) {\n",
       "        Bokeh.$(function() {\n",
       "            var docs_json = {\"086e5e4e-0d96-437c-abdc-c56c77b9d929\":{\"roots\":{\"references\":[{\"attributes\":{\"callback\":null,\"column_names\":[\"width\",\"height\",\"line_alpha\",\"color\",\"x\",\"fill_alpha\",\"y\",\"line_color\"],\"data\":{\"chart_index\":[{\"year\":2012}],\"color\":[\"#f22c40\"],\"fill_alpha\":[0.8],\"height\":[12297.2],\"line_alpha\":[1.0],\"line_color\":[\"white\"],\"width\":[0.4],\"x\":[\"2012\"],\"y\":[6148.6],\"year\":[2012]}},\"id\":\"2e4a7dee-30ff-4dc3-8510-9caeb55b09e3\",\"type\":\"ColumnDataSource\"},{\"attributes\":{\"callback\":null,\"column_names\":[\"width\",\"height\",\"line_alpha\",\"color\",\"x\",\"fill_alpha\",\"y\",\"line_color\"],\"data\":{\"chart_index\":[{\"year\":2014}],\"color\":[\"#f22c40\"],\"fill_alpha\":[0.8],\"height\":[13936.8],\"line_alpha\":[1.0],\"line_color\":[\"white\"],\"width\":[0.4],\"x\":[\"2014\"],\"y\":[6968.4],\"year\":[2014]}},\"id\":\"f3284bb2-7f5e-4845-a3d8-9395c500b40d\",\"type\":\"ColumnDataSource\"},{\"attributes\":{\"axis_label\":\"Year\",\"formatter\":{\"id\":\"54cb027d-acd9-4471-87aa-8c13e702c20d\",\"type\":\"CategoricalTickFormatter\"},\"major_label_orientation\":0.7853981633974483,\"plot\":{\"id\":\"9676990f-21f9-49bd-ab92-078112baafcb\",\"subtype\":\"Chart\",\"type\":\"Plot\"},\"ticker\":{\"id\":\"a33ceb78-d81b-4d37-a4c4-fa7eb2612f91\",\"type\":\"CategoricalTicker\"}},\"id\":\"d7044b2a-5bef-4547-bec5-fa275d35349a\",\"type\":\"CategoricalAxis\"},{\"attributes\":{\"data_source\":{\"id\":\"f3284bb2-7f5e-4845-a3d8-9395c500b40d\",\"type\":\"ColumnDataSource\"},\"glyph\":{\"id\":\"c40aadff-db4f-4756-8563-e0f32059fc5b\",\"type\":\"Rect\"},\"hover_glyph\":null,\"nonselection_glyph\":null,\"selection_glyph\":null},\"id\":\"2ee4202e-fc40-49d2-8a1e-8bb60f20cae5\",\"type\":\"GlyphRenderer\"},{\"attributes\":{\"data_source\":{\"id\":\"2e4a7dee-30ff-4dc3-8510-9caeb55b09e3\",\"type\":\"ColumnDataSource\"},\"glyph\":{\"id\":\"21fdc5f2-e86c-474c-a163-045e3b58712d\",\"type\":\"Rect\"},\"hover_glyph\":null,\"nonselection_glyph\":null,\"selection_glyph\":null},\"id\":\"9aadc603-1000-4ce3-a948-c6f8886e88f2\",\"type\":\"GlyphRenderer\"},{\"attributes\":{},\"id\":\"1b6cedea-dd2d-4fee-9b2a-94fa87dde59d\",\"type\":\"BasicTickFormatter\"},{\"attributes\":{\"callback\":null,\"end\":17564.4},\"id\":\"67862f99-2737-4ff5-ad4c-3cca175ef055\",\"type\":\"Range1d\"},{\"attributes\":{\"dimension\":1,\"plot\":{\"id\":\"9676990f-21f9-49bd-ab92-078112baafcb\",\"subtype\":\"Chart\",\"type\":\"Plot\"},\"ticker\":{\"id\":\"0f8bc3c1-dd96-49e8-a860-6dc2ee322fbb\",\"type\":\"BasicTicker\"}},\"id\":\"de2a8c9c-eadb-4249-9a42-e2f00da80c8d\",\"type\":\"Grid\"},{\"attributes\":{\"fill_alpha\":{\"field\":\"fill_alpha\"},\"fill_color\":{\"field\":\"color\"},\"height\":{\"field\":\"height\",\"units\":\"data\"},\"line_color\":{\"field\":\"line_color\"},\"width\":{\"field\":\"width\",\"units\":\"data\"},\"x\":{\"field\":\"x\"},\"y\":{\"field\":\"y\"}},\"id\":\"21fdc5f2-e86c-474c-a163-045e3b58712d\",\"type\":\"Rect\"},{\"attributes\":{\"callback\":null,\"factors\":[\"2012\",\"2013\",\"2014\",\"2015\"]},\"id\":\"d576e8cb-25a3-43e9-9f5f-afbd5af7be63\",\"type\":\"FactorRange\"},{\"attributes\":{\"callback\":null,\"column_names\":[\"width\",\"height\",\"line_alpha\",\"color\",\"x\",\"fill_alpha\",\"y\",\"line_color\"],\"data\":{\"chart_index\":[{\"year\":2015}],\"color\":[\"#f22c40\"],\"fill_alpha\":[0.8],\"height\":[16728.0],\"line_alpha\":[1.0],\"line_color\":[\"white\"],\"width\":[0.4],\"x\":[\"2015\"],\"y\":[8364.0],\"year\":[2015]}},\"id\":\"a7822483-5429-42e3-8a7c-c71b3edb3b83\",\"type\":\"ColumnDataSource\"},{\"attributes\":{},\"id\":\"a33ceb78-d81b-4d37-a4c4-fa7eb2612f91\",\"type\":\"CategoricalTicker\"},{\"attributes\":{\"fill_alpha\":{\"field\":\"fill_alpha\"},\"fill_color\":{\"field\":\"color\"},\"height\":{\"field\":\"height\",\"units\":\"data\"},\"line_color\":{\"field\":\"line_color\"},\"width\":{\"field\":\"width\",\"units\":\"data\"},\"x\":{\"field\":\"x\"},\"y\":{\"field\":\"y\"}},\"id\":\"c40aadff-db4f-4756-8563-e0f32059fc5b\",\"type\":\"Rect\"},{\"attributes\":{\"plot\":{\"id\":\"9676990f-21f9-49bd-ab92-078112baafcb\",\"subtype\":\"Chart\",\"type\":\"Plot\"}},\"id\":\"f8a2aaca-c379-4400-ad40-0ae395f1c9a8\",\"type\":\"WheelZoomTool\"},{\"attributes\":{\"data_source\":{\"id\":\"a7822483-5429-42e3-8a7c-c71b3edb3b83\",\"type\":\"ColumnDataSource\"},\"glyph\":{\"id\":\"1524b0f7-4aad-42ba-afff-bf3b33f0d7f2\",\"type\":\"Rect\"},\"hover_glyph\":null,\"nonselection_glyph\":null,\"selection_glyph\":null},\"id\":\"fee90b5d-e7dc-45e5-84c2-e7ecde99d4bb\",\"type\":\"GlyphRenderer\"},{\"attributes\":{\"plot\":{\"id\":\"9676990f-21f9-49bd-ab92-078112baafcb\",\"subtype\":\"Chart\",\"type\":\"Plot\"}},\"id\":\"2dac9b51-7a9b-43f1-b437-83667d6636dc\",\"type\":\"ResetTool\"},{\"attributes\":{},\"id\":\"9a9f2745-aebc-42a7-8d4b-c04b7d43b872\",\"type\":\"ToolEvents\"},{\"attributes\":{},\"id\":\"54cb027d-acd9-4471-87aa-8c13e702c20d\",\"type\":\"CategoricalTickFormatter\"},{\"attributes\":{\"fill_alpha\":{\"field\":\"fill_alpha\"},\"fill_color\":{\"field\":\"color\"},\"height\":{\"field\":\"height\",\"units\":\"data\"},\"line_color\":{\"field\":\"line_color\"},\"width\":{\"field\":\"width\",\"units\":\"data\"},\"x\":{\"field\":\"x\"},\"y\":{\"field\":\"y\"}},\"id\":\"1524b0f7-4aad-42ba-afff-bf3b33f0d7f2\",\"type\":\"Rect\"},{\"attributes\":{\"plot\":{\"id\":\"9676990f-21f9-49bd-ab92-078112baafcb\",\"subtype\":\"Chart\",\"type\":\"Plot\"}},\"id\":\"5b9697b9-cde5-4a6e-879c-c174d6913b9f\",\"type\":\"ResizeTool\"},{\"attributes\":{\"fill_alpha\":{\"field\":\"fill_alpha\"},\"fill_color\":{\"field\":\"color\"},\"height\":{\"field\":\"height\",\"units\":\"data\"},\"line_color\":{\"field\":\"line_color\"},\"width\":{\"field\":\"width\",\"units\":\"data\"},\"x\":{\"field\":\"x\"},\"y\":{\"field\":\"y\"}},\"id\":\"4f0aa93d-9e62-4420-a2da-41abd98e7ebb\",\"type\":\"Rect\"},{\"attributes\":{\"callback\":null,\"column_names\":[\"width\",\"height\",\"line_alpha\",\"color\",\"x\",\"fill_alpha\",\"y\",\"line_color\"],\"data\":{\"chart_index\":[{\"year\":2013}],\"color\":[\"#f22c40\"],\"fill_alpha\":[0.8],\"height\":[12928.4],\"line_alpha\":[1.0],\"line_color\":[\"white\"],\"width\":[0.4],\"x\":[\"2013\"],\"y\":[6464.2],\"year\":[2013]}},\"id\":\"47330d3f-8920-4fb8-ac30-6727ba8f24a2\",\"type\":\"ColumnDataSource\"},{\"attributes\":{\"below\":[{\"id\":\"d7044b2a-5bef-4547-bec5-fa275d35349a\",\"type\":\"CategoricalAxis\"}],\"left\":[{\"id\":\"371f9e8a-f4c1-4aff-8d3e-b12256c83940\",\"type\":\"LinearAxis\"}],\"legend\":null,\"renderers\":[{\"id\":\"c175338b-226f-418e-94b9-a691fdae72cf\",\"type\":\"BoxAnnotation\"},{\"id\":\"9aadc603-1000-4ce3-a948-c6f8886e88f2\",\"type\":\"GlyphRenderer\"},{\"id\":\"ba2df688-a8dc-4f55-a9fb-b70fc9e0cab5\",\"type\":\"GlyphRenderer\"},{\"id\":\"2ee4202e-fc40-49d2-8a1e-8bb60f20cae5\",\"type\":\"GlyphRenderer\"},{\"id\":\"fee90b5d-e7dc-45e5-84c2-e7ecde99d4bb\",\"type\":\"GlyphRenderer\"},{\"id\":\"d7044b2a-5bef-4547-bec5-fa275d35349a\",\"type\":\"CategoricalAxis\"},{\"id\":\"371f9e8a-f4c1-4aff-8d3e-b12256c83940\",\"type\":\"LinearAxis\"},{\"id\":\"de2a8c9c-eadb-4249-9a42-e2f00da80c8d\",\"type\":\"Grid\"}],\"title\":\"Total DISPL by YR\",\"title_text_font_size\":{\"value\":\"14pt\"},\"tool_events\":{\"id\":\"9a9f2745-aebc-42a7-8d4b-c04b7d43b872\",\"type\":\"ToolEvents\"},\"tools\":[{\"id\":\"b1f6eaa9-d157-4c82-9bad-40329bcfe2b8\",\"type\":\"PanTool\"},{\"id\":\"f8a2aaca-c379-4400-ad40-0ae395f1c9a8\",\"type\":\"WheelZoomTool\"},{\"id\":\"72dd43b1-a692-4d7f-bd93-3ea57d998418\",\"type\":\"BoxZoomTool\"},{\"id\":\"af22fbd7-b333-4dd6-8c38-80bb6ea53151\",\"type\":\"PreviewSaveTool\"},{\"id\":\"5b9697b9-cde5-4a6e-879c-c174d6913b9f\",\"type\":\"ResizeTool\"},{\"id\":\"2dac9b51-7a9b-43f1-b437-83667d6636dc\",\"type\":\"ResetTool\"},{\"id\":\"32c4d0b8-6ec9-4032-95a3-e6fea30c1355\",\"type\":\"HelpTool\"}],\"x_mapper_type\":\"auto\",\"x_range\":{\"id\":\"d576e8cb-25a3-43e9-9f5f-afbd5af7be63\",\"type\":\"FactorRange\"},\"xgrid\":false,\"xscale\":\"auto\",\"y_mapper_type\":\"auto\",\"y_range\":{\"id\":\"67862f99-2737-4ff5-ad4c-3cca175ef055\",\"type\":\"Range1d\"},\"yscale\":\"auto\"},\"id\":\"9676990f-21f9-49bd-ab92-078112baafcb\",\"subtype\":\"Chart\",\"type\":\"Plot\"},{\"attributes\":{\"plot\":{\"id\":\"9676990f-21f9-49bd-ab92-078112baafcb\",\"subtype\":\"Chart\",\"type\":\"Plot\"}},\"id\":\"b1f6eaa9-d157-4c82-9bad-40329bcfe2b8\",\"type\":\"PanTool\"},{\"attributes\":{\"plot\":{\"id\":\"9676990f-21f9-49bd-ab92-078112baafcb\",\"subtype\":\"Chart\",\"type\":\"Plot\"}},\"id\":\"af22fbd7-b333-4dd6-8c38-80bb6ea53151\",\"type\":\"PreviewSaveTool\"},{\"attributes\":{\"bottom_units\":\"screen\",\"fill_alpha\":{\"value\":0.5},\"fill_color\":{\"value\":\"lightgrey\"},\"left_units\":\"screen\",\"level\":\"overlay\",\"line_alpha\":{\"value\":1.0},\"line_color\":{\"value\":\"black\"},\"line_dash\":[4,4],\"line_width\":{\"value\":2},\"plot\":null,\"render_mode\":\"css\",\"right_units\":\"screen\",\"top_units\":\"screen\"},\"id\":\"c175338b-226f-418e-94b9-a691fdae72cf\",\"type\":\"BoxAnnotation\"},{\"attributes\":{},\"id\":\"0f8bc3c1-dd96-49e8-a860-6dc2ee322fbb\",\"type\":\"BasicTicker\"},{\"attributes\":{\"plot\":{\"id\":\"9676990f-21f9-49bd-ab92-078112baafcb\",\"subtype\":\"Chart\",\"type\":\"Plot\"}},\"id\":\"32c4d0b8-6ec9-4032-95a3-e6fea30c1355\",\"type\":\"HelpTool\"},{\"attributes\":{\"data_source\":{\"id\":\"47330d3f-8920-4fb8-ac30-6727ba8f24a2\",\"type\":\"ColumnDataSource\"},\"glyph\":{\"id\":\"4f0aa93d-9e62-4420-a2da-41abd98e7ebb\",\"type\":\"Rect\"},\"hover_glyph\":null,\"nonselection_glyph\":null,\"selection_glyph\":null},\"id\":\"ba2df688-a8dc-4f55-a9fb-b70fc9e0cab5\",\"type\":\"GlyphRenderer\"},{\"attributes\":{\"overlay\":{\"id\":\"c175338b-226f-418e-94b9-a691fdae72cf\",\"type\":\"BoxAnnotation\"},\"plot\":{\"id\":\"9676990f-21f9-49bd-ab92-078112baafcb\",\"subtype\":\"Chart\",\"type\":\"Plot\"}},\"id\":\"72dd43b1-a692-4d7f-bd93-3ea57d998418\",\"type\":\"BoxZoomTool\"},{\"attributes\":{\"axis_label\":\"Sum( Contracts Oats )\",\"formatter\":{\"id\":\"1b6cedea-dd2d-4fee-9b2a-94fa87dde59d\",\"type\":\"BasicTickFormatter\"},\"plot\":{\"id\":\"9676990f-21f9-49bd-ab92-078112baafcb\",\"subtype\":\"Chart\",\"type\":\"Plot\"},\"ticker\":{\"id\":\"0f8bc3c1-dd96-49e8-a860-6dc2ee322fbb\",\"type\":\"BasicTicker\"}},\"id\":\"371f9e8a-f4c1-4aff-8d3e-b12256c83940\",\"type\":\"LinearAxis\"}],\"root_ids\":[\"9676990f-21f9-49bd-ab92-078112baafcb\"]},\"title\":\"Bokeh Application\",\"version\":\"0.11.1\"}};\n",
       "            var render_items = [{\"docid\":\"086e5e4e-0d96-437c-abdc-c56c77b9d929\",\"elementid\":\"4465d8ed-da4d-436f-81bf-51437a7d7f47\",\"modelid\":\"9676990f-21f9-49bd-ab92-078112baafcb\",\"notebook_comms_target\":\"e315cb23-e8b5-41f0-9166-ec67aff9b256\"}];\n",
       "            \n",
       "            Bokeh.embed.embed_items(docs_json, render_items);\n",
       "        });\n",
       "      },\n",
       "      function(Bokeh) {\n",
       "      }\n",
       "    ];\n",
       "  \n",
       "    function run_inline_js() {\n",
       "      for (var i = 0; i < inline_js.length; i++) {\n",
       "        inline_js[i](window.Bokeh);\n",
       "      }\n",
       "    }\n",
       "  \n",
       "    if (window._bokeh_is_loading === 0) {\n",
       "      console.log(\"Bokeh: BokehJS loaded, going straight to plotting\");\n",
       "      run_inline_js();\n",
       "    } else {\n",
       "      load_libs(js_urls, function() {\n",
       "        console.log(\"Bokeh: BokehJS plotting callback run at\", now());\n",
       "        run_inline_js();\n",
       "      });\n",
       "    }\n",
       "  }(this));\n",
       "</script>"
      ]
     },
     "metadata": {},
     "output_type": "display_data"
    },
    {
     "data": {
      "text/html": [
       "<p><code>&lt;Bokeh Notebook handle for <strong>In[28]</strong>&gt;</code></p>"
      ],
      "text/plain": [
       "<bokeh.io._CommsHandle at 0x7fb4e59e79b0>"
      ]
     },
     "execution_count": 28,
     "metadata": {},
     "output_type": "execute_result"
    }
   ],
   "source": [
    "show(op)"
   ]
  },
  {
   "cell_type": "code",
   "execution_count": null,
   "metadata": {
    "collapsed": true
   },
   "outputs": [],
   "source": [
    "writer = ExcelWriter('output.xlsx')\n",
    "pvo.to_excel(writer,'Sheet1')\n",
    "writer.save()"
   ]
  }
 ],
 "metadata": {
  "anaconda-cloud": {},
  "kernelspec": {
   "display_name": "Python [Root]",
   "language": "python",
   "name": "Python [Root]"
  },
  "language_info": {
   "codemirror_mode": {
    "name": "ipython",
    "version": 3
   },
   "file_extension": ".py",
   "mimetype": "text/x-python",
   "name": "python",
   "nbconvert_exporter": "python",
   "pygments_lexer": "ipython3",
   "version": "3.5.2"
  }
 },
 "nbformat": 4,
 "nbformat_minor": 0
}
